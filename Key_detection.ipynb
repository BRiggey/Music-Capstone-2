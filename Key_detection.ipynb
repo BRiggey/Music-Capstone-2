{
 "cells": [
  {
   "cell_type": "code",
   "execution_count": 1,
   "metadata": {},
   "outputs": [],
   "source": [
    "\n",
    "# Acknowledgment:\n",
    "# This code was developed with assistance from ChatGPT, which provided initial guidance\n",
    "# and code snippets. Significant modifications and improvements were made by us to \n",
    "# ensure the code meets the specific requirements of the project. All optimizations \n",
    "# and final adjustments were implemented independently.\n",
    "\n",
    "\n",
    "\n",
    "\n",
    "# Usual Libraries USED FROM THE OTHER NOTEBOOK WE ADD MORE OR DELETE WHEN NECESSESARRY \n",
    "import pandas as pd\n",
    "import numpy as np\n",
    "import distutils\n",
    "import ast\n",
    "\n",
    "import os\n",
    "import matplotlib.pyplot as plt\n",
    "%matplotlib inline\n",
    "\n",
    "# Librosa (the mother of audio files)\n",
    "import librosa\n",
    "import librosa.display\n",
    "import IPython.display as ipd\n",
    "import warnings\n",
    "warnings.filterwarnings('ignore')\n",
    "import tensorflow as tf\n",
    "from tqdm import tqdm"
   ]
  },
  {
   "cell_type": "code",
   "execution_count": null,
   "metadata": {},
   "outputs": [
    {
     "name": "stderr",
     "output_type": "stream",
     "text": [
      "Processing TFRecord files:   0%|          | 1/1444 [00:00<11:50,  2.03it/s]"
     ]
    },
    {
     "name": "stdout",
     "output_type": "stream",
     "text": [
      "Decoded audio embeddings shape: (None, 128)\n",
      "Decoded audio embeddings shape: (None, 128)\n"
     ]
    },
    {
     "name": "stderr",
     "output_type": "stream",
     "text": [
      "Processing TFRecord files:   0%|          | 3/1444 [00:01<07:53,  3.04it/s]"
     ]
    },
    {
     "name": "stdout",
     "output_type": "stream",
     "text": [
      "Decoded audio embeddings shape: (None, 128)\n"
     ]
    },
    {
     "name": "stderr",
     "output_type": "stream",
     "text": [
      "Processing TFRecord files:   0%|          | 4/1444 [00:01<06:45,  3.55it/s]"
     ]
    },
    {
     "name": "stdout",
     "output_type": "stream",
     "text": [
      "Decoded audio embeddings shape: (None, 128)\n",
      "Decoded audio embeddings shape: (None, 128)\n"
     ]
    },
    {
     "name": "stderr",
     "output_type": "stream",
     "text": [
      "Processing TFRecord files:   0%|          | 6/1444 [00:01<05:36,  4.27it/s]"
     ]
    },
    {
     "name": "stdout",
     "output_type": "stream",
     "text": [
      "Decoded audio embeddings shape: (None, 128)\n",
      "Decoded audio embeddings shape: (None, 128)\n"
     ]
    },
    {
     "name": "stderr",
     "output_type": "stream",
     "text": [
      "Processing TFRecord files:   1%|          | 8/1444 [00:02<05:54,  4.05it/s]"
     ]
    },
    {
     "name": "stdout",
     "output_type": "stream",
     "text": [
      "Decoded audio embeddings shape: (None, 128)\n"
     ]
    },
    {
     "name": "stderr",
     "output_type": "stream",
     "text": [
      "Processing TFRecord files:   1%|          | 9/1444 [00:02<05:56,  4.02it/s]"
     ]
    },
    {
     "name": "stdout",
     "output_type": "stream",
     "text": [
      "Decoded audio embeddings shape: (None, 128)\n",
      "Decoded audio embeddings shape: (None, 128)\n"
     ]
    },
    {
     "name": "stderr",
     "output_type": "stream",
     "text": [
      "Processing TFRecord files:   1%|          | 11/1444 [00:02<05:35,  4.27it/s]"
     ]
    },
    {
     "name": "stdout",
     "output_type": "stream",
     "text": [
      "Decoded audio embeddings shape: (None, 128)\n",
      "Decoded audio embeddings shape: (None, 128)\n"
     ]
    },
    {
     "name": "stderr",
     "output_type": "stream",
     "text": [
      "Processing TFRecord files:   1%|          | 13/1444 [00:03<05:28,  4.36it/s]"
     ]
    },
    {
     "name": "stdout",
     "output_type": "stream",
     "text": [
      "Decoded audio embeddings shape: (None, 128)\n"
     ]
    },
    {
     "name": "stderr",
     "output_type": "stream",
     "text": [
      "Processing TFRecord files:   1%|          | 14/1444 [00:03<05:31,  4.31it/s]"
     ]
    },
    {
     "name": "stdout",
     "output_type": "stream",
     "text": [
      "Decoded audio embeddings shape: (None, 128)\n"
     ]
    },
    {
     "name": "stderr",
     "output_type": "stream",
     "text": [
      "Processing TFRecord files:   1%|          | 15/1444 [00:03<05:20,  4.45it/s]"
     ]
    },
    {
     "name": "stdout",
     "output_type": "stream",
     "text": [
      "Decoded audio embeddings shape: (None, 128)\n",
      "Decoded audio embeddings shape: (None, 128)\n"
     ]
    },
    {
     "name": "stderr",
     "output_type": "stream",
     "text": [
      "Processing TFRecord files:   1%|          | 17/1444 [00:04<05:03,  4.70it/s]"
     ]
    },
    {
     "name": "stdout",
     "output_type": "stream",
     "text": [
      "Decoded audio embeddings shape: (None, 128)\n",
      "Decoded audio embeddings shape: (None, 128)\n"
     ]
    },
    {
     "name": "stderr",
     "output_type": "stream",
     "text": [
      "Processing TFRecord files:   1%|▏         | 19/1444 [00:04<05:18,  4.47it/s]"
     ]
    },
    {
     "name": "stdout",
     "output_type": "stream",
     "text": [
      "Decoded audio embeddings shape: (None, 128)\n"
     ]
    },
    {
     "name": "stderr",
     "output_type": "stream",
     "text": [
      "Processing TFRecord files:   1%|▏         | 20/1444 [00:04<05:08,  4.61it/s]"
     ]
    },
    {
     "name": "stdout",
     "output_type": "stream",
     "text": [
      "Decoded audio embeddings shape: (None, 128)\n",
      "Decoded audio embeddings shape: (None, 128)\n"
     ]
    },
    {
     "name": "stderr",
     "output_type": "stream",
     "text": [
      "Processing TFRecord files:   2%|▏         | 22/1444 [00:05<04:45,  4.98it/s]"
     ]
    },
    {
     "name": "stdout",
     "output_type": "stream",
     "text": [
      "Decoded audio embeddings shape: (None, 128)\n",
      "Decoded audio embeddings shape: (None, 128)\n"
     ]
    },
    {
     "name": "stderr",
     "output_type": "stream",
     "text": [
      "Processing TFRecord files:   2%|▏         | 24/1444 [00:05<05:08,  4.61it/s]"
     ]
    },
    {
     "name": "stdout",
     "output_type": "stream",
     "text": [
      "Decoded audio embeddings shape: (None, 128)\n"
     ]
    },
    {
     "name": "stderr",
     "output_type": "stream",
     "text": [
      "Processing TFRecord files:   2%|▏         | 25/1444 [00:05<05:00,  4.72it/s]"
     ]
    },
    {
     "name": "stdout",
     "output_type": "stream",
     "text": [
      "Decoded audio embeddings shape: (None, 128)\n",
      "Decoded audio embeddings shape: (None, 128)\n"
     ]
    },
    {
     "name": "stderr",
     "output_type": "stream",
     "text": [
      "Processing TFRecord files:   2%|▏         | 27/1444 [00:06<04:46,  4.94it/s]"
     ]
    },
    {
     "name": "stdout",
     "output_type": "stream",
     "text": [
      "Decoded audio embeddings shape: (None, 128)\n",
      "Decoded audio embeddings shape: (None, 128)\n"
     ]
    },
    {
     "name": "stderr",
     "output_type": "stream",
     "text": [
      "Processing TFRecord files:   2%|▏         | 29/1444 [00:06<04:21,  5.40it/s]"
     ]
    },
    {
     "name": "stdout",
     "output_type": "stream",
     "text": [
      "Decoded audio embeddings shape: (None, 128)\n",
      "Decoded audio embeddings shape: (None, 128)\n"
     ]
    },
    {
     "name": "stderr",
     "output_type": "stream",
     "text": [
      "Processing TFRecord files:   2%|▏         | 31/1444 [00:06<04:38,  5.07it/s]"
     ]
    },
    {
     "name": "stdout",
     "output_type": "stream",
     "text": [
      "Decoded audio embeddings shape: (None, 128)\n",
      "Decoded audio embeddings shape: (None, 128)\n"
     ]
    },
    {
     "name": "stderr",
     "output_type": "stream",
     "text": [
      "Processing TFRecord files:   2%|▏         | 33/1444 [00:07<04:26,  5.30it/s]"
     ]
    },
    {
     "name": "stdout",
     "output_type": "stream",
     "text": [
      "Decoded audio embeddings shape: (None, 128)\n",
      "Decoded audio embeddings shape: (None, 128)\n"
     ]
    },
    {
     "name": "stderr",
     "output_type": "stream",
     "text": [
      "Processing TFRecord files:   2%|▏         | 35/1444 [00:07<04:21,  5.38it/s]"
     ]
    },
    {
     "name": "stdout",
     "output_type": "stream",
     "text": [
      "Decoded audio embeddings shape: (None, 128)\n",
      "Decoded audio embeddings shape: (None, 128)\n"
     ]
    },
    {
     "name": "stderr",
     "output_type": "stream",
     "text": [
      "Processing TFRecord files:   3%|▎         | 37/1444 [00:08<05:03,  4.64it/s]"
     ]
    },
    {
     "name": "stdout",
     "output_type": "stream",
     "text": [
      "Decoded audio embeddings shape: (None, 128)\n",
      "Decoded audio embeddings shape: (None, 128)\n"
     ]
    },
    {
     "name": "stderr",
     "output_type": "stream",
     "text": [
      "Processing TFRecord files:   3%|▎         | 39/1444 [00:08<04:28,  5.23it/s]"
     ]
    },
    {
     "name": "stdout",
     "output_type": "stream",
     "text": [
      "Decoded audio embeddings shape: (None, 128)\n",
      "Decoded audio embeddings shape: (None, 128)\n"
     ]
    },
    {
     "name": "stderr",
     "output_type": "stream",
     "text": [
      "Processing TFRecord files:   3%|▎         | 41/1444 [00:08<04:41,  4.98it/s]"
     ]
    },
    {
     "name": "stdout",
     "output_type": "stream",
     "text": [
      "Decoded audio embeddings shape: (None, 128)\n",
      "Decoded audio embeddings shape: (None, 128)\n"
     ]
    },
    {
     "name": "stderr",
     "output_type": "stream",
     "text": [
      "Processing TFRecord files:   3%|▎         | 43/1444 [00:09<04:17,  5.44it/s]"
     ]
    },
    {
     "name": "stdout",
     "output_type": "stream",
     "text": [
      "Decoded audio embeddings shape: (None, 128)\n",
      "Decoded audio embeddings shape: (None, 128)\n"
     ]
    },
    {
     "name": "stderr",
     "output_type": "stream",
     "text": [
      "Processing TFRecord files:   3%|▎         | 45/1444 [00:09<04:59,  4.67it/s]"
     ]
    },
    {
     "name": "stdout",
     "output_type": "stream",
     "text": [
      "Decoded audio embeddings shape: (None, 128)\n",
      "Decoded audio embeddings shape: (None, 128)\n"
     ]
    },
    {
     "name": "stderr",
     "output_type": "stream",
     "text": [
      "Processing TFRecord files:   3%|▎         | 47/1444 [00:10<04:23,  5.31it/s]"
     ]
    },
    {
     "name": "stdout",
     "output_type": "stream",
     "text": [
      "Decoded audio embeddings shape: (None, 128)\n",
      "Decoded audio embeddings shape: (None, 128)\n"
     ]
    },
    {
     "name": "stderr",
     "output_type": "stream",
     "text": [
      "Processing TFRecord files:   3%|▎         | 49/1444 [00:10<04:05,  5.68it/s]"
     ]
    },
    {
     "name": "stdout",
     "output_type": "stream",
     "text": [
      "Decoded audio embeddings shape: (None, 128)\n",
      "Decoded audio embeddings shape: (None, 128)\n"
     ]
    },
    {
     "name": "stderr",
     "output_type": "stream",
     "text": [
      "Processing TFRecord files:   4%|▎         | 51/1444 [00:10<04:55,  4.72it/s]"
     ]
    },
    {
     "name": "stdout",
     "output_type": "stream",
     "text": [
      "Decoded audio embeddings shape: (None, 128)\n"
     ]
    },
    {
     "name": "stderr",
     "output_type": "stream",
     "text": [
      "Processing TFRecord files:   4%|▎         | 52/1444 [00:11<04:57,  4.68it/s]"
     ]
    },
    {
     "name": "stdout",
     "output_type": "stream",
     "text": [
      "Decoded audio embeddings shape: (None, 128)\n",
      "Decoded audio embeddings shape: (None, 128)\n"
     ]
    },
    {
     "name": "stderr",
     "output_type": "stream",
     "text": [
      "Processing TFRecord files:   4%|▎         | 53/1444 [00:11<04:51,  4.78it/s]"
     ]
    },
    {
     "name": "stdout",
     "output_type": "stream",
     "text": [
      "Decoded audio embeddings shape: (None, 128)\n"
     ]
    },
    {
     "name": "stderr",
     "output_type": "stream",
     "text": [
      "Processing TFRecord files:   4%|▍         | 55/1444 [00:11<05:18,  4.36it/s]"
     ]
    },
    {
     "name": "stdout",
     "output_type": "stream",
     "text": [
      "Decoded audio embeddings shape: (None, 128)\n",
      "Decoded audio embeddings shape: (None, 128)\n"
     ]
    },
    {
     "name": "stderr",
     "output_type": "stream",
     "text": [
      "Processing TFRecord files:   4%|▍         | 57/1444 [00:12<05:24,  4.28it/s]"
     ]
    },
    {
     "name": "stdout",
     "output_type": "stream",
     "text": [
      "Decoded audio embeddings shape: (None, 128)\n"
     ]
    },
    {
     "name": "stderr",
     "output_type": "stream",
     "text": [
      "Processing TFRecord files:   4%|▍         | 58/1444 [00:12<05:08,  4.49it/s]"
     ]
    },
    {
     "name": "stdout",
     "output_type": "stream",
     "text": [
      "Decoded audio embeddings shape: (None, 128)\n",
      "Decoded audio embeddings shape: (None, 128)\n"
     ]
    },
    {
     "name": "stderr",
     "output_type": "stream",
     "text": [
      "Processing TFRecord files:   4%|▍         | 60/1444 [00:13<05:32,  4.16it/s]"
     ]
    },
    {
     "name": "stdout",
     "output_type": "stream",
     "text": [
      "Decoded audio embeddings shape: (None, 128)\n",
      "Decoded audio embeddings shape: (None, 128)\n"
     ]
    },
    {
     "name": "stderr",
     "output_type": "stream",
     "text": [
      "Processing TFRecord files:   4%|▍         | 62/1444 [00:13<05:12,  4.42it/s]"
     ]
    },
    {
     "name": "stdout",
     "output_type": "stream",
     "text": [
      "Decoded audio embeddings shape: (None, 128)\n",
      "Decoded audio embeddings shape: (None, 128)\n"
     ]
    },
    {
     "name": "stderr",
     "output_type": "stream",
     "text": [
      "Processing TFRecord files:   4%|▍         | 64/1444 [00:13<04:49,  4.76it/s]"
     ]
    },
    {
     "name": "stdout",
     "output_type": "stream",
     "text": [
      "Decoded audio embeddings shape: (None, 128)\n"
     ]
    },
    {
     "name": "stderr",
     "output_type": "stream",
     "text": [
      "Processing TFRecord files:   5%|▍         | 65/1444 [00:14<05:22,  4.27it/s]"
     ]
    },
    {
     "name": "stdout",
     "output_type": "stream",
     "text": [
      "Decoded audio embeddings shape: (None, 128)\n",
      "Decoded audio embeddings shape: (None, 128)\n"
     ]
    },
    {
     "name": "stderr",
     "output_type": "stream",
     "text": [
      "Processing TFRecord files:   5%|▍         | 67/1444 [00:14<04:53,  4.69it/s]"
     ]
    },
    {
     "name": "stdout",
     "output_type": "stream",
     "text": [
      "Decoded audio embeddings shape: (None, 128)\n",
      "Decoded audio embeddings shape: (None, 128)\n"
     ]
    },
    {
     "name": "stderr",
     "output_type": "stream",
     "text": [
      "Processing TFRecord files:   5%|▍         | 69/1444 [00:14<04:23,  5.21it/s]"
     ]
    },
    {
     "name": "stdout",
     "output_type": "stream",
     "text": [
      "Decoded audio embeddings shape: (None, 128)\n",
      "Decoded audio embeddings shape: (None, 128)\n"
     ]
    },
    {
     "name": "stderr",
     "output_type": "stream",
     "text": [
      "Processing TFRecord files:   5%|▍         | 71/1444 [00:15<04:55,  4.65it/s]"
     ]
    },
    {
     "name": "stdout",
     "output_type": "stream",
     "text": [
      "Decoded audio embeddings shape: (None, 128)\n",
      "Decoded audio embeddings shape: (None, 128)\n"
     ]
    },
    {
     "name": "stderr",
     "output_type": "stream",
     "text": [
      "Processing TFRecord files:   5%|▌         | 73/1444 [00:15<04:36,  4.96it/s]"
     ]
    },
    {
     "name": "stdout",
     "output_type": "stream",
     "text": [
      "Decoded audio embeddings shape: (None, 128)\n",
      "Decoded audio embeddings shape: (None, 128)\n"
     ]
    },
    {
     "name": "stderr",
     "output_type": "stream",
     "text": [
      "Processing TFRecord files:   5%|▌         | 75/1444 [00:16<04:18,  5.29it/s]"
     ]
    },
    {
     "name": "stdout",
     "output_type": "stream",
     "text": [
      "Decoded audio embeddings shape: (None, 128)\n",
      "Decoded audio embeddings shape: (None, 128)\n"
     ]
    },
    {
     "name": "stderr",
     "output_type": "stream",
     "text": [
      "Processing TFRecord files:   5%|▌         | 77/1444 [00:16<04:41,  4.86it/s]"
     ]
    },
    {
     "name": "stdout",
     "output_type": "stream",
     "text": [
      "Decoded audio embeddings shape: (None, 128)\n"
     ]
    },
    {
     "name": "stderr",
     "output_type": "stream",
     "text": [
      "Processing TFRecord files:   5%|▌         | 78/1444 [00:16<04:41,  4.85it/s]"
     ]
    },
    {
     "name": "stdout",
     "output_type": "stream",
     "text": [
      "Decoded audio embeddings shape: (None, 128)\n",
      "Decoded audio embeddings shape: (None, 128)\n"
     ]
    },
    {
     "name": "stderr",
     "output_type": "stream",
     "text": [
      "Processing TFRecord files:   6%|▌         | 80/1444 [00:17<04:44,  4.79it/s]"
     ]
    },
    {
     "name": "stdout",
     "output_type": "stream",
     "text": [
      "Decoded audio embeddings shape: (None, 128)\n",
      "Decoded audio embeddings shape: (None, 128)\n"
     ]
    },
    {
     "name": "stderr",
     "output_type": "stream",
     "text": [
      "Processing TFRecord files:   6%|▌         | 82/1444 [00:17<05:05,  4.46it/s]"
     ]
    },
    {
     "name": "stdout",
     "output_type": "stream",
     "text": [
      "Decoded audio embeddings shape: (None, 128)\n",
      "Decoded audio embeddings shape: (None, 128)\n"
     ]
    },
    {
     "name": "stderr",
     "output_type": "stream",
     "text": [
      "Processing TFRecord files:   6%|▌         | 84/1444 [00:17<04:32,  4.99it/s]"
     ]
    },
    {
     "name": "stdout",
     "output_type": "stream",
     "text": [
      "Decoded audio embeddings shape: (None, 128)\n",
      "Decoded audio embeddings shape: (None, 128)\n"
     ]
    },
    {
     "name": "stderr",
     "output_type": "stream",
     "text": [
      "Processing TFRecord files:   6%|▌         | 86/1444 [00:18<04:10,  5.42it/s]"
     ]
    },
    {
     "name": "stdout",
     "output_type": "stream",
     "text": [
      "Decoded audio embeddings shape: (None, 128)\n",
      "Decoded audio embeddings shape: (None, 128)\n"
     ]
    },
    {
     "name": "stderr",
     "output_type": "stream",
     "text": [
      "Processing TFRecord files:   6%|▌         | 88/1444 [00:18<04:30,  5.02it/s]"
     ]
    },
    {
     "name": "stdout",
     "output_type": "stream",
     "text": [
      "Decoded audio embeddings shape: (None, 128)\n",
      "Decoded audio embeddings shape: (None, 128)\n"
     ]
    },
    {
     "name": "stderr",
     "output_type": "stream",
     "text": [
      "Processing TFRecord files:   6%|▌         | 90/1444 [00:19<04:17,  5.26it/s]"
     ]
    },
    {
     "name": "stdout",
     "output_type": "stream",
     "text": [
      "Decoded audio embeddings shape: (None, 128)\n",
      "Decoded audio embeddings shape: (None, 128)\n"
     ]
    },
    {
     "name": "stderr",
     "output_type": "stream",
     "text": [
      "Processing TFRecord files:   6%|▋         | 92/1444 [00:19<04:03,  5.55it/s]"
     ]
    },
    {
     "name": "stdout",
     "output_type": "stream",
     "text": [
      "Decoded audio embeddings shape: (None, 128)\n",
      "Decoded audio embeddings shape: (None, 128)\n"
     ]
    },
    {
     "name": "stderr",
     "output_type": "stream",
     "text": [
      "Processing TFRecord files:   7%|▋         | 94/1444 [00:20<05:21,  4.20it/s]"
     ]
    },
    {
     "name": "stdout",
     "output_type": "stream",
     "text": [
      "Decoded audio embeddings shape: (None, 128)\n"
     ]
    },
    {
     "name": "stderr",
     "output_type": "stream",
     "text": [
      "Processing TFRecord files:   7%|▋         | 95/1444 [00:20<05:04,  4.43it/s]"
     ]
    },
    {
     "name": "stdout",
     "output_type": "stream",
     "text": [
      "Decoded audio embeddings shape: (None, 128)\n",
      "Decoded audio embeddings shape: (None, 128)\n"
     ]
    },
    {
     "name": "stderr",
     "output_type": "stream",
     "text": [
      "Processing TFRecord files:   7%|▋         | 97/1444 [00:20<04:37,  4.85it/s]"
     ]
    },
    {
     "name": "stdout",
     "output_type": "stream",
     "text": [
      "Decoded audio embeddings shape: (None, 128)\n",
      "Decoded audio embeddings shape: (None, 128)\n"
     ]
    },
    {
     "name": "stderr",
     "output_type": "stream",
     "text": [
      "Processing TFRecord files:   7%|▋         | 99/1444 [00:21<04:47,  4.68it/s]"
     ]
    },
    {
     "name": "stdout",
     "output_type": "stream",
     "text": [
      "Decoded audio embeddings shape: (None, 128)\n"
     ]
    },
    {
     "name": "stderr",
     "output_type": "stream",
     "text": [
      "Processing TFRecord files:   7%|▋         | 100/1444 [00:21<04:24,  5.08it/s]"
     ]
    },
    {
     "name": "stdout",
     "output_type": "stream",
     "text": [
      "Decoded audio embeddings shape: (None, 128)\n",
      "Decoded audio embeddings shape: (None, 128)\n"
     ]
    },
    {
     "name": "stderr",
     "output_type": "stream",
     "text": [
      "Processing TFRecord files:   7%|▋         | 102/1444 [00:21<03:56,  5.67it/s]"
     ]
    },
    {
     "name": "stdout",
     "output_type": "stream",
     "text": [
      "Decoded audio embeddings shape: (None, 128)\n",
      "Decoded audio embeddings shape: (None, 128)\n"
     ]
    },
    {
     "name": "stderr",
     "output_type": "stream",
     "text": [
      "Processing TFRecord files:   7%|▋         | 104/1444 [00:21<03:37,  6.16it/s]"
     ]
    },
    {
     "name": "stdout",
     "output_type": "stream",
     "text": [
      "Decoded audio embeddings shape: (None, 128)\n",
      "Decoded audio embeddings shape: (None, 128)\n"
     ]
    },
    {
     "name": "stderr",
     "output_type": "stream",
     "text": [
      "Processing TFRecord files:   7%|▋         | 106/1444 [00:22<04:09,  5.37it/s]"
     ]
    },
    {
     "name": "stdout",
     "output_type": "stream",
     "text": [
      "Decoded audio embeddings shape: (None, 128)\n",
      "Decoded audio embeddings shape: (None, 128)\n"
     ]
    },
    {
     "name": "stderr",
     "output_type": "stream",
     "text": [
      "Processing TFRecord files:   7%|▋         | 108/1444 [00:22<04:05,  5.44it/s]"
     ]
    },
    {
     "name": "stdout",
     "output_type": "stream",
     "text": [
      "Decoded audio embeddings shape: (None, 128)\n",
      "Decoded audio embeddings shape: (None, 128)\n"
     ]
    },
    {
     "name": "stderr",
     "output_type": "stream",
     "text": [
      "Processing TFRecord files:   8%|▊         | 110/1444 [00:22<03:41,  6.01it/s]"
     ]
    },
    {
     "name": "stdout",
     "output_type": "stream",
     "text": [
      "Decoded audio embeddings shape: (None, 128)\n",
      "Decoded audio embeddings shape: (None, 128)\n"
     ]
    },
    {
     "name": "stderr",
     "output_type": "stream",
     "text": [
      "Processing TFRecord files:   8%|▊         | 112/1444 [00:23<04:03,  5.48it/s]"
     ]
    },
    {
     "name": "stdout",
     "output_type": "stream",
     "text": [
      "Decoded audio embeddings shape: (None, 128)\n",
      "Decoded audio embeddings shape: (None, 128)\n"
     ]
    },
    {
     "name": "stderr",
     "output_type": "stream",
     "text": [
      "Processing TFRecord files:   8%|▊         | 114/1444 [00:23<03:56,  5.62it/s]"
     ]
    },
    {
     "name": "stdout",
     "output_type": "stream",
     "text": [
      "Decoded audio embeddings shape: (None, 128)\n"
     ]
    },
    {
     "name": "stderr",
     "output_type": "stream",
     "text": [
      "Processing TFRecord files:   8%|▊         | 115/1444 [00:23<03:59,  5.55it/s]"
     ]
    },
    {
     "name": "stdout",
     "output_type": "stream",
     "text": [
      "Decoded audio embeddings shape: (None, 128)\n",
      "Decoded audio embeddings shape: (None, 128)\n"
     ]
    },
    {
     "name": "stderr",
     "output_type": "stream",
     "text": [
      "Processing TFRecord files:   8%|▊         | 117/1444 [00:24<04:26,  4.97it/s]"
     ]
    },
    {
     "name": "stdout",
     "output_type": "stream",
     "text": [
      "Decoded audio embeddings shape: (None, 128)\n"
     ]
    },
    {
     "name": "stderr",
     "output_type": "stream",
     "text": [
      "Processing TFRecord files:   8%|▊         | 118/1444 [00:24<04:26,  4.98it/s]"
     ]
    },
    {
     "name": "stdout",
     "output_type": "stream",
     "text": [
      "Decoded audio embeddings shape: (None, 128)\n",
      "Decoded audio embeddings shape: (None, 128)\n"
     ]
    },
    {
     "name": "stderr",
     "output_type": "stream",
     "text": [
      "Processing TFRecord files:   8%|▊         | 120/1444 [00:24<04:24,  5.01it/s]"
     ]
    },
    {
     "name": "stdout",
     "output_type": "stream",
     "text": [
      "Decoded audio embeddings shape: (None, 128)\n",
      "Decoded audio embeddings shape: (None, 128)\n"
     ]
    },
    {
     "name": "stderr",
     "output_type": "stream",
     "text": [
      "Processing TFRecord files:   8%|▊         | 122/1444 [00:25<06:54,  3.19it/s]"
     ]
    },
    {
     "name": "stdout",
     "output_type": "stream",
     "text": [
      "Decoded audio embeddings shape: (None, 128)\n",
      "Decoded audio embeddings shape: (None, 128)\n"
     ]
    },
    {
     "name": "stderr",
     "output_type": "stream",
     "text": [
      "Processing TFRecord files:   9%|▊         | 124/1444 [00:26<05:55,  3.71it/s]"
     ]
    },
    {
     "name": "stdout",
     "output_type": "stream",
     "text": [
      "Decoded audio embeddings shape: (None, 128)\n"
     ]
    },
    {
     "name": "stderr",
     "output_type": "stream",
     "text": [
      "Processing TFRecord files:   9%|▊         | 125/1444 [00:26<05:36,  3.92it/s]"
     ]
    },
    {
     "name": "stdout",
     "output_type": "stream",
     "text": [
      "Decoded audio embeddings shape: (None, 128)\n",
      "Decoded audio embeddings shape: (None, 128)\n"
     ]
    },
    {
     "name": "stderr",
     "output_type": "stream",
     "text": [
      "Processing TFRecord files:   9%|▉         | 127/1444 [00:26<05:03,  4.34it/s]"
     ]
    },
    {
     "name": "stdout",
     "output_type": "stream",
     "text": [
      "Decoded audio embeddings shape: (None, 128)\n",
      "Decoded audio embeddings shape: (None, 128)\n"
     ]
    },
    {
     "name": "stderr",
     "output_type": "stream",
     "text": [
      "Processing TFRecord files:   9%|▉         | 129/1444 [00:27<04:28,  4.90it/s]"
     ]
    },
    {
     "name": "stdout",
     "output_type": "stream",
     "text": [
      "Decoded audio embeddings shape: (None, 128)\n",
      "Decoded audio embeddings shape: (None, 128)\n"
     ]
    },
    {
     "name": "stderr",
     "output_type": "stream",
     "text": [
      "Processing TFRecord files:   9%|▉         | 131/1444 [00:27<04:46,  4.58it/s]"
     ]
    },
    {
     "name": "stdout",
     "output_type": "stream",
     "text": [
      "Decoded audio embeddings shape: (None, 128)\n"
     ]
    },
    {
     "name": "stderr",
     "output_type": "stream",
     "text": [
      "Processing TFRecord files:   9%|▉         | 132/1444 [00:27<05:17,  4.13it/s]"
     ]
    },
    {
     "name": "stdout",
     "output_type": "stream",
     "text": [
      "Decoded audio embeddings shape: (None, 128)\n",
      "Decoded audio embeddings shape: (None, 128)\n"
     ]
    },
    {
     "name": "stderr",
     "output_type": "stream",
     "text": [
      "Processing TFRecord files:   9%|▉         | 134/1444 [00:28<04:58,  4.39it/s]"
     ]
    },
    {
     "name": "stdout",
     "output_type": "stream",
     "text": [
      "Decoded audio embeddings shape: (None, 128)\n"
     ]
    },
    {
     "name": "stderr",
     "output_type": "stream",
     "text": [
      "Processing TFRecord files:   9%|▉         | 135/1444 [00:28<05:35,  3.90it/s]"
     ]
    },
    {
     "name": "stdout",
     "output_type": "stream",
     "text": [
      "Decoded audio embeddings shape: (None, 128)\n"
     ]
    },
    {
     "name": "stderr",
     "output_type": "stream",
     "text": [
      "Processing TFRecord files:   9%|▉         | 136/1444 [00:28<05:37,  3.88it/s]"
     ]
    },
    {
     "name": "stdout",
     "output_type": "stream",
     "text": [
      "Decoded audio embeddings shape: (None, 128)\n",
      "Decoded audio embeddings shape: (None, 128)\n"
     ]
    },
    {
     "name": "stderr",
     "output_type": "stream",
     "text": [
      "Processing TFRecord files:  10%|▉         | 138/1444 [00:29<05:22,  4.05it/s]"
     ]
    },
    {
     "name": "stdout",
     "output_type": "stream",
     "text": [
      "Decoded audio embeddings shape: (None, 128)\n",
      "Decoded audio embeddings shape: (None, 128)\n"
     ]
    },
    {
     "name": "stderr",
     "output_type": "stream",
     "text": [
      "Processing TFRecord files:  10%|▉         | 140/1444 [00:29<04:28,  4.86it/s]"
     ]
    },
    {
     "name": "stdout",
     "output_type": "stream",
     "text": [
      "Decoded audio embeddings shape: (None, 128)\n",
      "Decoded audio embeddings shape: (None, 128)\n"
     ]
    },
    {
     "name": "stderr",
     "output_type": "stream",
     "text": [
      "Processing TFRecord files:  10%|▉         | 142/1444 [00:29<03:51,  5.62it/s]"
     ]
    },
    {
     "name": "stdout",
     "output_type": "stream",
     "text": [
      "Decoded audio embeddings shape: (None, 128)\n",
      "Decoded audio embeddings shape: (None, 128)\n"
     ]
    },
    {
     "name": "stderr",
     "output_type": "stream",
     "text": [
      "Processing TFRecord files:  10%|▉         | 144/1444 [00:30<04:05,  5.30it/s]"
     ]
    },
    {
     "name": "stdout",
     "output_type": "stream",
     "text": [
      "Decoded audio embeddings shape: (None, 128)\n",
      "Decoded audio embeddings shape: (None, 128)\n"
     ]
    },
    {
     "name": "stderr",
     "output_type": "stream",
     "text": [
      "Processing TFRecord files:  10%|█         | 146/1444 [00:30<03:52,  5.59it/s]"
     ]
    },
    {
     "name": "stdout",
     "output_type": "stream",
     "text": [
      "Decoded audio embeddings shape: (None, 128)\n",
      "Decoded audio embeddings shape: (None, 128)\n"
     ]
    },
    {
     "name": "stderr",
     "output_type": "stream",
     "text": [
      "Processing TFRecord files:  10%|█         | 148/1444 [00:31<03:33,  6.07it/s]"
     ]
    },
    {
     "name": "stdout",
     "output_type": "stream",
     "text": [
      "Decoded audio embeddings shape: (None, 128)\n",
      "Decoded audio embeddings shape: (None, 128)\n"
     ]
    },
    {
     "name": "stderr",
     "output_type": "stream",
     "text": [
      "Processing TFRecord files:  10%|█         | 150/1444 [00:31<03:49,  5.63it/s]"
     ]
    },
    {
     "name": "stdout",
     "output_type": "stream",
     "text": [
      "Decoded audio embeddings shape: (None, 128)\n",
      "Decoded audio embeddings shape: (None, 128)\n"
     ]
    },
    {
     "name": "stderr",
     "output_type": "stream",
     "text": [
      "Processing TFRecord files:  11%|█         | 152/1444 [00:31<03:48,  5.65it/s]"
     ]
    },
    {
     "name": "stdout",
     "output_type": "stream",
     "text": [
      "Decoded audio embeddings shape: (None, 128)\n"
     ]
    },
    {
     "name": "stderr",
     "output_type": "stream",
     "text": [
      "Processing TFRecord files:  11%|█         | 153/1444 [00:32<04:41,  4.59it/s]"
     ]
    },
    {
     "name": "stdout",
     "output_type": "stream",
     "text": [
      "Decoded audio embeddings shape: (None, 128)\n",
      "Decoded audio embeddings shape: (None, 128)\n"
     ]
    },
    {
     "name": "stderr",
     "output_type": "stream",
     "text": [
      "Processing TFRecord files:  11%|█         | 155/1444 [00:32<05:57,  3.61it/s]"
     ]
    },
    {
     "name": "stdout",
     "output_type": "stream",
     "text": [
      "Decoded audio embeddings shape: (None, 128)\n"
     ]
    },
    {
     "name": "stderr",
     "output_type": "stream",
     "text": [
      "Processing TFRecord files:  11%|█         | 156/1444 [00:32<05:32,  3.87it/s]"
     ]
    },
    {
     "name": "stdout",
     "output_type": "stream",
     "text": [
      "Decoded audio embeddings shape: (None, 128)\n"
     ]
    },
    {
     "name": "stderr",
     "output_type": "stream",
     "text": [
      "Processing TFRecord files:  11%|█         | 157/1444 [00:33<05:23,  3.98it/s]"
     ]
    },
    {
     "name": "stdout",
     "output_type": "stream",
     "text": [
      "Decoded audio embeddings shape: (None, 128)\n"
     ]
    },
    {
     "name": "stderr",
     "output_type": "stream",
     "text": [
      "Processing TFRecord files:  11%|█         | 158/1444 [00:33<05:20,  4.01it/s]"
     ]
    },
    {
     "name": "stdout",
     "output_type": "stream",
     "text": [
      "Decoded audio embeddings shape: (None, 128)\n",
      "Decoded audio embeddings shape: (None, 128)\n"
     ]
    },
    {
     "name": "stderr",
     "output_type": "stream",
     "text": [
      "Processing TFRecord files:  11%|█         | 160/1444 [00:34<05:48,  3.68it/s]"
     ]
    },
    {
     "name": "stdout",
     "output_type": "stream",
     "text": [
      "Decoded audio embeddings shape: (None, 128)\n"
     ]
    },
    {
     "name": "stderr",
     "output_type": "stream",
     "text": [
      "Processing TFRecord files:  11%|█         | 161/1444 [00:34<05:19,  4.02it/s]"
     ]
    },
    {
     "name": "stdout",
     "output_type": "stream",
     "text": [
      "Decoded audio embeddings shape: (None, 128)\n"
     ]
    },
    {
     "name": "stderr",
     "output_type": "stream",
     "text": [
      "Processing TFRecord files:  11%|█         | 162/1444 [00:34<05:13,  4.08it/s]"
     ]
    },
    {
     "name": "stdout",
     "output_type": "stream",
     "text": [
      "Decoded audio embeddings shape: (None, 128)\n"
     ]
    },
    {
     "name": "stderr",
     "output_type": "stream",
     "text": [
      "Processing TFRecord files:  11%|█▏        | 163/1444 [00:34<05:23,  3.95it/s]"
     ]
    },
    {
     "name": "stdout",
     "output_type": "stream",
     "text": [
      "Decoded audio embeddings shape: (None, 128)\n",
      "Decoded audio embeddings shape: (None, 128)\n"
     ]
    },
    {
     "name": "stderr",
     "output_type": "stream",
     "text": [
      "Processing TFRecord files:  11%|█▏        | 165/1444 [00:35<05:20,  3.99it/s]"
     ]
    },
    {
     "name": "stdout",
     "output_type": "stream",
     "text": [
      "Decoded audio embeddings shape: (None, 128)\n"
     ]
    },
    {
     "name": "stderr",
     "output_type": "stream",
     "text": [
      "Processing TFRecord files:  11%|█▏        | 166/1444 [00:35<05:06,  4.16it/s]"
     ]
    },
    {
     "name": "stdout",
     "output_type": "stream",
     "text": [
      "Decoded audio embeddings shape: (None, 128)\n",
      "Decoded audio embeddings shape: (None, 128)\n"
     ]
    },
    {
     "name": "stderr",
     "output_type": "stream",
     "text": [
      "Processing TFRecord files:  12%|█▏        | 168/1444 [00:35<04:41,  4.54it/s]"
     ]
    },
    {
     "name": "stdout",
     "output_type": "stream",
     "text": [
      "Decoded audio embeddings shape: (None, 128)\n"
     ]
    },
    {
     "name": "stderr",
     "output_type": "stream",
     "text": [
      "Processing TFRecord files:  12%|█▏        | 169/1444 [00:36<04:41,  4.53it/s]"
     ]
    },
    {
     "name": "stdout",
     "output_type": "stream",
     "text": [
      "Decoded audio embeddings shape: (None, 128)\n",
      "Decoded audio embeddings shape: (None, 128)\n"
     ]
    },
    {
     "name": "stderr",
     "output_type": "stream",
     "text": [
      "Processing TFRecord files:  12%|█▏        | 171/1444 [00:36<05:12,  4.07it/s]"
     ]
    },
    {
     "name": "stdout",
     "output_type": "stream",
     "text": [
      "Decoded audio embeddings shape: (None, 128)\n",
      "Decoded audio embeddings shape: (None, 128)\n"
     ]
    },
    {
     "name": "stderr",
     "output_type": "stream",
     "text": [
      "Processing TFRecord files:  12%|█▏        | 173/1444 [00:37<04:37,  4.58it/s]"
     ]
    },
    {
     "name": "stdout",
     "output_type": "stream",
     "text": [
      "Decoded audio embeddings shape: (None, 128)\n",
      "Decoded audio embeddings shape: (None, 128)\n"
     ]
    },
    {
     "name": "stderr",
     "output_type": "stream",
     "text": [
      "Processing TFRecord files:  12%|█▏        | 174/1444 [00:37<04:32,  4.66it/s]"
     ]
    },
    {
     "name": "stdout",
     "output_type": "stream",
     "text": [
      "Decoded audio embeddings shape: (None, 128)\n"
     ]
    },
    {
     "name": "stderr",
     "output_type": "stream",
     "text": [
      "Processing TFRecord files:  12%|█▏        | 176/1444 [00:37<05:19,  3.96it/s]"
     ]
    },
    {
     "name": "stdout",
     "output_type": "stream",
     "text": [
      "Decoded audio embeddings shape: (None, 128)\n"
     ]
    },
    {
     "name": "stderr",
     "output_type": "stream",
     "text": [
      "Processing TFRecord files:  12%|█▏        | 177/1444 [00:38<05:01,  4.20it/s]"
     ]
    },
    {
     "name": "stdout",
     "output_type": "stream",
     "text": [
      "Decoded audio embeddings shape: (None, 128)\n",
      "Decoded audio embeddings shape: (None, 128)\n"
     ]
    },
    {
     "name": "stderr",
     "output_type": "stream",
     "text": [
      "Processing TFRecord files:  12%|█▏        | 179/1444 [00:38<04:35,  4.60it/s]"
     ]
    },
    {
     "name": "stdout",
     "output_type": "stream",
     "text": [
      "Decoded audio embeddings shape: (None, 128)\n",
      "Decoded audio embeddings shape: (None, 128)\n"
     ]
    },
    {
     "name": "stderr",
     "output_type": "stream",
     "text": [
      "Processing TFRecord files:  13%|█▎        | 181/1444 [00:38<04:34,  4.61it/s]"
     ]
    },
    {
     "name": "stdout",
     "output_type": "stream",
     "text": [
      "Decoded audio embeddings shape: (None, 128)\n",
      "Decoded audio embeddings shape: (None, 128)\n"
     ]
    },
    {
     "name": "stderr",
     "output_type": "stream",
     "text": [
      "Processing TFRecord files:  13%|█▎        | 183/1444 [00:39<04:07,  5.08it/s]"
     ]
    },
    {
     "name": "stdout",
     "output_type": "stream",
     "text": [
      "Decoded audio embeddings shape: (None, 128)\n",
      "Decoded audio embeddings shape: (None, 128)\n"
     ]
    },
    {
     "name": "stderr",
     "output_type": "stream",
     "text": [
      "Processing TFRecord files:  13%|█▎        | 185/1444 [00:39<04:19,  4.85it/s]"
     ]
    },
    {
     "name": "stdout",
     "output_type": "stream",
     "text": [
      "Decoded audio embeddings shape: (None, 128)\n"
     ]
    },
    {
     "name": "stderr",
     "output_type": "stream",
     "text": [
      "Processing TFRecord files:  13%|█▎        | 186/1444 [00:39<04:24,  4.75it/s]"
     ]
    },
    {
     "name": "stdout",
     "output_type": "stream",
     "text": [
      "Decoded audio embeddings shape: (None, 128)\n",
      "Decoded audio embeddings shape: (None, 128)\n"
     ]
    },
    {
     "name": "stderr",
     "output_type": "stream",
     "text": [
      "Processing TFRecord files:  13%|█▎        | 188/1444 [00:40<04:09,  5.04it/s]"
     ]
    },
    {
     "name": "stdout",
     "output_type": "stream",
     "text": [
      "Decoded audio embeddings shape: (None, 128)\n",
      "Decoded audio embeddings shape: (None, 128)\n"
     ]
    },
    {
     "name": "stderr",
     "output_type": "stream",
     "text": [
      "Processing TFRecord files:  13%|█▎        | 190/1444 [00:40<04:40,  4.47it/s]"
     ]
    },
    {
     "name": "stdout",
     "output_type": "stream",
     "text": [
      "Decoded audio embeddings shape: (None, 128)\n",
      "Decoded audio embeddings shape: (None, 128)\n"
     ]
    },
    {
     "name": "stderr",
     "output_type": "stream",
     "text": [
      "Processing TFRecord files:  13%|█▎        | 192/1444 [00:41<04:35,  4.55it/s]"
     ]
    },
    {
     "name": "stdout",
     "output_type": "stream",
     "text": [
      "Decoded audio embeddings shape: (None, 128)\n",
      "Decoded audio embeddings shape: (None, 128)\n"
     ]
    },
    {
     "name": "stderr",
     "output_type": "stream",
     "text": [
      "Processing TFRecord files:  13%|█▎        | 194/1444 [00:41<04:20,  4.80it/s]"
     ]
    },
    {
     "name": "stdout",
     "output_type": "stream",
     "text": [
      "Decoded audio embeddings shape: (None, 128)\n",
      "Decoded audio embeddings shape: (None, 128)\n"
     ]
    },
    {
     "name": "stderr",
     "output_type": "stream",
     "text": [
      "Processing TFRecord files:  14%|█▎        | 196/1444 [00:42<04:25,  4.69it/s]"
     ]
    },
    {
     "name": "stdout",
     "output_type": "stream",
     "text": [
      "Decoded audio embeddings shape: (None, 128)\n",
      "Decoded audio embeddings shape: (None, 128)\n"
     ]
    },
    {
     "name": "stderr",
     "output_type": "stream",
     "text": [
      "Processing TFRecord files:  14%|█▎        | 198/1444 [00:42<03:53,  5.33it/s]"
     ]
    },
    {
     "name": "stdout",
     "output_type": "stream",
     "text": [
      "Decoded audio embeddings shape: (None, 128)\n",
      "Decoded audio embeddings shape: (None, 128)\n"
     ]
    },
    {
     "name": "stderr",
     "output_type": "stream",
     "text": [
      "Processing TFRecord files:  14%|█▍        | 200/1444 [00:42<04:01,  5.15it/s]"
     ]
    },
    {
     "name": "stdout",
     "output_type": "stream",
     "text": [
      "Decoded audio embeddings shape: (None, 128)\n",
      "Decoded audio embeddings shape: (None, 128)\n"
     ]
    },
    {
     "name": "stderr",
     "output_type": "stream",
     "text": [
      "Processing TFRecord files:  14%|█▍        | 202/1444 [00:43<04:22,  4.74it/s]"
     ]
    },
    {
     "name": "stdout",
     "output_type": "stream",
     "text": [
      "Decoded audio embeddings shape: (None, 128)\n",
      "Decoded audio embeddings shape: (None, 128)\n"
     ]
    },
    {
     "name": "stderr",
     "output_type": "stream",
     "text": [
      "Processing TFRecord files:  14%|█▍        | 204/1444 [00:43<04:05,  5.05it/s]"
     ]
    },
    {
     "name": "stdout",
     "output_type": "stream",
     "text": [
      "Decoded audio embeddings shape: (None, 128)\n",
      "Decoded audio embeddings shape: (None, 128)\n"
     ]
    },
    {
     "name": "stderr",
     "output_type": "stream",
     "text": [
      "Processing TFRecord files:  14%|█▍        | 206/1444 [00:43<03:40,  5.61it/s]"
     ]
    },
    {
     "name": "stdout",
     "output_type": "stream",
     "text": [
      "Decoded audio embeddings shape: (None, 128)\n",
      "Decoded audio embeddings shape: (None, 128)\n"
     ]
    },
    {
     "name": "stderr",
     "output_type": "stream",
     "text": [
      "Processing TFRecord files:  14%|█▍        | 208/1444 [00:44<03:55,  5.25it/s]"
     ]
    },
    {
     "name": "stdout",
     "output_type": "stream",
     "text": [
      "Decoded audio embeddings shape: (None, 128)\n",
      "Decoded audio embeddings shape: (None, 128)\n"
     ]
    },
    {
     "name": "stderr",
     "output_type": "stream",
     "text": [
      "Processing TFRecord files:  15%|█▍        | 210/1444 [00:44<03:57,  5.19it/s]"
     ]
    },
    {
     "name": "stdout",
     "output_type": "stream",
     "text": [
      "Decoded audio embeddings shape: (None, 128)\n",
      "Decoded audio embeddings shape: (None, 128)\n"
     ]
    },
    {
     "name": "stderr",
     "output_type": "stream",
     "text": [
      "Processing TFRecord files:  15%|█▍        | 212/1444 [00:45<03:39,  5.62it/s]"
     ]
    },
    {
     "name": "stdout",
     "output_type": "stream",
     "text": [
      "Decoded audio embeddings shape: (None, 128)\n",
      "Decoded audio embeddings shape: (None, 128)\n"
     ]
    },
    {
     "name": "stderr",
     "output_type": "stream",
     "text": [
      "Processing TFRecord files:  15%|█▍        | 214/1444 [00:45<03:53,  5.26it/s]"
     ]
    },
    {
     "name": "stdout",
     "output_type": "stream",
     "text": [
      "Decoded audio embeddings shape: (None, 128)\n",
      "Decoded audio embeddings shape: (None, 128)\n"
     ]
    },
    {
     "name": "stderr",
     "output_type": "stream",
     "text": [
      "Processing TFRecord files:  15%|█▍        | 216/1444 [00:45<03:57,  5.18it/s]"
     ]
    },
    {
     "name": "stdout",
     "output_type": "stream",
     "text": [
      "Decoded audio embeddings shape: (None, 128)\n",
      "Decoded audio embeddings shape: (None, 128)\n"
     ]
    },
    {
     "name": "stderr",
     "output_type": "stream",
     "text": [
      "Processing TFRecord files:  15%|█▌        | 218/1444 [00:46<04:31,  4.52it/s]"
     ]
    },
    {
     "name": "stdout",
     "output_type": "stream",
     "text": [
      "Decoded audio embeddings shape: (None, 128)\n",
      "Decoded audio embeddings shape: (None, 128)\n"
     ]
    },
    {
     "name": "stderr",
     "output_type": "stream",
     "text": [
      "Processing TFRecord files:  15%|█▌        | 220/1444 [00:46<04:07,  4.94it/s]"
     ]
    },
    {
     "name": "stdout",
     "output_type": "stream",
     "text": [
      "Decoded audio embeddings shape: (None, 128)\n",
      "Decoded audio embeddings shape: (None, 128)\n"
     ]
    },
    {
     "name": "stderr",
     "output_type": "stream",
     "text": [
      "Processing TFRecord files:  15%|█▌        | 222/1444 [00:47<04:41,  4.34it/s]"
     ]
    },
    {
     "name": "stdout",
     "output_type": "stream",
     "text": [
      "Decoded audio embeddings shape: (None, 128)\n"
     ]
    },
    {
     "name": "stderr",
     "output_type": "stream",
     "text": [
      "Processing TFRecord files:  15%|█▌        | 223/1444 [00:47<04:35,  4.44it/s]"
     ]
    },
    {
     "name": "stdout",
     "output_type": "stream",
     "text": [
      "Decoded audio embeddings shape: (None, 128)\n"
     ]
    },
    {
     "name": "stderr",
     "output_type": "stream",
     "text": [
      "Processing TFRecord files:  16%|█▌        | 224/1444 [00:47<04:12,  4.83it/s]"
     ]
    },
    {
     "name": "stdout",
     "output_type": "stream",
     "text": [
      "Decoded audio embeddings shape: (None, 128)\n",
      "Decoded audio embeddings shape: (None, 128)\n"
     ]
    },
    {
     "name": "stderr",
     "output_type": "stream",
     "text": [
      "Processing TFRecord files:  16%|█▌        | 226/1444 [00:48<04:29,  4.53it/s]"
     ]
    },
    {
     "name": "stdout",
     "output_type": "stream",
     "text": [
      "Decoded audio embeddings shape: (None, 128)\n",
      "Decoded audio embeddings shape: (None, 128)\n"
     ]
    },
    {
     "name": "stderr",
     "output_type": "stream",
     "text": [
      "Processing TFRecord files:  16%|█▌        | 228/1444 [00:48<03:47,  5.34it/s]"
     ]
    },
    {
     "name": "stdout",
     "output_type": "stream",
     "text": [
      "Decoded audio embeddings shape: (None, 128)\n",
      "Decoded audio embeddings shape: (None, 128)\n"
     ]
    },
    {
     "name": "stderr",
     "output_type": "stream",
     "text": [
      "Processing TFRecord files:  16%|█▌        | 230/1444 [00:48<03:37,  5.59it/s]"
     ]
    },
    {
     "name": "stdout",
     "output_type": "stream",
     "text": [
      "Decoded audio embeddings shape: (None, 128)\n",
      "Decoded audio embeddings shape: (None, 128)\n"
     ]
    },
    {
     "name": "stderr",
     "output_type": "stream",
     "text": [
      "Processing TFRecord files:  16%|█▌        | 232/1444 [00:49<04:02,  5.01it/s]"
     ]
    },
    {
     "name": "stdout",
     "output_type": "stream",
     "text": [
      "Decoded audio embeddings shape: (None, 128)\n"
     ]
    },
    {
     "name": "stderr",
     "output_type": "stream",
     "text": [
      "Processing TFRecord files:  16%|█▌        | 233/1444 [00:49<03:57,  5.11it/s]"
     ]
    },
    {
     "name": "stdout",
     "output_type": "stream",
     "text": [
      "Decoded audio embeddings shape: (None, 128)\n",
      "Decoded audio embeddings shape: (None, 128)\n"
     ]
    },
    {
     "name": "stderr",
     "output_type": "stream",
     "text": [
      "Processing TFRecord files:  16%|█▋        | 235/1444 [00:49<03:51,  5.23it/s]"
     ]
    },
    {
     "name": "stdout",
     "output_type": "stream",
     "text": [
      "Decoded audio embeddings shape: (None, 128)\n"
     ]
    },
    {
     "name": "stderr",
     "output_type": "stream",
     "text": [
      "Processing TFRecord files:  16%|█▋        | 236/1444 [00:50<04:15,  4.72it/s]"
     ]
    },
    {
     "name": "stdout",
     "output_type": "stream",
     "text": [
      "Decoded audio embeddings shape: (None, 128)\n"
     ]
    },
    {
     "name": "stderr",
     "output_type": "stream",
     "text": [
      "Processing TFRecord files:  16%|█▋        | 237/1444 [00:50<04:45,  4.22it/s]"
     ]
    },
    {
     "name": "stdout",
     "output_type": "stream",
     "text": [
      "Decoded audio embeddings shape: (None, 128)\n"
     ]
    },
    {
     "name": "stderr",
     "output_type": "stream",
     "text": [
      "Processing TFRecord files:  16%|█▋        | 238/1444 [00:50<04:33,  4.41it/s]"
     ]
    },
    {
     "name": "stdout",
     "output_type": "stream",
     "text": [
      "Decoded audio embeddings shape: (None, 128)\n",
      "Decoded audio embeddings shape: (None, 128)\n"
     ]
    },
    {
     "name": "stderr",
     "output_type": "stream",
     "text": [
      "Processing TFRecord files:  17%|█▋        | 240/1444 [00:50<04:35,  4.37it/s]"
     ]
    },
    {
     "name": "stdout",
     "output_type": "stream",
     "text": [
      "Decoded audio embeddings shape: (None, 128)\n",
      "Decoded audio embeddings shape: (None, 128)\n"
     ]
    },
    {
     "name": "stderr",
     "output_type": "stream",
     "text": [
      "Processing TFRecord files:  17%|█▋        | 242/1444 [00:51<04:55,  4.07it/s]"
     ]
    },
    {
     "name": "stdout",
     "output_type": "stream",
     "text": [
      "Decoded audio embeddings shape: (None, 128)\n",
      "Decoded audio embeddings shape: (None, 128)\n"
     ]
    },
    {
     "name": "stderr",
     "output_type": "stream",
     "text": [
      "Processing TFRecord files:  17%|█▋        | 244/1444 [00:51<04:19,  4.63it/s]"
     ]
    },
    {
     "name": "stdout",
     "output_type": "stream",
     "text": [
      "Decoded audio embeddings shape: (None, 128)\n",
      "Decoded audio embeddings shape: (None, 128)\n"
     ]
    },
    {
     "name": "stderr",
     "output_type": "stream",
     "text": [
      "Processing TFRecord files:  17%|█▋        | 246/1444 [00:52<04:04,  4.90it/s]"
     ]
    },
    {
     "name": "stdout",
     "output_type": "stream",
     "text": [
      "Decoded audio embeddings shape: (None, 128)\n",
      "Decoded audio embeddings shape: (None, 128)\n"
     ]
    },
    {
     "name": "stderr",
     "output_type": "stream",
     "text": [
      "Processing TFRecord files:  17%|█▋        | 248/1444 [00:52<05:01,  3.96it/s]"
     ]
    },
    {
     "name": "stdout",
     "output_type": "stream",
     "text": [
      "Decoded audio embeddings shape: (None, 128)\n"
     ]
    },
    {
     "name": "stderr",
     "output_type": "stream",
     "text": [
      "Processing TFRecord files:  17%|█▋        | 249/1444 [00:53<04:40,  4.26it/s]"
     ]
    },
    {
     "name": "stdout",
     "output_type": "stream",
     "text": [
      "Decoded audio embeddings shape: (None, 128)\n"
     ]
    },
    {
     "name": "stderr",
     "output_type": "stream",
     "text": [
      "Processing TFRecord files:  17%|█▋        | 250/1444 [00:53<04:32,  4.38it/s]"
     ]
    },
    {
     "name": "stdout",
     "output_type": "stream",
     "text": [
      "Decoded audio embeddings shape: (None, 128)\n"
     ]
    },
    {
     "name": "stderr",
     "output_type": "stream",
     "text": [
      "Processing TFRecord files:  17%|█▋        | 251/1444 [00:53<04:49,  4.12it/s]"
     ]
    },
    {
     "name": "stdout",
     "output_type": "stream",
     "text": [
      "Decoded audio embeddings shape: (None, 128)\n"
     ]
    },
    {
     "name": "stderr",
     "output_type": "stream",
     "text": [
      "Processing TFRecord files:  17%|█▋        | 252/1444 [00:53<04:47,  4.14it/s]"
     ]
    },
    {
     "name": "stdout",
     "output_type": "stream",
     "text": [
      "Decoded audio embeddings shape: (None, 128)\n"
     ]
    },
    {
     "name": "stderr",
     "output_type": "stream",
     "text": [
      "Processing TFRecord files:  18%|█▊        | 253/1444 [00:53<04:44,  4.18it/s]"
     ]
    },
    {
     "name": "stdout",
     "output_type": "stream",
     "text": [
      "Decoded audio embeddings shape: (None, 128)\n"
     ]
    },
    {
     "name": "stderr",
     "output_type": "stream",
     "text": [
      "Processing TFRecord files:  18%|█▊        | 254/1444 [00:54<04:32,  4.37it/s]"
     ]
    },
    {
     "name": "stdout",
     "output_type": "stream",
     "text": [
      "Decoded audio embeddings shape: (None, 128)\n",
      "Decoded audio embeddings shape: (None, 128)\n"
     ]
    },
    {
     "name": "stderr",
     "output_type": "stream",
     "text": [
      "Processing TFRecord files:  18%|█▊        | 256/1444 [00:54<05:37,  3.52it/s]"
     ]
    },
    {
     "name": "stdout",
     "output_type": "stream",
     "text": [
      "Decoded audio embeddings shape: (None, 128)\n"
     ]
    },
    {
     "name": "stderr",
     "output_type": "stream",
     "text": [
      "Processing TFRecord files:  18%|█▊        | 257/1444 [00:55<05:45,  3.43it/s]"
     ]
    },
    {
     "name": "stdout",
     "output_type": "stream",
     "text": [
      "Decoded audio embeddings shape: (None, 128)\n"
     ]
    },
    {
     "name": "stderr",
     "output_type": "stream",
     "text": [
      "Processing TFRecord files:  18%|█▊        | 258/1444 [00:55<06:00,  3.29it/s]"
     ]
    },
    {
     "name": "stdout",
     "output_type": "stream",
     "text": [
      "Decoded audio embeddings shape: (None, 128)\n"
     ]
    },
    {
     "name": "stderr",
     "output_type": "stream",
     "text": [
      "Processing TFRecord files:  18%|█▊        | 259/1444 [00:55<05:41,  3.47it/s]"
     ]
    },
    {
     "name": "stdout",
     "output_type": "stream",
     "text": [
      "Decoded audio embeddings shape: (None, 128)\n",
      "Decoded audio embeddings shape: (None, 128)\n"
     ]
    },
    {
     "name": "stderr",
     "output_type": "stream",
     "text": [
      "Processing TFRecord files:  18%|█▊        | 261/1444 [00:56<06:06,  3.23it/s]"
     ]
    },
    {
     "name": "stdout",
     "output_type": "stream",
     "text": [
      "Decoded audio embeddings shape: (None, 128)\n"
     ]
    },
    {
     "name": "stderr",
     "output_type": "stream",
     "text": [
      "Processing TFRecord files:  18%|█▊        | 262/1444 [00:56<05:42,  3.45it/s]"
     ]
    },
    {
     "name": "stdout",
     "output_type": "stream",
     "text": [
      "Decoded audio embeddings shape: (None, 128)\n",
      "Decoded audio embeddings shape: (None, 128)\n"
     ]
    },
    {
     "name": "stderr",
     "output_type": "stream",
     "text": [
      "Processing TFRecord files:  18%|█▊        | 263/1444 [00:56<05:18,  3.71it/s]"
     ]
    },
    {
     "name": "stdout",
     "output_type": "stream",
     "text": [
      "Decoded audio embeddings shape: (None, 128)\n"
     ]
    },
    {
     "name": "stderr",
     "output_type": "stream",
     "text": [
      "Processing TFRecord files:  18%|█▊        | 265/1444 [00:57<05:23,  3.64it/s]"
     ]
    },
    {
     "name": "stdout",
     "output_type": "stream",
     "text": [
      "Decoded audio embeddings shape: (None, 128)\n",
      "Decoded audio embeddings shape: (None, 128)\n"
     ]
    },
    {
     "name": "stderr",
     "output_type": "stream",
     "text": [
      "Processing TFRecord files:  18%|█▊        | 267/1444 [00:57<04:41,  4.17it/s]"
     ]
    },
    {
     "name": "stdout",
     "output_type": "stream",
     "text": [
      "Decoded audio embeddings shape: (None, 128)\n",
      "Decoded audio embeddings shape: (None, 128)\n"
     ]
    },
    {
     "name": "stderr",
     "output_type": "stream",
     "text": [
      "Processing TFRecord files:  19%|█▊        | 268/1444 [00:58<04:32,  4.31it/s]"
     ]
    },
    {
     "name": "stdout",
     "output_type": "stream",
     "text": [
      "Decoded audio embeddings shape: (None, 128)\n"
     ]
    },
    {
     "name": "stderr",
     "output_type": "stream",
     "text": [
      "Processing TFRecord files:  19%|█▊        | 270/1444 [00:58<04:50,  4.04it/s]"
     ]
    },
    {
     "name": "stdout",
     "output_type": "stream",
     "text": [
      "Decoded audio embeddings shape: (None, 128)\n",
      "Decoded audio embeddings shape: (None, 128)\n"
     ]
    },
    {
     "name": "stderr",
     "output_type": "stream",
     "text": [
      "Processing TFRecord files:  19%|█▉        | 272/1444 [00:59<04:34,  4.28it/s]"
     ]
    },
    {
     "name": "stdout",
     "output_type": "stream",
     "text": [
      "Decoded audio embeddings shape: (None, 128)\n"
     ]
    },
    {
     "name": "stderr",
     "output_type": "stream",
     "text": [
      "Processing TFRecord files:  19%|█▉        | 273/1444 [00:59<04:41,  4.16it/s]"
     ]
    },
    {
     "name": "stdout",
     "output_type": "stream",
     "text": [
      "Decoded audio embeddings shape: (None, 128)\n"
     ]
    },
    {
     "name": "stderr",
     "output_type": "stream",
     "text": [
      "Processing TFRecord files:  19%|█▉        | 274/1444 [00:59<04:41,  4.16it/s]"
     ]
    },
    {
     "name": "stdout",
     "output_type": "stream",
     "text": [
      "Decoded audio embeddings shape: (None, 128)\n"
     ]
    },
    {
     "name": "stderr",
     "output_type": "stream",
     "text": [
      "Processing TFRecord files:  19%|█▉        | 275/1444 [01:00<05:40,  3.43it/s]"
     ]
    },
    {
     "name": "stdout",
     "output_type": "stream",
     "text": [
      "Decoded audio embeddings shape: (None, 128)\n"
     ]
    },
    {
     "name": "stderr",
     "output_type": "stream",
     "text": [
      "Processing TFRecord files:  19%|█▉        | 276/1444 [01:00<05:35,  3.48it/s]"
     ]
    },
    {
     "name": "stdout",
     "output_type": "stream",
     "text": [
      "Decoded audio embeddings shape: (None, 128)\n",
      "Decoded audio embeddings shape: (None, 128)\n"
     ]
    },
    {
     "name": "stderr",
     "output_type": "stream",
     "text": [
      "Processing TFRecord files:  19%|█▉        | 278/1444 [01:00<05:27,  3.56it/s]"
     ]
    },
    {
     "name": "stdout",
     "output_type": "stream",
     "text": [
      "Decoded audio embeddings shape: (None, 128)\n"
     ]
    },
    {
     "name": "stderr",
     "output_type": "stream",
     "text": [
      "Processing TFRecord files:  19%|█▉        | 279/1444 [01:01<06:06,  3.18it/s]"
     ]
    },
    {
     "name": "stdout",
     "output_type": "stream",
     "text": [
      "Decoded audio embeddings shape: (None, 128)\n"
     ]
    },
    {
     "name": "stderr",
     "output_type": "stream",
     "text": [
      "Processing TFRecord files:  19%|█▉        | 280/1444 [01:01<05:34,  3.48it/s]"
     ]
    },
    {
     "name": "stdout",
     "output_type": "stream",
     "text": [
      "Decoded audio embeddings shape: (None, 128)\n"
     ]
    },
    {
     "name": "stderr",
     "output_type": "stream",
     "text": [
      "Processing TFRecord files:  19%|█▉        | 281/1444 [01:01<05:21,  3.62it/s]"
     ]
    },
    {
     "name": "stdout",
     "output_type": "stream",
     "text": [
      "Decoded audio embeddings shape: (None, 128)\n"
     ]
    },
    {
     "name": "stderr",
     "output_type": "stream",
     "text": [
      "Processing TFRecord files:  20%|█▉        | 282/1444 [01:01<05:15,  3.68it/s]"
     ]
    },
    {
     "name": "stdout",
     "output_type": "stream",
     "text": [
      "Decoded audio embeddings shape: (None, 128)\n",
      "Decoded audio embeddings shape: (None, 128)\n"
     ]
    },
    {
     "name": "stderr",
     "output_type": "stream",
     "text": [
      "Processing TFRecord files:  20%|█▉        | 284/1444 [01:02<05:27,  3.54it/s]"
     ]
    },
    {
     "name": "stdout",
     "output_type": "stream",
     "text": [
      "Decoded audio embeddings shape: (None, 128)\n"
     ]
    },
    {
     "name": "stderr",
     "output_type": "stream",
     "text": [
      "Processing TFRecord files:  20%|█▉        | 285/1444 [01:02<05:23,  3.59it/s]"
     ]
    },
    {
     "name": "stdout",
     "output_type": "stream",
     "text": [
      "Decoded audio embeddings shape: (None, 128)\n"
     ]
    },
    {
     "name": "stderr",
     "output_type": "stream",
     "text": [
      "Processing TFRecord files:  20%|█▉        | 286/1444 [01:03<05:18,  3.64it/s]"
     ]
    },
    {
     "name": "stdout",
     "output_type": "stream",
     "text": [
      "Decoded audio embeddings shape: (None, 128)\n",
      "Decoded audio embeddings shape: (None, 128)\n"
     ]
    },
    {
     "name": "stderr",
     "output_type": "stream",
     "text": [
      "Processing TFRecord files:  20%|█▉        | 288/1444 [01:03<06:06,  3.16it/s]"
     ]
    },
    {
     "name": "stdout",
     "output_type": "stream",
     "text": [
      "Decoded audio embeddings shape: (None, 128)\n"
     ]
    },
    {
     "name": "stderr",
     "output_type": "stream",
     "text": [
      "Processing TFRecord files:  20%|██        | 289/1444 [01:04<05:34,  3.45it/s]"
     ]
    },
    {
     "name": "stdout",
     "output_type": "stream",
     "text": [
      "Decoded audio embeddings shape: (None, 128)\n"
     ]
    },
    {
     "name": "stderr",
     "output_type": "stream",
     "text": [
      "Processing TFRecord files:  20%|██        | 290/1444 [01:04<05:22,  3.58it/s]"
     ]
    },
    {
     "name": "stdout",
     "output_type": "stream",
     "text": [
      "Decoded audio embeddings shape: (None, 128)\n",
      "Decoded audio embeddings shape: (None, 128)\n"
     ]
    },
    {
     "name": "stderr",
     "output_type": "stream",
     "text": [
      "Processing TFRecord files:  20%|██        | 292/1444 [01:04<05:18,  3.62it/s]"
     ]
    },
    {
     "name": "stdout",
     "output_type": "stream",
     "text": [
      "Decoded audio embeddings shape: (None, 128)\n"
     ]
    },
    {
     "name": "stderr",
     "output_type": "stream",
     "text": [
      "Processing TFRecord files:  20%|██        | 293/1444 [01:05<04:58,  3.86it/s]"
     ]
    },
    {
     "name": "stdout",
     "output_type": "stream",
     "text": [
      "Decoded audio embeddings shape: (None, 128)\n"
     ]
    },
    {
     "name": "stderr",
     "output_type": "stream",
     "text": [
      "Processing TFRecord files:  20%|██        | 294/1444 [01:05<04:50,  3.96it/s]"
     ]
    },
    {
     "name": "stdout",
     "output_type": "stream",
     "text": [
      "Decoded audio embeddings shape: (None, 128)\n",
      "Decoded audio embeddings shape: (None, 128)\n"
     ]
    },
    {
     "name": "stderr",
     "output_type": "stream",
     "text": [
      "Processing TFRecord files:  20%|██        | 296/1444 [01:06<05:29,  3.49it/s]"
     ]
    },
    {
     "name": "stdout",
     "output_type": "stream",
     "text": [
      "Decoded audio embeddings shape: (None, 128)\n"
     ]
    },
    {
     "name": "stderr",
     "output_type": "stream",
     "text": [
      "Processing TFRecord files:  21%|██        | 297/1444 [01:06<05:13,  3.65it/s]"
     ]
    },
    {
     "name": "stdout",
     "output_type": "stream",
     "text": [
      "Decoded audio embeddings shape: (None, 128)\n"
     ]
    },
    {
     "name": "stderr",
     "output_type": "stream",
     "text": [
      "Processing TFRecord files:  21%|██        | 298/1444 [01:06<05:06,  3.74it/s]"
     ]
    },
    {
     "name": "stdout",
     "output_type": "stream",
     "text": [
      "Decoded audio embeddings shape: (None, 128)\n"
     ]
    },
    {
     "name": "stderr",
     "output_type": "stream",
     "text": [
      "Processing TFRecord files:  21%|██        | 299/1444 [01:06<05:04,  3.76it/s]"
     ]
    },
    {
     "name": "stdout",
     "output_type": "stream",
     "text": [
      "Decoded audio embeddings shape: (None, 128)\n"
     ]
    },
    {
     "name": "stderr",
     "output_type": "stream",
     "text": [
      "Processing TFRecord files:  21%|██        | 300/1444 [01:07<05:24,  3.52it/s]"
     ]
    },
    {
     "name": "stdout",
     "output_type": "stream",
     "text": [
      "Decoded audio embeddings shape: (None, 128)\n"
     ]
    },
    {
     "name": "stderr",
     "output_type": "stream",
     "text": [
      "Processing TFRecord files:  21%|██        | 301/1444 [01:07<05:02,  3.78it/s]"
     ]
    },
    {
     "name": "stdout",
     "output_type": "stream",
     "text": [
      "Decoded audio embeddings shape: (None, 128)\n"
     ]
    },
    {
     "name": "stderr",
     "output_type": "stream",
     "text": [
      "Processing TFRecord files:  21%|██        | 302/1444 [01:07<04:43,  4.03it/s]"
     ]
    },
    {
     "name": "stdout",
     "output_type": "stream",
     "text": [
      "Decoded audio embeddings shape: (None, 128)\n",
      "Decoded audio embeddings shape: (None, 128)\n"
     ]
    },
    {
     "name": "stderr",
     "output_type": "stream",
     "text": [
      "Processing TFRecord files:  21%|██        | 303/1444 [01:07<04:28,  4.26it/s]"
     ]
    },
    {
     "name": "stdout",
     "output_type": "stream",
     "text": [
      "Decoded audio embeddings shape: (None, 128)\n"
     ]
    },
    {
     "name": "stderr",
     "output_type": "stream",
     "text": [
      "Processing TFRecord files:  21%|██        | 305/1444 [01:08<04:59,  3.80it/s]"
     ]
    },
    {
     "name": "stdout",
     "output_type": "stream",
     "text": [
      "Decoded audio embeddings shape: (None, 128)\n"
     ]
    },
    {
     "name": "stderr",
     "output_type": "stream",
     "text": [
      "Processing TFRecord files:  21%|██        | 306/1444 [01:08<04:50,  3.92it/s]"
     ]
    },
    {
     "name": "stdout",
     "output_type": "stream",
     "text": [
      "Decoded audio embeddings shape: (None, 128)\n"
     ]
    },
    {
     "name": "stderr",
     "output_type": "stream",
     "text": [
      "Processing TFRecord files:  21%|██▏       | 307/1444 [01:08<04:38,  4.08it/s]"
     ]
    },
    {
     "name": "stdout",
     "output_type": "stream",
     "text": [
      "Decoded audio embeddings shape: (None, 128)\n",
      "Decoded audio embeddings shape: (None, 128)\n"
     ]
    },
    {
     "name": "stderr",
     "output_type": "stream",
     "text": [
      "Processing TFRecord files:  21%|██▏       | 309/1444 [01:09<04:55,  3.84it/s]"
     ]
    },
    {
     "name": "stdout",
     "output_type": "stream",
     "text": [
      "Decoded audio embeddings shape: (None, 128)\n",
      "Decoded audio embeddings shape: (None, 128)\n"
     ]
    },
    {
     "name": "stderr",
     "output_type": "stream",
     "text": [
      "Processing TFRecord files:  22%|██▏       | 311/1444 [01:09<04:15,  4.43it/s]"
     ]
    },
    {
     "name": "stdout",
     "output_type": "stream",
     "text": [
      "Decoded audio embeddings shape: (None, 128)\n",
      "Decoded audio embeddings shape: (None, 128)\n"
     ]
    },
    {
     "name": "stderr",
     "output_type": "stream",
     "text": [
      "Processing TFRecord files:  22%|██▏       | 312/1444 [01:09<03:55,  4.81it/s]"
     ]
    },
    {
     "name": "stdout",
     "output_type": "stream",
     "text": [
      "Decoded audio embeddings shape: (None, 128)\n"
     ]
    },
    {
     "name": "stderr",
     "output_type": "stream",
     "text": [
      "Processing TFRecord files:  22%|██▏       | 314/1444 [01:10<04:21,  4.33it/s]"
     ]
    },
    {
     "name": "stdout",
     "output_type": "stream",
     "text": [
      "Decoded audio embeddings shape: (None, 128)\n",
      "Decoded audio embeddings shape: (None, 128)\n"
     ]
    },
    {
     "name": "stderr",
     "output_type": "stream",
     "text": [
      "Processing TFRecord files:  22%|██▏       | 316/1444 [01:10<03:55,  4.78it/s]"
     ]
    },
    {
     "name": "stdout",
     "output_type": "stream",
     "text": [
      "Decoded audio embeddings shape: (None, 128)\n"
     ]
    },
    {
     "name": "stderr",
     "output_type": "stream",
     "text": [
      "Processing TFRecord files:  22%|██▏       | 317/1444 [01:11<04:00,  4.68it/s]"
     ]
    },
    {
     "name": "stdout",
     "output_type": "stream",
     "text": [
      "Decoded audio embeddings shape: (None, 128)\n"
     ]
    },
    {
     "name": "stderr",
     "output_type": "stream",
     "text": [
      "Processing TFRecord files:  22%|██▏       | 318/1444 [01:11<04:45,  3.94it/s]"
     ]
    },
    {
     "name": "stdout",
     "output_type": "stream",
     "text": [
      "Decoded audio embeddings shape: (None, 128)\n"
     ]
    },
    {
     "name": "stderr",
     "output_type": "stream",
     "text": [
      "Processing TFRecord files:  22%|██▏       | 319/1444 [01:11<04:34,  4.10it/s]"
     ]
    },
    {
     "name": "stdout",
     "output_type": "stream",
     "text": [
      "Decoded audio embeddings shape: (None, 128)\n"
     ]
    },
    {
     "name": "stderr",
     "output_type": "stream",
     "text": [
      "Processing TFRecord files:  22%|██▏       | 320/1444 [01:11<04:24,  4.26it/s]"
     ]
    },
    {
     "name": "stdout",
     "output_type": "stream",
     "text": [
      "Decoded audio embeddings shape: (None, 128)\n",
      "Decoded audio embeddings shape: (None, 128)\n"
     ]
    },
    {
     "name": "stderr",
     "output_type": "stream",
     "text": [
      "Processing TFRecord files:  22%|██▏       | 321/1444 [01:12<04:21,  4.29it/s]"
     ]
    },
    {
     "name": "stdout",
     "output_type": "stream",
     "text": [
      "Decoded audio embeddings shape: (None, 128)\n"
     ]
    },
    {
     "name": "stderr",
     "output_type": "stream",
     "text": [
      "Processing TFRecord files:  22%|██▏       | 323/1444 [01:12<05:09,  3.62it/s]"
     ]
    },
    {
     "name": "stdout",
     "output_type": "stream",
     "text": [
      "Decoded audio embeddings shape: (None, 128)\n"
     ]
    },
    {
     "name": "stderr",
     "output_type": "stream",
     "text": [
      "Processing TFRecord files:  22%|██▏       | 324/1444 [01:12<04:47,  3.90it/s]"
     ]
    },
    {
     "name": "stdout",
     "output_type": "stream",
     "text": [
      "Decoded audio embeddings shape: (None, 128)\n",
      "Decoded audio embeddings shape: (None, 128)\n"
     ]
    },
    {
     "name": "stderr",
     "output_type": "stream",
     "text": [
      "Processing TFRecord files:  23%|██▎       | 326/1444 [01:13<04:13,  4.41it/s]"
     ]
    },
    {
     "name": "stdout",
     "output_type": "stream",
     "text": [
      "Decoded audio embeddings shape: (None, 128)\n"
     ]
    },
    {
     "name": "stderr",
     "output_type": "stream",
     "text": [
      "Processing TFRecord files:  23%|██▎       | 327/1444 [01:13<05:18,  3.51it/s]"
     ]
    },
    {
     "name": "stdout",
     "output_type": "stream",
     "text": [
      "Decoded audio embeddings shape: (None, 128)\n"
     ]
    },
    {
     "name": "stderr",
     "output_type": "stream",
     "text": [
      "Processing TFRecord files:  23%|██▎       | 328/1444 [01:13<04:53,  3.81it/s]"
     ]
    },
    {
     "name": "stdout",
     "output_type": "stream",
     "text": [
      "Decoded audio embeddings shape: (None, 128)\n",
      "Decoded audio embeddings shape: (None, 128)\n"
     ]
    },
    {
     "name": "stderr",
     "output_type": "stream",
     "text": [
      "Processing TFRecord files:  23%|██▎       | 330/1444 [01:14<04:10,  4.44it/s]"
     ]
    },
    {
     "name": "stdout",
     "output_type": "stream",
     "text": [
      "Decoded audio embeddings shape: (None, 128)\n",
      "Decoded audio embeddings shape: (None, 128)\n"
     ]
    },
    {
     "name": "stderr",
     "output_type": "stream",
     "text": [
      "Processing TFRecord files:  23%|██▎       | 332/1444 [01:14<04:57,  3.74it/s]"
     ]
    },
    {
     "name": "stdout",
     "output_type": "stream",
     "text": [
      "Decoded audio embeddings shape: (None, 128)\n"
     ]
    },
    {
     "name": "stderr",
     "output_type": "stream",
     "text": [
      "Processing TFRecord files:  23%|██▎       | 333/1444 [01:15<04:52,  3.79it/s]"
     ]
    },
    {
     "name": "stdout",
     "output_type": "stream",
     "text": [
      "Decoded audio embeddings shape: (None, 128)\n"
     ]
    },
    {
     "name": "stderr",
     "output_type": "stream",
     "text": [
      "Processing TFRecord files:  23%|██▎       | 334/1444 [01:15<04:46,  3.88it/s]"
     ]
    },
    {
     "name": "stdout",
     "output_type": "stream",
     "text": [
      "Decoded audio embeddings shape: (None, 128)\n"
     ]
    },
    {
     "name": "stderr",
     "output_type": "stream",
     "text": [
      "Processing TFRecord files:  23%|██▎       | 335/1444 [01:15<04:27,  4.15it/s]"
     ]
    },
    {
     "name": "stdout",
     "output_type": "stream",
     "text": [
      "Decoded audio embeddings shape: (None, 128)\n"
     ]
    },
    {
     "name": "stderr",
     "output_type": "stream",
     "text": [
      "Processing TFRecord files:  23%|██▎       | 336/1444 [01:15<04:25,  4.18it/s]"
     ]
    },
    {
     "name": "stdout",
     "output_type": "stream",
     "text": [
      "Decoded audio embeddings shape: (None, 128)\n"
     ]
    },
    {
     "name": "stderr",
     "output_type": "stream",
     "text": [
      "Processing TFRecord files:  23%|██▎       | 337/1444 [01:16<04:46,  3.86it/s]"
     ]
    },
    {
     "name": "stdout",
     "output_type": "stream",
     "text": [
      "Decoded audio embeddings shape: (None, 128)\n",
      "Decoded audio embeddings shape: (None, 128)\n"
     ]
    },
    {
     "name": "stderr",
     "output_type": "stream",
     "text": [
      "Processing TFRecord files:  23%|██▎       | 339/1444 [01:16<04:16,  4.31it/s]"
     ]
    },
    {
     "name": "stdout",
     "output_type": "stream",
     "text": [
      "Decoded audio embeddings shape: (None, 128)\n",
      "Decoded audio embeddings shape: (None, 128)\n"
     ]
    },
    {
     "name": "stderr",
     "output_type": "stream",
     "text": [
      "Processing TFRecord files:  24%|██▎       | 341/1444 [01:16<04:10,  4.40it/s]"
     ]
    },
    {
     "name": "stdout",
     "output_type": "stream",
     "text": [
      "Decoded audio embeddings shape: (None, 128)\n",
      "Decoded audio embeddings shape: (None, 128)\n"
     ]
    },
    {
     "name": "stderr",
     "output_type": "stream",
     "text": [
      "Processing TFRecord files:  24%|██▍       | 343/1444 [01:17<04:31,  4.06it/s]"
     ]
    },
    {
     "name": "stdout",
     "output_type": "stream",
     "text": [
      "Decoded audio embeddings shape: (None, 128)\n"
     ]
    },
    {
     "name": "stderr",
     "output_type": "stream",
     "text": [
      "Processing TFRecord files:  24%|██▍       | 344/1444 [01:17<04:15,  4.30it/s]"
     ]
    },
    {
     "name": "stdout",
     "output_type": "stream",
     "text": [
      "Decoded audio embeddings shape: (None, 128)\n",
      "Decoded audio embeddings shape: (None, 128)\n"
     ]
    },
    {
     "name": "stderr",
     "output_type": "stream",
     "text": [
      "Processing TFRecord files:  24%|██▍       | 346/1444 [01:18<03:52,  4.73it/s]"
     ]
    },
    {
     "name": "stdout",
     "output_type": "stream",
     "text": [
      "Decoded audio embeddings shape: (None, 128)\n",
      "Decoded audio embeddings shape: (None, 128)\n"
     ]
    },
    {
     "name": "stderr",
     "output_type": "stream",
     "text": [
      "Processing TFRecord files:  24%|██▍       | 348/1444 [01:18<04:10,  4.38it/s]"
     ]
    },
    {
     "name": "stdout",
     "output_type": "stream",
     "text": [
      "Decoded audio embeddings shape: (None, 128)\n",
      "Decoded audio embeddings shape: (None, 128)\n"
     ]
    },
    {
     "name": "stderr",
     "output_type": "stream",
     "text": [
      "Processing TFRecord files:  24%|██▍       | 350/1444 [01:19<03:52,  4.70it/s]"
     ]
    },
    {
     "name": "stdout",
     "output_type": "stream",
     "text": [
      "Decoded audio embeddings shape: (None, 128)\n",
      "Decoded audio embeddings shape: (None, 128)\n"
     ]
    },
    {
     "name": "stderr",
     "output_type": "stream",
     "text": [
      "Processing TFRecord files:  24%|██▍       | 351/1444 [01:19<03:40,  4.97it/s]"
     ]
    },
    {
     "name": "stdout",
     "output_type": "stream",
     "text": [
      "Decoded audio embeddings shape: (None, 128)\n"
     ]
    },
    {
     "name": "stderr",
     "output_type": "stream",
     "text": [
      "Processing TFRecord files:  24%|██▍       | 353/1444 [01:19<04:15,  4.27it/s]"
     ]
    },
    {
     "name": "stdout",
     "output_type": "stream",
     "text": [
      "Decoded audio embeddings shape: (None, 128)\n"
     ]
    },
    {
     "name": "stderr",
     "output_type": "stream",
     "text": [
      "Processing TFRecord files:  25%|██▍       | 354/1444 [01:19<04:11,  4.34it/s]"
     ]
    },
    {
     "name": "stdout",
     "output_type": "stream",
     "text": [
      "Decoded audio embeddings shape: (None, 128)\n",
      "Decoded audio embeddings shape: (None, 128)\n"
     ]
    },
    {
     "name": "stderr",
     "output_type": "stream",
     "text": [
      "Processing TFRecord files:  25%|██▍       | 356/1444 [01:20<03:50,  4.71it/s]"
     ]
    },
    {
     "name": "stdout",
     "output_type": "stream",
     "text": [
      "Decoded audio embeddings shape: (None, 128)\n"
     ]
    },
    {
     "name": "stderr",
     "output_type": "stream",
     "text": [
      "Processing TFRecord files:  25%|██▍       | 357/1444 [01:20<04:22,  4.13it/s]"
     ]
    },
    {
     "name": "stdout",
     "output_type": "stream",
     "text": [
      "Decoded audio embeddings shape: (None, 128)\n"
     ]
    },
    {
     "name": "stderr",
     "output_type": "stream",
     "text": [
      "Processing TFRecord files:  25%|██▍       | 358/1444 [01:20<04:17,  4.22it/s]"
     ]
    },
    {
     "name": "stdout",
     "output_type": "stream",
     "text": [
      "Decoded audio embeddings shape: (None, 128)\n",
      "Decoded audio embeddings shape: (None, 128)\n"
     ]
    },
    {
     "name": "stderr",
     "output_type": "stream",
     "text": [
      "Processing TFRecord files:  25%|██▍       | 360/1444 [01:21<04:02,  4.48it/s]"
     ]
    },
    {
     "name": "stdout",
     "output_type": "stream",
     "text": [
      "Decoded audio embeddings shape: (None, 128)\n",
      "Decoded audio embeddings shape: (None, 128)\n"
     ]
    },
    {
     "name": "stderr",
     "output_type": "stream",
     "text": [
      "Processing TFRecord files:  25%|██▌       | 361/1444 [01:21<03:58,  4.54it/s]"
     ]
    },
    {
     "name": "stdout",
     "output_type": "stream",
     "text": [
      "Decoded audio embeddings shape: (None, 128)\n"
     ]
    },
    {
     "name": "stderr",
     "output_type": "stream",
     "text": [
      "Processing TFRecord files:  25%|██▌       | 363/1444 [01:22<04:44,  3.79it/s]"
     ]
    },
    {
     "name": "stdout",
     "output_type": "stream",
     "text": [
      "Decoded audio embeddings shape: (None, 128)\n"
     ]
    },
    {
     "name": "stderr",
     "output_type": "stream",
     "text": [
      "Processing TFRecord files:  25%|██▌       | 364/1444 [01:22<04:17,  4.19it/s]"
     ]
    },
    {
     "name": "stdout",
     "output_type": "stream",
     "text": [
      "Decoded audio embeddings shape: (None, 128)\n",
      "Decoded audio embeddings shape: (None, 128)\n"
     ]
    },
    {
     "name": "stderr",
     "output_type": "stream",
     "text": [
      "Processing TFRecord files:  25%|██▌       | 365/1444 [01:22<03:58,  4.53it/s]"
     ]
    },
    {
     "name": "stdout",
     "output_type": "stream",
     "text": [
      "Decoded audio embeddings shape: (None, 128)\n"
     ]
    },
    {
     "name": "stderr",
     "output_type": "stream",
     "text": [
      "Processing TFRecord files:  25%|██▌       | 367/1444 [01:23<04:09,  4.32it/s]"
     ]
    },
    {
     "name": "stdout",
     "output_type": "stream",
     "text": [
      "Decoded audio embeddings shape: (None, 128)\n",
      "Decoded audio embeddings shape: (None, 128)\n"
     ]
    },
    {
     "name": "stderr",
     "output_type": "stream",
     "text": [
      "Processing TFRecord files:  26%|██▌       | 369/1444 [01:23<03:46,  4.75it/s]"
     ]
    },
    {
     "name": "stdout",
     "output_type": "stream",
     "text": [
      "Decoded audio embeddings shape: (None, 128)\n",
      "Decoded audio embeddings shape: (None, 128)\n"
     ]
    },
    {
     "name": "stderr",
     "output_type": "stream",
     "text": [
      "Processing TFRecord files:  26%|██▌       | 370/1444 [01:23<03:41,  4.85it/s]"
     ]
    },
    {
     "name": "stdout",
     "output_type": "stream",
     "text": [
      "Decoded audio embeddings shape: (None, 128)\n"
     ]
    },
    {
     "name": "stderr",
     "output_type": "stream",
     "text": [
      "Processing TFRecord files:  26%|██▌       | 372/1444 [01:24<04:00,  4.46it/s]"
     ]
    },
    {
     "name": "stdout",
     "output_type": "stream",
     "text": [
      "Decoded audio embeddings shape: (None, 128)\n",
      "Decoded audio embeddings shape: (None, 128)\n"
     ]
    },
    {
     "name": "stderr",
     "output_type": "stream",
     "text": [
      "Processing TFRecord files:  26%|██▌       | 374/1444 [01:24<03:40,  4.85it/s]"
     ]
    },
    {
     "name": "stdout",
     "output_type": "stream",
     "text": [
      "Decoded audio embeddings shape: (None, 128)\n"
     ]
    },
    {
     "name": "stderr",
     "output_type": "stream",
     "text": [
      "Processing TFRecord files:  26%|██▌       | 375/1444 [01:24<03:45,  4.75it/s]"
     ]
    },
    {
     "name": "stdout",
     "output_type": "stream",
     "text": [
      "Decoded audio embeddings shape: (None, 128)\n",
      "Decoded audio embeddings shape: (None, 128)\n"
     ]
    },
    {
     "name": "stderr",
     "output_type": "stream",
     "text": [
      "Processing TFRecord files:  26%|██▌       | 377/1444 [01:25<03:52,  4.58it/s]"
     ]
    },
    {
     "name": "stdout",
     "output_type": "stream",
     "text": [
      "Decoded audio embeddings shape: (None, 128)\n",
      "Decoded audio embeddings shape: (None, 128)\n"
     ]
    },
    {
     "name": "stderr",
     "output_type": "stream",
     "text": [
      "Processing TFRecord files:  26%|██▌       | 379/1444 [01:25<03:40,  4.84it/s]"
     ]
    },
    {
     "name": "stdout",
     "output_type": "stream",
     "text": [
      "Decoded audio embeddings shape: (None, 128)\n",
      "Decoded audio embeddings shape: (None, 128)\n"
     ]
    },
    {
     "name": "stderr",
     "output_type": "stream",
     "text": [
      "Processing TFRecord files:  26%|██▋       | 380/1444 [01:25<03:37,  4.88it/s]"
     ]
    },
    {
     "name": "stdout",
     "output_type": "stream",
     "text": [
      "Decoded audio embeddings shape: (None, 128)\n"
     ]
    },
    {
     "name": "stderr",
     "output_type": "stream",
     "text": [
      "Processing TFRecord files:  26%|██▋       | 382/1444 [01:26<04:03,  4.37it/s]"
     ]
    },
    {
     "name": "stdout",
     "output_type": "stream",
     "text": [
      "Decoded audio embeddings shape: (None, 128)\n",
      "Decoded audio embeddings shape: (None, 128)\n"
     ]
    },
    {
     "name": "stderr",
     "output_type": "stream",
     "text": [
      "Processing TFRecord files:  27%|██▋       | 384/1444 [01:26<03:39,  4.82it/s]"
     ]
    },
    {
     "name": "stdout",
     "output_type": "stream",
     "text": [
      "Decoded audio embeddings shape: (None, 128)\n",
      "Decoded audio embeddings shape: (None, 128)\n"
     ]
    },
    {
     "name": "stderr",
     "output_type": "stream",
     "text": [
      "Processing TFRecord files:  27%|██▋       | 385/1444 [01:26<03:31,  5.00it/s]"
     ]
    },
    {
     "name": "stdout",
     "output_type": "stream",
     "text": [
      "Decoded audio embeddings shape: (None, 128)\n"
     ]
    },
    {
     "name": "stderr",
     "output_type": "stream",
     "text": [
      "Processing TFRecord files:  27%|██▋       | 387/1444 [01:27<04:04,  4.33it/s]"
     ]
    },
    {
     "name": "stdout",
     "output_type": "stream",
     "text": [
      "Decoded audio embeddings shape: (None, 128)\n",
      "Decoded audio embeddings shape: (None, 128)\n"
     ]
    },
    {
     "name": "stderr",
     "output_type": "stream",
     "text": [
      "Processing TFRecord files:  27%|██▋       | 389/1444 [01:27<03:37,  4.85it/s]"
     ]
    },
    {
     "name": "stdout",
     "output_type": "stream",
     "text": [
      "Decoded audio embeddings shape: (None, 128)\n"
     ]
    },
    {
     "name": "stderr",
     "output_type": "stream",
     "text": [
      "Processing TFRecord files:  27%|██▋       | 390/1444 [01:27<03:56,  4.45it/s]"
     ]
    },
    {
     "name": "stdout",
     "output_type": "stream",
     "text": [
      "Decoded audio embeddings shape: (None, 128)\n"
     ]
    },
    {
     "name": "stderr",
     "output_type": "stream",
     "text": [
      "Processing TFRecord files:  27%|██▋       | 391/1444 [01:28<03:43,  4.71it/s]"
     ]
    },
    {
     "name": "stdout",
     "output_type": "stream",
     "text": [
      "Decoded audio embeddings shape: (None, 128)\n",
      "Decoded audio embeddings shape: (None, 128)\n"
     ]
    },
    {
     "name": "stderr",
     "output_type": "stream",
     "text": [
      "Processing TFRecord files:  27%|██▋       | 393/1444 [01:28<03:28,  5.04it/s]"
     ]
    },
    {
     "name": "stdout",
     "output_type": "stream",
     "text": [
      "Decoded audio embeddings shape: (None, 128)\n"
     ]
    },
    {
     "name": "stderr",
     "output_type": "stream",
     "text": [
      "Processing TFRecord files:  27%|██▋       | 394/1444 [01:28<03:56,  4.45it/s]"
     ]
    },
    {
     "name": "stdout",
     "output_type": "stream",
     "text": [
      "Decoded audio embeddings shape: (None, 128)\n"
     ]
    },
    {
     "name": "stderr",
     "output_type": "stream",
     "text": [
      "Processing TFRecord files:  27%|██▋       | 395/1444 [01:29<04:04,  4.29it/s]"
     ]
    },
    {
     "name": "stdout",
     "output_type": "stream",
     "text": [
      "Decoded audio embeddings shape: (None, 128)\n",
      "Decoded audio embeddings shape: (None, 128)\n"
     ]
    },
    {
     "name": "stderr",
     "output_type": "stream",
     "text": [
      "Processing TFRecord files:  27%|██▋       | 397/1444 [01:29<03:46,  4.63it/s]"
     ]
    },
    {
     "name": "stdout",
     "output_type": "stream",
     "text": [
      "Decoded audio embeddings shape: (None, 128)\n"
     ]
    },
    {
     "name": "stderr",
     "output_type": "stream",
     "text": [
      "Processing TFRecord files:  28%|██▊       | 398/1444 [01:29<03:51,  4.53it/s]"
     ]
    },
    {
     "name": "stdout",
     "output_type": "stream",
     "text": [
      "Decoded audio embeddings shape: (None, 128)\n"
     ]
    },
    {
     "name": "stderr",
     "output_type": "stream",
     "text": [
      "Processing TFRecord files:  28%|██▊       | 399/1444 [01:30<04:31,  3.84it/s]"
     ]
    },
    {
     "name": "stdout",
     "output_type": "stream",
     "text": [
      "Decoded audio embeddings shape: (None, 128)\n",
      "Decoded audio embeddings shape: (None, 128)\n"
     ]
    },
    {
     "name": "stderr",
     "output_type": "stream",
     "text": [
      "Processing TFRecord files:  28%|██▊       | 401/1444 [01:30<03:45,  4.62it/s]"
     ]
    },
    {
     "name": "stdout",
     "output_type": "stream",
     "text": [
      "Decoded audio embeddings shape: (None, 128)\n",
      "Decoded audio embeddings shape: (None, 128)\n"
     ]
    },
    {
     "name": "stderr",
     "output_type": "stream",
     "text": [
      "Processing TFRecord files:  28%|██▊       | 402/1444 [01:30<03:25,  5.06it/s]"
     ]
    },
    {
     "name": "stdout",
     "output_type": "stream",
     "text": [
      "Decoded audio embeddings shape: (None, 128)\n"
     ]
    },
    {
     "name": "stderr",
     "output_type": "stream",
     "text": [
      "Processing TFRecord files:  28%|██▊       | 404/1444 [01:31<03:42,  4.67it/s]"
     ]
    },
    {
     "name": "stdout",
     "output_type": "stream",
     "text": [
      "Decoded audio embeddings shape: (None, 128)\n",
      "Decoded audio embeddings shape: (None, 128)\n"
     ]
    },
    {
     "name": "stderr",
     "output_type": "stream",
     "text": [
      "Processing TFRecord files:  28%|██▊       | 406/1444 [01:31<03:24,  5.08it/s]"
     ]
    },
    {
     "name": "stdout",
     "output_type": "stream",
     "text": [
      "Decoded audio embeddings shape: (None, 128)\n",
      "Decoded audio embeddings shape: (None, 128)\n"
     ]
    },
    {
     "name": "stderr",
     "output_type": "stream",
     "text": [
      "Processing TFRecord files:  28%|██▊       | 408/1444 [01:31<03:26,  5.01it/s]"
     ]
    },
    {
     "name": "stdout",
     "output_type": "stream",
     "text": [
      "Decoded audio embeddings shape: (None, 128)\n"
     ]
    },
    {
     "name": "stderr",
     "output_type": "stream",
     "text": [
      "Processing TFRecord files:  28%|██▊       | 409/1444 [01:32<03:47,  4.54it/s]"
     ]
    },
    {
     "name": "stdout",
     "output_type": "stream",
     "text": [
      "Decoded audio embeddings shape: (None, 128)\n"
     ]
    },
    {
     "name": "stderr",
     "output_type": "stream",
     "text": [
      "Processing TFRecord files:  28%|██▊       | 410/1444 [01:32<03:51,  4.46it/s]"
     ]
    },
    {
     "name": "stdout",
     "output_type": "stream",
     "text": [
      "Decoded audio embeddings shape: (None, 128)\n"
     ]
    },
    {
     "name": "stderr",
     "output_type": "stream",
     "text": [
      "Processing TFRecord files:  28%|██▊       | 411/1444 [01:32<03:45,  4.58it/s]"
     ]
    },
    {
     "name": "stdout",
     "output_type": "stream",
     "text": [
      "Decoded audio embeddings shape: (None, 128)\n",
      "Decoded audio embeddings shape: (None, 128)\n"
     ]
    },
    {
     "name": "stderr",
     "output_type": "stream",
     "text": [
      "Processing TFRecord files:  29%|██▊       | 413/1444 [01:33<04:26,  3.86it/s]"
     ]
    },
    {
     "name": "stdout",
     "output_type": "stream",
     "text": [
      "Decoded audio embeddings shape: (None, 128)\n",
      "Decoded audio embeddings shape: (None, 128)\n"
     ]
    },
    {
     "name": "stderr",
     "output_type": "stream",
     "text": [
      "Processing TFRecord files:  29%|██▊       | 415/1444 [01:33<04:06,  4.17it/s]"
     ]
    },
    {
     "name": "stdout",
     "output_type": "stream",
     "text": [
      "Decoded audio embeddings shape: (None, 128)\n",
      "Decoded audio embeddings shape: (None, 128)\n"
     ]
    },
    {
     "name": "stderr",
     "output_type": "stream",
     "text": [
      "Processing TFRecord files:  29%|██▉       | 417/1444 [01:34<04:08,  4.14it/s]"
     ]
    },
    {
     "name": "stdout",
     "output_type": "stream",
     "text": [
      "Decoded audio embeddings shape: (None, 128)\n",
      "Decoded audio embeddings shape: (None, 128)\n"
     ]
    },
    {
     "name": "stderr",
     "output_type": "stream",
     "text": [
      "Processing TFRecord files:  29%|██▉       | 419/1444 [01:34<03:34,  4.78it/s]"
     ]
    },
    {
     "name": "stdout",
     "output_type": "stream",
     "text": [
      "Decoded audio embeddings shape: (None, 128)\n",
      "Decoded audio embeddings shape: (None, 128)\n"
     ]
    },
    {
     "name": "stderr",
     "output_type": "stream",
     "text": [
      "Processing TFRecord files:  29%|██▉       | 421/1444 [01:34<03:42,  4.60it/s]"
     ]
    },
    {
     "name": "stdout",
     "output_type": "stream",
     "text": [
      "Decoded audio embeddings shape: (None, 128)\n"
     ]
    },
    {
     "name": "stderr",
     "output_type": "stream",
     "text": [
      "Processing TFRecord files:  29%|██▉       | 422/1444 [01:35<03:43,  4.58it/s]"
     ]
    },
    {
     "name": "stdout",
     "output_type": "stream",
     "text": [
      "Decoded audio embeddings shape: (None, 128)\n",
      "Decoded audio embeddings shape: (None, 128)\n"
     ]
    },
    {
     "name": "stderr",
     "output_type": "stream",
     "text": [
      "Processing TFRecord files:  29%|██▉       | 424/1444 [01:35<03:22,  5.04it/s]"
     ]
    },
    {
     "name": "stdout",
     "output_type": "stream",
     "text": [
      "Decoded audio embeddings shape: (None, 128)\n",
      "Decoded audio embeddings shape: (None, 128)\n"
     ]
    },
    {
     "name": "stderr",
     "output_type": "stream",
     "text": [
      "Processing TFRecord files:  30%|██▉       | 426/1444 [01:35<03:12,  5.30it/s]"
     ]
    },
    {
     "name": "stdout",
     "output_type": "stream",
     "text": [
      "Decoded audio embeddings shape: (None, 128)\n"
     ]
    },
    {
     "name": "stderr",
     "output_type": "stream",
     "text": [
      "Processing TFRecord files:  30%|██▉       | 427/1444 [01:36<03:42,  4.57it/s]"
     ]
    },
    {
     "name": "stdout",
     "output_type": "stream",
     "text": [
      "Decoded audio embeddings shape: (None, 128)\n"
     ]
    },
    {
     "name": "stderr",
     "output_type": "stream",
     "text": [
      "Processing TFRecord files:  30%|██▉       | 428/1444 [01:36<03:34,  4.73it/s]"
     ]
    },
    {
     "name": "stdout",
     "output_type": "stream",
     "text": [
      "Decoded audio embeddings shape: (None, 128)\n",
      "Decoded audio embeddings shape: (None, 128)\n"
     ]
    },
    {
     "name": "stderr",
     "output_type": "stream",
     "text": [
      "Processing TFRecord files:  30%|██▉       | 430/1444 [01:36<03:13,  5.23it/s]"
     ]
    },
    {
     "name": "stdout",
     "output_type": "stream",
     "text": [
      "Decoded audio embeddings shape: (None, 128)\n",
      "Decoded audio embeddings shape: (None, 128)\n"
     ]
    },
    {
     "name": "stderr",
     "output_type": "stream",
     "text": [
      "Processing TFRecord files:  30%|██▉       | 432/1444 [01:37<03:32,  4.77it/s]"
     ]
    },
    {
     "name": "stdout",
     "output_type": "stream",
     "text": [
      "Decoded audio embeddings shape: (None, 128)\n",
      "Decoded audio embeddings shape: (None, 128)\n"
     ]
    },
    {
     "name": "stderr",
     "output_type": "stream",
     "text": [
      "Processing TFRecord files:  30%|███       | 434/1444 [01:37<03:18,  5.09it/s]"
     ]
    },
    {
     "name": "stdout",
     "output_type": "stream",
     "text": [
      "Decoded audio embeddings shape: (None, 128)\n",
      "Decoded audio embeddings shape: (None, 128)\n"
     ]
    },
    {
     "name": "stderr",
     "output_type": "stream",
     "text": [
      "Processing TFRecord files:  30%|███       | 436/1444 [01:37<03:47,  4.43it/s]"
     ]
    },
    {
     "name": "stdout",
     "output_type": "stream",
     "text": [
      "Decoded audio embeddings shape: (None, 128)\n",
      "Decoded audio embeddings shape: (None, 128)\n"
     ]
    },
    {
     "name": "stderr",
     "output_type": "stream",
     "text": [
      "Processing TFRecord files:  30%|███       | 438/1444 [01:38<03:50,  4.36it/s]"
     ]
    },
    {
     "name": "stdout",
     "output_type": "stream",
     "text": [
      "Decoded audio embeddings shape: (None, 128)\n"
     ]
    },
    {
     "name": "stderr",
     "output_type": "stream",
     "text": [
      "Processing TFRecord files:  30%|███       | 439/1444 [01:38<04:13,  3.96it/s]"
     ]
    },
    {
     "name": "stdout",
     "output_type": "stream",
     "text": [
      "Decoded audio embeddings shape: (None, 128)\n",
      "Decoded audio embeddings shape: (None, 128)\n"
     ]
    },
    {
     "name": "stderr",
     "output_type": "stream",
     "text": [
      "Processing TFRecord files:  31%|███       | 441/1444 [01:39<04:25,  3.78it/s]"
     ]
    },
    {
     "name": "stdout",
     "output_type": "stream",
     "text": [
      "Decoded audio embeddings shape: (None, 128)\n",
      "Decoded audio embeddings shape: (None, 128)\n"
     ]
    },
    {
     "name": "stderr",
     "output_type": "stream",
     "text": [
      "Processing TFRecord files:  31%|███       | 443/1444 [01:39<03:29,  4.79it/s]"
     ]
    },
    {
     "name": "stdout",
     "output_type": "stream",
     "text": [
      "Decoded audio embeddings shape: (None, 128)\n",
      "Decoded audio embeddings shape: (None, 128)\n"
     ]
    },
    {
     "name": "stderr",
     "output_type": "stream",
     "text": [
      "Processing TFRecord files:  31%|███       | 445/1444 [01:39<03:23,  4.91it/s]"
     ]
    },
    {
     "name": "stdout",
     "output_type": "stream",
     "text": [
      "Decoded audio embeddings shape: (None, 128)\n"
     ]
    },
    {
     "name": "stderr",
     "output_type": "stream",
     "text": [
      "Processing TFRecord files:  31%|███       | 446/1444 [01:40<03:16,  5.09it/s]"
     ]
    },
    {
     "name": "stdout",
     "output_type": "stream",
     "text": [
      "Decoded audio embeddings shape: (None, 128)\n",
      "Decoded audio embeddings shape: (None, 128)\n"
     ]
    },
    {
     "name": "stderr",
     "output_type": "stream",
     "text": [
      "Processing TFRecord files:  31%|███       | 448/1444 [01:40<03:15,  5.09it/s]"
     ]
    },
    {
     "name": "stdout",
     "output_type": "stream",
     "text": [
      "Decoded audio embeddings shape: (None, 128)\n",
      "Decoded audio embeddings shape: (None, 128)\n"
     ]
    },
    {
     "name": "stderr",
     "output_type": "stream",
     "text": [
      "Processing TFRecord files:  31%|███       | 450/1444 [01:40<03:19,  4.99it/s]"
     ]
    },
    {
     "name": "stdout",
     "output_type": "stream",
     "text": [
      "Decoded audio embeddings shape: (None, 128)\n"
     ]
    },
    {
     "name": "stderr",
     "output_type": "stream",
     "text": [
      "Processing TFRecord files:  31%|███       | 451/1444 [01:41<03:06,  5.34it/s]"
     ]
    },
    {
     "name": "stdout",
     "output_type": "stream",
     "text": [
      "Decoded audio embeddings shape: (None, 128)\n",
      "Decoded audio embeddings shape: (None, 128)\n"
     ]
    },
    {
     "name": "stderr",
     "output_type": "stream",
     "text": [
      "Processing TFRecord files:  31%|███▏      | 453/1444 [01:41<02:54,  5.66it/s]"
     ]
    },
    {
     "name": "stdout",
     "output_type": "stream",
     "text": [
      "Decoded audio embeddings shape: (None, 128)\n",
      "Decoded audio embeddings shape: (None, 128)\n"
     ]
    },
    {
     "name": "stderr",
     "output_type": "stream",
     "text": [
      "Processing TFRecord files:  32%|███▏      | 455/1444 [01:41<03:05,  5.34it/s]"
     ]
    },
    {
     "name": "stdout",
     "output_type": "stream",
     "text": [
      "Decoded audio embeddings shape: (None, 128)\n"
     ]
    },
    {
     "name": "stderr",
     "output_type": "stream",
     "text": [
      "Processing TFRecord files:  32%|███▏      | 456/1444 [01:41<02:56,  5.61it/s]"
     ]
    },
    {
     "name": "stdout",
     "output_type": "stream",
     "text": [
      "Decoded audio embeddings shape: (None, 128)\n",
      "Decoded audio embeddings shape: (None, 128)\n"
     ]
    },
    {
     "name": "stderr",
     "output_type": "stream",
     "text": [
      "Processing TFRecord files:  32%|███▏      | 458/1444 [01:42<02:48,  5.86it/s]"
     ]
    },
    {
     "name": "stdout",
     "output_type": "stream",
     "text": [
      "Decoded audio embeddings shape: (None, 128)\n",
      "Decoded audio embeddings shape: (None, 128)\n"
     ]
    },
    {
     "name": "stderr",
     "output_type": "stream",
     "text": [
      "Processing TFRecord files:  32%|███▏      | 460/1444 [01:42<02:56,  5.57it/s]"
     ]
    },
    {
     "name": "stdout",
     "output_type": "stream",
     "text": [
      "Decoded audio embeddings shape: (None, 128)\n"
     ]
    },
    {
     "name": "stderr",
     "output_type": "stream",
     "text": [
      "Processing TFRecord files:  32%|███▏      | 461/1444 [01:42<02:57,  5.54it/s]"
     ]
    },
    {
     "name": "stdout",
     "output_type": "stream",
     "text": [
      "Decoded audio embeddings shape: (None, 128)\n",
      "Decoded audio embeddings shape: (None, 128)\n"
     ]
    },
    {
     "name": "stderr",
     "output_type": "stream",
     "text": [
      "Processing TFRecord files:  32%|███▏      | 463/1444 [01:43<02:53,  5.66it/s]"
     ]
    },
    {
     "name": "stdout",
     "output_type": "stream",
     "text": [
      "Decoded audio embeddings shape: (None, 128)\n",
      "Decoded audio embeddings shape: (None, 128)\n"
     ]
    },
    {
     "name": "stderr",
     "output_type": "stream",
     "text": [
      "Processing TFRecord files:  32%|███▏      | 465/1444 [01:43<03:05,  5.28it/s]"
     ]
    },
    {
     "name": "stdout",
     "output_type": "stream",
     "text": [
      "Decoded audio embeddings shape: (None, 128)\n",
      "Decoded audio embeddings shape: (None, 128)\n"
     ]
    },
    {
     "name": "stderr",
     "output_type": "stream",
     "text": [
      "Processing TFRecord files:  32%|███▏      | 467/1444 [01:44<03:56,  4.13it/s]"
     ]
    },
    {
     "name": "stdout",
     "output_type": "stream",
     "text": [
      "Decoded audio embeddings shape: (None, 128)\n",
      "Decoded audio embeddings shape: (None, 128)\n"
     ]
    },
    {
     "name": "stderr",
     "output_type": "stream",
     "text": [
      "Processing TFRecord files:  32%|███▏      | 469/1444 [01:44<03:32,  4.59it/s]"
     ]
    },
    {
     "name": "stdout",
     "output_type": "stream",
     "text": [
      "Decoded audio embeddings shape: (None, 128)\n"
     ]
    },
    {
     "name": "stderr",
     "output_type": "stream",
     "text": [
      "Processing TFRecord files:  33%|███▎      | 470/1444 [01:44<03:19,  4.88it/s]"
     ]
    },
    {
     "name": "stdout",
     "output_type": "stream",
     "text": [
      "Decoded audio embeddings shape: (None, 128)\n",
      "Decoded audio embeddings shape: (None, 128)\n"
     ]
    },
    {
     "name": "stderr",
     "output_type": "stream",
     "text": [
      "Processing TFRecord files:  33%|███▎      | 472/1444 [01:45<02:55,  5.54it/s]"
     ]
    },
    {
     "name": "stdout",
     "output_type": "stream",
     "text": [
      "Decoded audio embeddings shape: (None, 128)\n",
      "Decoded audio embeddings shape: (None, 128)\n"
     ]
    },
    {
     "name": "stderr",
     "output_type": "stream",
     "text": [
      "Processing TFRecord files:  33%|███▎      | 474/1444 [01:45<03:07,  5.18it/s]"
     ]
    },
    {
     "name": "stdout",
     "output_type": "stream",
     "text": [
      "Decoded audio embeddings shape: (None, 128)\n"
     ]
    },
    {
     "name": "stderr",
     "output_type": "stream",
     "text": [
      "Processing TFRecord files:  33%|███▎      | 475/1444 [01:45<03:04,  5.25it/s]"
     ]
    },
    {
     "name": "stdout",
     "output_type": "stream",
     "text": [
      "Decoded audio embeddings shape: (None, 128)\n",
      "Decoded audio embeddings shape: (None, 128)\n"
     ]
    },
    {
     "name": "stderr",
     "output_type": "stream",
     "text": [
      "Processing TFRecord files:  33%|███▎      | 477/1444 [01:45<02:51,  5.65it/s]"
     ]
    },
    {
     "name": "stdout",
     "output_type": "stream",
     "text": [
      "Decoded audio embeddings shape: (None, 128)\n",
      "Decoded audio embeddings shape: (None, 128)\n"
     ]
    },
    {
     "name": "stderr",
     "output_type": "stream",
     "text": [
      "Processing TFRecord files:  33%|███▎      | 479/1444 [01:46<03:00,  5.34it/s]"
     ]
    },
    {
     "name": "stdout",
     "output_type": "stream",
     "text": [
      "Decoded audio embeddings shape: (None, 128)\n",
      "Decoded audio embeddings shape: (None, 128)\n"
     ]
    },
    {
     "name": "stderr",
     "output_type": "stream",
     "text": [
      "Processing TFRecord files:  33%|███▎      | 481/1444 [01:46<02:45,  5.81it/s]"
     ]
    },
    {
     "name": "stdout",
     "output_type": "stream",
     "text": [
      "Decoded audio embeddings shape: (None, 128)\n",
      "Decoded audio embeddings shape: (None, 128)\n"
     ]
    },
    {
     "name": "stderr",
     "output_type": "stream",
     "text": [
      "Processing TFRecord files:  33%|███▎      | 483/1444 [01:46<02:44,  5.85it/s]"
     ]
    },
    {
     "name": "stdout",
     "output_type": "stream",
     "text": [
      "Decoded audio embeddings shape: (None, 128)\n",
      "Decoded audio embeddings shape: (None, 128)\n"
     ]
    },
    {
     "name": "stderr",
     "output_type": "stream",
     "text": [
      "Processing TFRecord files:  34%|███▎      | 485/1444 [01:47<02:51,  5.61it/s]"
     ]
    },
    {
     "name": "stdout",
     "output_type": "stream",
     "text": [
      "Decoded audio embeddings shape: (None, 128)\n",
      "Decoded audio embeddings shape: (None, 128)\n"
     ]
    },
    {
     "name": "stderr",
     "output_type": "stream",
     "text": [
      "Processing TFRecord files:  34%|███▎      | 487/1444 [01:47<02:32,  6.26it/s]"
     ]
    },
    {
     "name": "stdout",
     "output_type": "stream",
     "text": [
      "Decoded audio embeddings shape: (None, 128)\n",
      "Decoded audio embeddings shape: (None, 128)\n"
     ]
    },
    {
     "name": "stderr",
     "output_type": "stream",
     "text": [
      "Processing TFRecord files:  34%|███▍      | 489/1444 [01:47<02:28,  6.43it/s]"
     ]
    },
    {
     "name": "stdout",
     "output_type": "stream",
     "text": [
      "Decoded audio embeddings shape: (None, 128)\n",
      "Decoded audio embeddings shape: (None, 128)\n"
     ]
    },
    {
     "name": "stderr",
     "output_type": "stream",
     "text": [
      "Processing TFRecord files:  34%|███▍      | 491/1444 [01:48<02:35,  6.12it/s]"
     ]
    },
    {
     "name": "stdout",
     "output_type": "stream",
     "text": [
      "Decoded audio embeddings shape: (None, 128)\n"
     ]
    },
    {
     "name": "stderr",
     "output_type": "stream",
     "text": [
      "Processing TFRecord files:  34%|███▍      | 492/1444 [01:48<02:41,  5.91it/s]"
     ]
    },
    {
     "name": "stdout",
     "output_type": "stream",
     "text": [
      "Decoded audio embeddings shape: (None, 128)\n",
      "Decoded audio embeddings shape: (None, 128)\n"
     ]
    },
    {
     "name": "stderr",
     "output_type": "stream",
     "text": [
      "Processing TFRecord files:  34%|███▍      | 494/1444 [01:48<02:39,  5.96it/s]"
     ]
    },
    {
     "name": "stdout",
     "output_type": "stream",
     "text": [
      "Decoded audio embeddings shape: (None, 128)\n",
      "Decoded audio embeddings shape: (None, 128)\n"
     ]
    },
    {
     "name": "stderr",
     "output_type": "stream",
     "text": [
      "Processing TFRecord files:  34%|███▍      | 496/1444 [01:49<02:52,  5.50it/s]"
     ]
    },
    {
     "name": "stdout",
     "output_type": "stream",
     "text": [
      "Decoded audio embeddings shape: (None, 128)\n",
      "Decoded audio embeddings shape: (None, 128)\n"
     ]
    },
    {
     "name": "stderr",
     "output_type": "stream",
     "text": [
      "Processing TFRecord files:  34%|███▍      | 498/1444 [01:49<02:35,  6.07it/s]"
     ]
    },
    {
     "name": "stdout",
     "output_type": "stream",
     "text": [
      "Decoded audio embeddings shape: (None, 128)\n",
      "Decoded audio embeddings shape: (None, 128)\n"
     ]
    },
    {
     "name": "stderr",
     "output_type": "stream",
     "text": [
      "Processing TFRecord files:  35%|███▍      | 500/1444 [01:49<02:53,  5.44it/s]"
     ]
    },
    {
     "name": "stdout",
     "output_type": "stream",
     "text": [
      "Decoded audio embeddings shape: (None, 128)\n",
      "Decoded audio embeddings shape: (None, 128)\n"
     ]
    },
    {
     "name": "stderr",
     "output_type": "stream",
     "text": [
      "Processing TFRecord files:  35%|███▍      | 502/1444 [01:50<02:34,  6.11it/s]"
     ]
    },
    {
     "name": "stdout",
     "output_type": "stream",
     "text": [
      "Decoded audio embeddings shape: (None, 128)\n",
      "Decoded audio embeddings shape: (None, 128)\n"
     ]
    },
    {
     "name": "stderr",
     "output_type": "stream",
     "text": [
      "Processing TFRecord files:  35%|███▍      | 504/1444 [01:50<02:21,  6.65it/s]"
     ]
    },
    {
     "name": "stdout",
     "output_type": "stream",
     "text": [
      "Decoded audio embeddings shape: (None, 128)\n",
      "Decoded audio embeddings shape: (None, 128)\n"
     ]
    },
    {
     "name": "stderr",
     "output_type": "stream",
     "text": [
      "Processing TFRecord files:  35%|███▌      | 506/1444 [01:50<02:41,  5.80it/s]"
     ]
    },
    {
     "name": "stdout",
     "output_type": "stream",
     "text": [
      "Decoded audio embeddings shape: (None, 128)\n",
      "Decoded audio embeddings shape: (None, 128)\n"
     ]
    },
    {
     "name": "stderr",
     "output_type": "stream",
     "text": [
      "Processing TFRecord files:  35%|███▌      | 508/1444 [01:51<02:38,  5.90it/s]"
     ]
    },
    {
     "name": "stdout",
     "output_type": "stream",
     "text": [
      "Decoded audio embeddings shape: (None, 128)\n",
      "Decoded audio embeddings shape: (None, 128)\n"
     ]
    },
    {
     "name": "stderr",
     "output_type": "stream",
     "text": [
      "Processing TFRecord files:  35%|███▌      | 510/1444 [01:51<02:55,  5.32it/s]"
     ]
    },
    {
     "name": "stdout",
     "output_type": "stream",
     "text": [
      "Decoded audio embeddings shape: (None, 128)\n"
     ]
    },
    {
     "name": "stderr",
     "output_type": "stream",
     "text": [
      "Processing TFRecord files:  35%|███▌      | 511/1444 [01:51<02:50,  5.47it/s]"
     ]
    },
    {
     "name": "stdout",
     "output_type": "stream",
     "text": [
      "Decoded audio embeddings shape: (None, 128)\n",
      "Decoded audio embeddings shape: (None, 128)\n"
     ]
    },
    {
     "name": "stderr",
     "output_type": "stream",
     "text": [
      "Processing TFRecord files:  36%|███▌      | 513/1444 [01:52<02:44,  5.66it/s]"
     ]
    },
    {
     "name": "stdout",
     "output_type": "stream",
     "text": [
      "Decoded audio embeddings shape: (None, 128)\n",
      "Decoded audio embeddings shape: (None, 128)\n"
     ]
    },
    {
     "name": "stderr",
     "output_type": "stream",
     "text": [
      "Processing TFRecord files:  36%|███▌      | 515/1444 [01:52<02:53,  5.37it/s]"
     ]
    },
    {
     "name": "stdout",
     "output_type": "stream",
     "text": [
      "Decoded audio embeddings shape: (None, 128)\n"
     ]
    },
    {
     "name": "stderr",
     "output_type": "stream",
     "text": [
      "Processing TFRecord files:  36%|███▌      | 516/1444 [01:52<02:51,  5.42it/s]"
     ]
    },
    {
     "name": "stdout",
     "output_type": "stream",
     "text": [
      "Decoded audio embeddings shape: (None, 128)\n",
      "Decoded audio embeddings shape: (None, 128)\n"
     ]
    },
    {
     "name": "stderr",
     "output_type": "stream",
     "text": [
      "Processing TFRecord files:  36%|███▌      | 518/1444 [01:52<02:50,  5.42it/s]"
     ]
    },
    {
     "name": "stdout",
     "output_type": "stream",
     "text": [
      "Decoded audio embeddings shape: (None, 128)\n",
      "Decoded audio embeddings shape: (None, 128)\n"
     ]
    },
    {
     "name": "stderr",
     "output_type": "stream",
     "text": [
      "Processing TFRecord files:  36%|███▌      | 520/1444 [01:53<03:12,  4.81it/s]"
     ]
    },
    {
     "name": "stdout",
     "output_type": "stream",
     "text": [
      "Decoded audio embeddings shape: (None, 128)\n"
     ]
    },
    {
     "name": "stderr",
     "output_type": "stream",
     "text": [
      "Processing TFRecord files:  36%|███▌      | 521/1444 [01:53<03:13,  4.77it/s]"
     ]
    },
    {
     "name": "stdout",
     "output_type": "stream",
     "text": [
      "Decoded audio embeddings shape: (None, 128)\n"
     ]
    },
    {
     "name": "stderr",
     "output_type": "stream",
     "text": [
      "Processing TFRecord files:  36%|███▌      | 522/1444 [01:53<03:17,  4.66it/s]"
     ]
    },
    {
     "name": "stdout",
     "output_type": "stream",
     "text": [
      "Decoded audio embeddings shape: (None, 128)\n"
     ]
    },
    {
     "name": "stderr",
     "output_type": "stream",
     "text": [
      "Processing TFRecord files:  36%|███▌      | 523/1444 [01:54<03:10,  4.84it/s]"
     ]
    },
    {
     "name": "stdout",
     "output_type": "stream",
     "text": [
      "Decoded audio embeddings shape: (None, 128)\n"
     ]
    },
    {
     "name": "stderr",
     "output_type": "stream",
     "text": [
      "Processing TFRecord files:  36%|███▋      | 524/1444 [01:54<03:34,  4.29it/s]"
     ]
    },
    {
     "name": "stdout",
     "output_type": "stream",
     "text": [
      "Decoded audio embeddings shape: (None, 128)\n"
     ]
    },
    {
     "name": "stderr",
     "output_type": "stream",
     "text": [
      "Processing TFRecord files:  36%|███▋      | 525/1444 [01:54<03:20,  4.59it/s]"
     ]
    },
    {
     "name": "stdout",
     "output_type": "stream",
     "text": [
      "Decoded audio embeddings shape: (None, 128)\n",
      "Decoded audio embeddings shape: (None, 128)\n"
     ]
    },
    {
     "name": "stderr",
     "output_type": "stream",
     "text": [
      "Processing TFRecord files:  36%|███▋      | 526/1444 [01:54<03:10,  4.81it/s]"
     ]
    },
    {
     "name": "stdout",
     "output_type": "stream",
     "text": [
      "Decoded audio embeddings shape: (None, 128)\n"
     ]
    },
    {
     "name": "stderr",
     "output_type": "stream",
     "text": [
      "Processing TFRecord files:  36%|███▋      | 527/1444 [01:55<03:34,  4.28it/s]"
     ]
    },
    {
     "name": "stdout",
     "output_type": "stream",
     "text": [
      "Decoded audio embeddings shape: (None, 128)\n"
     ]
    }
   ],
   "source": [
    "\n",
    "\n",
    "# Define the context features\n",
    "context_features = {\n",
    "    'video_id': tf.io.FixedLenFeature([], tf.string),\n",
    "    'start_time_seconds': tf.io.FixedLenFeature([], tf.float32),\n",
    "    'end_time_seconds': tf.io.FixedLenFeature([], tf.float32),\n",
    "    'labels': tf.io.VarLenFeature(tf.int64)\n",
    "}\n",
    "\n",
    "# Define the sequence features\n",
    "sequence_features = {\n",
    "    'audio_embedding': tf.io.VarLenFeature(tf.string)\n",
    "}\n",
    "\n",
    "def _parse_function(example_proto):\n",
    "    # Parse the example into context and sequence features\n",
    "    context_data, sequence_data = tf.io.parse_single_sequence_example(\n",
    "        example_proto,\n",
    "        context_features=context_features,\n",
    "        sequence_features=sequence_features\n",
    "    )\n",
    "    \n",
    "    # Decode the audio embeddings from the byte strings\n",
    "    audio_embeddings = tf.io.decode_raw(sequence_data['audio_embedding'].values, tf.uint8)\n",
    "    \n",
    "    # Check the shape of audio_embeddings and calculate the appropriate reshape\n",
    "    audio_embeddings = tf.reshape(audio_embeddings, [-1, 128])  # Modify as necessary based on your data\n",
    "    \n",
    "    # Print the shape to debug (optional)\n",
    "    print(\"Decoded audio embeddings shape:\", audio_embeddings.shape)\n",
    "    \n",
    "    # Normalize the embeddings to the range [0, 1]\n",
    "    audio_embeddings = tf.cast(audio_embeddings, tf.float32) / 255.0\n",
    "    \n",
    "    # Return the 2D reshaped embeddings\n",
    "    labels = tf.sparse.to_dense(context_data['labels'])\n",
    "    \n",
    "    return audio_embeddings, labels  # Return the embeddings as 2D arrays\n",
    "\n",
    "\n",
    "\n",
    "def parse_tfrecords_to_dataframe(tfrecord_files):\n",
    "    # Initialize an empty list to store embeddings and labels\n",
    "    embeddings_list = []\n",
    "    labels_list = []\n",
    "\n",
    "    # Iterate through each TFRecord file in the folder\n",
    "    for tfrecord_file in tqdm(tfrecord_files, desc=\"Processing TFRecord files\"):\n",
    "        raw_dataset = tf.data.TFRecordDataset(tfrecord_file)\n",
    "        parsed_dataset = raw_dataset.map(_parse_function)\n",
    "\n",
    "        # Iterate over the parsed dataset and collect embeddings and labels\n",
    "        for audio_embedding, labels in parsed_dataset:\n",
    "            # Convert to numpy arrays\n",
    "            audio_embedding_np = audio_embedding.numpy()\n",
    "            labels_np = labels.numpy()\n",
    "\n",
    "            # Flatten the label array if necessary\n",
    "            labels_np = labels_np.flatten() if len(labels_np.shape) > 0 else labels_np\n",
    "\n",
    "            # Store the embedding and label\n",
    "            embeddings_list.append(audio_embedding_np)\n",
    "            labels_list.append(labels_np)\n",
    "\n",
    "    # Create a DataFrame from the collected data\n",
    "    df = pd.DataFrame({\n",
    "        'embedding': embeddings_list,\n",
    "        'labels': labels_list\n",
    "    })\n",
    "\n",
    "    return df\n",
    "\n",
    "# Specify the folder containing TFRecord files\n",
    "bal_tfrecord_folder = '.github\\Data\\\\bal_train'\n",
    "bal_tfrecord_files = [os.path.join(bal_tfrecord_folder, f) for f in os.listdir(bal_tfrecord_folder) if f.endswith('.tfrecord')]\n",
    "\n",
    "eval_tfrecord_folder = '.github\\Data\\\\eval'\n",
    "eval_tfrecord_files = [os.path.join(eval_tfrecord_folder, f) for f in os.listdir(eval_tfrecord_folder) if f.endswith('.tfrecord')]\n",
    "eval_df = parse_tfrecords_to_dataframe(eval_tfrecord_files)\n",
    "# Parse the TFRecords into a DataFrame\n",
    "bal_df = parse_tfrecords_to_dataframe(bal_tfrecord_files)\n"
   ]
  },
  {
   "cell_type": "code",
   "execution_count": null,
   "metadata": {},
   "outputs": [],
   "source": [
    "# Ensure the 'data' directory exists\n",
    "output_folder = r'.github\\Data'\n",
    "os.makedirs(output_folder, exist_ok=True)\n",
    "\n",
    "# Paths for saving the CSV files\n",
    "eval_csv_path = os.path.join(output_folder, 'eval_df.csv')\n",
    "bal_csv_path = os.path.join(output_folder, 'bal_df.csv')\n",
    "\n",
    "# Save the DataFrames to CSV\n",
    "eval_df.to_csv(eval_csv_path, index=False)\n",
    "bal_df.to_csv(bal_csv_path, index=False)"
   ]
  },
  {
   "cell_type": "code",
   "execution_count": null,
   "metadata": {},
   "outputs": [],
   "source": [
    "# 1 means the notes is apart of the scale, and 0 means that it is not\n",
    "# The twelve major scales are C C# D D# E F F# G G# A A# B\n",
    "# EX. C major scale is C D E F G A B which is the first scale in the array\n",
    "MAJOR_KEY_PROFILES = np.array([\n",
    "    [1, 0, 0, 1, 0, 1, 0, 0, 1, 0, 0, 1],  # C Major\n",
    "    [0, 0, 1, 0, 0, 1, 0, 0, 1, 0, 1, 0],  # C# Major\n",
    "    [0, 1, 0, 0, 1, 0, 0, 1, 0, 0, 1, 0],  # D Major\n",
    "    [1, 0, 0, 1, 0, 0, 1, 0, 0, 1, 0, 0],  # Eb Major\n",
    "    [0, 1, 0, 0, 1, 0, 0, 0, 1, 0, 0, 1],  # E Major\n",
    "    [1, 0, 0, 0, 1, 0, 0, 1, 0, 0, 0, 1],  # F Major\n",
    "    [0, 1, 0, 0, 0, 1, 0, 0, 1, 0, 0, 1],  # F# Major\n",
    "    [1, 0, 1, 0, 0, 1, 0, 0, 1, 0, 0, 0],  # G Major\n",
    "    [0, 1, 0, 1, 0, 0, 1, 0, 0, 1, 0, 0],  # Ab Major\n",
    "    [1, 0, 0, 1, 0, 1, 0, 0, 0, 1, 0, 0],  # A Major\n",
    "    [0, 0, 1, 0, 0, 1, 0, 1, 0, 0, 0, 1],  # Bb Major\n",
    "    [0, 1, 0, 0, 1, 0, 1, 0, 0, 0, 1, 0],  # B Major\n",
    "])"
   ]
  },
  {
   "cell_type": "code",
   "execution_count": null,
   "metadata": {},
   "outputs": [],
   "source": [
    "import numpy as np\n",
    "from scipy.stats import norm\n",
    "#https://cs229.stanford.edu/proj2016/report/Mahieu-DetectingMusicalKeyWithSupervisedLearning-report.pdf\n",
    "#https://www.kaggle.com/discussions/general/278766\n",
    "\n",
    "\n",
    "\n",
    "def probabilistic_key_detection(chroma_profile, key_profiles):\n",
    "    \"\"\"\n",
    "    Detects the most likely key using a probabilistic approach.\n",
    "    \n",
    "    Args:\n",
    "        chroma_profile (np.array): A 12-dimensional chroma vector (normalized).\n",
    "        key_profiles (np.array): A 12x12 matrix of major key templates.\n",
    "\n",
    "    Returns:\n",
    "        str: The predicted key name.\n",
    "    \"\"\"\n",
    "    # make the sum of all the elements = 1 for consistency \n",
    "    chroma_profile = chroma_profile / np.sum(chroma_profile)\n",
    "\n",
    "    likelihoods = []\n",
    "    for key_profile in key_profiles:\n",
    "        # Compute the likelihood by using a guassian noramlization method\n",
    "        # It find the difference in squares, and then uses a guassian equation to find the likelihood of the key. \n",
    "        likelihood = np.exp(-0.5 * np.sum((chroma_profile - key_profile) ** 2))\n",
    "        likelihoods.append(likelihood)\n",
    "    \n",
    "    # The sum of all probabilities will = 1, so that we can later find the highest probabability key\n",
    "    likelihoods = np.array(likelihoods)\n",
    "    likelihoods /= np.sum(likelihoods)\n",
    "\n",
    "    # Identify the most probable key\n",
    "    keys = [\"C\", \"C#\", \"D\", \"D#\", \"E\", \"F\", \"F#\", \"G\", \"G#\", \"A\", \"A#\", \"B\"]\n",
    "    # Assigns the highest value likelyhoods of the keys \n",
    "    most_likely_key = keys[np.argmax(likelihoods)]\n",
    "    \n",
    "    return most_likely_key, likelihoods"
   ]
  },
  {
   "cell_type": "code",
   "execution_count": null,
   "metadata": {},
   "outputs": [],
   "source": [
    "import librosa\n",
    "import librosa.display\n",
    "\n",
    "def extract_chroma_features(audio_embedding, sr=22050):\n",
    "    \"\"\"\n",
    "    Extracts chroma features from an audio embedding.\n",
    "    \n",
    "    Args:\n",
    "        audio_embedding (np.array): Flattened audio embedding representing a segment.\n",
    "        sr (int): Sampling rate (default is 22050).\n",
    "    \n",
    "    Returns:\n",
    "        np.array: Normalized 12-dimensional chroma feature.\n",
    "    \"\"\"\n",
    "    # Ensure embedding is in range [-1, 1] as librosa expects audio signals\n",
    "    audio_embedding = audio_embedding / np.max(np.abs(audio_embedding))\n",
    "\n",
    "    # Extract chroma features using librosa\n",
    "    chroma = librosa.feature.chroma_cqt(y=audio_embedding, sr=sr, n_chroma=12)\n",
    "\n",
    "    # Average across time steps to get a single 12-dimensional vector\n",
    "    chroma_avg = np.mean(chroma, axis=1)\n",
    "\n",
    "    # Normalize the chroma profile to sum to 1\n",
    "    chroma_normalized = chroma_avg / np.sum(chroma_avg)\n",
    "\n",
    "    return chroma_normalized"
   ]
  },
  {
   "cell_type": "code",
   "execution_count": null,
   "metadata": {},
   "outputs": [],
   "source": [
    "\n",
    "key_predictions = []\n",
    "likelihood_distributions = []\n",
    "\n",
    "for index, row in bal_df.iterrows():\n",
    "    # Extract audio embedding\n",
    "    audio_embedding = np.array(row['embedding'])  # Ensure the embedding is a numpy array\n",
    "\n",
    "    # Extract chroma features from the embedding\n",
    "    chroma_profile = extract_chroma_features(audio_embedding)\n",
    "\n",
    "    # Detect the most likely key and its likelihood distribution\n",
    "    predicted_key, likelihoods = probabilistic_key_detection(chroma_profile, MAJOR_KEY_PROFILES)\n",
    "\n",
    "    # Store results\n",
    "    key_predictions.append(predicted_key)\n",
    "    likelihood_distributions.append(likelihoods)\n",
    "\n",
    "# Add the predicted keys and likelihoods to the dataframe\n",
    "bal_df['predicted_key'] = key_predictions\n",
    "bal_df['likelihoods'] = likelihood_distributions\n",
    "\n",
    "# Example output\n",
    "print(bal_df[['embedding', 'predicted_key', 'likelihoods']].head())"
   ]
  },
  {
   "cell_type": "code",
   "execution_count": null,
   "metadata": {},
   "outputs": [],
   "source": [
    "print(bal_df.describe)\n",
    "#Drops the likelyhood column \n",
    "x_train = bal_df.drop(bal_df.columns[3], axis=1)"
   ]
  }
 ],
 "metadata": {
  "kernelspec": {
   "display_name": "base",
   "language": "python",
   "name": "python3"
  },
  "language_info": {
   "codemirror_mode": {
    "name": "ipython",
    "version": 3
   },
   "file_extension": ".py",
   "mimetype": "text/x-python",
   "name": "python",
   "nbconvert_exporter": "python",
   "pygments_lexer": "ipython3",
   "version": "3.11.7"
  }
 },
 "nbformat": 4,
 "nbformat_minor": 2
}
