{
 "cells": [
  {
   "cell_type": "code",
   "execution_count": 2,
   "metadata": {},
   "outputs": [],
   "source": [
    "\n",
    "# Acknowledgment:\n",
    "# This code was developed with assistance from ChatGPT, which provided initial guidance\n",
    "# and code snippets. Significant modifications and improvements were made by us to \n",
    "# ensure the code meets the specific requirements of the project. All optimizations \n",
    "# and final adjustments were implemented independently.\n",
    "\n",
    "\n",
    "\n",
    "\n",
    "# Usual Libraries USED FROM THE OTHER NOTEBOOK WE ADD MORE OR DELETE WHEN NECESSESARRY \n",
    "import pandas as pd\n",
    "import numpy as np\n",
    "import distutils\n",
    "import ast\n",
    "\n",
    "import os\n",
    "import matplotlib.pyplot as plt\n",
    "%matplotlib inline\n",
    "\n",
    "# Librosa (the mother of audio files)\n",
    "import librosa\n",
    "import librosa.display\n",
    "import IPython.display as ipd\n",
    "import warnings\n",
    "warnings.filterwarnings('ignore')\n",
    "import tensorflow as tf\n",
    "from tqdm import tqdm\n",
    "\n"
   ]
  },
  {
   "cell_type": "markdown",
   "metadata": {},
   "source": [
    "# Parsing TFRecord Data and Extracting Features\n",
    "\n",
    "This code demonstrates how to parse TFRecord files containing audio embeddings and associated labels, transforming them into a DataFrame for further analysis or model training.\n",
    "\n",
    "### Code Overview:\n",
    "\n",
    "- **Context Features**: Metadata like video ID and timestamps.\n",
    "- **Sequence Features**: The audio embeddings, stored as variable-length sequences.\n",
    "- **Normalization**: The audio embeddings are reshaped and normalized for training.\n",
    "- **DataFrame Creation**: Collects parsed data and stores it in a Pandas DataFrame."
   ]
  },
  {
   "cell_type": "code",
   "execution_count": 3,
   "metadata": {},
   "outputs": [
    {
     "name": "stderr",
     "output_type": "stream",
     "text": [
      "Processing TFRecord files: 100%|██████████| 1444/1444 [01:29<00:00, 16.13it/s]\n",
      "Processing TFRecord files: 100%|██████████| 1444/1444 [01:28<00:00, 16.24it/s]\n"
     ]
    }
   ],
   "source": [
    "\n",
    "\n",
    "# Define the context features\n",
    "context_features = {\n",
    "    'video_id': tf.io.FixedLenFeature([], tf.string),\n",
    "    'start_time_seconds': tf.io.FixedLenFeature([], tf.float32),\n",
    "    'end_time_seconds': tf.io.FixedLenFeature([], tf.float32),\n",
    "    'labels': tf.io.VarLenFeature(tf.int64)\n",
    "}\n",
    "\n",
    "# Define the sequence features\n",
    "sequence_features = {\n",
    "    'audio_embedding': tf.io.VarLenFeature(tf.string)\n",
    "}\n",
    "\n",
    "def _parse_function(example_proto):\n",
    "    # Parse the example into context and sequence features\n",
    "    context_data, sequence_data = tf.io.parse_single_sequence_example(\n",
    "        example_proto,\n",
    "        context_features=context_features,\n",
    "        sequence_features=sequence_features\n",
    "    )\n",
    "    \n",
    "    # Decode the audio embeddings from the byte strings\n",
    "    audio_embeddings = tf.io.decode_raw(sequence_data['audio_embedding'].values, tf.uint8)\n",
    "    \n",
    "    # Check the shape of audio_embeddings and calculate the appropriate reshape\n",
    "    audio_embeddings = tf.reshape(audio_embeddings, [-1, 128])  # Modify as necessary based on your data\n",
    "    \n",
    "    # Normalize the embeddings to the range [0, 1]\n",
    "    audio_embeddings = tf.cast(audio_embeddings, tf.float32) / 255.0\n",
    "    \n",
    "    # Return the 2D reshaped embeddings\n",
    "    labels = tf.sparse.to_dense(context_data['labels'])\n",
    "    \n",
    "    return audio_embeddings, labels  # Return the embeddings as 2D arrays\n",
    "\n",
    "\n",
    "\n",
    "def parse_tfrecords_to_dataframe(tfrecord_files):\n",
    "    # Initialize an empty list to store embeddings and labels\n",
    "    embeddings_list = []\n",
    "    labels_list = []\n",
    "\n",
    "    # Iterate through each TFRecord file in the folder\n",
    "    for tfrecord_file in tqdm(tfrecord_files, desc=\"Processing TFRecord files\"):\n",
    "        raw_dataset = tf.data.TFRecordDataset(tfrecord_file)\n",
    "        parsed_dataset = raw_dataset.map(_parse_function)\n",
    "\n",
    "        # Iterate over the parsed dataset and collect embeddings and labels\n",
    "        for audio_embedding, labels in parsed_dataset:\n",
    "            # Convert to numpy arrays\n",
    "            audio_embedding_np = audio_embedding.numpy()\n",
    "            labels_np = labels.numpy()\n",
    "\n",
    "            # Flatten the label array if necessary\n",
    "            labels_np = labels_np.flatten() if len(labels_np.shape) > 0 else labels_np\n",
    "\n",
    "            # Store the embedding and label\n",
    "            embeddings_list.append(audio_embedding_np)\n",
    "            labels_list.append(labels_np)\n",
    "\n",
    "    # Create a DataFrame from the collected data\n",
    "    df = pd.DataFrame({\n",
    "        'embedding': embeddings_list,\n",
    "        'labels': labels_list\n",
    "    })\n",
    "\n",
    "    return df\n",
    "\n",
    "# Specify the folder containing TFRecord files\n",
    "bal_tfrecord_folder = '.github\\Data\\\\bal_train'\n",
    "bal_tfrecord_files = [os.path.join(bal_tfrecord_folder, f) for f in os.listdir(bal_tfrecord_folder) if f.endswith('.tfrecord')]\n",
    "\n",
    "eval_tfrecord_folder = '.github\\Data\\\\eval'\n",
    "eval_tfrecord_files = [os.path.join(eval_tfrecord_folder, f) for f in os.listdir(eval_tfrecord_folder) if f.endswith('.tfrecord')]\n",
    "eval_df = parse_tfrecords_to_dataframe(eval_tfrecord_files)\n",
    "# Parse the TFRecords into a DataFrame\n",
    "bal_df = parse_tfrecords_to_dataframe(bal_tfrecord_files)\n",
    "\n",
    "\n"
   ]
  },
  {
   "cell_type": "markdown",
   "metadata": {},
   "source": [
    "\n",
    "# Save DataFrames to CSV\n"
   ]
  },
  {
   "cell_type": "code",
   "execution_count": 4,
   "metadata": {},
   "outputs": [],
   "source": [
    "# Ensure the 'data' directory exists\n",
    "output_folder = r'.github\\Data'\n",
    "os.makedirs(output_folder, exist_ok=True)\n",
    "\n",
    "# Paths for saving the CSV files\n",
    "eval_csv_path = os.path.join(output_folder, 'eval_df.csv')\n",
    "bal_csv_path = os.path.join(output_folder, 'bal_df.csv')\n",
    "\n",
    "# Save the DataFrames to CSV\n",
    "eval_df.to_csv(eval_csv_path, index=False)\n",
    "bal_df.to_csv(bal_csv_path, index=False)\n",
    "\n",
    "\n"
   ]
  },
  {
   "cell_type": "markdown",
   "metadata": {},
   "source": [
    "\n",
    "# Clean Invalid Embeddings"
   ]
  },
  {
   "cell_type": "code",
   "execution_count": 78,
   "metadata": {},
   "outputs": [
    {
     "name": "stdout",
     "output_type": "stream",
     "text": [
      "Cleaned training set shape: (7838, 2)\n",
      "Cleaned test set shape: (7169, 2)\n"
     ]
    }
   ],
   "source": [
    "# Function to drop invalid embeddings based on shape\n",
    "def drop_invalid_embeddings(df):\n",
    "    valid_entries = []\n",
    "    \n",
    "    for i, emb in enumerate(df['embedding']):\n",
    "        emb_array = np.array(emb)\n",
    "        if emb_array.shape == (10, 128):  # Only keep valid embeddings\n",
    "            valid_entries.append(i)\n",
    "    \n",
    "    return df.iloc[valid_entries]\n",
    "\n",
    "# Drop invalid entries from the training set\n",
    "bal_df_clean = drop_invalid_embeddings(bal_df)\n",
    "\n",
    "eval_df_clean = drop_invalid_embeddings(eval_df)\n",
    "\n",
    "# Check the cleaned DataFrame\n",
    "print(f\"Cleaned training set shape: {bal_df_clean.shape}\")\n",
    "print(f\"Cleaned test set shape: {eval_df_clean.shape}\")\n",
    "\n"
   ]
  },
  {
   "cell_type": "markdown",
   "metadata": {},
   "source": [
    "# Multi-Label Binarization and Data Reshaping"
   ]
  },
  {
   "cell_type": "code",
   "execution_count": 84,
   "metadata": {},
   "outputs": [],
   "source": [
    "from sklearn.preprocessing import MultiLabelBinarizer\n",
    "mlb = MultiLabelBinarizer()\n",
    "\n",
    "# Convert multi-labels to binary format (one-hot encoding)\n",
    "y_train = mlb.fit_transform(bal_df_clean['labels'])\n",
    "y_test = mlb.transform(eval_df_clean['labels'])\n",
    "\n",
    "\n",
    "X_train = np.array(bal_df_clean['embedding'].tolist()).reshape(-1, 10, 128, 1)\n",
    "X_test = np.array(eval_df_clean['embedding'].tolist()).reshape(-1, 10, 128, 1)"
   ]
  },
  {
   "cell_type": "markdown",
   "metadata": {},
   "source": [
    "# Major Key Profiles for Music Scales"
   ]
  },
  {
   "cell_type": "code",
   "execution_count": 85,
   "metadata": {},
   "outputs": [],
   "source": [
    "# 1 means the notes is apart of the scale, and 0 means that it is not\n",
    "# The twelve major scales are C C# D D# E F F# G G# A A# B\n",
    "# EX. C major scale is C D E F G A B which is the first scale in the array\n",
    "MAJOR_KEY_PROFILES = np.array([\n",
    "    [1, 0, 0, 1, 0, 1, 0, 0, 1, 0, 0, 1],  # C Major\n",
    "    [0, 0, 1, 0, 0, 1, 0, 0, 1, 0, 1, 0],  # C# Major\n",
    "    [0, 1, 0, 0, 1, 0, 0, 1, 0, 0, 1, 0],  # D Major\n",
    "    [1, 0, 0, 1, 0, 0, 1, 0, 0, 1, 0, 0],  # Eb Major\n",
    "    [0, 1, 0, 0, 1, 0, 0, 0, 1, 0, 0, 1],  # E Major\n",
    "    [1, 0, 0, 0, 1, 0, 0, 1, 0, 0, 0, 1],  # F Major\n",
    "    [0, 1, 0, 0, 0, 1, 0, 0, 1, 0, 0, 1],  # F# Major\n",
    "    [1, 0, 1, 0, 0, 1, 0, 0, 1, 0, 0, 0],  # G Major\n",
    "    [0, 1, 0, 1, 0, 0, 1, 0, 0, 1, 0, 0],  # Ab Major\n",
    "    [1, 0, 0, 1, 0, 1, 0, 0, 0, 1, 0, 0],  # A Major\n",
    "    [0, 0, 1, 0, 0, 1, 0, 1, 0, 0, 0, 1],  # Bb Major\n",
    "    [0, 1, 0, 0, 1, 0, 1, 0, 0, 0, 1, 0],  # B Major\n",
    "])"
   ]
  },
  {
   "cell_type": "markdown",
   "metadata": {},
   "source": [
    "# Probabilistic Key Detection Using Chroma Profiles"
   ]
  },
  {
   "cell_type": "code",
   "execution_count": 86,
   "metadata": {},
   "outputs": [],
   "source": [
    "import numpy as np\n",
    "from scipy.stats import norm\n",
    "#https://cs229.stanford.edu/proj2016/report/Mahieu-DetectingMusicalKeyWithSupervisedLearning-report.pdf\n",
    "#https://www.kaggle.com/discussions/general/278766 \n",
    "#https://librosa.org/doc/main/generated/librosa.feature.chroma_cqt.html\n",
    "\n",
    "\n",
    "\n",
    "def probabilistic_key_detection(chroma_profile, key_profiles):\n",
    "    \"\"\"\n",
    "    Detects the most likely key using a probabilistic approach.\n",
    "    \n",
    "    Args:\n",
    "        chroma_profile (np.array): A 12-dimensional chroma vector (normalized).\n",
    "        key_profiles (np.array): A 12x12 matrix of major key templates.\n",
    "\n",
    "    Returns:\n",
    "        str: The predicted key name.\n",
    "    \"\"\"\n",
    "    # make the sum of all the elements = 1 for consistency \n",
    "    chroma_profile = chroma_profile / np.sum(chroma_profile)\n",
    "\n",
    "    likelihoods = []\n",
    "    for key_profile in key_profiles:\n",
    "        # Compute the likelihood by using a guassian noramlization method\n",
    "        # It finds the difference in squares, and then uses a guassian equation to find the likelihood of the key. \n",
    "        likelihood = np.exp(-0.5 * np.sum((chroma_profile - key_profile) ** 2))\n",
    "        likelihoods.append(likelihood)\n",
    "    \n",
    "    # The sum of all probabilities will = 1, so that we can later find the highest probabability key\n",
    "    likelihoods = np.array(likelihoods)\n",
    "    likelihoods /= np.sum(likelihoods)\n",
    "\n",
    "    # Identify the most probable key\n",
    "    keys = [\"C\", \"C#\", \"D\", \"D#\", \"E\", \"F\", \"F#\", \"G\", \"G#\", \"A\", \"A#\", \"B\"]\n",
    "    # Assigns the highest value likelyhoods of the keys \n",
    "    most_likely_key = keys[np.argmax(likelihoods)]\n",
    "    \n",
    "    return most_likely_key, likelihoods"
   ]
  },
  {
   "cell_type": "markdown",
   "metadata": {},
   "source": [
    "# Chroma Feature Extraction from Audio Embedding"
   ]
  },
  {
   "cell_type": "code",
   "execution_count": 87,
   "metadata": {},
   "outputs": [],
   "source": [
    "import librosa\n",
    "import librosa.display\n",
    "\n",
    "def extract_chroma_features(audio_embedding, sr=22050):\n",
    "    \"\"\"\n",
    "    Extracts chroma features from an audio embedding.\n",
    "    \n",
    "    Args:\n",
    "        audio_embedding (np.array): Flattened audio embedding representing a segment.\n",
    "        sr (int): Sampling rate (default is 22050).\n",
    "    \n",
    "    Returns:\n",
    "        np.array: Normalized 12-dimensional chroma feature.\n",
    "    \"\"\"\n",
    "    # Ensure embedding is in range [-1, 1] as librosa expects audio signals\n",
    "    audio_embedding = audio_embedding / np.max(np.abs(audio_embedding))\n",
    "\n",
    "    # Extract chroma features using librosa\n",
    "    chroma = librosa.feature.chroma_cqt(y=audio_embedding, sr=sr, n_chroma=12)\n",
    "\n",
    "    # Average across time steps to get a single 12-dimensional vector\n",
    "    chroma_avg = np.mean(chroma, axis=1)\n",
    "\n",
    "    # Normalize the chroma profile to sum to 1\n",
    "    chroma_normalized = chroma_avg / np.sum(chroma_avg)\n",
    "\n",
    "    return chroma_normalized"
   ]
  },
  {
   "cell_type": "markdown",
   "metadata": {},
   "source": [
    "\n",
    "# Key Prediction for Dataset Using Probabilistic Approach"
   ]
  },
  {
   "cell_type": "code",
   "execution_count": 88,
   "metadata": {},
   "outputs": [
    {
     "ename": "KeyboardInterrupt",
     "evalue": "",
     "output_type": "error",
     "traceback": [
      "\u001b[1;31m---------------------------------------------------------------------------\u001b[0m",
      "\u001b[1;31mKeyboardInterrupt\u001b[0m                         Traceback (most recent call last)",
      "Cell \u001b[1;32mIn[88], line 13\u001b[0m\n\u001b[0;32m     10\u001b[0m audio_embedding \u001b[38;5;241m=\u001b[39m np\u001b[38;5;241m.\u001b[39marray(row[\u001b[38;5;124m'\u001b[39m\u001b[38;5;124membedding\u001b[39m\u001b[38;5;124m'\u001b[39m])  \u001b[38;5;66;03m# Ensure the embedding is a numpy array\u001b[39;00m\n\u001b[0;32m     12\u001b[0m \u001b[38;5;66;03m# Extract chroma features from the embedding\u001b[39;00m\n\u001b[1;32m---> 13\u001b[0m chroma_profile \u001b[38;5;241m=\u001b[39m extract_chroma_features(audio_embedding)\n\u001b[0;32m     15\u001b[0m \u001b[38;5;66;03m# Detect the most likely key and its likelihood distribution\u001b[39;00m\n\u001b[0;32m     16\u001b[0m predicted_key, _ \u001b[38;5;241m=\u001b[39m probabilistic_key_detection(chroma_profile, MAJOR_KEY_PROFILES)\n",
      "Cell \u001b[1;32mIn[87], line 19\u001b[0m, in \u001b[0;36mextract_chroma_features\u001b[1;34m(audio_embedding, sr)\u001b[0m\n\u001b[0;32m     16\u001b[0m audio_embedding \u001b[38;5;241m=\u001b[39m audio_embedding \u001b[38;5;241m/\u001b[39m np\u001b[38;5;241m.\u001b[39mmax(np\u001b[38;5;241m.\u001b[39mabs(audio_embedding))\n\u001b[0;32m     18\u001b[0m \u001b[38;5;66;03m# Extract chroma features using librosa\u001b[39;00m\n\u001b[1;32m---> 19\u001b[0m chroma \u001b[38;5;241m=\u001b[39m librosa\u001b[38;5;241m.\u001b[39mfeature\u001b[38;5;241m.\u001b[39mchroma_cqt(y\u001b[38;5;241m=\u001b[39maudio_embedding, sr\u001b[38;5;241m=\u001b[39msr, n_chroma\u001b[38;5;241m=\u001b[39m\u001b[38;5;241m12\u001b[39m)\n\u001b[0;32m     21\u001b[0m \u001b[38;5;66;03m# Average across time steps to get a single 12-dimensional vector\u001b[39;00m\n\u001b[0;32m     22\u001b[0m chroma_avg \u001b[38;5;241m=\u001b[39m np\u001b[38;5;241m.\u001b[39mmean(chroma, axis\u001b[38;5;241m=\u001b[39m\u001b[38;5;241m1\u001b[39m)\n",
      "File \u001b[1;32mc:\\Users\\brigg\\anaconda3\\Lib\\site-packages\\librosa\\feature\\spectral.py:1386\u001b[0m, in \u001b[0;36mchroma_cqt\u001b[1;34m(y, sr, C, hop_length, fmin, norm, threshold, tuning, n_chroma, n_octaves, window, bins_per_octave, cqt_mode)\u001b[0m\n\u001b[0;32m   1381\u001b[0m     \u001b[38;5;28;01mif\u001b[39;00m y \u001b[38;5;129;01mis\u001b[39;00m \u001b[38;5;28;01mNone\u001b[39;00m:\n\u001b[0;32m   1382\u001b[0m         \u001b[38;5;28;01mraise\u001b[39;00m ParameterError(\n\u001b[0;32m   1383\u001b[0m             \u001b[38;5;124m\"\u001b[39m\u001b[38;5;124mAt least one of C or y must be provided to compute chroma\u001b[39m\u001b[38;5;124m\"\u001b[39m\n\u001b[0;32m   1384\u001b[0m         )\n\u001b[0;32m   1385\u001b[0m     C \u001b[38;5;241m=\u001b[39m np\u001b[38;5;241m.\u001b[39mabs(\n\u001b[1;32m-> 1386\u001b[0m         cqt_func[cqt_mode](\n\u001b[0;32m   1387\u001b[0m             y,\n\u001b[0;32m   1388\u001b[0m             sr\u001b[38;5;241m=\u001b[39msr,\n\u001b[0;32m   1389\u001b[0m             hop_length\u001b[38;5;241m=\u001b[39mhop_length,\n\u001b[0;32m   1390\u001b[0m             fmin\u001b[38;5;241m=\u001b[39mfmin,\n\u001b[0;32m   1391\u001b[0m             n_bins\u001b[38;5;241m=\u001b[39mn_octaves \u001b[38;5;241m*\u001b[39m bins_per_octave,\n\u001b[0;32m   1392\u001b[0m             bins_per_octave\u001b[38;5;241m=\u001b[39mbins_per_octave,\n\u001b[0;32m   1393\u001b[0m             tuning\u001b[38;5;241m=\u001b[39mtuning,\n\u001b[0;32m   1394\u001b[0m         )\n\u001b[0;32m   1395\u001b[0m     )\n\u001b[0;32m   1397\u001b[0m \u001b[38;5;66;03m# Map to chroma\u001b[39;00m\n\u001b[0;32m   1398\u001b[0m cq_to_chr \u001b[38;5;241m=\u001b[39m filters\u001b[38;5;241m.\u001b[39mcq_to_chroma(\n\u001b[0;32m   1399\u001b[0m     C\u001b[38;5;241m.\u001b[39mshape[\u001b[38;5;241m-\u001b[39m\u001b[38;5;241m2\u001b[39m],\n\u001b[0;32m   1400\u001b[0m     bins_per_octave\u001b[38;5;241m=\u001b[39mbins_per_octave,\n\u001b[1;32m   (...)\u001b[0m\n\u001b[0;32m   1403\u001b[0m     window\u001b[38;5;241m=\u001b[39mwindow,\n\u001b[0;32m   1404\u001b[0m )\n",
      "File \u001b[1;32mc:\\Users\\brigg\\anaconda3\\Lib\\site-packages\\librosa\\core\\constantq.py:171\u001b[0m, in \u001b[0;36mcqt\u001b[1;34m(y, sr, hop_length, fmin, n_bins, bins_per_octave, tuning, filter_scale, norm, sparsity, window, scale, pad_mode, res_type, dtype)\u001b[0m\n\u001b[0;32m     46\u001b[0m \u001b[38;5;250m\u001b[39m\u001b[38;5;124;03m\"\"\"Compute the constant-Q transform of an audio signal.\u001b[39;00m\n\u001b[0;32m     47\u001b[0m \n\u001b[0;32m     48\u001b[0m \u001b[38;5;124;03mThis implementation is based on the recursive sub-sampling method\u001b[39;00m\n\u001b[1;32m   (...)\u001b[0m\n\u001b[0;32m    168\u001b[0m \u001b[38;5;124;03m       [5.147e-02, 6.959e-02, ..., 1.694e-05, 5.811e-06]])\u001b[39;00m\n\u001b[0;32m    169\u001b[0m \u001b[38;5;124;03m\"\"\"\u001b[39;00m\n\u001b[0;32m    170\u001b[0m \u001b[38;5;66;03m# CQT is the special case of VQT with gamma=0\u001b[39;00m\n\u001b[1;32m--> 171\u001b[0m \u001b[38;5;28;01mreturn\u001b[39;00m vqt(\n\u001b[0;32m    172\u001b[0m     y\u001b[38;5;241m=\u001b[39my,\n\u001b[0;32m    173\u001b[0m     sr\u001b[38;5;241m=\u001b[39msr,\n\u001b[0;32m    174\u001b[0m     hop_length\u001b[38;5;241m=\u001b[39mhop_length,\n\u001b[0;32m    175\u001b[0m     fmin\u001b[38;5;241m=\u001b[39mfmin,\n\u001b[0;32m    176\u001b[0m     n_bins\u001b[38;5;241m=\u001b[39mn_bins,\n\u001b[0;32m    177\u001b[0m     intervals\u001b[38;5;241m=\u001b[39m\u001b[38;5;124m\"\u001b[39m\u001b[38;5;124mequal\u001b[39m\u001b[38;5;124m\"\u001b[39m,\n\u001b[0;32m    178\u001b[0m     gamma\u001b[38;5;241m=\u001b[39m\u001b[38;5;241m0\u001b[39m,\n\u001b[0;32m    179\u001b[0m     bins_per_octave\u001b[38;5;241m=\u001b[39mbins_per_octave,\n\u001b[0;32m    180\u001b[0m     tuning\u001b[38;5;241m=\u001b[39mtuning,\n\u001b[0;32m    181\u001b[0m     filter_scale\u001b[38;5;241m=\u001b[39mfilter_scale,\n\u001b[0;32m    182\u001b[0m     norm\u001b[38;5;241m=\u001b[39mnorm,\n\u001b[0;32m    183\u001b[0m     sparsity\u001b[38;5;241m=\u001b[39msparsity,\n\u001b[0;32m    184\u001b[0m     window\u001b[38;5;241m=\u001b[39mwindow,\n\u001b[0;32m    185\u001b[0m     scale\u001b[38;5;241m=\u001b[39mscale,\n\u001b[0;32m    186\u001b[0m     pad_mode\u001b[38;5;241m=\u001b[39mpad_mode,\n\u001b[0;32m    187\u001b[0m     res_type\u001b[38;5;241m=\u001b[39mres_type,\n\u001b[0;32m    188\u001b[0m     dtype\u001b[38;5;241m=\u001b[39mdtype,\n\u001b[0;32m    189\u001b[0m )\n",
      "File \u001b[1;32mc:\\Users\\brigg\\anaconda3\\Lib\\site-packages\\librosa\\core\\constantq.py:1001\u001b[0m, in \u001b[0;36mvqt\u001b[1;34m(y, sr, hop_length, fmin, n_bins, intervals, gamma, bins_per_octave, tuning, filter_scale, norm, sparsity, window, scale, pad_mode, res_type, dtype)\u001b[0m\n\u001b[0;32m    998\u001b[0m freqs_oct \u001b[38;5;241m=\u001b[39m freqs[sl]\n\u001b[0;32m    999\u001b[0m alpha_oct \u001b[38;5;241m=\u001b[39m alpha[sl]\n\u001b[1;32m-> 1001\u001b[0m fft_basis, n_fft, _ \u001b[38;5;241m=\u001b[39m __vqt_filter_fft(\n\u001b[0;32m   1002\u001b[0m     my_sr,\n\u001b[0;32m   1003\u001b[0m     freqs_oct,\n\u001b[0;32m   1004\u001b[0m     filter_scale,\n\u001b[0;32m   1005\u001b[0m     norm,\n\u001b[0;32m   1006\u001b[0m     sparsity,\n\u001b[0;32m   1007\u001b[0m     window\u001b[38;5;241m=\u001b[39mwindow,\n\u001b[0;32m   1008\u001b[0m     gamma\u001b[38;5;241m=\u001b[39mgamma,\n\u001b[0;32m   1009\u001b[0m     dtype\u001b[38;5;241m=\u001b[39mdtype,\n\u001b[0;32m   1010\u001b[0m     alpha\u001b[38;5;241m=\u001b[39malpha_oct,\n\u001b[0;32m   1011\u001b[0m )\n\u001b[0;32m   1013\u001b[0m \u001b[38;5;66;03m# Re-scale the filters to compensate for downsampling\u001b[39;00m\n\u001b[0;32m   1014\u001b[0m fft_basis[:] \u001b[38;5;241m*\u001b[39m\u001b[38;5;241m=\u001b[39m np\u001b[38;5;241m.\u001b[39msqrt(sr \u001b[38;5;241m/\u001b[39m my_sr)\n",
      "File \u001b[1;32mc:\\Users\\brigg\\anaconda3\\Lib\\site-packages\\librosa\\core\\constantq.py:1088\u001b[0m, in \u001b[0;36m__vqt_filter_fft\u001b[1;34m(sr, freqs, filter_scale, norm, sparsity, hop_length, window, gamma, dtype, alpha)\u001b[0m\n\u001b[0;32m   1085\u001b[0m fft_basis \u001b[38;5;241m=\u001b[39m fft\u001b[38;5;241m.\u001b[39mfft(basis, n\u001b[38;5;241m=\u001b[39mn_fft, axis\u001b[38;5;241m=\u001b[39m\u001b[38;5;241m1\u001b[39m)[:, : (n_fft \u001b[38;5;241m/\u001b[39m\u001b[38;5;241m/\u001b[39m \u001b[38;5;241m2\u001b[39m) \u001b[38;5;241m+\u001b[39m \u001b[38;5;241m1\u001b[39m]\n\u001b[0;32m   1087\u001b[0m \u001b[38;5;66;03m# sparsify the basis\u001b[39;00m\n\u001b[1;32m-> 1088\u001b[0m fft_basis \u001b[38;5;241m=\u001b[39m util\u001b[38;5;241m.\u001b[39msparsify_rows(fft_basis, quantile\u001b[38;5;241m=\u001b[39msparsity, dtype\u001b[38;5;241m=\u001b[39mdtype)\n\u001b[0;32m   1090\u001b[0m \u001b[38;5;28;01mreturn\u001b[39;00m fft_basis, n_fft, lengths\n",
      "File \u001b[1;32mc:\\Users\\brigg\\anaconda3\\Lib\\site-packages\\librosa\\util\\utils.py:1466\u001b[0m, in \u001b[0;36msparsify_rows\u001b[1;34m(x, quantile, dtype)\u001b[0m\n\u001b[0;32m   1464\u001b[0m \u001b[38;5;28;01mfor\u001b[39;00m i, j \u001b[38;5;129;01min\u001b[39;00m \u001b[38;5;28menumerate\u001b[39m(threshold_idx):\n\u001b[0;32m   1465\u001b[0m     idx \u001b[38;5;241m=\u001b[39m np\u001b[38;5;241m.\u001b[39mwhere(mags[i] \u001b[38;5;241m>\u001b[39m\u001b[38;5;241m=\u001b[39m mag_sort[i, j])\n\u001b[1;32m-> 1466\u001b[0m     x_sparse[i, idx] \u001b[38;5;241m=\u001b[39m x[i, idx]\n\u001b[0;32m   1468\u001b[0m \u001b[38;5;28;01mreturn\u001b[39;00m x_sparse\u001b[38;5;241m.\u001b[39mtocsr()\n",
      "File \u001b[1;32mc:\\Users\\brigg\\anaconda3\\Lib\\site-packages\\scipy\\sparse\\_lil.py:314\u001b[0m, in \u001b[0;36m_lil_base.__setitem__\u001b[1;34m(self, key, x)\u001b[0m\n\u001b[0;32m    311\u001b[0m     x, _ \u001b[38;5;241m=\u001b[39m _broadcast_arrays(x, row)\n\u001b[0;32m    312\u001b[0m     \u001b[38;5;28mself\u001b[39m\u001b[38;5;241m.\u001b[39m_set_arrayXarray(row, col, x)\n\u001b[1;32m--> 314\u001b[0m \u001b[38;5;28;01mdef\u001b[39;00m \u001b[38;5;21m__setitem__\u001b[39m(\u001b[38;5;28mself\u001b[39m, key, x):\n\u001b[0;32m    315\u001b[0m     \u001b[38;5;28;01mif\u001b[39;00m \u001b[38;5;28misinstance\u001b[39m(key, \u001b[38;5;28mtuple\u001b[39m) \u001b[38;5;129;01mand\u001b[39;00m \u001b[38;5;28mlen\u001b[39m(key) \u001b[38;5;241m==\u001b[39m \u001b[38;5;241m2\u001b[39m:\n\u001b[0;32m    316\u001b[0m         row, col \u001b[38;5;241m=\u001b[39m key\n",
      "\u001b[1;31mKeyboardInterrupt\u001b[0m: "
     ]
    }
   ],
   "source": [
    "from sklearn.preprocessing import LabelEncoder\n",
    "import numpy as np\n",
    "\n",
    "# Assuming `probabilistic_key_detection()` function and `MAJOR_KEY_PROFILES` are defined\n",
    "\n",
    "# Generate key predictions for the dataset\n",
    "bal_key_predictions = []\n",
    "for index, row in bal_df_clean.iterrows():\n",
    "    # Extract audio embedding\n",
    "    audio_embedding = np.array(row['embedding'])  # Ensure the embedding is a numpy array\n",
    "\n",
    "    # Extract chroma features from the embedding\n",
    "    chroma_profile = extract_chroma_features(audio_embedding)\n",
    "\n",
    "    # Detect the most likely key and its likelihood distribution\n",
    "    predicted_key, _ = probabilistic_key_detection(chroma_profile, MAJOR_KEY_PROFILES)\n",
    "\n",
    "    # Store the predicted key\n",
    "    bal_key_predictions.append(predicted_key)\n",
    "\n",
    "# Add predicted keys to the dataframe\n",
    "bal_df_clean['predicted_key'] = bal_key_predictions\n",
    "print('bal Done')\n",
    "eval_key_predictions = []\n",
    "for index, row in eval_df_clean.iterrows():\n",
    "    # Extract audio embedding\n",
    "    audio_embedding = np.array(row['embedding'])  # Ensure the embedding is a numpy array\n",
    "\n",
    "    # Extract chroma features from the embedding\n",
    "    chroma_profile = extract_chroma_features(audio_embedding)\n",
    "\n",
    "    # Detect the most likely key and its likelihood distribution\n",
    "    predicted_key, _ = probabilistic_key_detection(chroma_profile, MAJOR_KEY_PROFILES)\n",
    "\n",
    "    # Store the predicted key\n",
    "    eval_key_predictions.append(predicted_key)\n",
    "eval_df_clean['predicted_key'] = eval_key_predictions"
   ]
  },
  {
   "cell_type": "markdown",
   "metadata": {},
   "source": [
    "# Label Encoding and Data Preprocessing for CNN"
   ]
  },
  {
   "cell_type": "code",
   "execution_count": null,
   "metadata": {},
   "outputs": [],
   "source": [
    "from tensorflow.keras.utils import to_categorical\n",
    "# Label encode the predicted keys (for training data)\n",
    "le = LabelEncoder()\n",
    "y_train = le.fit_transform(bal_df_clean['predicted_key'])\n",
    "\n",
    "# Reshape the embedding for CNN input (ensure correct dimensions)\n",
    "X_train = np.array(bal_df_clean['embedding'].tolist()).reshape(-1, 10, 128, 1)\n",
    "\n",
    "# For test data, use the same LabelEncoder instance (do not fit again)\n",
    "y_test = le.transform(eval_df_clean['predicted_key'])  # Using transform, not fit_transform\n",
    "X_test = np.array(eval_df_clean['embedding'].tolist()).reshape(-1, 10, 128, 1)\n",
    "y_train_one_hot = to_categorical(y_train, num_classes=10)\n",
    "y_test_one_hot = to_categorical(y_test, num_classes=10)\n"
   ]
  },
  {
   "cell_type": "markdown",
   "metadata": {},
   "source": [
    "# CNN Model Architecture for Key Prediction"
   ]
  },
  {
   "cell_type": "code",
   "execution_count": 38,
   "metadata": {},
   "outputs": [
    {
     "data": {
      "text/html": [
       "<pre style=\"white-space:pre;overflow-x:auto;line-height:normal;font-family:Menlo,'DejaVu Sans Mono',consolas,'Courier New',monospace\"><span style=\"font-weight: bold\">Model: \"sequential_7\"</span>\n",
       "</pre>\n"
      ],
      "text/plain": [
       "\u001b[1mModel: \"sequential_7\"\u001b[0m\n"
      ]
     },
     "metadata": {},
     "output_type": "display_data"
    },
    {
     "data": {
      "text/html": [
       "<pre style=\"white-space:pre;overflow-x:auto;line-height:normal;font-family:Menlo,'DejaVu Sans Mono',consolas,'Courier New',monospace\">┏━━━━━━━━━━━━━━━━━━━━━━━━━━━━━━━━━┳━━━━━━━━━━━━━━━━━━━━━━━━┳━━━━━━━━━━━━━━━┓\n",
       "┃<span style=\"font-weight: bold\"> Layer (type)                    </span>┃<span style=\"font-weight: bold\"> Output Shape           </span>┃<span style=\"font-weight: bold\">       Param # </span>┃\n",
       "┡━━━━━━━━━━━━━━━━━━━━━━━━━━━━━━━━━╇━━━━━━━━━━━━━━━━━━━━━━━━╇━━━━━━━━━━━━━━━┩\n",
       "│ conv2d_15 (<span style=\"color: #0087ff; text-decoration-color: #0087ff\">Conv2D</span>)              │ (<span style=\"color: #00d7ff; text-decoration-color: #00d7ff\">None</span>, <span style=\"color: #00af00; text-decoration-color: #00af00\">8</span>, <span style=\"color: #00af00; text-decoration-color: #00af00\">126</span>, <span style=\"color: #00af00; text-decoration-color: #00af00\">32</span>)     │           <span style=\"color: #00af00; text-decoration-color: #00af00\">320</span> │\n",
       "├─────────────────────────────────┼────────────────────────┼───────────────┤\n",
       "│ max_pooling2d_15 (<span style=\"color: #0087ff; text-decoration-color: #0087ff\">MaxPooling2D</span>) │ (<span style=\"color: #00d7ff; text-decoration-color: #00d7ff\">None</span>, <span style=\"color: #00af00; text-decoration-color: #00af00\">4</span>, <span style=\"color: #00af00; text-decoration-color: #00af00\">63</span>, <span style=\"color: #00af00; text-decoration-color: #00af00\">32</span>)      │             <span style=\"color: #00af00; text-decoration-color: #00af00\">0</span> │\n",
       "├─────────────────────────────────┼────────────────────────┼───────────────┤\n",
       "│ conv2d_16 (<span style=\"color: #0087ff; text-decoration-color: #0087ff\">Conv2D</span>)              │ (<span style=\"color: #00d7ff; text-decoration-color: #00d7ff\">None</span>, <span style=\"color: #00af00; text-decoration-color: #00af00\">2</span>, <span style=\"color: #00af00; text-decoration-color: #00af00\">61</span>, <span style=\"color: #00af00; text-decoration-color: #00af00\">64</span>)      │        <span style=\"color: #00af00; text-decoration-color: #00af00\">18,496</span> │\n",
       "├─────────────────────────────────┼────────────────────────┼───────────────┤\n",
       "│ max_pooling2d_16 (<span style=\"color: #0087ff; text-decoration-color: #0087ff\">MaxPooling2D</span>) │ (<span style=\"color: #00d7ff; text-decoration-color: #00d7ff\">None</span>, <span style=\"color: #00af00; text-decoration-color: #00af00\">1</span>, <span style=\"color: #00af00; text-decoration-color: #00af00\">30</span>, <span style=\"color: #00af00; text-decoration-color: #00af00\">64</span>)      │             <span style=\"color: #00af00; text-decoration-color: #00af00\">0</span> │\n",
       "├─────────────────────────────────┼────────────────────────┼───────────────┤\n",
       "│ flatten_6 (<span style=\"color: #0087ff; text-decoration-color: #0087ff\">Flatten</span>)             │ (<span style=\"color: #00d7ff; text-decoration-color: #00d7ff\">None</span>, <span style=\"color: #00af00; text-decoration-color: #00af00\">1920</span>)           │             <span style=\"color: #00af00; text-decoration-color: #00af00\">0</span> │\n",
       "├─────────────────────────────────┼────────────────────────┼───────────────┤\n",
       "│ dense_20 (<span style=\"color: #0087ff; text-decoration-color: #0087ff\">Dense</span>)                │ (<span style=\"color: #00d7ff; text-decoration-color: #00d7ff\">None</span>, <span style=\"color: #00af00; text-decoration-color: #00af00\">128</span>)            │       <span style=\"color: #00af00; text-decoration-color: #00af00\">245,888</span> │\n",
       "├─────────────────────────────────┼────────────────────────┼───────────────┤\n",
       "│ dense_21 (<span style=\"color: #0087ff; text-decoration-color: #0087ff\">Dense</span>)                │ (<span style=\"color: #00d7ff; text-decoration-color: #00d7ff\">None</span>, <span style=\"color: #00af00; text-decoration-color: #00af00\">64</span>)             │         <span style=\"color: #00af00; text-decoration-color: #00af00\">8,256</span> │\n",
       "├─────────────────────────────────┼────────────────────────┼───────────────┤\n",
       "│ dense_22 (<span style=\"color: #0087ff; text-decoration-color: #0087ff\">Dense</span>)                │ (<span style=\"color: #00d7ff; text-decoration-color: #00d7ff\">None</span>, <span style=\"color: #00af00; text-decoration-color: #00af00\">10</span>)             │           <span style=\"color: #00af00; text-decoration-color: #00af00\">650</span> │\n",
       "└─────────────────────────────────┴────────────────────────┴───────────────┘\n",
       "</pre>\n"
      ],
      "text/plain": [
       "┏━━━━━━━━━━━━━━━━━━━━━━━━━━━━━━━━━┳━━━━━━━━━━━━━━━━━━━━━━━━┳━━━━━━━━━━━━━━━┓\n",
       "┃\u001b[1m \u001b[0m\u001b[1mLayer (type)                   \u001b[0m\u001b[1m \u001b[0m┃\u001b[1m \u001b[0m\u001b[1mOutput Shape          \u001b[0m\u001b[1m \u001b[0m┃\u001b[1m \u001b[0m\u001b[1m      Param #\u001b[0m\u001b[1m \u001b[0m┃\n",
       "┡━━━━━━━━━━━━━━━━━━━━━━━━━━━━━━━━━╇━━━━━━━━━━━━━━━━━━━━━━━━╇━━━━━━━━━━━━━━━┩\n",
       "│ conv2d_15 (\u001b[38;5;33mConv2D\u001b[0m)              │ (\u001b[38;5;45mNone\u001b[0m, \u001b[38;5;34m8\u001b[0m, \u001b[38;5;34m126\u001b[0m, \u001b[38;5;34m32\u001b[0m)     │           \u001b[38;5;34m320\u001b[0m │\n",
       "├─────────────────────────────────┼────────────────────────┼───────────────┤\n",
       "│ max_pooling2d_15 (\u001b[38;5;33mMaxPooling2D\u001b[0m) │ (\u001b[38;5;45mNone\u001b[0m, \u001b[38;5;34m4\u001b[0m, \u001b[38;5;34m63\u001b[0m, \u001b[38;5;34m32\u001b[0m)      │             \u001b[38;5;34m0\u001b[0m │\n",
       "├─────────────────────────────────┼────────────────────────┼───────────────┤\n",
       "│ conv2d_16 (\u001b[38;5;33mConv2D\u001b[0m)              │ (\u001b[38;5;45mNone\u001b[0m, \u001b[38;5;34m2\u001b[0m, \u001b[38;5;34m61\u001b[0m, \u001b[38;5;34m64\u001b[0m)      │        \u001b[38;5;34m18,496\u001b[0m │\n",
       "├─────────────────────────────────┼────────────────────────┼───────────────┤\n",
       "│ max_pooling2d_16 (\u001b[38;5;33mMaxPooling2D\u001b[0m) │ (\u001b[38;5;45mNone\u001b[0m, \u001b[38;5;34m1\u001b[0m, \u001b[38;5;34m30\u001b[0m, \u001b[38;5;34m64\u001b[0m)      │             \u001b[38;5;34m0\u001b[0m │\n",
       "├─────────────────────────────────┼────────────────────────┼───────────────┤\n",
       "│ flatten_6 (\u001b[38;5;33mFlatten\u001b[0m)             │ (\u001b[38;5;45mNone\u001b[0m, \u001b[38;5;34m1920\u001b[0m)           │             \u001b[38;5;34m0\u001b[0m │\n",
       "├─────────────────────────────────┼────────────────────────┼───────────────┤\n",
       "│ dense_20 (\u001b[38;5;33mDense\u001b[0m)                │ (\u001b[38;5;45mNone\u001b[0m, \u001b[38;5;34m128\u001b[0m)            │       \u001b[38;5;34m245,888\u001b[0m │\n",
       "├─────────────────────────────────┼────────────────────────┼───────────────┤\n",
       "│ dense_21 (\u001b[38;5;33mDense\u001b[0m)                │ (\u001b[38;5;45mNone\u001b[0m, \u001b[38;5;34m64\u001b[0m)             │         \u001b[38;5;34m8,256\u001b[0m │\n",
       "├─────────────────────────────────┼────────────────────────┼───────────────┤\n",
       "│ dense_22 (\u001b[38;5;33mDense\u001b[0m)                │ (\u001b[38;5;45mNone\u001b[0m, \u001b[38;5;34m10\u001b[0m)             │           \u001b[38;5;34m650\u001b[0m │\n",
       "└─────────────────────────────────┴────────────────────────┴───────────────┘\n"
      ]
     },
     "metadata": {},
     "output_type": "display_data"
    },
    {
     "data": {
      "text/html": [
       "<pre style=\"white-space:pre;overflow-x:auto;line-height:normal;font-family:Menlo,'DejaVu Sans Mono',consolas,'Courier New',monospace\"><span style=\"font-weight: bold\"> Total params: </span><span style=\"color: #00af00; text-decoration-color: #00af00\">273,610</span> (1.04 MB)\n",
       "</pre>\n"
      ],
      "text/plain": [
       "\u001b[1m Total params: \u001b[0m\u001b[38;5;34m273,610\u001b[0m (1.04 MB)\n"
      ]
     },
     "metadata": {},
     "output_type": "display_data"
    },
    {
     "data": {
      "text/html": [
       "<pre style=\"white-space:pre;overflow-x:auto;line-height:normal;font-family:Menlo,'DejaVu Sans Mono',consolas,'Courier New',monospace\"><span style=\"font-weight: bold\"> Trainable params: </span><span style=\"color: #00af00; text-decoration-color: #00af00\">273,610</span> (1.04 MB)\n",
       "</pre>\n"
      ],
      "text/plain": [
       "\u001b[1m Trainable params: \u001b[0m\u001b[38;5;34m273,610\u001b[0m (1.04 MB)\n"
      ]
     },
     "metadata": {},
     "output_type": "display_data"
    },
    {
     "data": {
      "text/html": [
       "<pre style=\"white-space:pre;overflow-x:auto;line-height:normal;font-family:Menlo,'DejaVu Sans Mono',consolas,'Courier New',monospace\"><span style=\"font-weight: bold\"> Non-trainable params: </span><span style=\"color: #00af00; text-decoration-color: #00af00\">0</span> (0.00 B)\n",
       "</pre>\n"
      ],
      "text/plain": [
       "\u001b[1m Non-trainable params: \u001b[0m\u001b[38;5;34m0\u001b[0m (0.00 B)\n"
      ]
     },
     "metadata": {},
     "output_type": "display_data"
    }
   ],
   "source": [
    "from tensorflow.keras.models import Sequential\n",
    "from tensorflow.keras.layers import Conv2D, MaxPooling2D, Flatten, Dense\n",
    "from tensorflow.keras.optimizers import Adam\n",
    "from tensorflow.keras.layers import Dropout\n",
    "from tensorflow.keras.callbacks import EarlyStopping\n",
    "\n",
    "\n",
    "# Build the CNN model\n",
    "model = Sequential()\n",
    "\n",
    "# Add convolutional layers\n",
    "model.add(Conv2D(32, kernel_size=(3, 3), activation='relu', input_shape=(10, 128, 1)))\n",
    "model.add(MaxPooling2D(pool_size=(2, 2)))\n",
    "model.add(Conv2D(64, kernel_size=(3, 3), activation='relu'))\n",
    "model.add(MaxPooling2D(pool_size=(2, 2)))\n",
    "\n",
    "# Flatten the results of the convolutional layers\n",
    "model.add(Flatten())\n",
    "\n",
    "model.add(Dense(128, activation='relu'))\n",
    "model.add(Dense(64, activation='relu'))\n",
    "model.add(Dense(len(le.classes_), activation='softmax'))  # For multi-class classification\n",
    "optimizer = Adam(learning_rate= 0.0001)\n",
    "# Compile the model\n",
    "model.compile(optimizer=Adam(), loss='categorical_crossentropy', metrics=['accuracy'])\n",
    "early_stopping = EarlyStopping(monitor='val_loss', patience=3, restore_best_weights=True)\n",
    "# Summary of the model architecture\n",
    "model.summary()"
   ]
  },
  {
   "cell_type": "markdown",
   "metadata": {},
   "source": [
    "# Model Training for Key Prediction"
   ]
  },
  {
   "cell_type": "code",
   "execution_count": 39,
   "metadata": {},
   "outputs": [
    {
     "name": "stdout",
     "output_type": "stream",
     "text": [
      "Epoch 1/10\n",
      "\u001b[1m245/245\u001b[0m \u001b[32m━━━━━━━━━━━━━━━━━━━━\u001b[0m\u001b[37m\u001b[0m \u001b[1m4s\u001b[0m 8ms/step - accuracy: 0.6712 - loss: 1.1601 - val_accuracy: 0.6789 - val_loss: 1.0823\n",
      "Epoch 2/10\n",
      "\u001b[1m245/245\u001b[0m \u001b[32m━━━━━━━━━━━━━━━━━━━━\u001b[0m\u001b[37m\u001b[0m \u001b[1m2s\u001b[0m 7ms/step - accuracy: 0.6744 - loss: 1.0770 - val_accuracy: 0.6789 - val_loss: 1.0568\n",
      "Epoch 3/10\n",
      "\u001b[1m245/245\u001b[0m \u001b[32m━━━━━━━━━━━━━━━━━━━━\u001b[0m\u001b[37m\u001b[0m \u001b[1m2s\u001b[0m 7ms/step - accuracy: 0.6789 - loss: 1.0466 - val_accuracy: 0.6789 - val_loss: 1.0410\n",
      "Epoch 4/10\n",
      "\u001b[1m245/245\u001b[0m \u001b[32m━━━━━━━━━━━━━━━━━━━━\u001b[0m\u001b[37m\u001b[0m \u001b[1m2s\u001b[0m 7ms/step - accuracy: 0.6838 - loss: 1.0261 - val_accuracy: 0.6789 - val_loss: 1.0372\n",
      "Epoch 5/10\n",
      "\u001b[1m245/245\u001b[0m \u001b[32m━━━━━━━━━━━━━━━━━━━━\u001b[0m\u001b[37m\u001b[0m \u001b[1m2s\u001b[0m 7ms/step - accuracy: 0.6846 - loss: 1.0327 - val_accuracy: 0.6789 - val_loss: 1.0402\n",
      "Epoch 6/10\n",
      "\u001b[1m245/245\u001b[0m \u001b[32m━━━━━━━━━━━━━━━━━━━━\u001b[0m\u001b[37m\u001b[0m \u001b[1m2s\u001b[0m 7ms/step - accuracy: 0.6820 - loss: 1.0327 - val_accuracy: 0.6789 - val_loss: 1.0388\n",
      "Epoch 7/10\n",
      "\u001b[1m245/245\u001b[0m \u001b[32m━━━━━━━━━━━━━━━━━━━━\u001b[0m\u001b[37m\u001b[0m \u001b[1m2s\u001b[0m 8ms/step - accuracy: 0.6788 - loss: 1.0393 - val_accuracy: 0.6789 - val_loss: 1.0470\n",
      "Epoch 8/10\n",
      "\u001b[1m245/245\u001b[0m \u001b[32m━━━━━━━━━━━━━━━━━━━━\u001b[0m\u001b[37m\u001b[0m \u001b[1m2s\u001b[0m 7ms/step - accuracy: 0.6775 - loss: 1.0295 - val_accuracy: 0.6789 - val_loss: 1.0482\n",
      "Epoch 9/10\n",
      "\u001b[1m245/245\u001b[0m \u001b[32m━━━━━━━━━━━━━━━━━━━━\u001b[0m\u001b[37m\u001b[0m \u001b[1m2s\u001b[0m 8ms/step - accuracy: 0.6862 - loss: 1.0137 - val_accuracy: 0.6789 - val_loss: 1.0508\n",
      "Epoch 10/10\n",
      "\u001b[1m245/245\u001b[0m \u001b[32m━━━━━━━━━━━━━━━━━━━━\u001b[0m\u001b[37m\u001b[0m \u001b[1m2s\u001b[0m 7ms/step - accuracy: 0.6888 - loss: 0.9857 - val_accuracy: 0.6789 - val_loss: 1.0748\n"
     ]
    }
   ],
   "source": [
    "history = model.fit(X_train, y_train_one_hot, epochs=10, batch_size=32, validation_data=(X_test, y_test_one_hot))\n"
   ]
  },
  {
   "cell_type": "markdown",
   "metadata": {},
   "source": [
    "# Plotting Training and Validation Accuracy"
   ]
  },
  {
   "cell_type": "code",
   "execution_count": 40,
   "metadata": {},
   "outputs": [
    {
     "data": {
      "image/png": "[encoded data removed]",
      "text/plain": [
       "<Figure size 640x480 with 1 Axes>"
      ]
     },
     "metadata": {},
     "output_type": "display_data"
    }
   ],
   "source": [
    "\n",
    "import matplotlib.pyplot as plt\n",
    "plt.plot(history.history['accuracy'], label='Train Accuracy')\n",
    "plt.plot(history.history['val_accuracy'], label='Validation Accuracy')\n",
    "plt.legend()\n",
    "plt.show()\n"
   ]
  },
  {
   "cell_type": "markdown",
   "metadata": {},
   "source": [
    "# Plotting Class Distribution in Training Set"
   ]
  },
  {
   "cell_type": "code",
   "execution_count": 42,
   "metadata": {},
   "outputs": [
    {
     "data": {
      "image/png": "[encoded data removed]",
      "text/plain": [
       "<Figure size 1000x600 with 1 Axes>"
      ]
     },
     "metadata": {},
     "output_type": "display_data"
    }
   ],
   "source": [
    "import matplotlib.pyplot as plt\n",
    "import seaborn as sns\n",
    "import numpy as np\n",
    "\n",
    "# Assuming y_train is the target variable (the true labels)\n",
    "# If y_train is encoded as integers, you can directly use the following code\n",
    "\n",
    "# Count the frequency of each class\n",
    "unique, counts = np.unique(y_train, return_counts=True)\n",
    "\n",
    "# Create a DataFrame for easier plotting\n",
    "import pandas as pd\n",
    "class_distribution = pd.DataFrame({'Class': unique, 'Frequency': counts})\n",
    "\n",
    "# Sort the class distribution by class label\n",
    "class_distribution = class_distribution.sort_values(by='Class')\n",
    "\n",
    "# Plot the bar chart\n",
    "plt.figure(figsize=(10, 6))\n",
    "sns.barplot(x='Class', y='Frequency', data=class_distribution, palette='viridis')\n",
    "plt.title('Class Distribution in Training Set')\n",
    "plt.xlabel('Class Label')\n",
    "plt.ylabel('Frequency')\n",
    "plt.show()\n"
   ]
  },
  {
   "cell_type": "markdown",
   "metadata": {},
   "source": [
    "# CNN Model with Enhanced Layers and Early Stopping for Multi-Label Classification for Genre Detection"
   ]
  },
  {
   "cell_type": "code",
   "execution_count": null,
   "metadata": {},
   "outputs": [
    {
     "data": {
      "text/html": [
       "<pre style=\"white-space:pre;overflow-x:auto;line-height:normal;font-family:Menlo,'DejaVu Sans Mono',consolas,'Courier New',monospace\"><span style=\"font-weight: bold\">Model: \"sequential\"</span>\n",
       "</pre>\n"
      ],
      "text/plain": [
       "\u001b[1mModel: \"sequential\"\u001b[0m\n"
      ]
     },
     "metadata": {},
     "output_type": "display_data"
    },
    {
     "data": {
      "text/html": [
       "<pre style=\"white-space:pre;overflow-x:auto;line-height:normal;font-family:Menlo,'DejaVu Sans Mono',consolas,'Courier New',monospace\">┏━━━━━━━━━━━━━━━━━━━━━━━━━━━━━━━━━┳━━━━━━━━━━━━━━━━━━━━━━━━┳━━━━━━━━━━━━━━━┓\n",
       "┃<span style=\"font-weight: bold\"> Layer (type)                    </span>┃<span style=\"font-weight: bold\"> Output Shape           </span>┃<span style=\"font-weight: bold\">       Param # </span>┃\n",
       "┡━━━━━━━━━━━━━━━━━━━━━━━━━━━━━━━━━╇━━━━━━━━━━━━━━━━━━━━━━━━╇━━━━━━━━━━━━━━━┩\n",
       "│ conv2d (<span style=\"color: #0087ff; text-decoration-color: #0087ff\">Conv2D</span>)                 │ (<span style=\"color: #00d7ff; text-decoration-color: #00d7ff\">None</span>, <span style=\"color: #00af00; text-decoration-color: #00af00\">10</span>, <span style=\"color: #00af00; text-decoration-color: #00af00\">128</span>, <span style=\"color: #00af00; text-decoration-color: #00af00\">64</span>)    │           <span style=\"color: #00af00; text-decoration-color: #00af00\">640</span> │\n",
       "├─────────────────────────────────┼────────────────────────┼───────────────┤\n",
       "│ max_pooling2d (<span style=\"color: #0087ff; text-decoration-color: #0087ff\">MaxPooling2D</span>)    │ (<span style=\"color: #00d7ff; text-decoration-color: #00d7ff\">None</span>, <span style=\"color: #00af00; text-decoration-color: #00af00\">5</span>, <span style=\"color: #00af00; text-decoration-color: #00af00\">64</span>, <span style=\"color: #00af00; text-decoration-color: #00af00\">64</span>)      │             <span style=\"color: #00af00; text-decoration-color: #00af00\">0</span> │\n",
       "├─────────────────────────────────┼────────────────────────┼───────────────┤\n",
       "│ conv2d_1 (<span style=\"color: #0087ff; text-decoration-color: #0087ff\">Conv2D</span>)               │ (<span style=\"color: #00d7ff; text-decoration-color: #00d7ff\">None</span>, <span style=\"color: #00af00; text-decoration-color: #00af00\">5</span>, <span style=\"color: #00af00; text-decoration-color: #00af00\">64</span>, <span style=\"color: #00af00; text-decoration-color: #00af00\">128</span>)     │        <span style=\"color: #00af00; text-decoration-color: #00af00\">73,856</span> │\n",
       "├─────────────────────────────────┼────────────────────────┼───────────────┤\n",
       "│ max_pooling2d_1 (<span style=\"color: #0087ff; text-decoration-color: #0087ff\">MaxPooling2D</span>)  │ (<span style=\"color: #00d7ff; text-decoration-color: #00d7ff\">None</span>, <span style=\"color: #00af00; text-decoration-color: #00af00\">3</span>, <span style=\"color: #00af00; text-decoration-color: #00af00\">32</span>, <span style=\"color: #00af00; text-decoration-color: #00af00\">128</span>)     │             <span style=\"color: #00af00; text-decoration-color: #00af00\">0</span> │\n",
       "├─────────────────────────────────┼────────────────────────┼───────────────┤\n",
       "│ conv2d_2 (<span style=\"color: #0087ff; text-decoration-color: #0087ff\">Conv2D</span>)               │ (<span style=\"color: #00d7ff; text-decoration-color: #00d7ff\">None</span>, <span style=\"color: #00af00; text-decoration-color: #00af00\">3</span>, <span style=\"color: #00af00; text-decoration-color: #00af00\">32</span>, <span style=\"color: #00af00; text-decoration-color: #00af00\">256</span>)     │       <span style=\"color: #00af00; text-decoration-color: #00af00\">295,168</span> │\n",
       "├─────────────────────────────────┼────────────────────────┼───────────────┤\n",
       "│ max_pooling2d_2 (<span style=\"color: #0087ff; text-decoration-color: #0087ff\">MaxPooling2D</span>)  │ (<span style=\"color: #00d7ff; text-decoration-color: #00d7ff\">None</span>, <span style=\"color: #00af00; text-decoration-color: #00af00\">2</span>, <span style=\"color: #00af00; text-decoration-color: #00af00\">16</span>, <span style=\"color: #00af00; text-decoration-color: #00af00\">256</span>)     │             <span style=\"color: #00af00; text-decoration-color: #00af00\">0</span> │\n",
       "├─────────────────────────────────┼────────────────────────┼───────────────┤\n",
       "│ global_average_pooling2d        │ (<span style=\"color: #00d7ff; text-decoration-color: #00d7ff\">None</span>, <span style=\"color: #00af00; text-decoration-color: #00af00\">256</span>)            │             <span style=\"color: #00af00; text-decoration-color: #00af00\">0</span> │\n",
       "│ (<span style=\"color: #0087ff; text-decoration-color: #0087ff\">GlobalAveragePooling2D</span>)        │                        │               │\n",
       "├─────────────────────────────────┼────────────────────────┼───────────────┤\n",
       "│ dense (<span style=\"color: #0087ff; text-decoration-color: #0087ff\">Dense</span>)                   │ (<span style=\"color: #00d7ff; text-decoration-color: #00d7ff\">None</span>, <span style=\"color: #00af00; text-decoration-color: #00af00\">512</span>)            │       <span style=\"color: #00af00; text-decoration-color: #00af00\">131,584</span> │\n",
       "├─────────────────────────────────┼────────────────────────┼───────────────┤\n",
       "│ dropout (<span style=\"color: #0087ff; text-decoration-color: #0087ff\">Dropout</span>)               │ (<span style=\"color: #00d7ff; text-decoration-color: #00d7ff\">None</span>, <span style=\"color: #00af00; text-decoration-color: #00af00\">512</span>)            │             <span style=\"color: #00af00; text-decoration-color: #00af00\">0</span> │\n",
       "├─────────────────────────────────┼────────────────────────┼───────────────┤\n",
       "│ dense_1 (<span style=\"color: #0087ff; text-decoration-color: #0087ff\">Dense</span>)                 │ (<span style=\"color: #00d7ff; text-decoration-color: #00d7ff\">None</span>, <span style=\"color: #00af00; text-decoration-color: #00af00\">527</span>)            │       <span style=\"color: #00af00; text-decoration-color: #00af00\">270,351</span> │\n",
       "└─────────────────────────────────┴────────────────────────┴───────────────┘\n",
       "</pre>\n"
      ],
      "text/plain": [
       "┏━━━━━━━━━━━━━━━━━━━━━━━━━━━━━━━━━┳━━━━━━━━━━━━━━━━━━━━━━━━┳━━━━━━━━━━━━━━━┓\n",
       "┃\u001b[1m \u001b[0m\u001b[1mLayer (type)                   \u001b[0m\u001b[1m \u001b[0m┃\u001b[1m \u001b[0m\u001b[1mOutput Shape          \u001b[0m\u001b[1m \u001b[0m┃\u001b[1m \u001b[0m\u001b[1m      Param #\u001b[0m\u001b[1m \u001b[0m┃\n",
       "┡━━━━━━━━━━━━━━━━━━━━━━━━━━━━━━━━━╇━━━━━━━━━━━━━━━━━━━━━━━━╇━━━━━━━━━━━━━━━┩\n",
       "│ conv2d (\u001b[38;5;33mConv2D\u001b[0m)                 │ (\u001b[38;5;45mNone\u001b[0m, \u001b[38;5;34m10\u001b[0m, \u001b[38;5;34m128\u001b[0m, \u001b[38;5;34m64\u001b[0m)    │           \u001b[38;5;34m640\u001b[0m │\n",
       "├─────────────────────────────────┼────────────────────────┼───────────────┤\n",
       "│ max_pooling2d (\u001b[38;5;33mMaxPooling2D\u001b[0m)    │ (\u001b[38;5;45mNone\u001b[0m, \u001b[38;5;34m5\u001b[0m, \u001b[38;5;34m64\u001b[0m, \u001b[38;5;34m64\u001b[0m)      │             \u001b[38;5;34m0\u001b[0m │\n",
       "├─────────────────────────────────┼────────────────────────┼───────────────┤\n",
       "│ conv2d_1 (\u001b[38;5;33mConv2D\u001b[0m)               │ (\u001b[38;5;45mNone\u001b[0m, \u001b[38;5;34m5\u001b[0m, \u001b[38;5;34m64\u001b[0m, \u001b[38;5;34m128\u001b[0m)     │        \u001b[38;5;34m73,856\u001b[0m │\n",
       "├─────────────────────────────────┼────────────────────────┼───────────────┤\n",
       "│ max_pooling2d_1 (\u001b[38;5;33mMaxPooling2D\u001b[0m)  │ (\u001b[38;5;45mNone\u001b[0m, \u001b[38;5;34m3\u001b[0m, \u001b[38;5;34m32\u001b[0m, \u001b[38;5;34m128\u001b[0m)     │             \u001b[38;5;34m0\u001b[0m │\n",
       "├─────────────────────────────────┼────────────────────────┼───────────────┤\n",
       "│ conv2d_2 (\u001b[38;5;33mConv2D\u001b[0m)               │ (\u001b[38;5;45mNone\u001b[0m, \u001b[38;5;34m3\u001b[0m, \u001b[38;5;34m32\u001b[0m, \u001b[38;5;34m256\u001b[0m)     │       \u001b[38;5;34m295,168\u001b[0m │\n",
       "├─────────────────────────────────┼────────────────────────┼───────────────┤\n",
       "│ max_pooling2d_2 (\u001b[38;5;33mMaxPooling2D\u001b[0m)  │ (\u001b[38;5;45mNone\u001b[0m, \u001b[38;5;34m2\u001b[0m, \u001b[38;5;34m16\u001b[0m, \u001b[38;5;34m256\u001b[0m)     │             \u001b[38;5;34m0\u001b[0m │\n",
       "├─────────────────────────────────┼────────────────────────┼───────────────┤\n",
       "│ global_average_pooling2d        │ (\u001b[38;5;45mNone\u001b[0m, \u001b[38;5;34m256\u001b[0m)            │             \u001b[38;5;34m0\u001b[0m │\n",
       "│ (\u001b[38;5;33mGlobalAveragePooling2D\u001b[0m)        │                        │               │\n",
       "├─────────────────────────────────┼────────────────────────┼───────────────┤\n",
       "│ dense (\u001b[38;5;33mDense\u001b[0m)                   │ (\u001b[38;5;45mNone\u001b[0m, \u001b[38;5;34m512\u001b[0m)            │       \u001b[38;5;34m131,584\u001b[0m │\n",
       "├─────────────────────────────────┼────────────────────────┼───────────────┤\n",
       "│ dropout (\u001b[38;5;33mDropout\u001b[0m)               │ (\u001b[38;5;45mNone\u001b[0m, \u001b[38;5;34m512\u001b[0m)            │             \u001b[38;5;34m0\u001b[0m │\n",
       "├─────────────────────────────────┼────────────────────────┼───────────────┤\n",
       "│ dense_1 (\u001b[38;5;33mDense\u001b[0m)                 │ (\u001b[38;5;45mNone\u001b[0m, \u001b[38;5;34m527\u001b[0m)            │       \u001b[38;5;34m270,351\u001b[0m │\n",
       "└─────────────────────────────────┴────────────────────────┴───────────────┘\n"
      ]
     },
     "metadata": {},
     "output_type": "display_data"
    },
    {
     "data": {
      "text/html": [
       "<pre style=\"white-space:pre;overflow-x:auto;line-height:normal;font-family:Menlo,'DejaVu Sans Mono',consolas,'Courier New',monospace\"><span style=\"font-weight: bold\"> Total params: </span><span style=\"color: #00af00; text-decoration-color: #00af00\">771,599</span> (2.94 MB)\n",
       "</pre>\n"
      ],
      "text/plain": [
       "\u001b[1m Total params: \u001b[0m\u001b[38;5;34m771,599\u001b[0m (2.94 MB)\n"
      ]
     },
     "metadata": {},
     "output_type": "display_data"
    },
    {
     "data": {
      "text/html": [
       "<pre style=\"white-space:pre;overflow-x:auto;line-height:normal;font-family:Menlo,'DejaVu Sans Mono',consolas,'Courier New',monospace\"><span style=\"font-weight: bold\"> Trainable params: </span><span style=\"color: #00af00; text-decoration-color: #00af00\">771,599</span> (2.94 MB)\n",
       "</pre>\n"
      ],
      "text/plain": [
       "\u001b[1m Trainable params: \u001b[0m\u001b[38;5;34m771,599\u001b[0m (2.94 MB)\n"
      ]
     },
     "metadata": {},
     "output_type": "display_data"
    },
    {
     "data": {
      "text/html": [
       "<pre style=\"white-space:pre;overflow-x:auto;line-height:normal;font-family:Menlo,'DejaVu Sans Mono',consolas,'Courier New',monospace\"><span style=\"font-weight: bold\"> Non-trainable params: </span><span style=\"color: #00af00; text-decoration-color: #00af00\">0</span> (0.00 B)\n",
       "</pre>\n"
      ],
      "text/plain": [
       "\u001b[1m Non-trainable params: \u001b[0m\u001b[38;5;34m0\u001b[0m (0.00 B)\n"
      ]
     },
     "metadata": {},
     "output_type": "display_data"
    },
    {
     "name": "stdout",
     "output_type": "stream",
     "text": [
      "Epoch 1/30\n",
      "\u001b[1m245/245\u001b[0m \u001b[32m━━━━━━━━━━━━━━━━━━━━\u001b[0m\u001b[37m\u001b[0m \u001b[1m13s\u001b[0m 45ms/step - accuracy: 0.1427 - loss: 0.1211 - val_accuracy: 0.2597 - val_loss: 0.0272\n",
      "Epoch 2/30\n",
      "\u001b[1m245/245\u001b[0m \u001b[32m━━━━━━━━━━━━━━━━━━━━\u001b[0m\u001b[37m\u001b[0m \u001b[1m11s\u001b[0m 45ms/step - accuracy: 0.2040 - loss: 0.0268 - val_accuracy: 0.1561 - val_loss: 0.0274\n",
      "Epoch 3/30\n",
      "\u001b[1m245/245\u001b[0m \u001b[32m━━━━━━━━━━━━━━━━━━━━\u001b[0m\u001b[37m\u001b[0m \u001b[1m11s\u001b[0m 44ms/step - accuracy: 0.1981 - loss: 0.0262 - val_accuracy: 0.2933 - val_loss: 0.0273\n",
      "Epoch 4/30\n",
      "\u001b[1m245/245\u001b[0m \u001b[32m━━━━━━━━━━━━━━━━━━━━\u001b[0m\u001b[37m\u001b[0m \u001b[1m10s\u001b[0m 42ms/step - accuracy: 0.2208 - loss: 0.0261 - val_accuracy: 0.1601 - val_loss: 0.0270\n",
      "Epoch 5/30\n",
      "\u001b[1m245/245\u001b[0m \u001b[32m━━━━━━━━━━━━━━━━━━━━\u001b[0m\u001b[37m\u001b[0m \u001b[1m11s\u001b[0m 43ms/step - accuracy: 0.2165 - loss: 0.0259 - val_accuracy: 0.2198 - val_loss: 0.0267\n",
      "Epoch 6/30\n",
      "\u001b[1m245/245\u001b[0m \u001b[32m━━━━━━━━━━━━━━━━━━━━\u001b[0m\u001b[37m\u001b[0m \u001b[1m11s\u001b[0m 46ms/step - accuracy: 0.2481 - loss: 0.0253 - val_accuracy: 0.2417 - val_loss: 0.0265\n",
      "Epoch 7/30\n",
      "\u001b[1m245/245\u001b[0m \u001b[32m━━━━━━━━━━━━━━━━━━━━\u001b[0m\u001b[37m\u001b[0m \u001b[1m10s\u001b[0m 41ms/step - accuracy: 0.2501 - loss: 0.0253 - val_accuracy: 0.2670 - val_loss: 0.0261\n",
      "Epoch 8/30\n",
      "\u001b[1m245/245\u001b[0m \u001b[32m━━━━━━━━━━━━━━━━━━━━\u001b[0m\u001b[37m\u001b[0m \u001b[1m10s\u001b[0m 40ms/step - accuracy: 0.2663 - loss: 0.0249 - val_accuracy: 0.2776 - val_loss: 0.0261\n",
      "Epoch 9/30\n",
      "\u001b[1m245/245\u001b[0m \u001b[32m━━━━━━━━━━━━━━━━━━━━\u001b[0m\u001b[37m\u001b[0m \u001b[1m10s\u001b[0m 40ms/step - accuracy: 0.2865 - loss: 0.0248 - val_accuracy: 0.3052 - val_loss: 0.0261\n",
      "Epoch 10/30\n",
      "\u001b[1m245/245\u001b[0m \u001b[32m━━━━━━━━━━━━━━━━━━━━\u001b[0m\u001b[37m\u001b[0m \u001b[1m10s\u001b[0m 41ms/step - accuracy: 0.2977 - loss: 0.0247 - val_accuracy: 0.2770 - val_loss: 0.0261\n",
      "Epoch 11/30\n",
      "\u001b[1m245/245\u001b[0m \u001b[32m━━━━━━━━━━━━━━━━━━━━\u001b[0m\u001b[37m\u001b[0m \u001b[1m10s\u001b[0m 40ms/step - accuracy: 0.2979 - loss: 0.0243 - val_accuracy: 0.3547 - val_loss: 0.0253\n",
      "Epoch 12/30\n",
      "\u001b[1m245/245\u001b[0m \u001b[32m━━━━━━━━━━━━━━━━━━━━\u001b[0m\u001b[37m\u001b[0m \u001b[1m11s\u001b[0m 45ms/step - accuracy: 0.3530 - loss: 0.0234 - val_accuracy: 0.3646 - val_loss: 0.0244\n",
      "Epoch 13/30\n",
      "\u001b[1m245/245\u001b[0m \u001b[32m━━━━━━━━━━━━━━━━━━━━\u001b[0m\u001b[37m\u001b[0m \u001b[1m10s\u001b[0m 42ms/step - accuracy: 0.3720 - loss: 0.0232 - val_accuracy: 0.3603 - val_loss: 0.0242\n",
      "Epoch 14/30\n",
      "\u001b[1m245/245\u001b[0m \u001b[32m━━━━━━━━━━━━━━━━━━━━\u001b[0m\u001b[37m\u001b[0m \u001b[1m10s\u001b[0m 41ms/step - accuracy: 0.3746 - loss: 0.0229 - val_accuracy: 0.3734 - val_loss: 0.0239\n",
      "Epoch 15/30\n",
      "\u001b[1m245/245\u001b[0m \u001b[32m━━━━━━━━━━━━━━━━━━━━\u001b[0m\u001b[37m\u001b[0m \u001b[1m10s\u001b[0m 40ms/step - accuracy: 0.3967 - loss: 0.0225 - val_accuracy: 0.3677 - val_loss: 0.0237\n",
      "Epoch 16/30\n",
      "\u001b[1m245/245\u001b[0m \u001b[32m━━━━━━━━━━━━━━━━━━━━\u001b[0m\u001b[37m\u001b[0m \u001b[1m10s\u001b[0m 40ms/step - accuracy: 0.3960 - loss: 0.0221 - val_accuracy: 0.3617 - val_loss: 0.0236\n",
      "Epoch 17/30\n",
      "\u001b[1m245/245\u001b[0m \u001b[32m━━━━━━━━━━━━━━━━━━━━\u001b[0m\u001b[37m\u001b[0m \u001b[1m10s\u001b[0m 39ms/step - accuracy: 0.3901 - loss: 0.0222 - val_accuracy: 0.3786 - val_loss: 0.0238\n",
      "Epoch 18/30\n",
      "\u001b[1m245/245\u001b[0m \u001b[32m━━━━━━━━━━━━━━━━━━━━\u001b[0m\u001b[37m\u001b[0m \u001b[1m10s\u001b[0m 39ms/step - accuracy: 0.3896 - loss: 0.0221 - val_accuracy: 0.3720 - val_loss: 0.0232\n",
      "Epoch 19/30\n",
      "\u001b[1m245/245\u001b[0m \u001b[32m━━━━━━━━━━━━━━━━━━━━\u001b[0m\u001b[37m\u001b[0m \u001b[1m10s\u001b[0m 40ms/step - accuracy: 0.3884 - loss: 0.0217 - val_accuracy: 0.3705 - val_loss: 0.0232\n",
      "Epoch 20/30\n",
      "\u001b[1m245/245\u001b[0m \u001b[32m━━━━━━━━━━━━━━━━━━━━\u001b[0m\u001b[37m\u001b[0m \u001b[1m10s\u001b[0m 39ms/step - accuracy: 0.4034 - loss: 0.0216 - val_accuracy: 0.3811 - val_loss: 0.0231\n",
      "Epoch 21/30\n",
      "\u001b[1m245/245\u001b[0m \u001b[32m━━━━━━━━━━━━━━━━━━━━\u001b[0m\u001b[37m\u001b[0m \u001b[1m10s\u001b[0m 40ms/step - accuracy: 0.3832 - loss: 0.0215 - val_accuracy: 0.3794 - val_loss: 0.0228\n",
      "Epoch 22/30\n",
      "\u001b[1m245/245\u001b[0m \u001b[32m━━━━━━━━━━━━━━━━━━━━\u001b[0m\u001b[37m\u001b[0m \u001b[1m10s\u001b[0m 40ms/step - accuracy: 0.4006 - loss: 0.0212 - val_accuracy: 0.3744 - val_loss: 0.0226\n",
      "Epoch 23/30\n",
      "\u001b[1m245/245\u001b[0m \u001b[32m━━━━━━━━━━━━━━━━━━━━\u001b[0m\u001b[37m\u001b[0m \u001b[1m10s\u001b[0m 39ms/step - accuracy: 0.3914 - loss: 0.0210 - val_accuracy: 0.3860 - val_loss: 0.0223\n",
      "Epoch 24/30\n",
      "\u001b[1m245/245\u001b[0m \u001b[32m━━━━━━━━━━━━━━━━━━━━\u001b[0m\u001b[37m\u001b[0m \u001b[1m10s\u001b[0m 39ms/step - accuracy: 0.3915 - loss: 0.0209 - val_accuracy: 0.3782 - val_loss: 0.0223\n",
      "Epoch 25/30\n",
      "\u001b[1m245/245\u001b[0m \u001b[32m━━━━━━━━━━━━━━━━━━━━\u001b[0m\u001b[37m\u001b[0m \u001b[1m10s\u001b[0m 39ms/step - accuracy: 0.3848 - loss: 0.0205 - val_accuracy: 0.3805 - val_loss: 0.0225\n",
      "Epoch 26/30\n",
      "\u001b[1m245/245\u001b[0m \u001b[32m━━━━━━━━━━━━━━━━━━━━\u001b[0m\u001b[37m\u001b[0m \u001b[1m9s\u001b[0m 38ms/step - accuracy: 0.4007 - loss: 0.0204 - val_accuracy: 0.3871 - val_loss: 0.0219\n",
      "Epoch 27/30\n",
      "\u001b[1m245/245\u001b[0m \u001b[32m━━━━━━━━━━━━━━━━━━━━\u001b[0m\u001b[37m\u001b[0m \u001b[1m10s\u001b[0m 39ms/step - accuracy: 0.3994 - loss: 0.0200 - val_accuracy: 0.3815 - val_loss: 0.0215\n",
      "Epoch 28/30\n",
      "\u001b[1m245/245\u001b[0m \u001b[32m━━━━━━━━━━━━━━━━━━━━\u001b[0m\u001b[37m\u001b[0m \u001b[1m10s\u001b[0m 39ms/step - accuracy: 0.3948 - loss: 0.0198 - val_accuracy: 0.3780 - val_loss: 0.0215\n",
      "Epoch 29/30\n",
      "\u001b[1m245/245\u001b[0m \u001b[32m━━━━━━━━━━━━━━━━━━━━\u001b[0m\u001b[37m\u001b[0m \u001b[1m10s\u001b[0m 39ms/step - accuracy: 0.4001 - loss: 0.0194 - val_accuracy: 0.3726 - val_loss: 0.0212\n",
      "Epoch 30/30\n",
      "\u001b[1m245/245\u001b[0m \u001b[32m━━━━━━━━━━━━━━━━━━━━\u001b[0m\u001b[37m\u001b[0m \u001b[1m10s\u001b[0m 39ms/step - accuracy: 0.3961 - loss: 0.0193 - val_accuracy: 0.3922 - val_loss: 0.0212\n"
     ]
    },
    {
     "data": {
      "text/plain": [
       "<keras.src.callbacks.history.History at 0x178976a5fd0>"
      ]
     },
     "execution_count": 19,
     "metadata": {},
     "output_type": "execute_result"
    }
   ],
   "source": [
    "import tensorflow as tf\n",
    "from tensorflow.keras import layers, models\n",
    "from tensorflow.keras.optimizers import Adam\n",
    "\n",
    "# Define the CNN model with enhancements\n",
    "def create_cnn_model(input_shape, num_classes):\n",
    "    model = models.Sequential()\n",
    "\n",
    "    # Convolutional Layer 1 with padding and increased filters\n",
    "    model.add(layers.Conv2D(64, (3, 3), activation='relu', padding='same', input_shape=input_shape))\n",
    "    model.add(layers.MaxPooling2D((2, 2), padding='same'))\n",
    "    \n",
    "    # Convolutional Layer 2 with padding and increased filters\n",
    "    model.add(layers.Conv2D(128, (3, 3), activation='relu', padding='same'))\n",
    "    model.add(layers.MaxPooling2D((2, 2), padding='same'))\n",
    "    \n",
    "    # Convolutional Layer 3 with padding and increased filters\n",
    "    model.add(layers.Conv2D(256, (3, 3), activation='relu', padding='same'))\n",
    "    model.add(layers.MaxPooling2D((2, 2), padding='same'))\n",
    "    \n",
    "    # Global Average Pooling\n",
    "    model.add(layers.GlobalAveragePooling2D())\n",
    "\n",
    "    # Fully connected layer with dropout\n",
    "    model.add(layers.Dense(512, activation='relu'))\n",
    "    model.add(layers.Dropout(0.5))  # Dropout to reduce overfitting\n",
    "\n",
    "    # Output layer for multi-label classification\n",
    "    model.add(layers.Dense(num_classes, activation='sigmoid'))  # Sigmoid for multi-label\n",
    "\n",
    "    return model\n",
    "\n",
    "# Set input shape and number of classes (labels)\n",
    "input_shape = (10, 128, 1)  # Shape of each input sample (10, 128, 1)\n",
    "num_classes = y_train.shape[1]  # Number of unique labels\n",
    "\n",
    "# Create the CNN model\n",
    "cnn_model = create_cnn_model(input_shape, num_classes)\n",
    "\n",
    "# Compile the model\n",
    "cnn_model.compile(optimizer=Adam(learning_rate=0.001),  # Use a lower learning rate\n",
    "                  loss='binary_crossentropy', \n",
    "                  metrics=['accuracy'])\n",
    "\n",
    "# Display the model architecture\n",
    "cnn_model.summary()\n",
    "\n",
    "# Train the model with early stopping to avoid overfitting\n",
    "from tensorflow.keras.callbacks import EarlyStopping\n",
    "\n",
    "early_stopping = EarlyStopping(monitor='val_loss', patience=5, restore_best_weights=True)\n",
    "\n",
    "cnn_model.fit(X_train, y_train, epochs=30, batch_size=32, validation_data=(X_test, y_test), callbacks=[early_stopping])\n",
    "\n",
    "\n"
   ]
  },
  {
   "cell_type": "markdown",
   "metadata": {},
   "source": [
    "# Visualizing Training and Validation Accuracy and Loss"
   ]
  },
  {
   "cell_type": "code",
   "execution_count": 50,
   "metadata": {},
   "outputs": [
    {
     "data": {
      "image/png": "[encoded data removed]",
      "text/plain": [
       "<Figure size 1200x600 with 2 Axes>"
      ]
     },
     "metadata": {},
     "output_type": "display_data"
    }
   ],
   "source": [
    "import matplotlib.pyplot as plt\n",
    "\n",
    "# Get training history\n",
    "history = cnn_model.history.history\n",
    "\n",
    "# Plot training and validation accuracy\n",
    "plt.figure(figsize=(12, 6))\n",
    "plt.subplot(1, 2, 1)\n",
    "plt.plot(history['accuracy'], label='Training Accuracy')\n",
    "plt.plot(history['val_accuracy'], label='Validation Accuracy')\n",
    "plt.title('Training and Validation Accuracy')\n",
    "plt.xlabel('Epochs')\n",
    "plt.ylabel('Accuracy')\n",
    "plt.legend()\n",
    "\n",
    "# Plot training and validation loss\n",
    "plt.subplot(1, 2, 2)\n",
    "plt.plot(history['loss'], label='Training Loss')\n",
    "plt.plot(history['val_loss'], label='Validation Loss')\n",
    "plt.title('Training and Validation Loss')\n",
    "plt.xlabel('Epochs')\n",
    "plt.ylabel('Loss')\n",
    "plt.legend()\n",
    "\n",
    "plt.tight_layout()\n",
    "plt.show()\n"
   ]
  }
 ],
 "metadata": {
  "kernelspec": {
   "display_name": "base",
   "language": "python",
   "name": "python3"
  },
  "language_info": {
   "codemirror_mode": {
    "name": "ipython",
    "version": 3
   },
   "file_extension": ".py",
   "mimetype": "text/x-python",
   "name": "python",
   "nbconvert_exporter": "python",
   "pygments_lexer": "ipython3",
   "version": "3.11.7"
  }
 },
 "nbformat": 4,
 "nbformat_minor": 2
}
