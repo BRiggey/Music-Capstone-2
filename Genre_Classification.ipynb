{
 "cells": [
  {
   "cell_type": "code",
   "execution_count": 1,
   "metadata": {},
   "outputs": [],
   "source": [
    "\n",
    "# Acknowledgment:\n",
    "# This code was developed with assistance from ChatGPT, which provided initial guidance\n",
    "# and code snippets. Significant modifications and improvements were made by us to \n",
    "# ensure the code meets the specific requirements of the project. All optimizations \n",
    "# and final adjustments were implemented independently.\n",
    "\n",
    "\n",
    "\n",
    "\n",
    "# Usual Libraries USED FROM THE OTHER NOTEBOOK WE ADD MORE OR DELETE WHEN NECESSESARRY \n",
    "import pandas as pd\n",
    "import numpy as np\n",
    "import distutils\n",
    "import ast\n",
    "\n",
    "import os\n",
    "import matplotlib.pyplot as plt\n",
    "%matplotlib inline\n",
    "\n",
    "# Librosa (the mother of audio files)\n",
    "import librosa\n",
    "import librosa.display\n",
    "import IPython.display as ipd\n",
    "import warnings\n",
    "warnings.filterwarnings('ignore')\n",
    "import tensorflow as tf\n",
    "from tqdm import tqdm\n",
    "\n"
   ]
  },
  {
   "cell_type": "code",
   "execution_count": null,
   "metadata": {},
   "outputs": [
    {
     "name": "stderr",
     "output_type": "stream",
     "text": [
      "Processing TFRecord files:   0%|          | 0/1444 [00:00<?, ?it/s]"
     ]
    },
    {
     "name": "stderr",
     "output_type": "stream",
     "text": [
      "Processing TFRecord files:   0%|          | 1/1444 [00:00<05:25,  4.44it/s]"
     ]
    },
    {
     "name": "stdout",
     "output_type": "stream",
     "text": [
      "Decoded audio embeddings shape: (None, 128)\n",
      "Decoded audio embeddings shape: (None, 128)\n",
      "Decoded audio embeddings shape: (None, 128)\n"
     ]
    },
    {
     "name": "stderr",
     "output_type": "stream",
     "text": [
      "Processing TFRecord files:   0%|          | 4/1444 [00:00<03:06,  7.71it/s]"
     ]
    },
    {
     "name": "stdout",
     "output_type": "stream",
     "text": [
      "Decoded audio embeddings shape: (None, 128)\n",
      "Decoded audio embeddings shape: (None, 128)\n",
      "Decoded audio embeddings shape: (None, 128)\n"
     ]
    },
    {
     "name": "stderr",
     "output_type": "stream",
     "text": [
      "Processing TFRecord files:   1%|          | 8/1444 [00:00<02:14, 10.70it/s]"
     ]
    },
    {
     "name": "stdout",
     "output_type": "stream",
     "text": [
      "Decoded audio embeddings shape: (None, 128)\n",
      "Decoded audio embeddings shape: (None, 128)\n",
      "Decoded audio embeddings shape: (None, 128)\n"
     ]
    },
    {
     "name": "stderr",
     "output_type": "stream",
     "text": [
      "Processing TFRecord files:   1%|          | 12/1444 [00:01<02:01, 11.81it/s]"
     ]
    },
    {
     "name": "stdout",
     "output_type": "stream",
     "text": [
      "Decoded audio embeddings shape: (None, 128)\n",
      "Decoded audio embeddings shape: (None, 128)\n",
      "Decoded audio embeddings shape: (None, 128)\n"
     ]
    },
    {
     "name": "stderr",
     "output_type": "stream",
     "text": [
      "Processing TFRecord files:   1%|          | 14/1444 [00:01<01:58, 12.02it/s]"
     ]
    },
    {
     "name": "stdout",
     "output_type": "stream",
     "text": [
      "Decoded audio embeddings shape: (None, 128)\n",
      "Decoded audio embeddings shape: (None, 128)\n",
      "Decoded audio embeddings shape: (None, 128)\n"
     ]
    },
    {
     "name": "stderr",
     "output_type": "stream",
     "text": [
      "Processing TFRecord files:   1%|          | 18/1444 [00:01<01:56, 12.19it/s]"
     ]
    },
    {
     "name": "stdout",
     "output_type": "stream",
     "text": [
      "Decoded audio embeddings shape: (None, 128)\n",
      "Decoded audio embeddings shape: (None, 128)\n",
      "Decoded audio embeddings shape: (None, 128)\n"
     ]
    },
    {
     "name": "stderr",
     "output_type": "stream",
     "text": [
      "Processing TFRecord files:   1%|▏         | 20/1444 [00:01<01:57, 12.15it/s]"
     ]
    },
    {
     "name": "stdout",
     "output_type": "stream",
     "text": [
      "Decoded audio embeddings shape: (None, 128)\n",
      "Decoded audio embeddings shape: (None, 128)\n",
      "Decoded audio embeddings shape: (None, 128)\n"
     ]
    },
    {
     "name": "stderr",
     "output_type": "stream",
     "text": [
      "Processing TFRecord files:   2%|▏         | 22/1444 [00:01<01:57, 12.14it/s]"
     ]
    },
    {
     "name": "stdout",
     "output_type": "stream",
     "text": [
      "Decoded audio embeddings shape: (None, 128)\n",
      "Decoded audio embeddings shape: (None, 128)\n",
      "Decoded audio embeddings shape: (None, 128)\n"
     ]
    },
    {
     "name": "stderr",
     "output_type": "stream",
     "text": [
      "Processing TFRecord files:   2%|▏         | 26/1444 [00:02<01:58, 12.01it/s]"
     ]
    },
    {
     "name": "stdout",
     "output_type": "stream",
     "text": [
      "Decoded audio embeddings shape: (None, 128)\n",
      "Decoded audio embeddings shape: (None, 128)\n",
      "Decoded audio embeddings shape: (None, 128)\n"
     ]
    },
    {
     "name": "stderr",
     "output_type": "stream",
     "text": [
      "Processing TFRecord files:   2%|▏         | 30/1444 [00:02<01:56, 12.18it/s]"
     ]
    },
    {
     "name": "stdout",
     "output_type": "stream",
     "text": [
      "Decoded audio embeddings shape: (None, 128)\n",
      "Decoded audio embeddings shape: (None, 128)\n",
      "Decoded audio embeddings shape: (None, 128)\n"
     ]
    },
    {
     "name": "stderr",
     "output_type": "stream",
     "text": [
      "Processing TFRecord files:   2%|▏         | 32/1444 [00:02<02:06, 11.17it/s]"
     ]
    },
    {
     "name": "stdout",
     "output_type": "stream",
     "text": [
      "Decoded audio embeddings shape: (None, 128)\n",
      "Decoded audio embeddings shape: (None, 128)\n"
     ]
    },
    {
     "name": "stderr",
     "output_type": "stream",
     "text": [
      "Processing TFRecord files:   2%|▏         | 34/1444 [00:03<02:01, 11.63it/s]"
     ]
    },
    {
     "name": "stdout",
     "output_type": "stream",
     "text": [
      "Decoded audio embeddings shape: (None, 128)\n",
      "Decoded audio embeddings shape: (None, 128)\n",
      "Decoded audio embeddings shape: (None, 128)\n"
     ]
    },
    {
     "name": "stderr",
     "output_type": "stream",
     "text": [
      "Processing TFRecord files:   2%|▏         | 36/1444 [00:03<01:59, 11.77it/s]"
     ]
    },
    {
     "name": "stdout",
     "output_type": "stream",
     "text": [
      "Decoded audio embeddings shape: (None, 128)\n",
      "Decoded audio embeddings shape: (None, 128)\n",
      "Decoded audio embeddings shape: (None, 128)\n"
     ]
    },
    {
     "name": "stderr",
     "output_type": "stream",
     "text": [
      "Processing TFRecord files:   3%|▎         | 40/1444 [00:03<01:57, 11.92it/s]"
     ]
    },
    {
     "name": "stdout",
     "output_type": "stream",
     "text": [
      "Decoded audio embeddings shape: (None, 128)\n",
      "Decoded audio embeddings shape: (None, 128)\n",
      "Decoded audio embeddings shape: (None, 128)\n"
     ]
    },
    {
     "name": "stderr",
     "output_type": "stream",
     "text": [
      "Processing TFRecord files:   3%|▎         | 42/1444 [00:03<01:55, 12.13it/s]"
     ]
    },
    {
     "name": "stdout",
     "output_type": "stream",
     "text": [
      "Decoded audio embeddings shape: (None, 128)\n",
      "Decoded audio embeddings shape: (None, 128)\n",
      "Decoded audio embeddings shape: (None, 128)\n"
     ]
    },
    {
     "name": "stderr",
     "output_type": "stream",
     "text": [
      "Processing TFRecord files:   3%|▎         | 46/1444 [00:04<01:59, 11.68it/s]"
     ]
    },
    {
     "name": "stdout",
     "output_type": "stream",
     "text": [
      "Decoded audio embeddings shape: (None, 128)\n",
      "Decoded audio embeddings shape: (None, 128)\n",
      "Decoded audio embeddings shape: (None, 128)\n"
     ]
    },
    {
     "name": "stderr",
     "output_type": "stream",
     "text": [
      "Processing TFRecord files:   3%|▎         | 50/1444 [00:04<01:56, 11.95it/s]"
     ]
    },
    {
     "name": "stdout",
     "output_type": "stream",
     "text": [
      "Decoded audio embeddings shape: (None, 128)\n",
      "Decoded audio embeddings shape: (None, 128)\n",
      "Decoded audio embeddings shape: (None, 128)\n"
     ]
    },
    {
     "name": "stderr",
     "output_type": "stream",
     "text": [
      "Processing TFRecord files:   4%|▎         | 52/1444 [00:04<01:53, 12.26it/s]"
     ]
    },
    {
     "name": "stdout",
     "output_type": "stream",
     "text": [
      "Decoded audio embeddings shape: (None, 128)\n",
      "Decoded audio embeddings shape: (None, 128)\n",
      "Decoded audio embeddings shape: (None, 128)\n"
     ]
    },
    {
     "name": "stderr",
     "output_type": "stream",
     "text": [
      "Processing TFRecord files:   4%|▎         | 54/1444 [00:04<01:55, 12.08it/s]"
     ]
    },
    {
     "name": "stdout",
     "output_type": "stream",
     "text": [
      "Decoded audio embeddings shape: (None, 128)\n",
      "Decoded audio embeddings shape: (None, 128)\n",
      "Decoded audio embeddings shape: (None, 128)\n"
     ]
    },
    {
     "name": "stderr",
     "output_type": "stream",
     "text": [
      "Processing TFRecord files:   4%|▍         | 58/1444 [00:05<02:02, 11.28it/s]"
     ]
    },
    {
     "name": "stdout",
     "output_type": "stream",
     "text": [
      "Decoded audio embeddings shape: (None, 128)\n",
      "Decoded audio embeddings shape: (None, 128)\n",
      "Decoded audio embeddings shape: (None, 128)\n"
     ]
    },
    {
     "name": "stderr",
     "output_type": "stream",
     "text": [
      "Processing TFRecord files:   4%|▍         | 60/1444 [00:05<02:11, 10.50it/s]"
     ]
    },
    {
     "name": "stdout",
     "output_type": "stream",
     "text": [
      "Decoded audio embeddings shape: (None, 128)\n",
      "Decoded audio embeddings shape: (None, 128)\n"
     ]
    },
    {
     "name": "stderr",
     "output_type": "stream",
     "text": [
      "Processing TFRecord files:   4%|▍         | 62/1444 [00:05<02:16, 10.11it/s]"
     ]
    },
    {
     "name": "stdout",
     "output_type": "stream",
     "text": [
      "Decoded audio embeddings shape: (None, 128)\n",
      "Decoded audio embeddings shape: (None, 128)\n"
     ]
    },
    {
     "name": "stderr",
     "output_type": "stream",
     "text": [
      "Processing TFRecord files:   4%|▍         | 64/1444 [00:05<02:18,  9.96it/s]"
     ]
    },
    {
     "name": "stdout",
     "output_type": "stream",
     "text": [
      "Decoded audio embeddings shape: (None, 128)\n",
      "Decoded audio embeddings shape: (None, 128)\n"
     ]
    },
    {
     "name": "stderr",
     "output_type": "stream",
     "text": [
      "Processing TFRecord files:   5%|▍         | 67/1444 [00:06<02:34,  8.90it/s]"
     ]
    },
    {
     "name": "stdout",
     "output_type": "stream",
     "text": [
      "Decoded audio embeddings shape: (None, 128)\n",
      "Decoded audio embeddings shape: (None, 128)\n",
      "Decoded audio embeddings shape: (None, 128)\n"
     ]
    },
    {
     "name": "stderr",
     "output_type": "stream",
     "text": [
      "Processing TFRecord files:   5%|▍         | 69/1444 [00:06<02:33,  8.95it/s]"
     ]
    },
    {
     "name": "stdout",
     "output_type": "stream",
     "text": [
      "Decoded audio embeddings shape: (None, 128)\n",
      "Decoded audio embeddings shape: (None, 128)\n",
      "Decoded audio embeddings shape: (None, 128)\n"
     ]
    },
    {
     "name": "stderr",
     "output_type": "stream",
     "text": [
      "Processing TFRecord files:   5%|▍         | 72/1444 [00:06<02:39,  8.58it/s]"
     ]
    },
    {
     "name": "stdout",
     "output_type": "stream",
     "text": [
      "Decoded audio embeddings shape: (None, 128)\n",
      "Decoded audio embeddings shape: (None, 128)\n",
      "Decoded audio embeddings shape: (None, 128)\n"
     ]
    },
    {
     "name": "stderr",
     "output_type": "stream",
     "text": [
      "Processing TFRecord files:   5%|▌         | 76/1444 [00:07<02:10, 10.49it/s]"
     ]
    },
    {
     "name": "stdout",
     "output_type": "stream",
     "text": [
      "Decoded audio embeddings shape: (None, 128)\n",
      "Decoded audio embeddings shape: (None, 128)\n",
      "Decoded audio embeddings shape: (None, 128)\n"
     ]
    },
    {
     "name": "stderr",
     "output_type": "stream",
     "text": [
      "Processing TFRecord files:   5%|▌         | 78/1444 [00:07<02:05, 10.91it/s]"
     ]
    },
    {
     "name": "stdout",
     "output_type": "stream",
     "text": [
      "Decoded audio embeddings shape: (None, 128)\n",
      "Decoded audio embeddings shape: (None, 128)\n",
      "Decoded audio embeddings shape: (None, 128)\n"
     ]
    },
    {
     "name": "stderr",
     "output_type": "stream",
     "text": [
      "Processing TFRecord files:   6%|▌         | 82/1444 [00:07<02:09, 10.55it/s]"
     ]
    },
    {
     "name": "stdout",
     "output_type": "stream",
     "text": [
      "Decoded audio embeddings shape: (None, 128)\n",
      "Decoded audio embeddings shape: (None, 128)\n",
      "Decoded audio embeddings shape: (None, 128)\n"
     ]
    },
    {
     "name": "stderr",
     "output_type": "stream",
     "text": [
      "Processing TFRecord files:   6%|▌         | 86/1444 [00:07<02:03, 11.02it/s]"
     ]
    },
    {
     "name": "stdout",
     "output_type": "stream",
     "text": [
      "Decoded audio embeddings shape: (None, 128)\n",
      "Decoded audio embeddings shape: (None, 128)\n",
      "Decoded audio embeddings shape: (None, 128)\n"
     ]
    },
    {
     "name": "stderr",
     "output_type": "stream",
     "text": [
      "Processing TFRecord files:   6%|▌         | 88/1444 [00:08<01:55, 11.71it/s]"
     ]
    },
    {
     "name": "stdout",
     "output_type": "stream",
     "text": [
      "Decoded audio embeddings shape: (None, 128)\n",
      "Decoded audio embeddings shape: (None, 128)\n",
      "Decoded audio embeddings shape: (None, 128)\n"
     ]
    },
    {
     "name": "stderr",
     "output_type": "stream",
     "text": [
      "Processing TFRecord files:   6%|▌         | 90/1444 [00:08<02:08, 10.50it/s]"
     ]
    },
    {
     "name": "stdout",
     "output_type": "stream",
     "text": [
      "Decoded audio embeddings shape: (None, 128)\n",
      "Decoded audio embeddings shape: (None, 128)\n"
     ]
    },
    {
     "name": "stderr",
     "output_type": "stream",
     "text": [
      "Processing TFRecord files:   7%|▋         | 94/1444 [00:08<01:54, 11.80it/s]"
     ]
    },
    {
     "name": "stdout",
     "output_type": "stream",
     "text": [
      "Decoded audio embeddings shape: (None, 128)\n",
      "Decoded audio embeddings shape: (None, 128)\n",
      "Decoded audio embeddings shape: (None, 128)\n"
     ]
    },
    {
     "name": "stderr",
     "output_type": "stream",
     "text": [
      "Processing TFRecord files:   7%|▋         | 96/1444 [00:08<01:49, 12.26it/s]"
     ]
    },
    {
     "name": "stdout",
     "output_type": "stream",
     "text": [
      "Decoded audio embeddings shape: (None, 128)\n",
      "Decoded audio embeddings shape: (None, 128)\n",
      "Decoded audio embeddings shape: (None, 128)\n"
     ]
    },
    {
     "name": "stderr",
     "output_type": "stream",
     "text": [
      "Processing TFRecord files:   7%|▋         | 98/1444 [00:08<01:49, 12.33it/s]"
     ]
    },
    {
     "name": "stdout",
     "output_type": "stream",
     "text": [
      "Decoded audio embeddings shape: (None, 128)\n",
      "Decoded audio embeddings shape: (None, 128)\n",
      "Decoded audio embeddings shape: (None, 128)\n"
     ]
    },
    {
     "name": "stderr",
     "output_type": "stream",
     "text": [
      "Processing TFRecord files:   7%|▋         | 102/1444 [00:09<01:45, 12.75it/s]"
     ]
    },
    {
     "name": "stdout",
     "output_type": "stream",
     "text": [
      "Decoded audio embeddings shape: (None, 128)\n",
      "Decoded audio embeddings shape: (None, 128)\n",
      "Decoded audio embeddings shape: (None, 128)\n"
     ]
    },
    {
     "name": "stderr",
     "output_type": "stream",
     "text": [
      "Processing TFRecord files:   7%|▋         | 106/1444 [00:09<01:41, 13.21it/s]"
     ]
    },
    {
     "name": "stdout",
     "output_type": "stream",
     "text": [
      "Decoded audio embeddings shape: (None, 128)\n",
      "Decoded audio embeddings shape: (None, 128)\n",
      "Decoded audio embeddings shape: (None, 128)\n"
     ]
    },
    {
     "name": "stderr",
     "output_type": "stream",
     "text": [
      "Processing TFRecord files:   7%|▋         | 108/1444 [00:09<01:44, 12.82it/s]"
     ]
    },
    {
     "name": "stdout",
     "output_type": "stream",
     "text": [
      "Decoded audio embeddings shape: (None, 128)\n",
      "Decoded audio embeddings shape: (None, 128)\n",
      "Decoded audio embeddings shape: (None, 128)\n"
     ]
    },
    {
     "name": "stderr",
     "output_type": "stream",
     "text": [
      "Processing TFRecord files:   8%|▊         | 110/1444 [00:09<01:45, 12.59it/s]"
     ]
    },
    {
     "name": "stdout",
     "output_type": "stream",
     "text": [
      "Decoded audio embeddings shape: (None, 128)\n",
      "Decoded audio embeddings shape: (None, 128)\n",
      "Decoded audio embeddings shape: (None, 128)\n"
     ]
    },
    {
     "name": "stderr",
     "output_type": "stream",
     "text": [
      "Processing TFRecord files:   8%|▊         | 112/1444 [00:10<01:50, 12.01it/s]"
     ]
    },
    {
     "name": "stdout",
     "output_type": "stream",
     "text": [
      "Decoded audio embeddings shape: (None, 128)\n",
      "Decoded audio embeddings shape: (None, 128)\n"
     ]
    },
    {
     "name": "stderr",
     "output_type": "stream",
     "text": [
      "Processing TFRecord files:   8%|▊         | 116/1444 [00:10<02:16,  9.69it/s]"
     ]
    },
    {
     "name": "stdout",
     "output_type": "stream",
     "text": [
      "Decoded audio embeddings shape: (None, 128)\n",
      "Decoded audio embeddings shape: (None, 128)\n",
      "Decoded audio embeddings shape: (None, 128)\n"
     ]
    },
    {
     "name": "stderr",
     "output_type": "stream",
     "text": [
      "Processing TFRecord files:   8%|▊         | 118/1444 [00:10<02:18,  9.61it/s]"
     ]
    },
    {
     "name": "stdout",
     "output_type": "stream",
     "text": [
      "Decoded audio embeddings shape: (None, 128)\n",
      "Decoded audio embeddings shape: (None, 128)\n"
     ]
    },
    {
     "name": "stderr",
     "output_type": "stream",
     "text": [
      "Processing TFRecord files:   8%|▊         | 120/1444 [00:11<02:25,  9.12it/s]"
     ]
    },
    {
     "name": "stdout",
     "output_type": "stream",
     "text": [
      "Decoded audio embeddings shape: (None, 128)\n",
      "Decoded audio embeddings shape: (None, 128)\n"
     ]
    },
    {
     "name": "stderr",
     "output_type": "stream",
     "text": [
      "Processing TFRecord files:   9%|▊         | 124/1444 [00:11<02:25,  9.07it/s]"
     ]
    },
    {
     "name": "stdout",
     "output_type": "stream",
     "text": [
      "Decoded audio embeddings shape: (None, 128)\n",
      "Decoded audio embeddings shape: (None, 128)\n",
      "Decoded audio embeddings shape: (None, 128)\n"
     ]
    },
    {
     "name": "stderr",
     "output_type": "stream",
     "text": [
      "Processing TFRecord files:   9%|▊         | 126/1444 [00:11<02:30,  8.74it/s]"
     ]
    },
    {
     "name": "stdout",
     "output_type": "stream",
     "text": [
      "Decoded audio embeddings shape: (None, 128)\n",
      "Decoded audio embeddings shape: (None, 128)\n"
     ]
    },
    {
     "name": "stderr",
     "output_type": "stream",
     "text": [
      "Processing TFRecord files:   9%|▉         | 128/1444 [00:11<02:15,  9.70it/s]"
     ]
    },
    {
     "name": "stdout",
     "output_type": "stream",
     "text": [
      "Decoded audio embeddings shape: (None, 128)\n",
      "Decoded audio embeddings shape: (None, 128)\n",
      "Decoded audio embeddings shape: (None, 128)\n"
     ]
    },
    {
     "name": "stderr",
     "output_type": "stream",
     "text": [
      "Processing TFRecord files:   9%|▉         | 130/1444 [00:12<02:10, 10.08it/s]"
     ]
    },
    {
     "name": "stdout",
     "output_type": "stream",
     "text": [
      "Decoded audio embeddings shape: (None, 128)\n",
      "Decoded audio embeddings shape: (None, 128)\n"
     ]
    },
    {
     "name": "stderr",
     "output_type": "stream",
     "text": [
      "Processing TFRecord files:   9%|▉         | 132/1444 [00:12<02:18,  9.46it/s]"
     ]
    },
    {
     "name": "stdout",
     "output_type": "stream",
     "text": [
      "Decoded audio embeddings shape: (None, 128)\n",
      "Decoded audio embeddings shape: (None, 128)\n",
      "Decoded audio embeddings shape: (None, 128)\n"
     ]
    },
    {
     "name": "stderr",
     "output_type": "stream",
     "text": [
      "Processing TFRecord files:   9%|▉         | 136/1444 [00:12<02:14,  9.71it/s]"
     ]
    },
    {
     "name": "stdout",
     "output_type": "stream",
     "text": [
      "Decoded audio embeddings shape: (None, 128)\n",
      "Decoded audio embeddings shape: (None, 128)\n",
      "Decoded audio embeddings shape: (None, 128)\n"
     ]
    },
    {
     "name": "stderr",
     "output_type": "stream",
     "text": [
      "Processing TFRecord files:  10%|▉         | 140/1444 [00:13<01:58, 11.04it/s]"
     ]
    },
    {
     "name": "stdout",
     "output_type": "stream",
     "text": [
      "Decoded audio embeddings shape: (None, 128)\n",
      "Decoded audio embeddings shape: (None, 128)\n",
      "Decoded audio embeddings shape: (None, 128)\n"
     ]
    },
    {
     "name": "stderr",
     "output_type": "stream",
     "text": [
      "Processing TFRecord files:  10%|▉         | 142/1444 [00:13<01:52, 11.53it/s]"
     ]
    },
    {
     "name": "stdout",
     "output_type": "stream",
     "text": [
      "Decoded audio embeddings shape: (None, 128)\n",
      "Decoded audio embeddings shape: (None, 128)\n",
      "Decoded audio embeddings shape: (None, 128)\n"
     ]
    },
    {
     "name": "stderr",
     "output_type": "stream",
     "text": [
      "Processing TFRecord files:  10%|█         | 146/1444 [00:13<01:51, 11.67it/s]"
     ]
    },
    {
     "name": "stdout",
     "output_type": "stream",
     "text": [
      "Decoded audio embeddings shape: (None, 128)\n",
      "Decoded audio embeddings shape: (None, 128)\n",
      "Decoded audio embeddings shape: (None, 128)\n"
     ]
    },
    {
     "name": "stderr",
     "output_type": "stream",
     "text": [
      "Processing TFRecord files:  10%|█         | 148/1444 [00:13<01:50, 11.71it/s]"
     ]
    },
    {
     "name": "stdout",
     "output_type": "stream",
     "text": [
      "Decoded audio embeddings shape: (None, 128)\n",
      "Decoded audio embeddings shape: (None, 128)\n",
      "Decoded audio embeddings shape: (None, 128)\n"
     ]
    },
    {
     "name": "stderr",
     "output_type": "stream",
     "text": [
      "Processing TFRecord files:  11%|█         | 152/1444 [00:14<01:48, 11.95it/s]"
     ]
    },
    {
     "name": "stdout",
     "output_type": "stream",
     "text": [
      "Decoded audio embeddings shape: (None, 128)\n",
      "Decoded audio embeddings shape: (None, 128)\n",
      "Decoded audio embeddings shape: (None, 128)\n",
      "Decoded audio embeddings shape: (None, 128)\n",
      "Decoded audio embeddings shape: (None, 128)\n"
     ]
    },
    {
     "name": "stderr",
     "output_type": "stream",
     "text": [
      "Processing TFRecord files:  11%|█         | 156/1444 [00:14<02:14,  9.54it/s]"
     ]
    },
    {
     "name": "stdout",
     "output_type": "stream",
     "text": [
      "Decoded audio embeddings shape: (None, 128)\n",
      "Decoded audio embeddings shape: (None, 128)\n"
     ]
    },
    {
     "name": "stderr",
     "output_type": "stream",
     "text": [
      "Processing TFRecord files:  11%|█         | 158/1444 [00:14<02:20,  9.19it/s]"
     ]
    },
    {
     "name": "stdout",
     "output_type": "stream",
     "text": [
      "Decoded audio embeddings shape: (None, 128)\n",
      "Decoded audio embeddings shape: (None, 128)\n"
     ]
    },
    {
     "name": "stderr",
     "output_type": "stream",
     "text": [
      "Processing TFRecord files:  11%|█         | 160/1444 [00:14<02:26,  8.76it/s]"
     ]
    },
    {
     "name": "stdout",
     "output_type": "stream",
     "text": [
      "Decoded audio embeddings shape: (None, 128)\n",
      "Decoded audio embeddings shape: (None, 128)\n"
     ]
    },
    {
     "name": "stderr",
     "output_type": "stream",
     "text": [
      "Processing TFRecord files:  11%|█         | 162/1444 [00:15<02:25,  8.83it/s]"
     ]
    },
    {
     "name": "stdout",
     "output_type": "stream",
     "text": [
      "Decoded audio embeddings shape: (None, 128)\n",
      "Decoded audio embeddings shape: (None, 128)\n"
     ]
    },
    {
     "name": "stderr",
     "output_type": "stream",
     "text": [
      "Processing TFRecord files:  11%|█▏        | 163/1444 [00:15<02:28,  8.63it/s]"
     ]
    },
    {
     "name": "stdout",
     "output_type": "stream",
     "text": [
      "Decoded audio embeddings shape: (None, 128)\n",
      "Decoded audio embeddings shape: (None, 128)\n"
     ]
    },
    {
     "name": "stderr",
     "output_type": "stream",
     "text": [
      "Processing TFRecord files:  11%|█▏        | 166/1444 [00:15<02:09,  9.84it/s]"
     ]
    },
    {
     "name": "stdout",
     "output_type": "stream",
     "text": [
      "Decoded audio embeddings shape: (None, 128)\n",
      "Decoded audio embeddings shape: (None, 128)\n",
      "Decoded audio embeddings shape: (None, 128)\n"
     ]
    },
    {
     "name": "stderr",
     "output_type": "stream",
     "text": [
      "Processing TFRecord files:  12%|█▏        | 168/1444 [00:15<01:58, 10.74it/s]"
     ]
    },
    {
     "name": "stdout",
     "output_type": "stream",
     "text": [
      "Decoded audio embeddings shape: (None, 128)\n",
      "Decoded audio embeddings shape: (None, 128)\n",
      "Decoded audio embeddings shape: (None, 128)\n"
     ]
    },
    {
     "name": "stderr",
     "output_type": "stream",
     "text": [
      "Processing TFRecord files:  12%|█▏        | 172/1444 [00:16<02:09,  9.80it/s]"
     ]
    },
    {
     "name": "stdout",
     "output_type": "stream",
     "text": [
      "Decoded audio embeddings shape: (None, 128)\n",
      "Decoded audio embeddings shape: (None, 128)\n",
      "Decoded audio embeddings shape: (None, 128)\n"
     ]
    },
    {
     "name": "stderr",
     "output_type": "stream",
     "text": [
      "Processing TFRecord files:  12%|█▏        | 176/1444 [00:16<01:57, 10.77it/s]"
     ]
    },
    {
     "name": "stdout",
     "output_type": "stream",
     "text": [
      "Decoded audio embeddings shape: (None, 128)\n",
      "Decoded audio embeddings shape: (None, 128)\n",
      "Decoded audio embeddings shape: (None, 128)\n"
     ]
    },
    {
     "name": "stderr",
     "output_type": "stream",
     "text": [
      "Processing TFRecord files:  12%|█▏        | 178/1444 [00:16<01:52, 11.21it/s]"
     ]
    },
    {
     "name": "stdout",
     "output_type": "stream",
     "text": [
      "Decoded audio embeddings shape: (None, 128)\n",
      "Decoded audio embeddings shape: (None, 128)\n",
      "Decoded audio embeddings shape: (None, 128)\n"
     ]
    },
    {
     "name": "stderr",
     "output_type": "stream",
     "text": [
      "Processing TFRecord files:  12%|█▏        | 180/1444 [00:16<01:51, 11.32it/s]"
     ]
    },
    {
     "name": "stdout",
     "output_type": "stream",
     "text": [
      "Decoded audio embeddings shape: (None, 128)\n",
      "Decoded audio embeddings shape: (None, 128)\n"
     ]
    },
    {
     "name": "stderr",
     "output_type": "stream",
     "text": [
      "Processing TFRecord files:  13%|█▎        | 184/1444 [00:17<01:53, 11.09it/s]"
     ]
    },
    {
     "name": "stdout",
     "output_type": "stream",
     "text": [
      "Decoded audio embeddings shape: (None, 128)\n",
      "Decoded audio embeddings shape: (None, 128)\n",
      "Decoded audio embeddings shape: (None, 128)\n"
     ]
    },
    {
     "name": "stderr",
     "output_type": "stream",
     "text": [
      "Processing TFRecord files:  13%|█▎        | 186/1444 [00:17<01:46, 11.79it/s]"
     ]
    },
    {
     "name": "stdout",
     "output_type": "stream",
     "text": [
      "Decoded audio embeddings shape: (None, 128)\n",
      "Decoded audio embeddings shape: (None, 128)\n",
      "Decoded audio embeddings shape: (None, 128)\n"
     ]
    },
    {
     "name": "stderr",
     "output_type": "stream",
     "text": [
      "Processing TFRecord files:  13%|█▎        | 188/1444 [00:17<01:44, 11.97it/s]"
     ]
    },
    {
     "name": "stdout",
     "output_type": "stream",
     "text": [
      "Decoded audio embeddings shape: (None, 128)\n",
      "Decoded audio embeddings shape: (None, 128)\n",
      "Decoded audio embeddings shape: (None, 128)\n"
     ]
    },
    {
     "name": "stderr",
     "output_type": "stream",
     "text": [
      "Processing TFRecord files:  13%|█▎        | 192/1444 [00:17<01:43, 12.08it/s]"
     ]
    },
    {
     "name": "stdout",
     "output_type": "stream",
     "text": [
      "Decoded audio embeddings shape: (None, 128)\n",
      "Decoded audio embeddings shape: (None, 128)\n",
      "Decoded audio embeddings shape: (None, 128)\n"
     ]
    },
    {
     "name": "stderr",
     "output_type": "stream",
     "text": [
      "Processing TFRecord files:  13%|█▎        | 194/1444 [00:18<01:55, 10.86it/s]"
     ]
    },
    {
     "name": "stdout",
     "output_type": "stream",
     "text": [
      "Decoded audio embeddings shape: (None, 128)\n",
      "Decoded audio embeddings shape: (None, 128)\n"
     ]
    },
    {
     "name": "stderr",
     "output_type": "stream",
     "text": [
      "Processing TFRecord files:  14%|█▎        | 196/1444 [00:18<02:07,  9.77it/s]"
     ]
    },
    {
     "name": "stdout",
     "output_type": "stream",
     "text": [
      "Decoded audio embeddings shape: (None, 128)\n",
      "Decoded audio embeddings shape: (None, 128)\n"
     ]
    },
    {
     "name": "stderr",
     "output_type": "stream",
     "text": [
      "Processing TFRecord files:  14%|█▎        | 198/1444 [00:18<02:08,  9.68it/s]"
     ]
    },
    {
     "name": "stdout",
     "output_type": "stream",
     "text": [
      "Decoded audio embeddings shape: (None, 128)\n",
      "Decoded audio embeddings shape: (None, 128)\n",
      "Decoded audio embeddings shape: (None, 128)\n"
     ]
    },
    {
     "name": "stderr",
     "output_type": "stream",
     "text": [
      "Processing TFRecord files:  14%|█▍        | 202/1444 [00:18<01:53, 10.98it/s]"
     ]
    },
    {
     "name": "stdout",
     "output_type": "stream",
     "text": [
      "Decoded audio embeddings shape: (None, 128)\n",
      "Decoded audio embeddings shape: (None, 128)\n",
      "Decoded audio embeddings shape: (None, 128)\n"
     ]
    },
    {
     "name": "stderr",
     "output_type": "stream",
     "text": [
      "Processing TFRecord files:  14%|█▍        | 206/1444 [00:19<01:42, 12.07it/s]"
     ]
    },
    {
     "name": "stdout",
     "output_type": "stream",
     "text": [
      "Decoded audio embeddings shape: (None, 128)\n",
      "Decoded audio embeddings shape: (None, 128)\n",
      "Decoded audio embeddings shape: (None, 128)\n"
     ]
    },
    {
     "name": "stderr",
     "output_type": "stream",
     "text": [
      "Processing TFRecord files:  14%|█▍        | 208/1444 [00:19<01:42, 12.04it/s]"
     ]
    },
    {
     "name": "stdout",
     "output_type": "stream",
     "text": [
      "Decoded audio embeddings shape: (None, 128)\n",
      "Decoded audio embeddings shape: (None, 128)\n",
      "Decoded audio embeddings shape: (None, 128)\n"
     ]
    },
    {
     "name": "stderr",
     "output_type": "stream",
     "text": [
      "Processing TFRecord files:  15%|█▍        | 210/1444 [00:19<01:42, 11.98it/s]"
     ]
    },
    {
     "name": "stdout",
     "output_type": "stream",
     "text": [
      "Decoded audio embeddings shape: (None, 128)\n",
      "Decoded audio embeddings shape: (None, 128)\n",
      "Decoded audio embeddings shape: (None, 128)\n"
     ]
    },
    {
     "name": "stderr",
     "output_type": "stream",
     "text": [
      "Processing TFRecord files:  15%|█▍        | 214/1444 [00:19<01:55, 10.69it/s]"
     ]
    },
    {
     "name": "stdout",
     "output_type": "stream",
     "text": [
      "Decoded audio embeddings shape: (None, 128)\n",
      "Decoded audio embeddings shape: (None, 128)\n",
      "Decoded audio embeddings shape: (None, 128)\n",
      "Decoded audio embeddings shape: (None, 128)\n"
     ]
    },
    {
     "name": "stderr",
     "output_type": "stream",
     "text": [
      "Processing TFRecord files:  15%|█▌        | 218/1444 [00:20<01:46, 11.46it/s]"
     ]
    },
    {
     "name": "stdout",
     "output_type": "stream",
     "text": [
      "Decoded audio embeddings shape: (None, 128)\n",
      "Decoded audio embeddings shape: (None, 128)\n",
      "Decoded audio embeddings shape: (None, 128)\n"
     ]
    },
    {
     "name": "stderr",
     "output_type": "stream",
     "text": [
      "Processing TFRecord files:  15%|█▌        | 222/1444 [00:20<01:41, 12.09it/s]"
     ]
    },
    {
     "name": "stdout",
     "output_type": "stream",
     "text": [
      "Decoded audio embeddings shape: (None, 128)\n",
      "Decoded audio embeddings shape: (None, 128)\n",
      "Decoded audio embeddings shape: (None, 128)\n"
     ]
    },
    {
     "name": "stderr",
     "output_type": "stream",
     "text": [
      "Processing TFRecord files:  16%|█▌        | 224/1444 [00:20<01:40, 12.11it/s]"
     ]
    },
    {
     "name": "stdout",
     "output_type": "stream",
     "text": [
      "Decoded audio embeddings shape: (None, 128)\n",
      "Decoded audio embeddings shape: (None, 128)\n",
      "Decoded audio embeddings shape: (None, 128)\n"
     ]
    },
    {
     "name": "stderr",
     "output_type": "stream",
     "text": [
      "Processing TFRecord files:  16%|█▌        | 226/1444 [00:20<01:39, 12.27it/s]"
     ]
    },
    {
     "name": "stdout",
     "output_type": "stream",
     "text": [
      "Decoded audio embeddings shape: (None, 128)\n",
      "Decoded audio embeddings shape: (None, 128)\n",
      "Decoded audio embeddings shape: (None, 128)\n"
     ]
    },
    {
     "name": "stderr",
     "output_type": "stream",
     "text": [
      "Processing TFRecord files:  16%|█▌        | 230/1444 [00:21<01:58, 10.24it/s]"
     ]
    },
    {
     "name": "stdout",
     "output_type": "stream",
     "text": [
      "Decoded audio embeddings shape: (None, 128)\n",
      "Decoded audio embeddings shape: (None, 128)\n"
     ]
    },
    {
     "name": "stderr",
     "output_type": "stream",
     "text": [
      "Processing TFRecord files:  16%|█▌        | 232/1444 [00:21<02:00, 10.07it/s]"
     ]
    },
    {
     "name": "stdout",
     "output_type": "stream",
     "text": [
      "Decoded audio embeddings shape: (None, 128)\n",
      "Decoded audio embeddings shape: (None, 128)\n",
      "Decoded audio embeddings shape: (None, 128)\n"
     ]
    },
    {
     "name": "stderr",
     "output_type": "stream",
     "text": [
      "Processing TFRecord files:  16%|█▌        | 234/1444 [00:21<01:59, 10.11it/s]"
     ]
    },
    {
     "name": "stdout",
     "output_type": "stream",
     "text": [
      "Decoded audio embeddings shape: (None, 128)\n",
      "Decoded audio embeddings shape: (None, 128)\n"
     ]
    },
    {
     "name": "stderr",
     "output_type": "stream",
     "text": [
      "Processing TFRecord files:  16%|█▋        | 236/1444 [00:22<02:09,  9.36it/s]"
     ]
    },
    {
     "name": "stdout",
     "output_type": "stream",
     "text": [
      "Decoded audio embeddings shape: (None, 128)\n",
      "Decoded audio embeddings shape: (None, 128)\n",
      "Decoded audio embeddings shape: (None, 128)\n"
     ]
    },
    {
     "name": "stderr",
     "output_type": "stream",
     "text": [
      "Processing TFRecord files:  17%|█▋        | 240/1444 [00:22<01:56, 10.29it/s]"
     ]
    },
    {
     "name": "stdout",
     "output_type": "stream",
     "text": [
      "Decoded audio embeddings shape: (None, 128)\n",
      "Decoded audio embeddings shape: (None, 128)\n",
      "Decoded audio embeddings shape: (None, 128)\n"
     ]
    },
    {
     "name": "stderr",
     "output_type": "stream",
     "text": [
      "Processing TFRecord files:  17%|█▋        | 242/1444 [00:22<01:51, 10.75it/s]"
     ]
    },
    {
     "name": "stdout",
     "output_type": "stream",
     "text": [
      "Decoded audio embeddings shape: (None, 128)\n",
      "Decoded audio embeddings shape: (None, 128)\n",
      "Decoded audio embeddings shape: (None, 128)\n"
     ]
    },
    {
     "name": "stderr",
     "output_type": "stream",
     "text": [
      "Processing TFRecord files:  17%|█▋        | 246/1444 [00:22<01:48, 11.04it/s]"
     ]
    },
    {
     "name": "stdout",
     "output_type": "stream",
     "text": [
      "Decoded audio embeddings shape: (None, 128)\n",
      "Decoded audio embeddings shape: (None, 128)\n",
      "Decoded audio embeddings shape: (None, 128)\n"
     ]
    },
    {
     "name": "stderr",
     "output_type": "stream",
     "text": [
      "Processing TFRecord files:  17%|█▋        | 248/1444 [00:23<01:52, 10.68it/s]"
     ]
    },
    {
     "name": "stdout",
     "output_type": "stream",
     "text": [
      "Decoded audio embeddings shape: (None, 128)\n",
      "Decoded audio embeddings shape: (None, 128)\n"
     ]
    },
    {
     "name": "stderr",
     "output_type": "stream",
     "text": [
      "Processing TFRecord files:  17%|█▋        | 250/1444 [00:23<02:15,  8.84it/s]"
     ]
    },
    {
     "name": "stdout",
     "output_type": "stream",
     "text": [
      "Decoded audio embeddings shape: (None, 128)\n",
      "Decoded audio embeddings shape: (None, 128)\n",
      "Decoded audio embeddings shape: (None, 128)\n"
     ]
    },
    {
     "name": "stderr",
     "output_type": "stream",
     "text": [
      "Processing TFRecord files:  18%|█▊        | 254/1444 [00:23<01:56, 10.24it/s]"
     ]
    },
    {
     "name": "stdout",
     "output_type": "stream",
     "text": [
      "Decoded audio embeddings shape: (None, 128)\n",
      "Decoded audio embeddings shape: (None, 128)\n",
      "Decoded audio embeddings shape: (None, 128)\n"
     ]
    },
    {
     "name": "stderr",
     "output_type": "stream",
     "text": [
      "Processing TFRecord files:  18%|█▊        | 256/1444 [00:23<01:47, 11.05it/s]"
     ]
    },
    {
     "name": "stdout",
     "output_type": "stream",
     "text": [
      "Decoded audio embeddings shape: (None, 128)\n",
      "Decoded audio embeddings shape: (None, 128)\n",
      "Decoded audio embeddings shape: (None, 128)\n"
     ]
    },
    {
     "name": "stderr",
     "output_type": "stream",
     "text": [
      "Processing TFRecord files:  18%|█▊        | 260/1444 [00:24<01:54, 10.38it/s]"
     ]
    },
    {
     "name": "stdout",
     "output_type": "stream",
     "text": [
      "Decoded audio embeddings shape: (None, 128)\n",
      "Decoded audio embeddings shape: (None, 128)\n",
      "Decoded audio embeddings shape: (None, 128)\n"
     ]
    },
    {
     "name": "stderr",
     "output_type": "stream",
     "text": [
      "Processing TFRecord files:  18%|█▊        | 262/1444 [00:24<01:48, 10.91it/s]"
     ]
    },
    {
     "name": "stdout",
     "output_type": "stream",
     "text": [
      "Decoded audio embeddings shape: (None, 128)\n",
      "Decoded audio embeddings shape: (None, 128)\n"
     ]
    },
    {
     "name": "stderr",
     "output_type": "stream",
     "text": [
      "Processing TFRecord files:  18%|█▊        | 264/1444 [00:24<01:59,  9.86it/s]"
     ]
    },
    {
     "name": "stdout",
     "output_type": "stream",
     "text": [
      "Decoded audio embeddings shape: (None, 128)\n",
      "Decoded audio embeddings shape: (None, 128)\n"
     ]
    },
    {
     "name": "stderr",
     "output_type": "stream",
     "text": [
      "Processing TFRecord files:  18%|█▊        | 266/1444 [00:25<02:16,  8.62it/s]"
     ]
    },
    {
     "name": "stdout",
     "output_type": "stream",
     "text": [
      "Decoded audio embeddings shape: (None, 128)\n",
      "Decoded audio embeddings shape: (None, 128)\n"
     ]
    },
    {
     "name": "stderr",
     "output_type": "stream",
     "text": [
      "Processing TFRecord files:  19%|█▊        | 268/1444 [00:25<02:11,  8.92it/s]"
     ]
    },
    {
     "name": "stdout",
     "output_type": "stream",
     "text": [
      "Decoded audio embeddings shape: (None, 128)\n",
      "Decoded audio embeddings shape: (None, 128)\n",
      "Decoded audio embeddings shape: (None, 128)\n"
     ]
    },
    {
     "name": "stderr",
     "output_type": "stream",
     "text": [
      "Processing TFRecord files:  19%|█▉        | 271/1444 [00:25<02:02,  9.61it/s]"
     ]
    },
    {
     "name": "stdout",
     "output_type": "stream",
     "text": [
      "Decoded audio embeddings shape: (None, 128)\n",
      "Decoded audio embeddings shape: (None, 128)\n",
      "Decoded audio embeddings shape: (None, 128)\n"
     ]
    },
    {
     "name": "stderr",
     "output_type": "stream",
     "text": [
      "Processing TFRecord files:  19%|█▉        | 275/1444 [00:25<01:49, 10.63it/s]"
     ]
    },
    {
     "name": "stdout",
     "output_type": "stream",
     "text": [
      "Decoded audio embeddings shape: (None, 128)\n",
      "Decoded audio embeddings shape: (None, 128)\n",
      "Decoded audio embeddings shape: (None, 128)\n"
     ]
    },
    {
     "name": "stderr",
     "output_type": "stream",
     "text": [
      "Processing TFRecord files:  19%|█▉        | 279/1444 [00:26<01:43, 11.24it/s]"
     ]
    },
    {
     "name": "stdout",
     "output_type": "stream",
     "text": [
      "Decoded audio embeddings shape: (None, 128)\n",
      "Decoded audio embeddings shape: (None, 128)\n",
      "Decoded audio embeddings shape: (None, 128)\n"
     ]
    },
    {
     "name": "stderr",
     "output_type": "stream",
     "text": [
      "Processing TFRecord files:  19%|█▉        | 281/1444 [00:26<01:40, 11.60it/s]"
     ]
    },
    {
     "name": "stdout",
     "output_type": "stream",
     "text": [
      "Decoded audio embeddings shape: (None, 128)\n",
      "Decoded audio embeddings shape: (None, 128)\n",
      "Decoded audio embeddings shape: (None, 128)\n"
     ]
    },
    {
     "name": "stderr",
     "output_type": "stream",
     "text": [
      "Processing TFRecord files:  20%|█▉        | 283/1444 [00:26<01:59,  9.73it/s]"
     ]
    },
    {
     "name": "stdout",
     "output_type": "stream",
     "text": [
      "Decoded audio embeddings shape: (None, 128)\n",
      "Decoded audio embeddings shape: (None, 128)\n"
     ]
    },
    {
     "name": "stderr",
     "output_type": "stream",
     "text": [
      "Processing TFRecord files:  20%|█▉        | 286/1444 [00:27<02:10,  8.88it/s]"
     ]
    },
    {
     "name": "stdout",
     "output_type": "stream",
     "text": [
      "Decoded audio embeddings shape: (None, 128)\n",
      "Decoded audio embeddings shape: (None, 128)\n",
      "Decoded audio embeddings shape: (None, 128)\n"
     ]
    },
    {
     "name": "stderr",
     "output_type": "stream",
     "text": [
      "Processing TFRecord files:  20%|█▉        | 288/1444 [00:27<02:16,  8.49it/s]"
     ]
    },
    {
     "name": "stdout",
     "output_type": "stream",
     "text": [
      "Decoded audio embeddings shape: (None, 128)\n",
      "Decoded audio embeddings shape: (None, 128)\n"
     ]
    },
    {
     "name": "stderr",
     "output_type": "stream",
     "text": [
      "Processing TFRecord files:  20%|██        | 291/1444 [00:27<02:06,  9.08it/s]"
     ]
    },
    {
     "name": "stdout",
     "output_type": "stream",
     "text": [
      "Decoded audio embeddings shape: (None, 128)\n",
      "Decoded audio embeddings shape: (None, 128)\n"
     ]
    },
    {
     "name": "stderr",
     "output_type": "stream",
     "text": [
      "Processing TFRecord files:  20%|██        | 292/1444 [00:27<02:05,  9.19it/s]"
     ]
    },
    {
     "name": "stdout",
     "output_type": "stream",
     "text": [
      "Decoded audio embeddings shape: (None, 128)\n",
      "Decoded audio embeddings shape: (None, 128)\n",
      "Decoded audio embeddings shape: (None, 128)\n"
     ]
    },
    {
     "name": "stderr",
     "output_type": "stream",
     "text": [
      "Processing TFRecord files:  20%|██        | 296/1444 [00:28<01:54, 10.03it/s]"
     ]
    },
    {
     "name": "stdout",
     "output_type": "stream",
     "text": [
      "Decoded audio embeddings shape: (None, 128)\n",
      "Decoded audio embeddings shape: (None, 128)\n",
      "Decoded audio embeddings shape: (None, 128)\n"
     ]
    },
    {
     "name": "stderr",
     "output_type": "stream",
     "text": [
      "Processing TFRecord files:  21%|██        | 298/1444 [00:28<01:55,  9.91it/s]"
     ]
    },
    {
     "name": "stdout",
     "output_type": "stream",
     "text": [
      "Decoded audio embeddings shape: (None, 128)\n",
      "Decoded audio embeddings shape: (None, 128)\n",
      "Decoded audio embeddings shape: (None, 128)\n"
     ]
    },
    {
     "name": "stderr",
     "output_type": "stream",
     "text": [
      "Processing TFRecord files:  21%|██        | 300/1444 [00:28<01:50, 10.32it/s]"
     ]
    },
    {
     "name": "stdout",
     "output_type": "stream",
     "text": [
      "Decoded audio embeddings shape: (None, 128)\n",
      "Decoded audio embeddings shape: (None, 128)\n"
     ]
    },
    {
     "name": "stderr",
     "output_type": "stream",
     "text": [
      "Processing TFRecord files:  21%|██        | 303/1444 [00:28<02:34,  7.41it/s]"
     ]
    },
    {
     "name": "stdout",
     "output_type": "stream",
     "text": [
      "Decoded audio embeddings shape: (None, 128)\n"
     ]
    },
    {
     "name": "stderr",
     "output_type": "stream",
     "text": [
      "Processing TFRecord files:  21%|██        | 305/1444 [00:29<02:31,  7.53it/s]"
     ]
    },
    {
     "name": "stdout",
     "output_type": "stream",
     "text": [
      "Decoded audio embeddings shape: (None, 128)\n",
      "Decoded audio embeddings shape: (None, 128)\n"
     ]
    },
    {
     "name": "stderr",
     "output_type": "stream",
     "text": [
      "Processing TFRecord files:  21%|██▏       | 307/1444 [00:29<02:26,  7.76it/s]"
     ]
    },
    {
     "name": "stdout",
     "output_type": "stream",
     "text": [
      "Decoded audio embeddings shape: (None, 128)\n",
      "Decoded audio embeddings shape: (None, 128)\n"
     ]
    },
    {
     "name": "stderr",
     "output_type": "stream",
     "text": [
      "Processing TFRecord files:  21%|██▏       | 308/1444 [00:29<02:31,  7.50it/s]"
     ]
    },
    {
     "name": "stdout",
     "output_type": "stream",
     "text": [
      "Decoded audio embeddings shape: (None, 128)\n",
      "Decoded audio embeddings shape: (None, 128)\n"
     ]
    },
    {
     "name": "stderr",
     "output_type": "stream",
     "text": [
      "Processing TFRecord files:  21%|██▏       | 310/1444 [00:29<02:47,  6.77it/s]"
     ]
    },
    {
     "name": "stdout",
     "output_type": "stream",
     "text": [
      "Decoded audio embeddings shape: (None, 128)\n",
      "Decoded audio embeddings shape: (None, 128)\n"
     ]
    },
    {
     "name": "stderr",
     "output_type": "stream",
     "text": [
      "Processing TFRecord files:  22%|██▏       | 312/1444 [00:30<03:02,  6.21it/s]"
     ]
    },
    {
     "name": "stdout",
     "output_type": "stream",
     "text": [
      "Decoded audio embeddings shape: (None, 128)\n",
      "Decoded audio embeddings shape: (None, 128)\n"
     ]
    },
    {
     "name": "stderr",
     "output_type": "stream",
     "text": [
      "Processing TFRecord files:  22%|██▏       | 315/1444 [00:30<02:32,  7.40it/s]"
     ]
    },
    {
     "name": "stdout",
     "output_type": "stream",
     "text": [
      "Decoded audio embeddings shape: (None, 128)\n",
      "Decoded audio embeddings shape: (None, 128)\n"
     ]
    },
    {
     "name": "stderr",
     "output_type": "stream",
     "text": [
      "Processing TFRecord files:  22%|██▏       | 317/1444 [00:30<02:26,  7.71it/s]"
     ]
    },
    {
     "name": "stdout",
     "output_type": "stream",
     "text": [
      "Decoded audio embeddings shape: (None, 128)\n",
      "Decoded audio embeddings shape: (None, 128)\n"
     ]
    },
    {
     "name": "stderr",
     "output_type": "stream",
     "text": [
      "Processing TFRecord files:  22%|██▏       | 319/1444 [00:31<02:21,  7.92it/s]"
     ]
    },
    {
     "name": "stdout",
     "output_type": "stream",
     "text": [
      "Decoded audio embeddings shape: (None, 128)\n",
      "Decoded audio embeddings shape: (None, 128)\n"
     ]
    },
    {
     "name": "stderr",
     "output_type": "stream",
     "text": [
      "Processing TFRecord files:  22%|██▏       | 320/1444 [00:31<02:20,  7.97it/s]"
     ]
    },
    {
     "name": "stdout",
     "output_type": "stream",
     "text": [
      "Decoded audio embeddings shape: (None, 128)\n",
      "Decoded audio embeddings shape: (None, 128)\n"
     ]
    },
    {
     "name": "stderr",
     "output_type": "stream",
     "text": [
      "Processing TFRecord files:  22%|██▏       | 323/1444 [00:31<02:16,  8.20it/s]"
     ]
    },
    {
     "name": "stdout",
     "output_type": "stream",
     "text": [
      "Decoded audio embeddings shape: (None, 128)\n",
      "Decoded audio embeddings shape: (None, 128)\n"
     ]
    },
    {
     "name": "stderr",
     "output_type": "stream",
     "text": [
      "Processing TFRecord files:  22%|██▏       | 324/1444 [00:31<02:21,  7.92it/s]"
     ]
    },
    {
     "name": "stdout",
     "output_type": "stream",
     "text": [
      "Decoded audio embeddings shape: (None, 128)\n",
      "Decoded audio embeddings shape: (None, 128)\n"
     ]
    },
    {
     "name": "stderr",
     "output_type": "stream",
     "text": [
      "Processing TFRecord files:  23%|██▎       | 326/1444 [00:32<03:00,  6.20it/s]"
     ]
    },
    {
     "name": "stdout",
     "output_type": "stream",
     "text": [
      "Decoded audio embeddings shape: (None, 128)\n",
      "Decoded audio embeddings shape: (None, 128)\n"
     ]
    },
    {
     "name": "stderr",
     "output_type": "stream",
     "text": [
      "Processing TFRecord files:  23%|██▎       | 328/1444 [00:32<03:11,  5.84it/s]"
     ]
    },
    {
     "name": "stdout",
     "output_type": "stream",
     "text": [
      "Decoded audio embeddings shape: (None, 128)\n",
      "Decoded audio embeddings shape: (None, 128)\n"
     ]
    },
    {
     "name": "stderr",
     "output_type": "stream",
     "text": [
      "Processing TFRecord files:  23%|██▎       | 330/1444 [00:32<03:08,  5.91it/s]"
     ]
    },
    {
     "name": "stdout",
     "output_type": "stream",
     "text": [
      "Decoded audio embeddings shape: (None, 128)\n",
      "Decoded audio embeddings shape: (None, 128)\n"
     ]
    },
    {
     "name": "stderr",
     "output_type": "stream",
     "text": [
      "Processing TFRecord files:  23%|██▎       | 332/1444 [00:33<03:02,  6.11it/s]"
     ]
    },
    {
     "name": "stdout",
     "output_type": "stream",
     "text": [
      "Decoded audio embeddings shape: (None, 128)\n",
      "Decoded audio embeddings shape: (None, 128)\n"
     ]
    },
    {
     "name": "stderr",
     "output_type": "stream",
     "text": [
      "Processing TFRecord files:  23%|██▎       | 334/1444 [00:33<02:40,  6.90it/s]"
     ]
    },
    {
     "name": "stdout",
     "output_type": "stream",
     "text": [
      "Decoded audio embeddings shape: (None, 128)\n",
      "Decoded audio embeddings shape: (None, 128)\n"
     ]
    },
    {
     "name": "stderr",
     "output_type": "stream",
     "text": [
      "Processing TFRecord files:  23%|██▎       | 337/1444 [00:33<02:23,  7.70it/s]"
     ]
    },
    {
     "name": "stdout",
     "output_type": "stream",
     "text": [
      "Decoded audio embeddings shape: (None, 128)\n",
      "Decoded audio embeddings shape: (None, 128)\n"
     ]
    },
    {
     "name": "stderr",
     "output_type": "stream",
     "text": [
      "Processing TFRecord files:  23%|██▎       | 339/1444 [00:34<02:10,  8.45it/s]"
     ]
    },
    {
     "name": "stdout",
     "output_type": "stream",
     "text": [
      "Decoded audio embeddings shape: (None, 128)\n",
      "Decoded audio embeddings shape: (None, 128)\n"
     ]
    },
    {
     "name": "stderr",
     "output_type": "stream",
     "text": [
      "Processing TFRecord files:  24%|██▎       | 340/1444 [00:34<02:09,  8.54it/s]"
     ]
    },
    {
     "name": "stdout",
     "output_type": "stream",
     "text": [
      "Decoded audio embeddings shape: (None, 128)\n",
      "Decoded audio embeddings shape: (None, 128)\n",
      "Decoded audio embeddings shape: (None, 128)\n"
     ]
    },
    {
     "name": "stderr",
     "output_type": "stream",
     "text": [
      "Processing TFRecord files:  24%|██▍       | 343/1444 [00:34<01:57,  9.38it/s]"
     ]
    },
    {
     "name": "stdout",
     "output_type": "stream",
     "text": [
      "Decoded audio embeddings shape: (None, 128)\n",
      "Decoded audio embeddings shape: (None, 128)\n"
     ]
    },
    {
     "name": "stderr",
     "output_type": "stream",
     "text": [
      "Processing TFRecord files:  24%|██▍       | 345/1444 [00:34<02:34,  7.10it/s]"
     ]
    },
    {
     "name": "stdout",
     "output_type": "stream",
     "text": [
      "Decoded audio embeddings shape: (None, 128)\n",
      "Decoded audio embeddings shape: (None, 128)\n"
     ]
    },
    {
     "name": "stderr",
     "output_type": "stream",
     "text": [
      "Processing TFRecord files:  24%|██▍       | 348/1444 [00:35<02:17,  7.97it/s]"
     ]
    },
    {
     "name": "stdout",
     "output_type": "stream",
     "text": [
      "Decoded audio embeddings shape: (None, 128)\n",
      "Decoded audio embeddings shape: (None, 128)\n",
      "Decoded audio embeddings shape: (None, 128)\n"
     ]
    },
    {
     "name": "stderr",
     "output_type": "stream",
     "text": [
      "Processing TFRecord files:  24%|██▍       | 350/1444 [00:35<02:24,  7.55it/s]"
     ]
    },
    {
     "name": "stdout",
     "output_type": "stream",
     "text": [
      "Decoded audio embeddings shape: (None, 128)\n",
      "Decoded audio embeddings shape: (None, 128)\n"
     ]
    },
    {
     "name": "stderr",
     "output_type": "stream",
     "text": [
      "Processing TFRecord files:  24%|██▍       | 353/1444 [00:35<02:11,  8.30it/s]"
     ]
    },
    {
     "name": "stdout",
     "output_type": "stream",
     "text": [
      "Decoded audio embeddings shape: (None, 128)\n",
      "Decoded audio embeddings shape: (None, 128)\n"
     ]
    },
    {
     "name": "stderr",
     "output_type": "stream",
     "text": [
      "Processing TFRecord files:  25%|██▍       | 354/1444 [00:35<02:17,  7.90it/s]"
     ]
    },
    {
     "name": "stdout",
     "output_type": "stream",
     "text": [
      "Decoded audio embeddings shape: (None, 128)\n",
      "Decoded audio embeddings shape: (None, 128)\n"
     ]
    },
    {
     "name": "stderr",
     "output_type": "stream",
     "text": [
      "Processing TFRecord files:  25%|██▍       | 356/1444 [00:36<02:28,  7.33it/s]"
     ]
    },
    {
     "name": "stdout",
     "output_type": "stream",
     "text": [
      "Decoded audio embeddings shape: (None, 128)\n",
      "Decoded audio embeddings shape: (None, 128)\n"
     ]
    },
    {
     "name": "stderr",
     "output_type": "stream",
     "text": [
      "Processing TFRecord files:  25%|██▍       | 358/1444 [00:36<03:20,  5.43it/s]"
     ]
    },
    {
     "name": "stdout",
     "output_type": "stream",
     "text": [
      "Decoded audio embeddings shape: (None, 128)\n"
     ]
    },
    {
     "name": "stderr",
     "output_type": "stream",
     "text": [
      "Processing TFRecord files:  25%|██▍       | 359/1444 [00:36<03:21,  5.38it/s]"
     ]
    },
    {
     "name": "stdout",
     "output_type": "stream",
     "text": [
      "Decoded audio embeddings shape: (None, 128)\n",
      "Decoded audio embeddings shape: (None, 128)\n"
     ]
    },
    {
     "name": "stderr",
     "output_type": "stream",
     "text": [
      "Processing TFRecord files:  25%|██▌       | 361/1444 [00:37<03:46,  4.78it/s]"
     ]
    },
    {
     "name": "stdout",
     "output_type": "stream",
     "text": [
      "Decoded audio embeddings shape: (None, 128)\n"
     ]
    },
    {
     "name": "stderr",
     "output_type": "stream",
     "text": [
      "Processing TFRecord files:  25%|██▌       | 362/1444 [00:37<03:57,  4.56it/s]"
     ]
    },
    {
     "name": "stdout",
     "output_type": "stream",
     "text": [
      "Decoded audio embeddings shape: (None, 128)\n",
      "Decoded audio embeddings shape: (None, 128)\n"
     ]
    },
    {
     "name": "stderr",
     "output_type": "stream",
     "text": [
      "Processing TFRecord files:  25%|██▌       | 364/1444 [00:38<03:51,  4.67it/s]"
     ]
    },
    {
     "name": "stdout",
     "output_type": "stream",
     "text": [
      "Decoded audio embeddings shape: (None, 128)\n",
      "Decoded audio embeddings shape: (None, 128)\n"
     ]
    },
    {
     "name": "stderr",
     "output_type": "stream",
     "text": [
      "Processing TFRecord files:  25%|██▌       | 366/1444 [00:38<03:24,  5.27it/s]"
     ]
    },
    {
     "name": "stdout",
     "output_type": "stream",
     "text": [
      "Decoded audio embeddings shape: (None, 128)\n",
      "Decoded audio embeddings shape: (None, 128)\n"
     ]
    },
    {
     "name": "stderr",
     "output_type": "stream",
     "text": [
      "Processing TFRecord files:  25%|██▌       | 368/1444 [00:38<03:02,  5.90it/s]"
     ]
    },
    {
     "name": "stdout",
     "output_type": "stream",
     "text": [
      "Decoded audio embeddings shape: (None, 128)\n",
      "Decoded audio embeddings shape: (None, 128)\n"
     ]
    },
    {
     "name": "stderr",
     "output_type": "stream",
     "text": [
      "Processing TFRecord files:  26%|██▌       | 370/1444 [00:39<03:29,  5.13it/s]"
     ]
    },
    {
     "name": "stdout",
     "output_type": "stream",
     "text": [
      "Decoded audio embeddings shape: (None, 128)\n",
      "Decoded audio embeddings shape: (None, 128)\n"
     ]
    },
    {
     "name": "stderr",
     "output_type": "stream",
     "text": [
      "Processing TFRecord files:  26%|██▌       | 372/1444 [00:39<03:21,  5.33it/s]"
     ]
    },
    {
     "name": "stdout",
     "output_type": "stream",
     "text": [
      "Decoded audio embeddings shape: (None, 128)\n",
      "Decoded audio embeddings shape: (None, 128)\n"
     ]
    },
    {
     "name": "stderr",
     "output_type": "stream",
     "text": [
      "Processing TFRecord files:  26%|██▌       | 374/1444 [00:39<03:14,  5.49it/s]"
     ]
    },
    {
     "name": "stdout",
     "output_type": "stream",
     "text": [
      "Decoded audio embeddings shape: (None, 128)\n",
      "Decoded audio embeddings shape: (None, 128)\n"
     ]
    },
    {
     "name": "stderr",
     "output_type": "stream",
     "text": [
      "Processing TFRecord files:  26%|██▌       | 377/1444 [00:40<02:41,  6.62it/s]"
     ]
    },
    {
     "name": "stdout",
     "output_type": "stream",
     "text": [
      "Decoded audio embeddings shape: (None, 128)\n",
      "Decoded audio embeddings shape: (None, 128)\n"
     ]
    },
    {
     "name": "stderr",
     "output_type": "stream",
     "text": [
      "Processing TFRecord files:  26%|██▌       | 378/1444 [00:40<02:37,  6.75it/s]"
     ]
    },
    {
     "name": "stdout",
     "output_type": "stream",
     "text": [
      "Decoded audio embeddings shape: (None, 128)\n",
      "Decoded audio embeddings shape: (None, 128)\n"
     ]
    },
    {
     "name": "stderr",
     "output_type": "stream",
     "text": [
      "Processing TFRecord files:  26%|██▋       | 380/1444 [00:40<02:27,  7.22it/s]"
     ]
    },
    {
     "name": "stdout",
     "output_type": "stream",
     "text": [
      "Decoded audio embeddings shape: (None, 128)\n",
      "Decoded audio embeddings shape: (None, 128)\n"
     ]
    },
    {
     "name": "stderr",
     "output_type": "stream",
     "text": [
      "Processing TFRecord files:  26%|██▋       | 382/1444 [00:41<03:10,  5.58it/s]"
     ]
    },
    {
     "name": "stdout",
     "output_type": "stream",
     "text": [
      "Decoded audio embeddings shape: (None, 128)\n",
      "Decoded audio embeddings shape: (None, 128)\n"
     ]
    },
    {
     "name": "stderr",
     "output_type": "stream",
     "text": [
      "Processing TFRecord files:  27%|██▋       | 385/1444 [00:41<02:39,  6.64it/s]"
     ]
    },
    {
     "name": "stdout",
     "output_type": "stream",
     "text": [
      "Decoded audio embeddings shape: (None, 128)\n",
      "Decoded audio embeddings shape: (None, 128)\n"
     ]
    },
    {
     "name": "stderr",
     "output_type": "stream",
     "text": [
      "Processing TFRecord files:  27%|██▋       | 387/1444 [00:41<02:23,  7.36it/s]"
     ]
    },
    {
     "name": "stdout",
     "output_type": "stream",
     "text": [
      "Decoded audio embeddings shape: (None, 128)\n",
      "Decoded audio embeddings shape: (None, 128)\n"
     ]
    },
    {
     "name": "stderr",
     "output_type": "stream",
     "text": [
      "Processing TFRecord files:  27%|██▋       | 389/1444 [00:41<02:08,  8.24it/s]"
     ]
    },
    {
     "name": "stdout",
     "output_type": "stream",
     "text": [
      "Decoded audio embeddings shape: (None, 128)\n",
      "Decoded audio embeddings shape: (None, 128)\n",
      "Decoded audio embeddings shape: (None, 128)\n"
     ]
    },
    {
     "name": "stderr",
     "output_type": "stream",
     "text": [
      "Processing TFRecord files:  27%|██▋       | 391/1444 [00:42<01:59,  8.83it/s]"
     ]
    },
    {
     "name": "stdout",
     "output_type": "stream",
     "text": [
      "Decoded audio embeddings shape: (None, 128)\n",
      "Decoded audio embeddings shape: (None, 128)\n"
     ]
    },
    {
     "name": "stderr",
     "output_type": "stream",
     "text": [
      "Processing TFRecord files:  27%|██▋       | 394/1444 [00:42<01:50,  9.46it/s]"
     ]
    },
    {
     "name": "stdout",
     "output_type": "stream",
     "text": [
      "Decoded audio embeddings shape: (None, 128)\n",
      "Decoded audio embeddings shape: (None, 128)\n",
      "Decoded audio embeddings shape: (None, 128)\n"
     ]
    },
    {
     "name": "stderr",
     "output_type": "stream",
     "text": [
      "Processing TFRecord files:  27%|██▋       | 397/1444 [00:42<01:45,  9.89it/s]"
     ]
    },
    {
     "name": "stdout",
     "output_type": "stream",
     "text": [
      "Decoded audio embeddings shape: (None, 128)\n",
      "Decoded audio embeddings shape: (None, 128)\n",
      "Decoded audio embeddings shape: (None, 128)\n"
     ]
    },
    {
     "name": "stderr",
     "output_type": "stream",
     "text": [
      "Processing TFRecord files:  28%|██▊       | 399/1444 [00:42<01:41, 10.33it/s]"
     ]
    },
    {
     "name": "stdout",
     "output_type": "stream",
     "text": [
      "Decoded audio embeddings shape: (None, 128)\n",
      "Decoded audio embeddings shape: (None, 128)\n",
      "Decoded audio embeddings shape: (None, 128)\n"
     ]
    },
    {
     "name": "stderr",
     "output_type": "stream",
     "text": [
      "Processing TFRecord files:  28%|██▊       | 403/1444 [00:43<01:41, 10.25it/s]"
     ]
    },
    {
     "name": "stdout",
     "output_type": "stream",
     "text": [
      "Decoded audio embeddings shape: (None, 128)\n",
      "Decoded audio embeddings shape: (None, 128)\n",
      "Decoded audio embeddings shape: (None, 128)\n"
     ]
    },
    {
     "name": "stderr",
     "output_type": "stream",
     "text": [
      "Processing TFRecord files:  28%|██▊       | 406/1444 [00:43<01:46,  9.77it/s]"
     ]
    },
    {
     "name": "stdout",
     "output_type": "stream",
     "text": [
      "Decoded audio embeddings shape: (None, 128)\n",
      "Decoded audio embeddings shape: (None, 128)\n",
      "Decoded audio embeddings shape: (None, 128)\n"
     ]
    },
    {
     "name": "stderr",
     "output_type": "stream",
     "text": [
      "Processing TFRecord files:  28%|██▊       | 409/1444 [00:43<01:50,  9.40it/s]"
     ]
    },
    {
     "name": "stdout",
     "output_type": "stream",
     "text": [
      "Decoded audio embeddings shape: (None, 128)\n",
      "Decoded audio embeddings shape: (None, 128)\n"
     ]
    },
    {
     "name": "stderr",
     "output_type": "stream",
     "text": [
      "Processing TFRecord files:  28%|██▊       | 410/1444 [00:44<02:00,  8.57it/s]"
     ]
    },
    {
     "name": "stdout",
     "output_type": "stream",
     "text": [
      "Decoded audio embeddings shape: (None, 128)\n",
      "Decoded audio embeddings shape: (None, 128)\n"
     ]
    },
    {
     "name": "stderr",
     "output_type": "stream",
     "text": [
      "Processing TFRecord files:  29%|██▊       | 413/1444 [00:44<02:10,  7.90it/s]"
     ]
    },
    {
     "name": "stdout",
     "output_type": "stream",
     "text": [
      "Decoded audio embeddings shape: (None, 128)\n",
      "Decoded audio embeddings shape: (None, 128)\n"
     ]
    },
    {
     "name": "stderr",
     "output_type": "stream",
     "text": [
      "Processing TFRecord files:  29%|██▊       | 414/1444 [00:44<02:26,  7.01it/s]"
     ]
    },
    {
     "name": "stdout",
     "output_type": "stream",
     "text": [
      "Decoded audio embeddings shape: (None, 128)\n",
      "Decoded audio embeddings shape: (None, 128)\n"
     ]
    },
    {
     "name": "stderr",
     "output_type": "stream",
     "text": [
      "Processing TFRecord files:  29%|██▉       | 416/1444 [00:44<02:08,  7.97it/s]"
     ]
    },
    {
     "name": "stdout",
     "output_type": "stream",
     "text": [
      "Decoded audio embeddings shape: (None, 128)\n",
      "Decoded audio embeddings shape: (None, 128)\n"
     ]
    },
    {
     "name": "stderr",
     "output_type": "stream",
     "text": [
      "Processing TFRecord files:  29%|██▉       | 419/1444 [00:45<01:58,  8.62it/s]"
     ]
    },
    {
     "name": "stdout",
     "output_type": "stream",
     "text": [
      "Decoded audio embeddings shape: (None, 128)\n",
      "Decoded audio embeddings shape: (None, 128)\n"
     ]
    },
    {
     "name": "stderr",
     "output_type": "stream",
     "text": [
      "Processing TFRecord files:  29%|██▉       | 421/1444 [00:45<01:55,  8.85it/s]"
     ]
    },
    {
     "name": "stdout",
     "output_type": "stream",
     "text": [
      "Decoded audio embeddings shape: (None, 128)\n",
      "Decoded audio embeddings shape: (None, 128)\n"
     ]
    },
    {
     "name": "stderr",
     "output_type": "stream",
     "text": [
      "Processing TFRecord files:  29%|██▉       | 423/1444 [00:45<01:48,  9.39it/s]"
     ]
    },
    {
     "name": "stdout",
     "output_type": "stream",
     "text": [
      "Decoded audio embeddings shape: (None, 128)\n",
      "Decoded audio embeddings shape: (None, 128)\n",
      "Decoded audio embeddings shape: (None, 128)\n"
     ]
    },
    {
     "name": "stderr",
     "output_type": "stream",
     "text": [
      "Processing TFRecord files:  30%|██▉       | 426/1444 [00:46<01:53,  8.98it/s]"
     ]
    },
    {
     "name": "stdout",
     "output_type": "stream",
     "text": [
      "Decoded audio embeddings shape: (None, 128)\n",
      "Decoded audio embeddings shape: (None, 128)\n"
     ]
    },
    {
     "name": "stderr",
     "output_type": "stream",
     "text": [
      "Processing TFRecord files:  30%|██▉       | 428/1444 [00:46<01:53,  8.93it/s]"
     ]
    },
    {
     "name": "stdout",
     "output_type": "stream",
     "text": [
      "Decoded audio embeddings shape: (None, 128)\n",
      "Decoded audio embeddings shape: (None, 128)\n"
     ]
    },
    {
     "name": "stderr",
     "output_type": "stream",
     "text": [
      "Processing TFRecord files:  30%|██▉       | 430/1444 [00:46<01:53,  8.97it/s]"
     ]
    },
    {
     "name": "stdout",
     "output_type": "stream",
     "text": [
      "Decoded audio embeddings shape: (None, 128)\n",
      "Decoded audio embeddings shape: (None, 128)\n",
      "Decoded audio embeddings shape: (None, 128)\n"
     ]
    },
    {
     "name": "stderr",
     "output_type": "stream",
     "text": [
      "Processing TFRecord files:  30%|██▉       | 432/1444 [00:46<01:51,  9.10it/s]"
     ]
    },
    {
     "name": "stdout",
     "output_type": "stream",
     "text": [
      "Decoded audio embeddings shape: (None, 128)\n",
      "Decoded audio embeddings shape: (None, 128)\n"
     ]
    },
    {
     "name": "stderr",
     "output_type": "stream",
     "text": [
      "Processing TFRecord files:  30%|███       | 435/1444 [00:47<02:05,  8.05it/s]"
     ]
    },
    {
     "name": "stdout",
     "output_type": "stream",
     "text": [
      "Decoded audio embeddings shape: (None, 128)\n",
      "Decoded audio embeddings shape: (None, 128)\n"
     ]
    },
    {
     "name": "stderr",
     "output_type": "stream",
     "text": [
      "Processing TFRecord files:  30%|███       | 437/1444 [00:47<02:02,  8.20it/s]"
     ]
    },
    {
     "name": "stdout",
     "output_type": "stream",
     "text": [
      "Decoded audio embeddings shape: (None, 128)\n",
      "Decoded audio embeddings shape: (None, 128)\n"
     ]
    },
    {
     "name": "stderr",
     "output_type": "stream",
     "text": [
      "Processing TFRecord files:  30%|███       | 438/1444 [00:47<02:00,  8.38it/s]"
     ]
    },
    {
     "name": "stdout",
     "output_type": "stream",
     "text": [
      "Decoded audio embeddings shape: (None, 128)\n",
      "Decoded audio embeddings shape: (None, 128)\n"
     ]
    },
    {
     "name": "stderr",
     "output_type": "stream",
     "text": [
      "Processing TFRecord files:  30%|███       | 440/1444 [00:47<02:14,  7.45it/s]"
     ]
    },
    {
     "name": "stdout",
     "output_type": "stream",
     "text": [
      "Decoded audio embeddings shape: (None, 128)\n",
      "Decoded audio embeddings shape: (None, 128)\n"
     ]
    },
    {
     "name": "stderr",
     "output_type": "stream",
     "text": [
      "Processing TFRecord files:  31%|███       | 443/1444 [00:48<02:02,  8.15it/s]"
     ]
    },
    {
     "name": "stdout",
     "output_type": "stream",
     "text": [
      "Decoded audio embeddings shape: (None, 128)\n",
      "Decoded audio embeddings shape: (None, 128)\n"
     ]
    },
    {
     "name": "stderr",
     "output_type": "stream",
     "text": [
      "Processing TFRecord files:  31%|███       | 445/1444 [00:48<01:53,  8.83it/s]"
     ]
    },
    {
     "name": "stdout",
     "output_type": "stream",
     "text": [
      "Decoded audio embeddings shape: (None, 128)\n",
      "Decoded audio embeddings shape: (None, 128)\n"
     ]
    },
    {
     "name": "stderr",
     "output_type": "stream",
     "text": [
      "Processing TFRecord files:  31%|███       | 447/1444 [00:48<01:49,  9.09it/s]"
     ]
    },
    {
     "name": "stdout",
     "output_type": "stream",
     "text": [
      "Decoded audio embeddings shape: (None, 128)\n",
      "Decoded audio embeddings shape: (None, 128)\n",
      "Decoded audio embeddings shape: (None, 128)\n"
     ]
    },
    {
     "name": "stderr",
     "output_type": "stream",
     "text": [
      "Processing TFRecord files:  31%|███       | 450/1444 [00:48<01:46,  9.30it/s]"
     ]
    },
    {
     "name": "stdout",
     "output_type": "stream",
     "text": [
      "Decoded audio embeddings shape: (None, 128)\n",
      "Decoded audio embeddings shape: (None, 128)\n"
     ]
    },
    {
     "name": "stderr",
     "output_type": "stream",
     "text": [
      "Processing TFRecord files:  31%|███       | 451/1444 [00:49<01:55,  8.61it/s]"
     ]
    },
    {
     "name": "stdout",
     "output_type": "stream",
     "text": [
      "Decoded audio embeddings shape: (None, 128)\n",
      "Decoded audio embeddings shape: (None, 128)\n"
     ]
    },
    {
     "name": "stderr",
     "output_type": "stream",
     "text": [
      "Processing TFRecord files:  31%|███▏      | 453/1444 [00:49<02:00,  8.24it/s]"
     ]
    },
    {
     "name": "stdout",
     "output_type": "stream",
     "text": [
      "Decoded audio embeddings shape: (None, 128)\n",
      "Decoded audio embeddings shape: (None, 128)\n"
     ]
    },
    {
     "name": "stderr",
     "output_type": "stream",
     "text": [
      "Processing TFRecord files:  32%|███▏      | 455/1444 [00:49<02:10,  7.59it/s]"
     ]
    },
    {
     "name": "stdout",
     "output_type": "stream",
     "text": [
      "Decoded audio embeddings shape: (None, 128)\n",
      "Decoded audio embeddings shape: (None, 128)\n"
     ]
    },
    {
     "name": "stderr",
     "output_type": "stream",
     "text": [
      "Processing TFRecord files:  32%|███▏      | 457/1444 [00:49<02:34,  6.40it/s]"
     ]
    },
    {
     "name": "stdout",
     "output_type": "stream",
     "text": [
      "Decoded audio embeddings shape: (None, 128)\n",
      "Decoded audio embeddings shape: (None, 128)\n"
     ]
    },
    {
     "name": "stderr",
     "output_type": "stream",
     "text": [
      "Processing TFRecord files:  32%|███▏      | 459/1444 [00:50<02:54,  5.63it/s]"
     ]
    },
    {
     "name": "stdout",
     "output_type": "stream",
     "text": [
      "Decoded audio embeddings shape: (None, 128)\n",
      "Decoded audio embeddings shape: (None, 128)\n"
     ]
    },
    {
     "name": "stderr",
     "output_type": "stream",
     "text": [
      "Processing TFRecord files:  32%|███▏      | 461/1444 [00:50<02:57,  5.55it/s]"
     ]
    },
    {
     "name": "stdout",
     "output_type": "stream",
     "text": [
      "Decoded audio embeddings shape: (None, 128)\n",
      "Decoded audio embeddings shape: (None, 128)\n"
     ]
    },
    {
     "name": "stderr",
     "output_type": "stream",
     "text": [
      "Processing TFRecord files:  32%|███▏      | 463/1444 [00:50<02:33,  6.37it/s]"
     ]
    },
    {
     "name": "stdout",
     "output_type": "stream",
     "text": [
      "Decoded audio embeddings shape: (None, 128)\n",
      "Decoded audio embeddings shape: (None, 128)\n"
     ]
    },
    {
     "name": "stderr",
     "output_type": "stream",
     "text": [
      "Processing TFRecord files:  32%|███▏      | 465/1444 [00:51<02:34,  6.33it/s]"
     ]
    },
    {
     "name": "stdout",
     "output_type": "stream",
     "text": [
      "Decoded audio embeddings shape: (None, 128)\n",
      "Decoded audio embeddings shape: (None, 128)\n"
     ]
    },
    {
     "name": "stderr",
     "output_type": "stream",
     "text": [
      "Processing TFRecord files:  32%|███▏      | 467/1444 [00:51<03:46,  4.32it/s]"
     ]
    },
    {
     "name": "stdout",
     "output_type": "stream",
     "text": [
      "Decoded audio embeddings shape: (None, 128)\n",
      "Decoded audio embeddings shape: (None, 128)\n"
     ]
    },
    {
     "name": "stderr",
     "output_type": "stream",
     "text": [
      "Processing TFRecord files:  32%|███▏      | 469/1444 [00:52<02:56,  5.54it/s]"
     ]
    },
    {
     "name": "stdout",
     "output_type": "stream",
     "text": [
      "Decoded audio embeddings shape: (None, 128)\n",
      "Decoded audio embeddings shape: (None, 128)\n"
     ]
    },
    {
     "name": "stderr",
     "output_type": "stream",
     "text": [
      "Processing TFRecord files:  33%|███▎      | 472/1444 [00:52<02:15,  7.20it/s]"
     ]
    },
    {
     "name": "stdout",
     "output_type": "stream",
     "text": [
      "Decoded audio embeddings shape: (None, 128)\n",
      "Decoded audio embeddings shape: (None, 128)\n"
     ]
    },
    {
     "name": "stderr",
     "output_type": "stream",
     "text": [
      "Processing TFRecord files:  33%|███▎      | 474/1444 [00:52<02:02,  7.89it/s]"
     ]
    },
    {
     "name": "stdout",
     "output_type": "stream",
     "text": [
      "Decoded audio embeddings shape: (None, 128)\n",
      "Decoded audio embeddings shape: (None, 128)\n"
     ]
    },
    {
     "name": "stderr",
     "output_type": "stream",
     "text": [
      "Processing TFRecord files:  33%|███▎      | 476/1444 [00:53<01:52,  8.64it/s]"
     ]
    },
    {
     "name": "stdout",
     "output_type": "stream",
     "text": [
      "Decoded audio embeddings shape: (None, 128)\n",
      "Decoded audio embeddings shape: (None, 128)\n",
      "Decoded audio embeddings shape: (None, 128)\n"
     ]
    },
    {
     "name": "stderr",
     "output_type": "stream",
     "text": [
      "Processing TFRecord files:  33%|███▎      | 478/1444 [00:53<01:43,  9.31it/s]"
     ]
    },
    {
     "name": "stdout",
     "output_type": "stream",
     "text": [
      "Decoded audio embeddings shape: (None, 128)\n",
      "Decoded audio embeddings shape: (None, 128)\n",
      "Decoded audio embeddings shape: (None, 128)\n"
     ]
    },
    {
     "name": "stderr",
     "output_type": "stream",
     "text": [
      "Processing TFRecord files:  33%|███▎      | 482/1444 [00:53<01:35, 10.13it/s]"
     ]
    },
    {
     "name": "stdout",
     "output_type": "stream",
     "text": [
      "Decoded audio embeddings shape: (None, 128)\n",
      "Decoded audio embeddings shape: (None, 128)\n",
      "Decoded audio embeddings shape: (None, 128)\n"
     ]
    },
    {
     "name": "stderr",
     "output_type": "stream",
     "text": [
      "Processing TFRecord files:  34%|███▎      | 484/1444 [00:53<01:32, 10.37it/s]"
     ]
    },
    {
     "name": "stdout",
     "output_type": "stream",
     "text": [
      "Decoded audio embeddings shape: (None, 128)\n",
      "Decoded audio embeddings shape: (None, 128)\n",
      "Decoded audio embeddings shape: (None, 128)\n"
     ]
    },
    {
     "name": "stderr",
     "output_type": "stream",
     "text": [
      "Processing TFRecord files:  34%|███▍      | 488/1444 [00:54<01:35, 10.02it/s]"
     ]
    },
    {
     "name": "stdout",
     "output_type": "stream",
     "text": [
      "Decoded audio embeddings shape: (None, 128)\n",
      "Decoded audio embeddings shape: (None, 128)\n"
     ]
    },
    {
     "name": "stderr",
     "output_type": "stream",
     "text": [
      "Processing TFRecord files:  34%|███▍      | 490/1444 [00:54<01:41,  9.37it/s]"
     ]
    },
    {
     "name": "stdout",
     "output_type": "stream",
     "text": [
      "Decoded audio embeddings shape: (None, 128)\n",
      "Decoded audio embeddings shape: (None, 128)\n"
     ]
    },
    {
     "name": "stderr",
     "output_type": "stream",
     "text": [
      "Processing TFRecord files:  34%|███▍      | 492/1444 [00:54<01:44,  9.10it/s]"
     ]
    },
    {
     "name": "stdout",
     "output_type": "stream",
     "text": [
      "Decoded audio embeddings shape: (None, 128)\n",
      "Decoded audio embeddings shape: (None, 128)\n"
     ]
    },
    {
     "name": "stderr",
     "output_type": "stream",
     "text": [
      "Processing TFRecord files:  34%|███▍      | 493/1444 [00:54<01:49,  8.65it/s]"
     ]
    },
    {
     "name": "stdout",
     "output_type": "stream",
     "text": [
      "Decoded audio embeddings shape: (None, 128)\n",
      "Decoded audio embeddings shape: (None, 128)\n"
     ]
    },
    {
     "name": "stderr",
     "output_type": "stream",
     "text": [
      "Processing TFRecord files:  34%|███▍      | 495/1444 [00:55<02:08,  7.41it/s]"
     ]
    },
    {
     "name": "stdout",
     "output_type": "stream",
     "text": [
      "Decoded audio embeddings shape: (None, 128)\n",
      "Decoded audio embeddings shape: (None, 128)\n"
     ]
    },
    {
     "name": "stderr",
     "output_type": "stream",
     "text": [
      "Processing TFRecord files:  34%|███▍      | 498/1444 [00:55<01:55,  8.19it/s]"
     ]
    },
    {
     "name": "stdout",
     "output_type": "stream",
     "text": [
      "Decoded audio embeddings shape: (None, 128)\n",
      "Decoded audio embeddings shape: (None, 128)\n"
     ]
    },
    {
     "name": "stderr",
     "output_type": "stream",
     "text": [
      "Processing TFRecord files:  35%|███▍      | 500/1444 [00:55<01:46,  8.85it/s]"
     ]
    },
    {
     "name": "stdout",
     "output_type": "stream",
     "text": [
      "Decoded audio embeddings shape: (None, 128)\n",
      "Decoded audio embeddings shape: (None, 128)\n",
      "Decoded audio embeddings shape: (None, 128)\n"
     ]
    },
    {
     "name": "stderr",
     "output_type": "stream",
     "text": [
      "Processing TFRecord files:  35%|███▍      | 503/1444 [00:55<01:37,  9.61it/s]"
     ]
    },
    {
     "name": "stdout",
     "output_type": "stream",
     "text": [
      "Decoded audio embeddings shape: (None, 128)\n",
      "Decoded audio embeddings shape: (None, 128)\n",
      "Decoded audio embeddings shape: (None, 128)\n"
     ]
    },
    {
     "name": "stderr",
     "output_type": "stream",
     "text": [
      "Processing TFRecord files:  35%|███▍      | 505/1444 [00:56<01:33, 10.02it/s]"
     ]
    },
    {
     "name": "stdout",
     "output_type": "stream",
     "text": [
      "Decoded audio embeddings shape: (None, 128)\n",
      "Decoded audio embeddings shape: (None, 128)\n",
      "Decoded audio embeddings shape: (None, 128)\n"
     ]
    },
    {
     "name": "stderr",
     "output_type": "stream",
     "text": [
      "Processing TFRecord files:  35%|███▌      | 509/1444 [00:56<01:30, 10.30it/s]"
     ]
    },
    {
     "name": "stdout",
     "output_type": "stream",
     "text": [
      "Decoded audio embeddings shape: (None, 128)\n",
      "Decoded audio embeddings shape: (None, 128)\n",
      "Decoded audio embeddings shape: (None, 128)\n"
     ]
    },
    {
     "name": "stderr",
     "output_type": "stream",
     "text": [
      "Processing TFRecord files:  35%|███▌      | 511/1444 [00:56<01:31, 10.19it/s]"
     ]
    },
    {
     "name": "stdout",
     "output_type": "stream",
     "text": [
      "Decoded audio embeddings shape: (None, 128)\n",
      "Decoded audio embeddings shape: (None, 128)\n",
      "Decoded audio embeddings shape: (None, 128)\n"
     ]
    },
    {
     "name": "stderr",
     "output_type": "stream",
     "text": [
      "Processing TFRecord files:  36%|███▌      | 515/1444 [00:57<01:41,  9.13it/s]"
     ]
    },
    {
     "name": "stdout",
     "output_type": "stream",
     "text": [
      "Decoded audio embeddings shape: (None, 128)\n",
      "Decoded audio embeddings shape: (None, 128)\n"
     ]
    },
    {
     "name": "stderr",
     "output_type": "stream",
     "text": [
      "Processing TFRecord files:  36%|███▌      | 517/1444 [00:57<01:38,  9.40it/s]"
     ]
    },
    {
     "name": "stdout",
     "output_type": "stream",
     "text": [
      "Decoded audio embeddings shape: (None, 128)\n",
      "Decoded audio embeddings shape: (None, 128)\n"
     ]
    },
    {
     "name": "stderr",
     "output_type": "stream",
     "text": [
      "Processing TFRecord files:  36%|███▌      | 518/1444 [00:57<01:42,  9.08it/s]"
     ]
    },
    {
     "name": "stdout",
     "output_type": "stream",
     "text": [
      "Decoded audio embeddings shape: (None, 128)\n",
      "Decoded audio embeddings shape: (None, 128)\n"
     ]
    },
    {
     "name": "stderr",
     "output_type": "stream",
     "text": [
      "Processing TFRecord files:  36%|███▌      | 521/1444 [00:57<01:47,  8.60it/s]"
     ]
    },
    {
     "name": "stdout",
     "output_type": "stream",
     "text": [
      "Decoded audio embeddings shape: (None, 128)\n",
      "Decoded audio embeddings shape: (None, 128)\n"
     ]
    },
    {
     "name": "stderr",
     "output_type": "stream",
     "text": [
      "Processing TFRecord files:  36%|███▌      | 522/1444 [00:58<02:00,  7.64it/s]"
     ]
    },
    {
     "name": "stdout",
     "output_type": "stream",
     "text": [
      "Decoded audio embeddings shape: (None, 128)\n",
      "Decoded audio embeddings shape: (None, 128)\n"
     ]
    },
    {
     "name": "stderr",
     "output_type": "stream",
     "text": [
      "Processing TFRecord files:  36%|███▋      | 525/1444 [00:58<01:56,  7.88it/s]"
     ]
    },
    {
     "name": "stdout",
     "output_type": "stream",
     "text": [
      "Decoded audio embeddings shape: (None, 128)\n",
      "Decoded audio embeddings shape: (None, 128)\n"
     ]
    },
    {
     "name": "stderr",
     "output_type": "stream",
     "text": [
      "Processing TFRecord files:  36%|███▋      | 527/1444 [00:58<01:49,  8.36it/s]"
     ]
    },
    {
     "name": "stdout",
     "output_type": "stream",
     "text": [
      "Decoded audio embeddings shape: (None, 128)\n",
      "Decoded audio embeddings shape: (None, 128)\n"
     ]
    },
    {
     "name": "stderr",
     "output_type": "stream",
     "text": [
      "Processing TFRecord files:  37%|███▋      | 529/1444 [00:58<01:42,  8.94it/s]"
     ]
    },
    {
     "name": "stdout",
     "output_type": "stream",
     "text": [
      "Decoded audio embeddings shape: (None, 128)\n",
      "Decoded audio embeddings shape: (None, 128)\n"
     ]
    },
    {
     "name": "stderr",
     "output_type": "stream",
     "text": [
      "Processing TFRecord files:  37%|███▋      | 531/1444 [00:59<01:48,  8.40it/s]"
     ]
    },
    {
     "name": "stdout",
     "output_type": "stream",
     "text": [
      "Decoded audio embeddings shape: (None, 128)\n",
      "Decoded audio embeddings shape: (None, 128)\n"
     ]
    },
    {
     "name": "stderr",
     "output_type": "stream",
     "text": [
      "Processing TFRecord files:  37%|███▋      | 532/1444 [00:59<01:49,  8.36it/s]"
     ]
    },
    {
     "name": "stdout",
     "output_type": "stream",
     "text": [
      "Decoded audio embeddings shape: (None, 128)\n",
      "Decoded audio embeddings shape: (None, 128)\n"
     ]
    },
    {
     "name": "stderr",
     "output_type": "stream",
     "text": [
      "Processing TFRecord files:  37%|███▋      | 535/1444 [00:59<01:48,  8.42it/s]"
     ]
    },
    {
     "name": "stdout",
     "output_type": "stream",
     "text": [
      "Decoded audio embeddings shape: (None, 128)\n",
      "Decoded audio embeddings shape: (None, 128)\n",
      "Decoded audio embeddings shape: (None, 128)\n"
     ]
    },
    {
     "name": "stderr",
     "output_type": "stream",
     "text": [
      "Processing TFRecord files:  37%|███▋      | 538/1444 [00:59<01:43,  8.78it/s]"
     ]
    },
    {
     "name": "stdout",
     "output_type": "stream",
     "text": [
      "Decoded audio embeddings shape: (None, 128)\n",
      "Decoded audio embeddings shape: (None, 128)\n"
     ]
    },
    {
     "name": "stderr",
     "output_type": "stream",
     "text": [
      "Processing TFRecord files:  37%|███▋      | 539/1444 [01:00<01:40,  8.99it/s]"
     ]
    },
    {
     "name": "stdout",
     "output_type": "stream",
     "text": [
      "Decoded audio embeddings shape: (None, 128)\n",
      "Decoded audio embeddings shape: (None, 128)\n"
     ]
    },
    {
     "name": "stderr",
     "output_type": "stream",
     "text": [
      "Processing TFRecord files:  38%|███▊      | 542/1444 [01:00<01:43,  8.68it/s]"
     ]
    },
    {
     "name": "stdout",
     "output_type": "stream",
     "text": [
      "Decoded audio embeddings shape: (None, 128)\n",
      "Decoded audio embeddings shape: (None, 128)\n",
      "Decoded audio embeddings shape: (None, 128)\n"
     ]
    },
    {
     "name": "stderr",
     "output_type": "stream",
     "text": [
      "Processing TFRecord files:  38%|███▊      | 544/1444 [01:00<01:35,  9.40it/s]"
     ]
    },
    {
     "name": "stdout",
     "output_type": "stream",
     "text": [
      "Decoded audio embeddings shape: (None, 128)\n",
      "Decoded audio embeddings shape: (None, 128)\n",
      "Decoded audio embeddings shape: (None, 128)\n"
     ]
    },
    {
     "name": "stderr",
     "output_type": "stream",
     "text": [
      "Processing TFRecord files:  38%|███▊      | 548/1444 [01:01<01:28, 10.15it/s]"
     ]
    },
    {
     "name": "stdout",
     "output_type": "stream",
     "text": [
      "Decoded audio embeddings shape: (None, 128)\n",
      "Decoded audio embeddings shape: (None, 128)\n",
      "Decoded audio embeddings shape: (None, 128)\n"
     ]
    },
    {
     "name": "stderr",
     "output_type": "stream",
     "text": [
      "Processing TFRecord files:  38%|███▊      | 550/1444 [01:01<01:27, 10.17it/s]"
     ]
    },
    {
     "name": "stdout",
     "output_type": "stream",
     "text": [
      "Decoded audio embeddings shape: (None, 128)\n",
      "Decoded audio embeddings shape: (None, 128)\n",
      "Decoded audio embeddings shape: (None, 128)\n"
     ]
    },
    {
     "name": "stderr",
     "output_type": "stream",
     "text": [
      "Processing TFRecord files:  38%|███▊      | 554/1444 [01:01<01:33,  9.51it/s]"
     ]
    },
    {
     "name": "stdout",
     "output_type": "stream",
     "text": [
      "Decoded audio embeddings shape: (None, 128)\n",
      "Decoded audio embeddings shape: (None, 128)\n"
     ]
    },
    {
     "name": "stderr",
     "output_type": "stream",
     "text": [
      "Processing TFRecord files:  39%|███▊      | 556/1444 [01:01<01:36,  9.16it/s]"
     ]
    },
    {
     "name": "stdout",
     "output_type": "stream",
     "text": [
      "Decoded audio embeddings shape: (None, 128)\n",
      "Decoded audio embeddings shape: (None, 128)\n",
      "Decoded audio embeddings shape: (None, 128)\n"
     ]
    },
    {
     "name": "stderr",
     "output_type": "stream",
     "text": [
      "Processing TFRecord files:  39%|███▊      | 559/1444 [01:02<01:31,  9.66it/s]"
     ]
    },
    {
     "name": "stdout",
     "output_type": "stream",
     "text": [
      "Decoded audio embeddings shape: (None, 128)\n",
      "Decoded audio embeddings shape: (None, 128)\n",
      "Decoded audio embeddings shape: (None, 128)\n"
     ]
    },
    {
     "name": "stderr",
     "output_type": "stream",
     "text": [
      "Processing TFRecord files:  39%|███▉      | 562/1444 [01:02<01:30,  9.71it/s]"
     ]
    },
    {
     "name": "stdout",
     "output_type": "stream",
     "text": [
      "Decoded audio embeddings shape: (None, 128)\n",
      "Decoded audio embeddings shape: (None, 128)\n",
      "Decoded audio embeddings shape: (None, 128)\n"
     ]
    },
    {
     "name": "stderr",
     "output_type": "stream",
     "text": [
      "Processing TFRecord files:  39%|███▉      | 564/1444 [01:02<01:32,  9.52it/s]"
     ]
    },
    {
     "name": "stdout",
     "output_type": "stream",
     "text": [
      "Decoded audio embeddings shape: (None, 128)\n",
      "Decoded audio embeddings shape: (None, 128)\n",
      "Decoded audio embeddings shape: (None, 128)\n"
     ]
    },
    {
     "name": "stderr",
     "output_type": "stream",
     "text": [
      "Processing TFRecord files:  39%|███▉      | 567/1444 [01:03<01:34,  9.26it/s]"
     ]
    },
    {
     "name": "stdout",
     "output_type": "stream",
     "text": [
      "Decoded audio embeddings shape: (None, 128)\n",
      "Decoded audio embeddings shape: (None, 128)\n"
     ]
    },
    {
     "name": "stderr",
     "output_type": "stream",
     "text": [
      "Processing TFRecord files:  39%|███▉      | 570/1444 [01:03<01:46,  8.20it/s]"
     ]
    },
    {
     "name": "stdout",
     "output_type": "stream",
     "text": [
      "Decoded audio embeddings shape: (None, 128)\n",
      "Decoded audio embeddings shape: (None, 128)\n",
      "Decoded audio embeddings shape: (None, 128)\n"
     ]
    },
    {
     "name": "stderr",
     "output_type": "stream",
     "text": [
      "Processing TFRecord files:  40%|███▉      | 573/1444 [01:03<01:40,  8.66it/s]"
     ]
    },
    {
     "name": "stdout",
     "output_type": "stream",
     "text": [
      "Decoded audio embeddings shape: (None, 128)\n",
      "Decoded audio embeddings shape: (None, 128)\n",
      "Decoded audio embeddings shape: (None, 128)\n"
     ]
    },
    {
     "name": "stderr",
     "output_type": "stream",
     "text": [
      "Processing TFRecord files:  40%|███▉      | 576/1444 [01:04<01:36,  8.99it/s]"
     ]
    },
    {
     "name": "stdout",
     "output_type": "stream",
     "text": [
      "Decoded audio embeddings shape: (None, 128)\n",
      "Decoded audio embeddings shape: (None, 128)\n"
     ]
    },
    {
     "name": "stderr",
     "output_type": "stream",
     "text": [
      "Processing TFRecord files:  40%|████      | 578/1444 [01:04<01:36,  8.95it/s]"
     ]
    },
    {
     "name": "stdout",
     "output_type": "stream",
     "text": [
      "Decoded audio embeddings shape: (None, 128)\n",
      "Decoded audio embeddings shape: (None, 128)\n"
     ]
    },
    {
     "name": "stderr",
     "output_type": "stream",
     "text": [
      "Processing TFRecord files:  40%|████      | 579/1444 [01:04<01:44,  8.32it/s]"
     ]
    },
    {
     "name": "stdout",
     "output_type": "stream",
     "text": [
      "Decoded audio embeddings shape: (None, 128)\n",
      "Decoded audio embeddings shape: (None, 128)\n"
     ]
    },
    {
     "name": "stderr",
     "output_type": "stream",
     "text": [
      "Processing TFRecord files:  40%|████      | 581/1444 [01:04<02:11,  6.55it/s]"
     ]
    },
    {
     "name": "stdout",
     "output_type": "stream",
     "text": [
      "Decoded audio embeddings shape: (None, 128)\n",
      "Decoded audio embeddings shape: (None, 128)\n"
     ]
    },
    {
     "name": "stderr",
     "output_type": "stream",
     "text": [
      "Processing TFRecord files:  40%|████      | 583/1444 [01:05<02:24,  5.96it/s]"
     ]
    },
    {
     "name": "stdout",
     "output_type": "stream",
     "text": [
      "Decoded audio embeddings shape: (None, 128)\n",
      "Decoded audio embeddings shape: (None, 128)\n"
     ]
    },
    {
     "name": "stderr",
     "output_type": "stream",
     "text": [
      "Processing TFRecord files:  41%|████      | 585/1444 [01:05<02:37,  5.44it/s]"
     ]
    },
    {
     "name": "stdout",
     "output_type": "stream",
     "text": [
      "Decoded audio embeddings shape: (None, 128)\n",
      "Decoded audio embeddings shape: (None, 128)\n"
     ]
    },
    {
     "name": "stderr",
     "output_type": "stream",
     "text": [
      "Processing TFRecord files:  41%|████      | 587/1444 [01:05<02:31,  5.64it/s]"
     ]
    },
    {
     "name": "stdout",
     "output_type": "stream",
     "text": [
      "Decoded audio embeddings shape: (None, 128)\n",
      "Decoded audio embeddings shape: (None, 128)\n"
     ]
    },
    {
     "name": "stderr",
     "output_type": "stream",
     "text": [
      "Processing TFRecord files:  41%|████      | 589/1444 [01:06<02:25,  5.88it/s]"
     ]
    },
    {
     "name": "stdout",
     "output_type": "stream",
     "text": [
      "Decoded audio embeddings shape: (None, 128)\n",
      "Decoded audio embeddings shape: (None, 128)\n"
     ]
    },
    {
     "name": "stderr",
     "output_type": "stream",
     "text": [
      "Processing TFRecord files:  41%|████      | 592/1444 [01:06<02:07,  6.68it/s]"
     ]
    },
    {
     "name": "stdout",
     "output_type": "stream",
     "text": [
      "Decoded audio embeddings shape: (None, 128)\n",
      "Decoded audio embeddings shape: (None, 128)\n"
     ]
    },
    {
     "name": "stderr",
     "output_type": "stream",
     "text": [
      "Processing TFRecord files:  41%|████      | 594/1444 [01:06<01:53,  7.46it/s]"
     ]
    },
    {
     "name": "stdout",
     "output_type": "stream",
     "text": [
      "Decoded audio embeddings shape: (None, 128)\n",
      "Decoded audio embeddings shape: (None, 128)\n"
     ]
    },
    {
     "name": "stderr",
     "output_type": "stream",
     "text": [
      "Processing TFRecord files:  41%|████▏     | 596/1444 [01:07<01:42,  8.29it/s]"
     ]
    },
    {
     "name": "stdout",
     "output_type": "stream",
     "text": [
      "Decoded audio embeddings shape: (None, 128)\n",
      "Decoded audio embeddings shape: (None, 128)\n",
      "Decoded audio embeddings shape: (None, 128)\n"
     ]
    },
    {
     "name": "stderr",
     "output_type": "stream",
     "text": [
      "Processing TFRecord files:  41%|████▏     | 599/1444 [01:07<01:40,  8.43it/s]"
     ]
    },
    {
     "name": "stdout",
     "output_type": "stream",
     "text": [
      "Decoded audio embeddings shape: (None, 128)\n",
      "Decoded audio embeddings shape: (None, 128)\n"
     ]
    },
    {
     "name": "stderr",
     "output_type": "stream",
     "text": [
      "Processing TFRecord files:  42%|████▏     | 600/1444 [01:07<02:12,  6.39it/s]"
     ]
    },
    {
     "name": "stdout",
     "output_type": "stream",
     "text": [
      "Decoded audio embeddings shape: (None, 128)\n",
      "Decoded audio embeddings shape: (None, 128)\n"
     ]
    },
    {
     "name": "stderr",
     "output_type": "stream",
     "text": [
      "Processing TFRecord files:  42%|████▏     | 602/1444 [01:08<02:16,  6.15it/s]"
     ]
    },
    {
     "name": "stdout",
     "output_type": "stream",
     "text": [
      "Decoded audio embeddings shape: (None, 128)\n",
      "Decoded audio embeddings shape: (None, 128)\n"
     ]
    },
    {
     "name": "stderr",
     "output_type": "stream",
     "text": [
      "Processing TFRecord files:  42%|████▏     | 605/1444 [01:08<02:07,  6.56it/s]"
     ]
    },
    {
     "name": "stdout",
     "output_type": "stream",
     "text": [
      "Decoded audio embeddings shape: (None, 128)\n",
      "Decoded audio embeddings shape: (None, 128)\n"
     ]
    },
    {
     "name": "stderr",
     "output_type": "stream",
     "text": [
      "Processing TFRecord files:  42%|████▏     | 606/1444 [01:08<02:09,  6.48it/s]"
     ]
    },
    {
     "name": "stdout",
     "output_type": "stream",
     "text": [
      "Decoded audio embeddings shape: (None, 128)\n",
      "Decoded audio embeddings shape: (None, 128)\n"
     ]
    },
    {
     "name": "stderr",
     "output_type": "stream",
     "text": [
      "Processing TFRecord files:  42%|████▏     | 608/1444 [01:09<02:08,  6.52it/s]"
     ]
    },
    {
     "name": "stdout",
     "output_type": "stream",
     "text": [
      "Decoded audio embeddings shape: (None, 128)\n",
      "Decoded audio embeddings shape: (None, 128)\n"
     ]
    },
    {
     "name": "stderr",
     "output_type": "stream",
     "text": [
      "Processing TFRecord files:  42%|████▏     | 611/1444 [01:09<01:56,  7.18it/s]"
     ]
    },
    {
     "name": "stdout",
     "output_type": "stream",
     "text": [
      "Decoded audio embeddings shape: (None, 128)\n",
      "Decoded audio embeddings shape: (None, 128)\n"
     ]
    },
    {
     "name": "stderr",
     "output_type": "stream",
     "text": [
      "Processing TFRecord files:  42%|████▏     | 613/1444 [01:09<01:41,  8.16it/s]"
     ]
    },
    {
     "name": "stdout",
     "output_type": "stream",
     "text": [
      "Decoded audio embeddings shape: (None, 128)\n",
      "Decoded audio embeddings shape: (None, 128)\n",
      "Decoded audio embeddings shape: (None, 128)\n"
     ]
    },
    {
     "name": "stderr",
     "output_type": "stream",
     "text": [
      "Processing TFRecord files:  43%|████▎     | 615/1444 [01:10<02:04,  6.63it/s]"
     ]
    },
    {
     "name": "stdout",
     "output_type": "stream",
     "text": [
      "Decoded audio embeddings shape: (None, 128)\n"
     ]
    },
    {
     "name": "stderr",
     "output_type": "stream",
     "text": [
      "Processing TFRecord files:  43%|████▎     | 616/1444 [01:10<02:10,  6.37it/s]"
     ]
    },
    {
     "name": "stdout",
     "output_type": "stream",
     "text": [
      "Decoded audio embeddings shape: (None, 128)\n",
      "Decoded audio embeddings shape: (None, 128)\n"
     ]
    },
    {
     "name": "stderr",
     "output_type": "stream",
     "text": [
      "Processing TFRecord files:  43%|████▎     | 618/1444 [01:10<02:21,  5.84it/s]"
     ]
    },
    {
     "name": "stdout",
     "output_type": "stream",
     "text": [
      "Decoded audio embeddings shape: (None, 128)\n",
      "Decoded audio embeddings shape: (None, 128)\n"
     ]
    },
    {
     "name": "stderr",
     "output_type": "stream",
     "text": [
      "Processing TFRecord files:  43%|████▎     | 620/1444 [01:10<02:15,  6.09it/s]"
     ]
    },
    {
     "name": "stdout",
     "output_type": "stream",
     "text": [
      "Decoded audio embeddings shape: (None, 128)\n",
      "Decoded audio embeddings shape: (None, 128)\n"
     ]
    },
    {
     "name": "stderr",
     "output_type": "stream",
     "text": [
      "Processing TFRecord files:  43%|████▎     | 622/1444 [01:11<02:07,  6.45it/s]"
     ]
    },
    {
     "name": "stdout",
     "output_type": "stream",
     "text": [
      "Decoded audio embeddings shape: (None, 128)\n",
      "Decoded audio embeddings shape: (None, 128)\n"
     ]
    },
    {
     "name": "stderr",
     "output_type": "stream",
     "text": [
      "Processing TFRecord files:  43%|████▎     | 625/1444 [01:11<01:55,  7.07it/s]"
     ]
    },
    {
     "name": "stdout",
     "output_type": "stream",
     "text": [
      "Decoded audio embeddings shape: (None, 128)\n",
      "Decoded audio embeddings shape: (None, 128)\n"
     ]
    },
    {
     "name": "stderr",
     "output_type": "stream",
     "text": [
      "Processing TFRecord files:  43%|████▎     | 626/1444 [01:11<01:51,  7.32it/s]"
     ]
    },
    {
     "name": "stdout",
     "output_type": "stream",
     "text": [
      "Decoded audio embeddings shape: (None, 128)\n",
      "Decoded audio embeddings shape: (None, 128)\n"
     ]
    },
    {
     "name": "stderr",
     "output_type": "stream",
     "text": [
      "Processing TFRecord files:  43%|████▎     | 628/1444 [01:11<01:51,  7.31it/s]"
     ]
    },
    {
     "name": "stdout",
     "output_type": "stream",
     "text": [
      "Decoded audio embeddings shape: (None, 128)\n",
      "Decoded audio embeddings shape: (None, 128)\n"
     ]
    },
    {
     "name": "stderr",
     "output_type": "stream",
     "text": [
      "Processing TFRecord files:  44%|████▎     | 631/1444 [01:12<01:45,  7.69it/s]"
     ]
    },
    {
     "name": "stdout",
     "output_type": "stream",
     "text": [
      "Decoded audio embeddings shape: (None, 128)\n",
      "Decoded audio embeddings shape: (None, 128)\n"
     ]
    },
    {
     "name": "stderr",
     "output_type": "stream",
     "text": [
      "Processing TFRecord files:  44%|████▍     | 632/1444 [01:12<01:44,  7.75it/s]"
     ]
    },
    {
     "name": "stdout",
     "output_type": "stream",
     "text": [
      "Decoded audio embeddings shape: (None, 128)\n",
      "Decoded audio embeddings shape: (None, 128)\n"
     ]
    },
    {
     "name": "stderr",
     "output_type": "stream",
     "text": [
      "Processing TFRecord files:  44%|████▍     | 635/1444 [01:12<01:43,  7.85it/s]"
     ]
    },
    {
     "name": "stdout",
     "output_type": "stream",
     "text": [
      "Decoded audio embeddings shape: (None, 128)\n",
      "Decoded audio embeddings shape: (None, 128)\n"
     ]
    },
    {
     "name": "stderr",
     "output_type": "stream",
     "text": [
      "Processing TFRecord files:  44%|████▍     | 636/1444 [01:13<01:57,  6.89it/s]"
     ]
    },
    {
     "name": "stdout",
     "output_type": "stream",
     "text": [
      "Decoded audio embeddings shape: (None, 128)\n",
      "Decoded audio embeddings shape: (None, 128)\n"
     ]
    },
    {
     "name": "stderr",
     "output_type": "stream",
     "text": [
      "Processing TFRecord files:  44%|████▍     | 638/1444 [01:13<02:01,  6.63it/s]"
     ]
    },
    {
     "name": "stdout",
     "output_type": "stream",
     "text": [
      "Decoded audio embeddings shape: (None, 128)\n",
      "Decoded audio embeddings shape: (None, 128)\n"
     ]
    },
    {
     "name": "stderr",
     "output_type": "stream",
     "text": [
      "Processing TFRecord files:  44%|████▍     | 640/1444 [01:13<01:52,  7.16it/s]"
     ]
    },
    {
     "name": "stdout",
     "output_type": "stream",
     "text": [
      "Decoded audio embeddings shape: (None, 128)\n",
      "Decoded audio embeddings shape: (None, 128)\n"
     ]
    },
    {
     "name": "stderr",
     "output_type": "stream",
     "text": [
      "Processing TFRecord files:  44%|████▍     | 642/1444 [01:13<01:57,  6.83it/s]"
     ]
    },
    {
     "name": "stdout",
     "output_type": "stream",
     "text": [
      "Decoded audio embeddings shape: (None, 128)\n",
      "Decoded audio embeddings shape: (None, 128)\n"
     ]
    },
    {
     "name": "stderr",
     "output_type": "stream",
     "text": [
      "Processing TFRecord files:  45%|████▍     | 644/1444 [01:14<01:57,  6.83it/s]"
     ]
    },
    {
     "name": "stdout",
     "output_type": "stream",
     "text": [
      "Decoded audio embeddings shape: (None, 128)\n",
      "Decoded audio embeddings shape: (None, 128)\n"
     ]
    },
    {
     "name": "stderr",
     "output_type": "stream",
     "text": [
      "Processing TFRecord files:  45%|████▍     | 647/1444 [01:14<01:46,  7.51it/s]"
     ]
    },
    {
     "name": "stdout",
     "output_type": "stream",
     "text": [
      "Decoded audio embeddings shape: (None, 128)\n",
      "Decoded audio embeddings shape: (None, 128)\n"
     ]
    },
    {
     "name": "stderr",
     "output_type": "stream",
     "text": [
      "Processing TFRecord files:  45%|████▍     | 649/1444 [01:14<01:35,  8.30it/s]"
     ]
    },
    {
     "name": "stdout",
     "output_type": "stream",
     "text": [
      "Decoded audio embeddings shape: (None, 128)\n",
      "Decoded audio embeddings shape: (None, 128)\n",
      "Decoded audio embeddings shape: (None, 128)\n"
     ]
    },
    {
     "name": "stderr",
     "output_type": "stream",
     "text": [
      "Processing TFRecord files:  45%|████▌     | 652/1444 [01:15<01:28,  8.90it/s]"
     ]
    },
    {
     "name": "stdout",
     "output_type": "stream",
     "text": [
      "Decoded audio embeddings shape: (None, 128)\n",
      "Decoded audio embeddings shape: (None, 128)\n",
      "Decoded audio embeddings shape: (None, 128)\n"
     ]
    },
    {
     "name": "stderr",
     "output_type": "stream",
     "text": [
      "Processing TFRecord files:  45%|████▌     | 655/1444 [01:15<01:30,  8.74it/s]"
     ]
    },
    {
     "name": "stdout",
     "output_type": "stream",
     "text": [
      "Decoded audio embeddings shape: (None, 128)\n",
      "Decoded audio embeddings shape: (None, 128)\n"
     ]
    },
    {
     "name": "stderr",
     "output_type": "stream",
     "text": [
      "Processing TFRecord files:  45%|████▌     | 657/1444 [01:15<01:35,  8.22it/s]"
     ]
    },
    {
     "name": "stdout",
     "output_type": "stream",
     "text": [
      "Decoded audio embeddings shape: (None, 128)\n",
      "Decoded audio embeddings shape: (None, 128)\n"
     ]
    },
    {
     "name": "stderr",
     "output_type": "stream",
     "text": [
      "Processing TFRecord files:  46%|████▌     | 659/1444 [01:15<01:29,  8.81it/s]"
     ]
    },
    {
     "name": "stdout",
     "output_type": "stream",
     "text": [
      "Decoded audio embeddings shape: (None, 128)\n",
      "Decoded audio embeddings shape: (None, 128)\n"
     ]
    },
    {
     "name": "stderr",
     "output_type": "stream",
     "text": [
      "Processing TFRecord files:  46%|████▌     | 661/1444 [01:16<01:24,  9.24it/s]"
     ]
    },
    {
     "name": "stdout",
     "output_type": "stream",
     "text": [
      "Decoded audio embeddings shape: (None, 128)\n",
      "Decoded audio embeddings shape: (None, 128)\n",
      "Decoded audio embeddings shape: (None, 128)\n"
     ]
    },
    {
     "name": "stderr",
     "output_type": "stream",
     "text": [
      "Processing TFRecord files:  46%|████▌     | 663/1444 [01:16<01:20,  9.70it/s]"
     ]
    },
    {
     "name": "stdout",
     "output_type": "stream",
     "text": [
      "Decoded audio embeddings shape: (None, 128)\n",
      "Decoded audio embeddings shape: (None, 128)\n",
      "Decoded audio embeddings shape: (None, 128)\n"
     ]
    },
    {
     "name": "stderr",
     "output_type": "stream",
     "text": [
      "Processing TFRecord files:  46%|████▌     | 666/1444 [01:16<01:20,  9.72it/s]"
     ]
    },
    {
     "name": "stdout",
     "output_type": "stream",
     "text": [
      "Decoded audio embeddings shape: (None, 128)\n",
      "Decoded audio embeddings shape: (None, 128)\n",
      "Decoded audio embeddings shape: (None, 128)\n"
     ]
    },
    {
     "name": "stderr",
     "output_type": "stream",
     "text": [
      "Processing TFRecord files:  46%|████▋     | 670/1444 [01:17<01:21,  9.49it/s]"
     ]
    },
    {
     "name": "stdout",
     "output_type": "stream",
     "text": [
      "Decoded audio embeddings shape: (None, 128)\n",
      "Decoded audio embeddings shape: (None, 128)\n",
      "Decoded audio embeddings shape: (None, 128)\n"
     ]
    },
    {
     "name": "stderr",
     "output_type": "stream",
     "text": [
      "Processing TFRecord files:  47%|████▋     | 673/1444 [01:17<01:27,  8.77it/s]"
     ]
    },
    {
     "name": "stdout",
     "output_type": "stream",
     "text": [
      "Decoded audio embeddings shape: (None, 128)\n",
      "Decoded audio embeddings shape: (None, 128)\n"
     ]
    },
    {
     "name": "stderr",
     "output_type": "stream",
     "text": [
      "Processing TFRecord files:  47%|████▋     | 674/1444 [01:17<01:31,  8.43it/s]"
     ]
    },
    {
     "name": "stdout",
     "output_type": "stream",
     "text": [
      "Decoded audio embeddings shape: (None, 128)\n",
      "Decoded audio embeddings shape: (None, 128)\n"
     ]
    },
    {
     "name": "stderr",
     "output_type": "stream",
     "text": [
      "Processing TFRecord files:  47%|████▋     | 677/1444 [01:17<01:32,  8.28it/s]"
     ]
    },
    {
     "name": "stdout",
     "output_type": "stream",
     "text": [
      "Decoded audio embeddings shape: (None, 128)\n",
      "Decoded audio embeddings shape: (None, 128)\n"
     ]
    },
    {
     "name": "stderr",
     "output_type": "stream",
     "text": [
      "Processing TFRecord files:  47%|████▋     | 678/1444 [01:18<01:29,  8.55it/s]"
     ]
    },
    {
     "name": "stdout",
     "output_type": "stream",
     "text": [
      "Decoded audio embeddings shape: (None, 128)\n",
      "Decoded audio embeddings shape: (None, 128)\n"
     ]
    },
    {
     "name": "stderr",
     "output_type": "stream",
     "text": [
      "Processing TFRecord files:  47%|████▋     | 680/1444 [01:18<01:48,  7.06it/s]"
     ]
    },
    {
     "name": "stdout",
     "output_type": "stream",
     "text": [
      "Decoded audio embeddings shape: (None, 128)\n",
      "Decoded audio embeddings shape: (None, 128)\n"
     ]
    },
    {
     "name": "stderr",
     "output_type": "stream",
     "text": [
      "Processing TFRecord files:  47%|████▋     | 682/1444 [01:18<01:42,  7.40it/s]"
     ]
    },
    {
     "name": "stdout",
     "output_type": "stream",
     "text": [
      "Decoded audio embeddings shape: (None, 128)\n",
      "Decoded audio embeddings shape: (None, 128)\n"
     ]
    },
    {
     "name": "stderr",
     "output_type": "stream",
     "text": [
      "Processing TFRecord files:  47%|████▋     | 685/1444 [01:18<01:34,  8.07it/s]"
     ]
    },
    {
     "name": "stdout",
     "output_type": "stream",
     "text": [
      "Decoded audio embeddings shape: (None, 128)\n",
      "Decoded audio embeddings shape: (None, 128)\n"
     ]
    },
    {
     "name": "stderr",
     "output_type": "stream",
     "text": [
      "Processing TFRecord files:  48%|████▊     | 686/1444 [01:19<01:30,  8.41it/s]"
     ]
    },
    {
     "name": "stdout",
     "output_type": "stream",
     "text": [
      "Decoded audio embeddings shape: (None, 128)\n",
      "Decoded audio embeddings shape: (None, 128)\n"
     ]
    },
    {
     "name": "stderr",
     "output_type": "stream",
     "text": [
      "Processing TFRecord files:  48%|████▊     | 689/1444 [01:19<01:35,  7.91it/s]"
     ]
    },
    {
     "name": "stdout",
     "output_type": "stream",
     "text": [
      "Decoded audio embeddings shape: (None, 128)\n",
      "Decoded audio embeddings shape: (None, 128)\n"
     ]
    },
    {
     "name": "stderr",
     "output_type": "stream",
     "text": [
      "Processing TFRecord files:  48%|████▊     | 691/1444 [01:19<01:32,  8.11it/s]"
     ]
    },
    {
     "name": "stdout",
     "output_type": "stream",
     "text": [
      "Decoded audio embeddings shape: (None, 128)\n",
      "Decoded audio embeddings shape: (None, 128)\n"
     ]
    },
    {
     "name": "stderr",
     "output_type": "stream",
     "text": [
      "Processing TFRecord files:  48%|████▊     | 692/1444 [01:19<01:29,  8.37it/s]"
     ]
    },
    {
     "name": "stdout",
     "output_type": "stream",
     "text": [
      "Decoded audio embeddings shape: (None, 128)\n",
      "Decoded audio embeddings shape: (None, 128)\n"
     ]
    },
    {
     "name": "stderr",
     "output_type": "stream",
     "text": [
      "Processing TFRecord files:  48%|████▊     | 695/1444 [01:20<01:29,  8.38it/s]"
     ]
    },
    {
     "name": "stdout",
     "output_type": "stream",
     "text": [
      "Decoded audio embeddings shape: (None, 128)\n",
      "Decoded audio embeddings shape: (None, 128)\n",
      "Decoded audio embeddings shape: (None, 128)\n"
     ]
    },
    {
     "name": "stderr",
     "output_type": "stream",
     "text": [
      "Processing TFRecord files:  48%|████▊     | 698/1444 [01:20<01:21,  9.16it/s]"
     ]
    },
    {
     "name": "stdout",
     "output_type": "stream",
     "text": [
      "Decoded audio embeddings shape: (None, 128)\n",
      "Decoded audio embeddings shape: (None, 128)\n",
      "Decoded audio embeddings shape: (None, 128)\n"
     ]
    },
    {
     "name": "stderr",
     "output_type": "stream",
     "text": [
      "Processing TFRecord files:  49%|████▊     | 701/1444 [01:20<01:16,  9.66it/s]"
     ]
    },
    {
     "name": "stdout",
     "output_type": "stream",
     "text": [
      "Decoded audio embeddings shape: (None, 128)\n",
      "Decoded audio embeddings shape: (None, 128)\n"
     ]
    },
    {
     "name": "stderr",
     "output_type": "stream",
     "text": [
      "Processing TFRecord files:  49%|████▊     | 703/1444 [01:21<01:19,  9.27it/s]"
     ]
    },
    {
     "name": "stdout",
     "output_type": "stream",
     "text": [
      "Decoded audio embeddings shape: (None, 128)\n",
      "Decoded audio embeddings shape: (None, 128)\n",
      "Decoded audio embeddings shape: (None, 128)\n"
     ]
    },
    {
     "name": "stderr",
     "output_type": "stream",
     "text": [
      "Processing TFRecord files:  49%|████▉     | 705/1444 [01:21<01:20,  9.23it/s]"
     ]
    },
    {
     "name": "stdout",
     "output_type": "stream",
     "text": [
      "Decoded audio embeddings shape: (None, 128)\n",
      "Decoded audio embeddings shape: (None, 128)\n"
     ]
    },
    {
     "name": "stderr",
     "output_type": "stream",
     "text": [
      "Processing TFRecord files:  49%|████▉     | 708/1444 [01:21<01:22,  8.88it/s]"
     ]
    },
    {
     "name": "stdout",
     "output_type": "stream",
     "text": [
      "Decoded audio embeddings shape: (None, 128)\n",
      "Decoded audio embeddings shape: (None, 128)\n"
     ]
    },
    {
     "name": "stderr",
     "output_type": "stream",
     "text": [
      "Processing TFRecord files:  49%|████▉     | 709/1444 [01:21<01:30,  8.14it/s]"
     ]
    },
    {
     "name": "stdout",
     "output_type": "stream",
     "text": [
      "Decoded audio embeddings shape: (None, 128)\n",
      "Decoded audio embeddings shape: (None, 128)\n"
     ]
    },
    {
     "name": "stderr",
     "output_type": "stream",
     "text": [
      "Processing TFRecord files:  49%|████▉     | 711/1444 [01:22<01:57,  6.26it/s]"
     ]
    },
    {
     "name": "stdout",
     "output_type": "stream",
     "text": [
      "Decoded audio embeddings shape: (None, 128)\n"
     ]
    },
    {
     "name": "stderr",
     "output_type": "stream",
     "text": [
      "Processing TFRecord files:  49%|████▉     | 712/1444 [01:22<01:59,  6.12it/s]"
     ]
    },
    {
     "name": "stdout",
     "output_type": "stream",
     "text": [
      "Decoded audio embeddings shape: (None, 128)\n",
      "Decoded audio embeddings shape: (None, 128)\n"
     ]
    },
    {
     "name": "stderr",
     "output_type": "stream",
     "text": [
      "Processing TFRecord files:  49%|████▉     | 714/1444 [01:22<01:57,  6.19it/s]"
     ]
    },
    {
     "name": "stdout",
     "output_type": "stream",
     "text": [
      "Decoded audio embeddings shape: (None, 128)\n",
      "Decoded audio embeddings shape: (None, 128)\n"
     ]
    },
    {
     "name": "stderr",
     "output_type": "stream",
     "text": [
      "Processing TFRecord files:  50%|████▉     | 716/1444 [01:22<01:51,  6.55it/s]"
     ]
    },
    {
     "name": "stdout",
     "output_type": "stream",
     "text": [
      "Decoded audio embeddings shape: (None, 128)\n",
      "Decoded audio embeddings shape: (None, 128)\n"
     ]
    },
    {
     "name": "stderr",
     "output_type": "stream",
     "text": [
      "Processing TFRecord files:  50%|████▉     | 719/1444 [01:23<01:41,  7.16it/s]"
     ]
    },
    {
     "name": "stdout",
     "output_type": "stream",
     "text": [
      "Decoded audio embeddings shape: (None, 128)\n",
      "Decoded audio embeddings shape: (None, 128)\n"
     ]
    },
    {
     "name": "stderr",
     "output_type": "stream",
     "text": [
      "Processing TFRecord files:  50%|████▉     | 721/1444 [01:23<01:36,  7.51it/s]"
     ]
    },
    {
     "name": "stdout",
     "output_type": "stream",
     "text": [
      "Decoded audio embeddings shape: (None, 128)\n",
      "Decoded audio embeddings shape: (None, 128)\n"
     ]
    },
    {
     "name": "stderr",
     "output_type": "stream",
     "text": [
      "Processing TFRecord files:  50%|█████     | 723/1444 [01:23<01:25,  8.39it/s]"
     ]
    },
    {
     "name": "stdout",
     "output_type": "stream",
     "text": [
      "Decoded audio embeddings shape: (None, 128)\n",
      "Decoded audio embeddings shape: (None, 128)\n",
      "Decoded audio embeddings shape: (None, 128)\n"
     ]
    },
    {
     "name": "stderr",
     "output_type": "stream",
     "text": [
      "Processing TFRecord files:  50%|█████     | 725/1444 [01:24<01:19,  9.09it/s]"
     ]
    },
    {
     "name": "stdout",
     "output_type": "stream",
     "text": [
      "Decoded audio embeddings shape: (None, 128)\n",
      "Decoded audio embeddings shape: (None, 128)\n",
      "Decoded audio embeddings shape: (None, 128)\n"
     ]
    },
    {
     "name": "stderr",
     "output_type": "stream",
     "text": [
      "Processing TFRecord files:  50%|█████     | 728/1444 [01:24<01:16,  9.39it/s]"
     ]
    },
    {
     "name": "stdout",
     "output_type": "stream",
     "text": [
      "Decoded audio embeddings shape: (None, 128)\n",
      "Decoded audio embeddings shape: (None, 128)\n"
     ]
    },
    {
     "name": "stderr",
     "output_type": "stream",
     "text": [
      "Processing TFRecord files:  51%|█████     | 730/1444 [01:24<01:28,  8.08it/s]"
     ]
    },
    {
     "name": "stdout",
     "output_type": "stream",
     "text": [
      "Decoded audio embeddings shape: (None, 128)\n",
      "Decoded audio embeddings shape: (None, 128)\n"
     ]
    },
    {
     "name": "stderr",
     "output_type": "stream",
     "text": [
      "Processing TFRecord files:  51%|█████     | 733/1444 [01:24<01:24,  8.43it/s]"
     ]
    },
    {
     "name": "stdout",
     "output_type": "stream",
     "text": [
      "Decoded audio embeddings shape: (None, 128)\n",
      "Decoded audio embeddings shape: (None, 128)\n",
      "Decoded audio embeddings shape: (None, 128)\n"
     ]
    },
    {
     "name": "stderr",
     "output_type": "stream",
     "text": [
      "Processing TFRecord files:  51%|█████     | 736/1444 [01:25<01:21,  8.66it/s]"
     ]
    },
    {
     "name": "stdout",
     "output_type": "stream",
     "text": [
      "Decoded audio embeddings shape: (None, 128)\n",
      "Decoded audio embeddings shape: (None, 128)\n"
     ]
    },
    {
     "name": "stderr",
     "output_type": "stream",
     "text": [
      "Processing TFRecord files:  51%|█████     | 738/1444 [01:25<01:21,  8.64it/s]"
     ]
    },
    {
     "name": "stdout",
     "output_type": "stream",
     "text": [
      "Decoded audio embeddings shape: (None, 128)\n",
      "Decoded audio embeddings shape: (None, 128)\n"
     ]
    },
    {
     "name": "stderr",
     "output_type": "stream",
     "text": [
      "Processing TFRecord files:  51%|█████     | 740/1444 [01:25<01:21,  8.64it/s]"
     ]
    },
    {
     "name": "stdout",
     "output_type": "stream",
     "text": [
      "Decoded audio embeddings shape: (None, 128)\n",
      "Decoded audio embeddings shape: (None, 128)\n"
     ]
    },
    {
     "name": "stderr",
     "output_type": "stream",
     "text": [
      "Processing TFRecord files:  51%|█████▏    | 742/1444 [01:25<01:18,  8.99it/s]"
     ]
    },
    {
     "name": "stdout",
     "output_type": "stream",
     "text": [
      "Decoded audio embeddings shape: (None, 128)\n",
      "Decoded audio embeddings shape: (None, 128)\n",
      "Decoded audio embeddings shape: (None, 128)\n"
     ]
    },
    {
     "name": "stderr",
     "output_type": "stream",
     "text": [
      "Processing TFRecord files:  52%|█████▏    | 745/1444 [01:26<01:20,  8.64it/s]"
     ]
    },
    {
     "name": "stdout",
     "output_type": "stream",
     "text": [
      "Decoded audio embeddings shape: (None, 128)\n",
      "Decoded audio embeddings shape: (None, 128)\n",
      "Decoded audio embeddings shape: (None, 128)\n"
     ]
    },
    {
     "name": "stderr",
     "output_type": "stream",
     "text": [
      "Processing TFRecord files:  52%|█████▏    | 747/1444 [01:26<01:55,  6.06it/s]"
     ]
    },
    {
     "name": "stdout",
     "output_type": "stream",
     "text": [
      "Decoded audio embeddings shape: (None, 128)\n",
      "Decoded audio embeddings shape: (None, 128)\n"
     ]
    },
    {
     "name": "stderr",
     "output_type": "stream",
     "text": [
      "Processing TFRecord files:  52%|█████▏    | 749/1444 [01:27<01:33,  7.47it/s]"
     ]
    },
    {
     "name": "stdout",
     "output_type": "stream",
     "text": [
      "Decoded audio embeddings shape: (None, 128)\n",
      "Decoded audio embeddings shape: (None, 128)\n",
      "Decoded audio embeddings shape: (None, 128)\n"
     ]
    },
    {
     "name": "stderr",
     "output_type": "stream",
     "text": [
      "Processing TFRecord files:  52%|█████▏    | 752/1444 [01:27<01:28,  7.81it/s]"
     ]
    },
    {
     "name": "stdout",
     "output_type": "stream",
     "text": [
      "Decoded audio embeddings shape: (None, 128)\n",
      "Decoded audio embeddings shape: (None, 128)\n"
     ]
    },
    {
     "name": "stderr",
     "output_type": "stream",
     "text": [
      "Processing TFRecord files:  52%|█████▏    | 755/1444 [01:27<01:20,  8.56it/s]"
     ]
    },
    {
     "name": "stdout",
     "output_type": "stream",
     "text": [
      "Decoded audio embeddings shape: (None, 128)\n",
      "Decoded audio embeddings shape: (None, 128)\n",
      "Decoded audio embeddings shape: (None, 128)\n"
     ]
    },
    {
     "name": "stderr",
     "output_type": "stream",
     "text": [
      "Processing TFRecord files:  52%|█████▏    | 758/1444 [01:28<01:19,  8.66it/s]"
     ]
    },
    {
     "name": "stdout",
     "output_type": "stream",
     "text": [
      "Decoded audio embeddings shape: (None, 128)\n",
      "Decoded audio embeddings shape: (None, 128)\n"
     ]
    },
    {
     "name": "stderr",
     "output_type": "stream",
     "text": [
      "Processing TFRecord files:  53%|█████▎    | 759/1444 [01:28<01:16,  8.99it/s]"
     ]
    },
    {
     "name": "stdout",
     "output_type": "stream",
     "text": [
      "Decoded audio embeddings shape: (None, 128)\n",
      "Decoded audio embeddings shape: (None, 128)\n",
      "Decoded audio embeddings shape: (None, 128)\n"
     ]
    },
    {
     "name": "stderr",
     "output_type": "stream",
     "text": [
      "Processing TFRecord files:  53%|█████▎    | 762/1444 [01:28<01:16,  8.94it/s]"
     ]
    },
    {
     "name": "stdout",
     "output_type": "stream",
     "text": [
      "Decoded audio embeddings shape: (None, 128)\n",
      "Decoded audio embeddings shape: (None, 128)\n"
     ]
    },
    {
     "name": "stderr",
     "output_type": "stream",
     "text": [
      "Processing TFRecord files:  53%|█████▎    | 764/1444 [01:28<01:19,  8.54it/s]"
     ]
    },
    {
     "name": "stdout",
     "output_type": "stream",
     "text": [
      "Decoded audio embeddings shape: (None, 128)\n",
      "Decoded audio embeddings shape: (None, 128)\n"
     ]
    },
    {
     "name": "stderr",
     "output_type": "stream",
     "text": [
      "Processing TFRecord files:  53%|█████▎    | 766/1444 [01:28<01:27,  7.72it/s]"
     ]
    },
    {
     "name": "stdout",
     "output_type": "stream",
     "text": [
      "Decoded audio embeddings shape: (None, 128)\n",
      "Decoded audio embeddings shape: (None, 128)\n"
     ]
    },
    {
     "name": "stderr",
     "output_type": "stream",
     "text": [
      "Processing TFRecord files:  53%|█████▎    | 768/1444 [01:29<01:30,  7.51it/s]"
     ]
    },
    {
     "name": "stdout",
     "output_type": "stream",
     "text": [
      "Decoded audio embeddings shape: (None, 128)\n",
      "Decoded audio embeddings shape: (None, 128)\n"
     ]
    },
    {
     "name": "stderr",
     "output_type": "stream",
     "text": [
      "Processing TFRecord files:  53%|█████▎    | 770/1444 [01:29<01:39,  6.78it/s]"
     ]
    },
    {
     "name": "stdout",
     "output_type": "stream",
     "text": [
      "Decoded audio embeddings shape: (None, 128)\n",
      "Decoded audio embeddings shape: (None, 128)\n"
     ]
    },
    {
     "name": "stderr",
     "output_type": "stream",
     "text": [
      "Processing TFRecord files:  53%|█████▎    | 772/1444 [01:29<01:46,  6.29it/s]"
     ]
    },
    {
     "name": "stdout",
     "output_type": "stream",
     "text": [
      "Decoded audio embeddings shape: (None, 128)\n",
      "Decoded audio embeddings shape: (None, 128)\n"
     ]
    },
    {
     "name": "stderr",
     "output_type": "stream",
     "text": [
      "Processing TFRecord files:  54%|█████▎    | 774/1444 [01:30<02:22,  4.71it/s]"
     ]
    },
    {
     "name": "stdout",
     "output_type": "stream",
     "text": [
      "Decoded audio embeddings shape: (None, 128)\n",
      "Decoded audio embeddings shape: (None, 128)\n"
     ]
    },
    {
     "name": "stderr",
     "output_type": "stream",
     "text": [
      "Processing TFRecord files:  54%|█████▎    | 776/1444 [01:30<01:59,  5.61it/s]"
     ]
    },
    {
     "name": "stdout",
     "output_type": "stream",
     "text": [
      "Decoded audio embeddings shape: (None, 128)\n",
      "Decoded audio embeddings shape: (None, 128)\n"
     ]
    },
    {
     "name": "stderr",
     "output_type": "stream",
     "text": [
      "Processing TFRecord files:  54%|█████▍    | 778/1444 [01:31<01:43,  6.40it/s]"
     ]
    },
    {
     "name": "stdout",
     "output_type": "stream",
     "text": [
      "Decoded audio embeddings shape: (None, 128)\n",
      "Decoded audio embeddings shape: (None, 128)\n"
     ]
    },
    {
     "name": "stderr",
     "output_type": "stream",
     "text": [
      "Processing TFRecord files:  54%|█████▍    | 781/1444 [01:31<01:26,  7.69it/s]"
     ]
    },
    {
     "name": "stdout",
     "output_type": "stream",
     "text": [
      "Decoded audio embeddings shape: (None, 128)\n",
      "Decoded audio embeddings shape: (None, 128)\n"
     ]
    },
    {
     "name": "stderr",
     "output_type": "stream",
     "text": [
      "Processing TFRecord files:  54%|█████▍    | 783/1444 [01:31<01:25,  7.77it/s]"
     ]
    },
    {
     "name": "stdout",
     "output_type": "stream",
     "text": [
      "Decoded audio embeddings shape: (None, 128)\n",
      "Decoded audio embeddings shape: (None, 128)\n"
     ]
    },
    {
     "name": "stderr",
     "output_type": "stream",
     "text": [
      "Processing TFRecord files:  54%|█████▍    | 785/1444 [01:31<01:19,  8.28it/s]"
     ]
    },
    {
     "name": "stdout",
     "output_type": "stream",
     "text": [
      "Decoded audio embeddings shape: (None, 128)\n",
      "Decoded audio embeddings shape: (None, 128)\n"
     ]
    },
    {
     "name": "stderr",
     "output_type": "stream",
     "text": [
      "Processing TFRecord files:  55%|█████▍    | 787/1444 [01:32<01:15,  8.69it/s]"
     ]
    },
    {
     "name": "stdout",
     "output_type": "stream",
     "text": [
      "Decoded audio embeddings shape: (None, 128)\n",
      "Decoded audio embeddings shape: (None, 128)\n"
     ]
    },
    {
     "name": "stderr",
     "output_type": "stream",
     "text": [
      "Processing TFRecord files:  55%|█████▍    | 789/1444 [01:32<01:11,  9.15it/s]"
     ]
    },
    {
     "name": "stdout",
     "output_type": "stream",
     "text": [
      "Decoded audio embeddings shape: (None, 128)\n",
      "Decoded audio embeddings shape: (None, 128)\n"
     ]
    },
    {
     "name": "stderr",
     "output_type": "stream",
     "text": [
      "Processing TFRecord files:  55%|█████▍    | 790/1444 [01:32<01:14,  8.80it/s]"
     ]
    },
    {
     "name": "stdout",
     "output_type": "stream",
     "text": [
      "Decoded audio embeddings shape: (None, 128)\n",
      "Decoded audio embeddings shape: (None, 128)\n"
     ]
    },
    {
     "name": "stderr",
     "output_type": "stream",
     "text": [
      "Processing TFRecord files:  55%|█████▍    | 792/1444 [01:32<01:32,  7.08it/s]"
     ]
    },
    {
     "name": "stdout",
     "output_type": "stream",
     "text": [
      "Decoded audio embeddings shape: (None, 128)\n",
      "Decoded audio embeddings shape: (None, 128)\n"
     ]
    },
    {
     "name": "stderr",
     "output_type": "stream",
     "text": [
      "Processing TFRecord files:  55%|█████▌    | 795/1444 [01:33<01:32,  6.99it/s]"
     ]
    },
    {
     "name": "stdout",
     "output_type": "stream",
     "text": [
      "Decoded audio embeddings shape: (None, 128)\n",
      "Decoded audio embeddings shape: (None, 128)\n"
     ]
    },
    {
     "name": "stderr",
     "output_type": "stream",
     "text": [
      "Processing TFRecord files:  55%|█████▌    | 796/1444 [01:33<01:28,  7.36it/s]"
     ]
    },
    {
     "name": "stdout",
     "output_type": "stream",
     "text": [
      "Decoded audio embeddings shape: (None, 128)\n",
      "Decoded audio embeddings shape: (None, 128)\n"
     ]
    },
    {
     "name": "stderr",
     "output_type": "stream",
     "text": [
      "Processing TFRecord files:  55%|█████▌    | 798/1444 [01:33<01:21,  7.94it/s]"
     ]
    },
    {
     "name": "stdout",
     "output_type": "stream",
     "text": [
      "Decoded audio embeddings shape: (None, 128)\n",
      "Decoded audio embeddings shape: (None, 128)\n",
      "Decoded audio embeddings shape: (None, 128)\n"
     ]
    },
    {
     "name": "stderr",
     "output_type": "stream",
     "text": [
      "Processing TFRecord files:  56%|█████▌    | 802/1444 [01:33<01:11,  8.99it/s]"
     ]
    },
    {
     "name": "stdout",
     "output_type": "stream",
     "text": [
      "Decoded audio embeddings shape: (None, 128)\n",
      "Decoded audio embeddings shape: (None, 128)\n"
     ]
    },
    {
     "name": "stderr",
     "output_type": "stream",
     "text": [
      "Processing TFRecord files:  56%|█████▌    | 803/1444 [01:34<01:13,  8.70it/s]"
     ]
    },
    {
     "name": "stdout",
     "output_type": "stream",
     "text": [
      "Decoded audio embeddings shape: (None, 128)\n",
      "Decoded audio embeddings shape: (None, 128)\n"
     ]
    },
    {
     "name": "stderr",
     "output_type": "stream",
     "text": [
      "Processing TFRecord files:  56%|█████▌    | 805/1444 [01:34<01:21,  7.88it/s]"
     ]
    },
    {
     "name": "stdout",
     "output_type": "stream",
     "text": [
      "Decoded audio embeddings shape: (None, 128)\n",
      "Decoded audio embeddings shape: (None, 128)\n"
     ]
    },
    {
     "name": "stderr",
     "output_type": "stream",
     "text": [
      "Processing TFRecord files:  56%|█████▌    | 807/1444 [01:34<01:25,  7.45it/s]"
     ]
    },
    {
     "name": "stdout",
     "output_type": "stream",
     "text": [
      "Decoded audio embeddings shape: (None, 128)\n",
      "Decoded audio embeddings shape: (None, 128)\n"
     ]
    },
    {
     "name": "stderr",
     "output_type": "stream",
     "text": [
      "Processing TFRecord files:  56%|█████▌    | 810/1444 [01:35<01:21,  7.82it/s]"
     ]
    },
    {
     "name": "stdout",
     "output_type": "stream",
     "text": [
      "Decoded audio embeddings shape: (None, 128)\n",
      "Decoded audio embeddings shape: (None, 128)\n"
     ]
    },
    {
     "name": "stderr",
     "output_type": "stream",
     "text": [
      "Processing TFRecord files:  56%|█████▌    | 812/1444 [01:35<01:14,  8.51it/s]"
     ]
    },
    {
     "name": "stdout",
     "output_type": "stream",
     "text": [
      "Decoded audio embeddings shape: (None, 128)\n",
      "Decoded audio embeddings shape: (None, 128)\n",
      "Decoded audio embeddings shape: (None, 128)\n"
     ]
    },
    {
     "name": "stderr",
     "output_type": "stream",
     "text": [
      "Processing TFRecord files:  56%|█████▋    | 814/1444 [01:35<01:10,  8.98it/s]"
     ]
    },
    {
     "name": "stdout",
     "output_type": "stream",
     "text": [
      "Decoded audio embeddings shape: (None, 128)\n",
      "Decoded audio embeddings shape: (None, 128)\n"
     ]
    },
    {
     "name": "stderr",
     "output_type": "stream",
     "text": [
      "Processing TFRecord files:  57%|█████▋    | 816/1444 [01:35<01:28,  7.08it/s]"
     ]
    },
    {
     "name": "stdout",
     "output_type": "stream",
     "text": [
      "Decoded audio embeddings shape: (None, 128)\n",
      "Decoded audio embeddings shape: (None, 128)\n"
     ]
    },
    {
     "name": "stderr",
     "output_type": "stream",
     "text": [
      "Processing TFRecord files:  57%|█████▋    | 818/1444 [01:36<01:28,  7.06it/s]"
     ]
    },
    {
     "name": "stdout",
     "output_type": "stream",
     "text": [
      "Decoded audio embeddings shape: (None, 128)\n",
      "Decoded audio embeddings shape: (None, 128)\n"
     ]
    },
    {
     "name": "stderr",
     "output_type": "stream",
     "text": [
      "Processing TFRecord files:  57%|█████▋    | 820/1444 [01:36<01:29,  6.96it/s]"
     ]
    },
    {
     "name": "stdout",
     "output_type": "stream",
     "text": [
      "Decoded audio embeddings shape: (None, 128)\n",
      "Decoded audio embeddings shape: (None, 128)\n"
     ]
    },
    {
     "name": "stderr",
     "output_type": "stream",
     "text": [
      "Processing TFRecord files:  57%|█████▋    | 822/1444 [01:36<01:28,  7.05it/s]"
     ]
    },
    {
     "name": "stdout",
     "output_type": "stream",
     "text": [
      "Decoded audio embeddings shape: (None, 128)\n",
      "Decoded audio embeddings shape: (None, 128)\n"
     ]
    },
    {
     "name": "stderr",
     "output_type": "stream",
     "text": [
      "Processing TFRecord files:  57%|█████▋    | 825/1444 [01:37<01:21,  7.63it/s]"
     ]
    },
    {
     "name": "stdout",
     "output_type": "stream",
     "text": [
      "Decoded audio embeddings shape: (None, 128)\n",
      "Decoded audio embeddings shape: (None, 128)\n"
     ]
    },
    {
     "name": "stderr",
     "output_type": "stream",
     "text": [
      "Processing TFRecord files:  57%|█████▋    | 826/1444 [01:37<01:22,  7.50it/s]"
     ]
    },
    {
     "name": "stdout",
     "output_type": "stream",
     "text": [
      "Decoded audio embeddings shape: (None, 128)\n",
      "Decoded audio embeddings shape: (None, 128)\n"
     ]
    },
    {
     "name": "stderr",
     "output_type": "stream",
     "text": [
      "Processing TFRecord files:  57%|█████▋    | 829/1444 [01:37<01:12,  8.50it/s]"
     ]
    },
    {
     "name": "stdout",
     "output_type": "stream",
     "text": [
      "Decoded audio embeddings shape: (None, 128)\n",
      "Decoded audio embeddings shape: (None, 128)\n",
      "Decoded audio embeddings shape: (None, 128)\n"
     ]
    },
    {
     "name": "stderr",
     "output_type": "stream",
     "text": [
      "Processing TFRecord files:  58%|█████▊    | 832/1444 [01:37<01:06,  9.16it/s]"
     ]
    },
    {
     "name": "stdout",
     "output_type": "stream",
     "text": [
      "Decoded audio embeddings shape: (None, 128)\n",
      "Decoded audio embeddings shape: (None, 128)\n",
      "Decoded audio embeddings shape: (None, 128)\n"
     ]
    },
    {
     "name": "stderr",
     "output_type": "stream",
     "text": [
      "Processing TFRecord files:  58%|█████▊    | 835/1444 [01:38<01:11,  8.55it/s]"
     ]
    },
    {
     "name": "stdout",
     "output_type": "stream",
     "text": [
      "Decoded audio embeddings shape: (None, 128)\n",
      "Decoded audio embeddings shape: (None, 128)\n"
     ]
    },
    {
     "name": "stderr",
     "output_type": "stream",
     "text": [
      "Processing TFRecord files:  58%|█████▊    | 836/1444 [01:38<01:19,  7.62it/s]"
     ]
    },
    {
     "name": "stdout",
     "output_type": "stream",
     "text": [
      "Decoded audio embeddings shape: (None, 128)\n",
      "Decoded audio embeddings shape: (None, 128)\n"
     ]
    },
    {
     "name": "stderr",
     "output_type": "stream",
     "text": [
      "Processing TFRecord files:  58%|█████▊    | 839/1444 [01:38<01:16,  7.94it/s]"
     ]
    },
    {
     "name": "stdout",
     "output_type": "stream",
     "text": [
      "Decoded audio embeddings shape: (None, 128)\n",
      "Decoded audio embeddings shape: (None, 128)\n"
     ]
    },
    {
     "name": "stderr",
     "output_type": "stream",
     "text": [
      "Processing TFRecord files:  58%|█████▊    | 841/1444 [01:38<01:13,  8.25it/s]"
     ]
    },
    {
     "name": "stdout",
     "output_type": "stream",
     "text": [
      "Decoded audio embeddings shape: (None, 128)\n",
      "Decoded audio embeddings shape: (None, 128)\n"
     ]
    },
    {
     "name": "stderr",
     "output_type": "stream",
     "text": [
      "Processing TFRecord files:  58%|█████▊    | 843/1444 [01:39<01:09,  8.60it/s]"
     ]
    },
    {
     "name": "stdout",
     "output_type": "stream",
     "text": [
      "Decoded audio embeddings shape: (None, 128)\n",
      "Decoded audio embeddings shape: (None, 128)\n"
     ]
    },
    {
     "name": "stderr",
     "output_type": "stream",
     "text": [
      "Processing TFRecord files:  59%|█████▊    | 845/1444 [01:39<01:07,  8.84it/s]"
     ]
    },
    {
     "name": "stdout",
     "output_type": "stream",
     "text": [
      "Decoded audio embeddings shape: (None, 128)\n",
      "Decoded audio embeddings shape: (None, 128)\n"
     ]
    },
    {
     "name": "stderr",
     "output_type": "stream",
     "text": [
      "Processing TFRecord files:  59%|█████▊    | 847/1444 [01:39<01:09,  8.59it/s]"
     ]
    },
    {
     "name": "stdout",
     "output_type": "stream",
     "text": [
      "Decoded audio embeddings shape: (None, 128)\n",
      "Decoded audio embeddings shape: (None, 128)\n"
     ]
    },
    {
     "name": "stderr",
     "output_type": "stream",
     "text": [
      "Processing TFRecord files:  59%|█████▊    | 848/1444 [01:39<01:10,  8.51it/s]"
     ]
    },
    {
     "name": "stdout",
     "output_type": "stream",
     "text": [
      "Decoded audio embeddings shape: (None, 128)\n",
      "Decoded audio embeddings shape: (None, 128)\n"
     ]
    },
    {
     "name": "stderr",
     "output_type": "stream",
     "text": [
      "Processing TFRecord files:  59%|█████▉    | 851/1444 [01:40<01:04,  9.23it/s]"
     ]
    },
    {
     "name": "stdout",
     "output_type": "stream",
     "text": [
      "Decoded audio embeddings shape: (None, 128)\n",
      "Decoded audio embeddings shape: (None, 128)\n",
      "Decoded audio embeddings shape: (None, 128)\n"
     ]
    },
    {
     "name": "stderr",
     "output_type": "stream",
     "text": [
      "Processing TFRecord files:  59%|█████▉    | 853/1444 [01:40<01:00,  9.70it/s]"
     ]
    },
    {
     "name": "stdout",
     "output_type": "stream",
     "text": [
      "Decoded audio embeddings shape: (None, 128)\n",
      "Decoded audio embeddings shape: (None, 128)\n",
      "Decoded audio embeddings shape: (None, 128)\n"
     ]
    },
    {
     "name": "stderr",
     "output_type": "stream",
     "text": [
      "Processing TFRecord files:  59%|█████▉    | 857/1444 [01:40<01:06,  8.78it/s]"
     ]
    },
    {
     "name": "stdout",
     "output_type": "stream",
     "text": [
      "Decoded audio embeddings shape: (None, 128)\n",
      "Decoded audio embeddings shape: (None, 128)\n",
      "Decoded audio embeddings shape: (None, 128)\n"
     ]
    },
    {
     "name": "stderr",
     "output_type": "stream",
     "text": [
      "Processing TFRecord files:  60%|█████▉    | 860/1444 [01:41<01:05,  8.97it/s]"
     ]
    },
    {
     "name": "stdout",
     "output_type": "stream",
     "text": [
      "Decoded audio embeddings shape: (None, 128)\n",
      "Decoded audio embeddings shape: (None, 128)\n"
     ]
    },
    {
     "name": "stderr",
     "output_type": "stream",
     "text": [
      "Processing TFRecord files:  60%|█████▉    | 862/1444 [01:41<01:05,  8.93it/s]"
     ]
    },
    {
     "name": "stdout",
     "output_type": "stream",
     "text": [
      "Decoded audio embeddings shape: (None, 128)\n",
      "Decoded audio embeddings shape: (None, 128)\n",
      "Decoded audio embeddings shape: (None, 128)\n"
     ]
    },
    {
     "name": "stderr",
     "output_type": "stream",
     "text": [
      "Processing TFRecord files:  60%|█████▉    | 865/1444 [01:41<01:02,  9.24it/s]"
     ]
    },
    {
     "name": "stdout",
     "output_type": "stream",
     "text": [
      "Decoded audio embeddings shape: (None, 128)\n",
      "Decoded audio embeddings shape: (None, 128)\n",
      "Decoded audio embeddings shape: (None, 128)\n"
     ]
    },
    {
     "name": "stderr",
     "output_type": "stream",
     "text": [
      "Processing TFRecord files:  60%|██████    | 867/1444 [01:41<01:07,  8.58it/s]"
     ]
    },
    {
     "name": "stdout",
     "output_type": "stream",
     "text": [
      "Decoded audio embeddings shape: (None, 128)\n",
      "Decoded audio embeddings shape: (None, 128)\n"
     ]
    },
    {
     "name": "stderr",
     "output_type": "stream",
     "text": [
      "Processing TFRecord files:  60%|██████    | 870/1444 [01:42<01:09,  8.23it/s]"
     ]
    },
    {
     "name": "stdout",
     "output_type": "stream",
     "text": [
      "Decoded audio embeddings shape: (None, 128)\n",
      "Decoded audio embeddings shape: (None, 128)\n"
     ]
    },
    {
     "name": "stderr",
     "output_type": "stream",
     "text": [
      "Processing TFRecord files:  60%|██████    | 872/1444 [01:42<01:06,  8.56it/s]"
     ]
    },
    {
     "name": "stdout",
     "output_type": "stream",
     "text": [
      "Decoded audio embeddings shape: (None, 128)\n",
      "Decoded audio embeddings shape: (None, 128)\n"
     ]
    },
    {
     "name": "stderr",
     "output_type": "stream",
     "text": [
      "Processing TFRecord files:  60%|██████    | 873/1444 [01:42<01:24,  6.72it/s]"
     ]
    },
    {
     "name": "stdout",
     "output_type": "stream",
     "text": [
      "Decoded audio embeddings shape: (None, 128)\n"
     ]
    },
    {
     "name": "stderr",
     "output_type": "stream",
     "text": [
      "Processing TFRecord files:  61%|██████    | 874/1444 [01:42<01:28,  6.47it/s]"
     ]
    },
    {
     "name": "stdout",
     "output_type": "stream",
     "text": [
      "Decoded audio embeddings shape: (None, 128)\n",
      "Decoded audio embeddings shape: (None, 128)\n"
     ]
    },
    {
     "name": "stderr",
     "output_type": "stream",
     "text": [
      "Processing TFRecord files:  61%|██████    | 877/1444 [01:43<01:19,  7.14it/s]"
     ]
    },
    {
     "name": "stdout",
     "output_type": "stream",
     "text": [
      "Decoded audio embeddings shape: (None, 128)\n",
      "Decoded audio embeddings shape: (None, 128)\n"
     ]
    },
    {
     "name": "stderr",
     "output_type": "stream",
     "text": [
      "Processing TFRecord files:  61%|██████    | 879/1444 [01:43<01:11,  7.85it/s]"
     ]
    },
    {
     "name": "stdout",
     "output_type": "stream",
     "text": [
      "Decoded audio embeddings shape: (None, 128)\n",
      "Decoded audio embeddings shape: (None, 128)\n"
     ]
    },
    {
     "name": "stderr",
     "output_type": "stream",
     "text": [
      "Processing TFRecord files:  61%|██████    | 881/1444 [01:43<01:07,  8.32it/s]"
     ]
    },
    {
     "name": "stdout",
     "output_type": "stream",
     "text": [
      "Decoded audio embeddings shape: (None, 128)\n",
      "Decoded audio embeddings shape: (None, 128)\n"
     ]
    },
    {
     "name": "stderr",
     "output_type": "stream",
     "text": [
      "Processing TFRecord files:  61%|██████    | 883/1444 [01:43<01:03,  8.90it/s]"
     ]
    },
    {
     "name": "stdout",
     "output_type": "stream",
     "text": [
      "Decoded audio embeddings shape: (None, 128)\n",
      "Decoded audio embeddings shape: (None, 128)\n",
      "Decoded audio embeddings shape: (None, 128)\n"
     ]
    },
    {
     "name": "stderr",
     "output_type": "stream",
     "text": [
      "Processing TFRecord files:  61%|██████▏   | 886/1444 [01:44<01:00,  9.27it/s]"
     ]
    },
    {
     "name": "stdout",
     "output_type": "stream",
     "text": [
      "Decoded audio embeddings shape: (None, 128)\n",
      "Decoded audio embeddings shape: (None, 128)\n",
      "Decoded audio embeddings shape: (None, 128)\n"
     ]
    },
    {
     "name": "stderr",
     "output_type": "stream",
     "text": [
      "Processing TFRecord files:  62%|██████▏   | 889/1444 [01:44<01:04,  8.60it/s]"
     ]
    },
    {
     "name": "stdout",
     "output_type": "stream",
     "text": [
      "Decoded audio embeddings shape: (None, 128)\n",
      "Decoded audio embeddings shape: (None, 128)\n"
     ]
    },
    {
     "name": "stderr",
     "output_type": "stream",
     "text": [
      "Processing TFRecord files:  62%|██████▏   | 890/1444 [01:44<01:07,  8.19it/s]"
     ]
    },
    {
     "name": "stdout",
     "output_type": "stream",
     "text": [
      "Decoded audio embeddings shape: (None, 128)\n",
      "Decoded audio embeddings shape: (None, 128)\n"
     ]
    },
    {
     "name": "stderr",
     "output_type": "stream",
     "text": [
      "Processing TFRecord files:  62%|██████▏   | 892/1444 [01:45<01:29,  6.17it/s]"
     ]
    },
    {
     "name": "stdout",
     "output_type": "stream",
     "text": [
      "Decoded audio embeddings shape: (None, 128)\n",
      "Decoded audio embeddings shape: (None, 128)\n"
     ]
    },
    {
     "name": "stderr",
     "output_type": "stream",
     "text": [
      "Processing TFRecord files:  62%|██████▏   | 894/1444 [01:45<01:21,  6.78it/s]"
     ]
    },
    {
     "name": "stdout",
     "output_type": "stream",
     "text": [
      "Decoded audio embeddings shape: (None, 128)\n",
      "Decoded audio embeddings shape: (None, 128)\n"
     ]
    },
    {
     "name": "stderr",
     "output_type": "stream",
     "text": [
      "Processing TFRecord files:  62%|██████▏   | 897/1444 [01:45<01:09,  7.83it/s]"
     ]
    },
    {
     "name": "stdout",
     "output_type": "stream",
     "text": [
      "Decoded audio embeddings shape: (None, 128)\n",
      "Decoded audio embeddings shape: (None, 128)\n"
     ]
    },
    {
     "name": "stderr",
     "output_type": "stream",
     "text": [
      "Processing TFRecord files:  62%|██████▏   | 899/1444 [01:46<01:09,  7.89it/s]"
     ]
    },
    {
     "name": "stdout",
     "output_type": "stream",
     "text": [
      "Decoded audio embeddings shape: (None, 128)\n",
      "Decoded audio embeddings shape: (None, 128)\n"
     ]
    },
    {
     "name": "stderr",
     "output_type": "stream",
     "text": [
      "Processing TFRecord files:  62%|██████▏   | 900/1444 [01:46<01:07,  8.11it/s]"
     ]
    },
    {
     "name": "stdout",
     "output_type": "stream",
     "text": [
      "Decoded audio embeddings shape: (None, 128)\n",
      "Decoded audio embeddings shape: (None, 128)\n"
     ]
    },
    {
     "name": "stderr",
     "output_type": "stream",
     "text": [
      "Processing TFRecord files:  63%|██████▎   | 903/1444 [01:46<01:04,  8.44it/s]"
     ]
    },
    {
     "name": "stdout",
     "output_type": "stream",
     "text": [
      "Decoded audio embeddings shape: (None, 128)\n",
      "Decoded audio embeddings shape: (None, 128)\n"
     ]
    },
    {
     "name": "stderr",
     "output_type": "stream",
     "text": [
      "Processing TFRecord files:  63%|██████▎   | 904/1444 [01:46<01:02,  8.61it/s]"
     ]
    },
    {
     "name": "stdout",
     "output_type": "stream",
     "text": [
      "Decoded audio embeddings shape: (None, 128)\n",
      "Decoded audio embeddings shape: (None, 128)\n"
     ]
    },
    {
     "name": "stderr",
     "output_type": "stream",
     "text": [
      "Processing TFRecord files:  63%|██████▎   | 906/1444 [01:47<01:35,  5.66it/s]"
     ]
    },
    {
     "name": "stdout",
     "output_type": "stream",
     "text": [
      "Decoded audio embeddings shape: (None, 128)\n",
      "Decoded audio embeddings shape: (None, 128)\n"
     ]
    },
    {
     "name": "stderr",
     "output_type": "stream",
     "text": [
      "Processing TFRecord files:  63%|██████▎   | 908/1444 [01:47<02:02,  4.39it/s]"
     ]
    },
    {
     "name": "stdout",
     "output_type": "stream",
     "text": [
      "Decoded audio embeddings shape: (None, 128)\n"
     ]
    },
    {
     "name": "stderr",
     "output_type": "stream",
     "text": [
      "Processing TFRecord files:  63%|██████▎   | 909/1444 [01:47<02:01,  4.41it/s]"
     ]
    },
    {
     "name": "stdout",
     "output_type": "stream",
     "text": [
      "Decoded audio embeddings shape: (None, 128)\n"
     ]
    },
    {
     "name": "stderr",
     "output_type": "stream",
     "text": [
      "Processing TFRecord files:  63%|██████▎   | 910/1444 [01:48<02:05,  4.24it/s]"
     ]
    },
    {
     "name": "stdout",
     "output_type": "stream",
     "text": [
      "Decoded audio embeddings shape: (None, 128)\n"
     ]
    },
    {
     "name": "stderr",
     "output_type": "stream",
     "text": [
      "Processing TFRecord files:  63%|██████▎   | 911/1444 [01:48<02:03,  4.32it/s]"
     ]
    },
    {
     "name": "stdout",
     "output_type": "stream",
     "text": [
      "Decoded audio embeddings shape: (None, 128)\n",
      "Decoded audio embeddings shape: (None, 128)\n"
     ]
    },
    {
     "name": "stderr",
     "output_type": "stream",
     "text": [
      "Processing TFRecord files:  63%|██████▎   | 913/1444 [01:48<01:59,  4.45it/s]"
     ]
    },
    {
     "name": "stdout",
     "output_type": "stream",
     "text": [
      "Decoded audio embeddings shape: (None, 128)\n"
     ]
    },
    {
     "name": "stderr",
     "output_type": "stream",
     "text": [
      "Processing TFRecord files:  63%|██████▎   | 914/1444 [01:48<01:56,  4.55it/s]"
     ]
    },
    {
     "name": "stdout",
     "output_type": "stream",
     "text": [
      "Decoded audio embeddings shape: (None, 128)\n"
     ]
    },
    {
     "name": "stderr",
     "output_type": "stream",
     "text": [
      "Processing TFRecord files:  63%|██████▎   | 915/1444 [01:49<01:54,  4.61it/s]"
     ]
    },
    {
     "name": "stdout",
     "output_type": "stream",
     "text": [
      "Decoded audio embeddings shape: (None, 128)\n",
      "Decoded audio embeddings shape: (None, 128)\n"
     ]
    },
    {
     "name": "stderr",
     "output_type": "stream",
     "text": [
      "Processing TFRecord files:  64%|██████▎   | 917/1444 [01:49<01:46,  4.95it/s]"
     ]
    },
    {
     "name": "stdout",
     "output_type": "stream",
     "text": [
      "Decoded audio embeddings shape: (None, 128)\n",
      "Decoded audio embeddings shape: (None, 128)\n"
     ]
    },
    {
     "name": "stderr",
     "output_type": "stream",
     "text": [
      "Processing TFRecord files:  64%|██████▎   | 919/1444 [01:49<01:43,  5.08it/s]"
     ]
    },
    {
     "name": "stdout",
     "output_type": "stream",
     "text": [
      "Decoded audio embeddings shape: (None, 128)\n",
      "Decoded audio embeddings shape: (None, 128)\n"
     ]
    },
    {
     "name": "stderr",
     "output_type": "stream",
     "text": [
      "Processing TFRecord files:  64%|██████▍   | 921/1444 [01:50<01:42,  5.10it/s]"
     ]
    },
    {
     "name": "stdout",
     "output_type": "stream",
     "text": [
      "Decoded audio embeddings shape: (None, 128)\n",
      "Decoded audio embeddings shape: (None, 128)\n"
     ]
    },
    {
     "name": "stderr",
     "output_type": "stream",
     "text": [
      "Processing TFRecord files:  64%|██████▍   | 923/1444 [01:50<01:38,  5.30it/s]"
     ]
    },
    {
     "name": "stdout",
     "output_type": "stream",
     "text": [
      "Decoded audio embeddings shape: (None, 128)\n",
      "Decoded audio embeddings shape: (None, 128)\n"
     ]
    },
    {
     "name": "stderr",
     "output_type": "stream",
     "text": [
      "Processing TFRecord files:  64%|██████▍   | 925/1444 [01:51<01:29,  5.82it/s]"
     ]
    },
    {
     "name": "stdout",
     "output_type": "stream",
     "text": [
      "Decoded audio embeddings shape: (None, 128)\n",
      "Decoded audio embeddings shape: (None, 128)\n"
     ]
    },
    {
     "name": "stderr",
     "output_type": "stream",
     "text": [
      "Processing TFRecord files:  64%|██████▍   | 928/1444 [01:51<01:15,  6.85it/s]"
     ]
    },
    {
     "name": "stdout",
     "output_type": "stream",
     "text": [
      "Decoded audio embeddings shape: (None, 128)\n",
      "Decoded audio embeddings shape: (None, 128)\n"
     ]
    },
    {
     "name": "stderr",
     "output_type": "stream",
     "text": [
      "Processing TFRecord files:  64%|██████▍   | 930/1444 [01:51<01:07,  7.67it/s]"
     ]
    },
    {
     "name": "stdout",
     "output_type": "stream",
     "text": [
      "Decoded audio embeddings shape: (None, 128)\n",
      "Decoded audio embeddings shape: (None, 128)\n"
     ]
    },
    {
     "name": "stderr",
     "output_type": "stream",
     "text": [
      "Processing TFRecord files:  65%|██████▍   | 932/1444 [01:51<01:06,  7.67it/s]"
     ]
    },
    {
     "name": "stdout",
     "output_type": "stream",
     "text": [
      "Decoded audio embeddings shape: (None, 128)\n",
      "Decoded audio embeddings shape: (None, 128)\n"
     ]
    },
    {
     "name": "stderr",
     "output_type": "stream",
     "text": [
      "Processing TFRecord files:  65%|██████▍   | 934/1444 [01:52<01:09,  7.33it/s]"
     ]
    },
    {
     "name": "stdout",
     "output_type": "stream",
     "text": [
      "Decoded audio embeddings shape: (None, 128)\n",
      "Decoded audio embeddings shape: (None, 128)\n"
     ]
    },
    {
     "name": "stderr",
     "output_type": "stream",
     "text": [
      "Processing TFRecord files:  65%|██████▍   | 936/1444 [01:52<01:06,  7.68it/s]"
     ]
    },
    {
     "name": "stdout",
     "output_type": "stream",
     "text": [
      "Decoded audio embeddings shape: (None, 128)\n",
      "Decoded audio embeddings shape: (None, 128)\n"
     ]
    },
    {
     "name": "stderr",
     "output_type": "stream",
     "text": [
      "Processing TFRecord files:  65%|██████▍   | 938/1444 [01:52<01:01,  8.29it/s]"
     ]
    },
    {
     "name": "stdout",
     "output_type": "stream",
     "text": [
      "Decoded audio embeddings shape: (None, 128)\n",
      "Decoded audio embeddings shape: (None, 128)\n",
      "Decoded audio embeddings shape: (None, 128)\n"
     ]
    },
    {
     "name": "stderr",
     "output_type": "stream",
     "text": [
      "Processing TFRecord files:  65%|██████▌   | 940/1444 [01:53<01:24,  5.94it/s]"
     ]
    },
    {
     "name": "stdout",
     "output_type": "stream",
     "text": [
      "Decoded audio embeddings shape: (None, 128)\n"
     ]
    },
    {
     "name": "stderr",
     "output_type": "stream",
     "text": [
      "Processing TFRecord files:  65%|██████▌   | 941/1444 [01:53<01:22,  6.09it/s]"
     ]
    },
    {
     "name": "stdout",
     "output_type": "stream",
     "text": [
      "Decoded audio embeddings shape: (None, 128)\n",
      "Decoded audio embeddings shape: (None, 128)\n"
     ]
    },
    {
     "name": "stderr",
     "output_type": "stream",
     "text": [
      "Processing TFRecord files:  65%|██████▌   | 944/1444 [01:53<01:07,  7.45it/s]"
     ]
    },
    {
     "name": "stdout",
     "output_type": "stream",
     "text": [
      "Decoded audio embeddings shape: (None, 128)\n",
      "Decoded audio embeddings shape: (None, 128)\n"
     ]
    },
    {
     "name": "stderr",
     "output_type": "stream",
     "text": [
      "Processing TFRecord files:  66%|██████▌   | 946/1444 [01:53<01:01,  8.04it/s]"
     ]
    },
    {
     "name": "stdout",
     "output_type": "stream",
     "text": [
      "Decoded audio embeddings shape: (None, 128)\n",
      "Decoded audio embeddings shape: (None, 128)\n"
     ]
    },
    {
     "name": "stderr",
     "output_type": "stream",
     "text": [
      "Processing TFRecord files:  66%|██████▌   | 947/1444 [01:53<01:03,  7.83it/s]"
     ]
    },
    {
     "name": "stdout",
     "output_type": "stream",
     "text": [
      "Decoded audio embeddings shape: (None, 128)\n",
      "Decoded audio embeddings shape: (None, 128)\n"
     ]
    },
    {
     "name": "stderr",
     "output_type": "stream",
     "text": [
      "Processing TFRecord files:  66%|██████▌   | 950/1444 [01:54<01:00,  8.13it/s]"
     ]
    },
    {
     "name": "stdout",
     "output_type": "stream",
     "text": [
      "Decoded audio embeddings shape: (None, 128)\n",
      "Decoded audio embeddings shape: (None, 128)\n"
     ]
    },
    {
     "name": "stderr",
     "output_type": "stream",
     "text": [
      "Processing TFRecord files:  66%|██████▌   | 951/1444 [01:54<01:00,  8.10it/s]"
     ]
    },
    {
     "name": "stdout",
     "output_type": "stream",
     "text": [
      "Decoded audio embeddings shape: (None, 128)\n",
      "Decoded audio embeddings shape: (None, 128)\n"
     ]
    },
    {
     "name": "stderr",
     "output_type": "stream",
     "text": [
      "Processing TFRecord files:  66%|██████▌   | 954/1444 [01:54<01:01,  7.98it/s]"
     ]
    },
    {
     "name": "stdout",
     "output_type": "stream",
     "text": [
      "Decoded audio embeddings shape: (None, 128)\n",
      "Decoded audio embeddings shape: (None, 128)\n"
     ]
    },
    {
     "name": "stderr",
     "output_type": "stream",
     "text": [
      "Processing TFRecord files:  66%|██████▌   | 955/1444 [01:55<01:17,  6.30it/s]"
     ]
    },
    {
     "name": "stdout",
     "output_type": "stream",
     "text": [
      "Decoded audio embeddings shape: (None, 128)\n",
      "Decoded audio embeddings shape: (None, 128)\n"
     ]
    },
    {
     "name": "stderr",
     "output_type": "stream",
     "text": [
      "Processing TFRecord files:  66%|██████▋   | 958/1444 [01:55<01:09,  7.02it/s]"
     ]
    },
    {
     "name": "stdout",
     "output_type": "stream",
     "text": [
      "Decoded audio embeddings shape: (None, 128)\n",
      "Decoded audio embeddings shape: (None, 128)\n"
     ]
    },
    {
     "name": "stderr",
     "output_type": "stream",
     "text": [
      "Processing TFRecord files:  66%|██████▋   | 960/1444 [01:55<01:06,  7.29it/s]"
     ]
    },
    {
     "name": "stdout",
     "output_type": "stream",
     "text": [
      "Decoded audio embeddings shape: (None, 128)\n",
      "Decoded audio embeddings shape: (None, 128)\n"
     ]
    },
    {
     "name": "stderr",
     "output_type": "stream",
     "text": [
      "Processing TFRecord files:  67%|██████▋   | 961/1444 [01:55<01:10,  6.83it/s]"
     ]
    },
    {
     "name": "stdout",
     "output_type": "stream",
     "text": [
      "Decoded audio embeddings shape: (None, 128)\n",
      "Decoded audio embeddings shape: (None, 128)\n"
     ]
    },
    {
     "name": "stderr",
     "output_type": "stream",
     "text": [
      "Processing TFRecord files:  67%|██████▋   | 963/1444 [01:56<01:14,  6.47it/s]"
     ]
    },
    {
     "name": "stdout",
     "output_type": "stream",
     "text": [
      "Decoded audio embeddings shape: (None, 128)\n",
      "Decoded audio embeddings shape: (None, 128)\n"
     ]
    },
    {
     "name": "stderr",
     "output_type": "stream",
     "text": [
      "Processing TFRecord files:  67%|██████▋   | 965/1444 [01:56<01:32,  5.17it/s]"
     ]
    },
    {
     "name": "stdout",
     "output_type": "stream",
     "text": [
      "Decoded audio embeddings shape: (None, 128)\n"
     ]
    },
    {
     "name": "stderr",
     "output_type": "stream",
     "text": [
      "Processing TFRecord files:  67%|██████▋   | 966/1444 [01:56<01:24,  5.64it/s]"
     ]
    },
    {
     "name": "stdout",
     "output_type": "stream",
     "text": [
      "Decoded audio embeddings shape: (None, 128)\n",
      "Decoded audio embeddings shape: (None, 128)\n"
     ]
    },
    {
     "name": "stderr",
     "output_type": "stream",
     "text": [
      "Processing TFRecord files:  67%|██████▋   | 969/1444 [01:57<01:10,  6.76it/s]"
     ]
    },
    {
     "name": "stdout",
     "output_type": "stream",
     "text": [
      "Decoded audio embeddings shape: (None, 128)\n",
      "Decoded audio embeddings shape: (None, 128)\n"
     ]
    },
    {
     "name": "stderr",
     "output_type": "stream",
     "text": [
      "Processing TFRecord files:  67%|██████▋   | 971/1444 [01:57<01:03,  7.45it/s]"
     ]
    },
    {
     "name": "stdout",
     "output_type": "stream",
     "text": [
      "Decoded audio embeddings shape: (None, 128)\n",
      "Decoded audio embeddings shape: (None, 128)\n"
     ]
    },
    {
     "name": "stderr",
     "output_type": "stream",
     "text": [
      "Processing TFRecord files:  67%|██████▋   | 973/1444 [01:57<00:59,  7.96it/s]"
     ]
    },
    {
     "name": "stdout",
     "output_type": "stream",
     "text": [
      "Decoded audio embeddings shape: (None, 128)\n",
      "Decoded audio embeddings shape: (None, 128)\n"
     ]
    },
    {
     "name": "stderr",
     "output_type": "stream",
     "text": [
      "Processing TFRecord files:  67%|██████▋   | 974/1444 [01:57<00:57,  8.24it/s]"
     ]
    },
    {
     "name": "stdout",
     "output_type": "stream",
     "text": [
      "Decoded audio embeddings shape: (None, 128)\n",
      "Decoded audio embeddings shape: (None, 128)\n"
     ]
    },
    {
     "name": "stderr",
     "output_type": "stream",
     "text": [
      "Processing TFRecord files:  68%|██████▊   | 976/1444 [01:58<01:01,  7.60it/s]"
     ]
    },
    {
     "name": "stdout",
     "output_type": "stream",
     "text": [
      "Decoded audio embeddings shape: (None, 128)\n",
      "Decoded audio embeddings shape: (None, 128)\n"
     ]
    },
    {
     "name": "stderr",
     "output_type": "stream",
     "text": [
      "Processing TFRecord files:  68%|██████▊   | 979/1444 [01:58<00:54,  8.49it/s]"
     ]
    },
    {
     "name": "stdout",
     "output_type": "stream",
     "text": [
      "Decoded audio embeddings shape: (None, 128)\n",
      "Decoded audio embeddings shape: (None, 128)\n",
      "Decoded audio embeddings shape: (None, 128)\n"
     ]
    },
    {
     "name": "stderr",
     "output_type": "stream",
     "text": [
      "Processing TFRecord files:  68%|██████▊   | 982/1444 [01:58<00:50,  9.21it/s]"
     ]
    },
    {
     "name": "stdout",
     "output_type": "stream",
     "text": [
      "Decoded audio embeddings shape: (None, 128)\n",
      "Decoded audio embeddings shape: (None, 128)\n"
     ]
    },
    {
     "name": "stderr",
     "output_type": "stream",
     "text": [
      "Processing TFRecord files:  68%|██████▊   | 983/1444 [01:58<00:50,  9.10it/s]"
     ]
    },
    {
     "name": "stdout",
     "output_type": "stream",
     "text": [
      "Decoded audio embeddings shape: (None, 128)\n",
      "Decoded audio embeddings shape: (None, 128)\n"
     ]
    },
    {
     "name": "stderr",
     "output_type": "stream",
     "text": [
      "Processing TFRecord files:  68%|██████▊   | 985/1444 [01:59<01:00,  7.59it/s]"
     ]
    },
    {
     "name": "stdout",
     "output_type": "stream",
     "text": [
      "Decoded audio embeddings shape: (None, 128)\n",
      "Decoded audio embeddings shape: (None, 128)\n"
     ]
    },
    {
     "name": "stderr",
     "output_type": "stream",
     "text": [
      "Processing TFRecord files:  68%|██████▊   | 987/1444 [01:59<00:57,  7.98it/s]"
     ]
    },
    {
     "name": "stdout",
     "output_type": "stream",
     "text": [
      "Decoded audio embeddings shape: (None, 128)\n",
      "Decoded audio embeddings shape: (None, 128)\n",
      "Decoded audio embeddings shape: (None, 128)\n"
     ]
    },
    {
     "name": "stderr",
     "output_type": "stream",
     "text": [
      "Processing TFRecord files:  69%|██████▊   | 991/1444 [01:59<00:54,  8.31it/s]"
     ]
    },
    {
     "name": "stdout",
     "output_type": "stream",
     "text": [
      "Decoded audio embeddings shape: (None, 128)\n",
      "Decoded audio embeddings shape: (None, 128)\n"
     ]
    },
    {
     "name": "stderr",
     "output_type": "stream",
     "text": [
      "Processing TFRecord files:  69%|██████▉   | 993/1444 [02:00<00:52,  8.56it/s]"
     ]
    },
    {
     "name": "stdout",
     "output_type": "stream",
     "text": [
      "Decoded audio embeddings shape: (None, 128)\n",
      "Decoded audio embeddings shape: (None, 128)\n",
      "Decoded audio embeddings shape: (None, 128)\n"
     ]
    },
    {
     "name": "stderr",
     "output_type": "stream",
     "text": [
      "Processing TFRecord files:  69%|██████▉   | 996/1444 [02:00<00:49,  9.05it/s]"
     ]
    },
    {
     "name": "stdout",
     "output_type": "stream",
     "text": [
      "Decoded audio embeddings shape: (None, 128)\n",
      "Decoded audio embeddings shape: (None, 128)\n"
     ]
    },
    {
     "name": "stderr",
     "output_type": "stream",
     "text": [
      "Processing TFRecord files:  69%|██████▉   | 997/1444 [02:00<00:49,  8.97it/s]"
     ]
    },
    {
     "name": "stdout",
     "output_type": "stream",
     "text": [
      "Decoded audio embeddings shape: (None, 128)\n",
      "Decoded audio embeddings shape: (None, 128)\n"
     ]
    },
    {
     "name": "stderr",
     "output_type": "stream",
     "text": [
      "Processing TFRecord files:  69%|██████▉   | 999/1444 [02:00<00:59,  7.49it/s]"
     ]
    },
    {
     "name": "stdout",
     "output_type": "stream",
     "text": [
      "Decoded audio embeddings shape: (None, 128)\n",
      "Decoded audio embeddings shape: (None, 128)\n"
     ]
    },
    {
     "name": "stderr",
     "output_type": "stream",
     "text": [
      "Processing TFRecord files:  69%|██████▉   | 1001/1444 [02:01<01:08,  6.45it/s]"
     ]
    },
    {
     "name": "stdout",
     "output_type": "stream",
     "text": [
      "Decoded audio embeddings shape: (None, 128)\n",
      "Decoded audio embeddings shape: (None, 128)\n"
     ]
    },
    {
     "name": "stderr",
     "output_type": "stream",
     "text": [
      "Processing TFRecord files:  69%|██████▉   | 1003/1444 [02:01<01:03,  6.96it/s]"
     ]
    },
    {
     "name": "stdout",
     "output_type": "stream",
     "text": [
      "Decoded audio embeddings shape: (None, 128)\n",
      "Decoded audio embeddings shape: (None, 128)\n",
      "Decoded audio embeddings shape: (None, 128)\n"
     ]
    },
    {
     "name": "stderr",
     "output_type": "stream",
     "text": [
      "Processing TFRecord files:  70%|██████▉   | 1006/1444 [02:01<00:51,  8.46it/s]"
     ]
    },
    {
     "name": "stdout",
     "output_type": "stream",
     "text": [
      "Decoded audio embeddings shape: (None, 128)\n"
     ]
    },
    {
     "name": "stderr",
     "output_type": "stream",
     "text": [
      "Processing TFRecord files:  70%|██████▉   | 1008/1444 [02:02<01:08,  6.36it/s]"
     ]
    },
    {
     "name": "stdout",
     "output_type": "stream",
     "text": [
      "Decoded audio embeddings shape: (None, 128)\n",
      "Decoded audio embeddings shape: (None, 128)\n",
      "Decoded audio embeddings shape: (None, 128)\n"
     ]
    },
    {
     "name": "stderr",
     "output_type": "stream",
     "text": [
      "Processing TFRecord files:  70%|██████▉   | 1010/1444 [02:02<00:57,  7.59it/s]"
     ]
    },
    {
     "name": "stdout",
     "output_type": "stream",
     "text": [
      "Decoded audio embeddings shape: (None, 128)\n",
      "Decoded audio embeddings shape: (None, 128)\n",
      "Decoded audio embeddings shape: (None, 128)\n"
     ]
    },
    {
     "name": "stderr",
     "output_type": "stream",
     "text": [
      "Processing TFRecord files:  70%|███████   | 1013/1444 [02:02<00:55,  7.76it/s]"
     ]
    },
    {
     "name": "stdout",
     "output_type": "stream",
     "text": [
      "Decoded audio embeddings shape: (None, 128)\n",
      "Decoded audio embeddings shape: (None, 128)\n"
     ]
    },
    {
     "name": "stderr",
     "output_type": "stream",
     "text": [
      "Processing TFRecord files:  70%|███████   | 1016/1444 [02:03<00:50,  8.47it/s]"
     ]
    },
    {
     "name": "stdout",
     "output_type": "stream",
     "text": [
      "Decoded audio embeddings shape: (None, 128)\n",
      "Decoded audio embeddings shape: (None, 128)\n",
      "Decoded audio embeddings shape: (None, 128)\n"
     ]
    },
    {
     "name": "stderr",
     "output_type": "stream",
     "text": [
      "Processing TFRecord files:  71%|███████   | 1019/1444 [02:03<00:46,  9.10it/s]"
     ]
    },
    {
     "name": "stdout",
     "output_type": "stream",
     "text": [
      "Decoded audio embeddings shape: (None, 128)\n",
      "Decoded audio embeddings shape: (None, 128)\n",
      "Decoded audio embeddings shape: (None, 128)\n"
     ]
    },
    {
     "name": "stderr",
     "output_type": "stream",
     "text": [
      "Processing TFRecord files:  71%|███████   | 1021/1444 [02:03<00:53,  7.96it/s]"
     ]
    },
    {
     "name": "stdout",
     "output_type": "stream",
     "text": [
      "Decoded audio embeddings shape: (None, 128)\n",
      "Decoded audio embeddings shape: (None, 128)\n"
     ]
    },
    {
     "name": "stderr",
     "output_type": "stream",
     "text": [
      "Processing TFRecord files:  71%|███████   | 1024/1444 [02:04<00:48,  8.68it/s]"
     ]
    },
    {
     "name": "stdout",
     "output_type": "stream",
     "text": [
      "Decoded audio embeddings shape: (None, 128)\n",
      "Decoded audio embeddings shape: (None, 128)\n"
     ]
    },
    {
     "name": "stderr",
     "output_type": "stream",
     "text": [
      "Processing TFRecord files:  71%|███████   | 1025/1444 [02:04<00:50,  8.30it/s]"
     ]
    },
    {
     "name": "stdout",
     "output_type": "stream",
     "text": [
      "Decoded audio embeddings shape: (None, 128)\n",
      "Decoded audio embeddings shape: (None, 128)\n"
     ]
    },
    {
     "name": "stderr",
     "output_type": "stream",
     "text": [
      "Processing TFRecord files:  71%|███████   | 1028/1444 [02:04<00:55,  7.48it/s]"
     ]
    },
    {
     "name": "stdout",
     "output_type": "stream",
     "text": [
      "Decoded audio embeddings shape: (None, 128)\n",
      "Decoded audio embeddings shape: (None, 128)\n"
     ]
    },
    {
     "name": "stderr",
     "output_type": "stream",
     "text": [
      "Processing TFRecord files:  71%|███████▏  | 1029/1444 [02:04<00:56,  7.28it/s]"
     ]
    },
    {
     "name": "stdout",
     "output_type": "stream",
     "text": [
      "Decoded audio embeddings shape: (None, 128)\n",
      "Decoded audio embeddings shape: (None, 128)\n"
     ]
    },
    {
     "name": "stderr",
     "output_type": "stream",
     "text": [
      "Processing TFRecord files:  71%|███████▏  | 1032/1444 [02:05<01:01,  6.68it/s]"
     ]
    },
    {
     "name": "stdout",
     "output_type": "stream",
     "text": [
      "Decoded audio embeddings shape: (None, 128)\n",
      "Decoded audio embeddings shape: (None, 128)\n"
     ]
    },
    {
     "name": "stderr",
     "output_type": "stream",
     "text": [
      "Processing TFRecord files:  72%|███████▏  | 1033/1444 [02:05<00:57,  7.11it/s]"
     ]
    },
    {
     "name": "stdout",
     "output_type": "stream",
     "text": [
      "Decoded audio embeddings shape: (None, 128)\n",
      "Decoded audio embeddings shape: (None, 128)\n"
     ]
    },
    {
     "name": "stderr",
     "output_type": "stream",
     "text": [
      "Processing TFRecord files:  72%|███████▏  | 1035/1444 [02:05<00:58,  6.96it/s]"
     ]
    },
    {
     "name": "stdout",
     "output_type": "stream",
     "text": [
      "Decoded audio embeddings shape: (None, 128)\n",
      "Decoded audio embeddings shape: (None, 128)\n"
     ]
    },
    {
     "name": "stderr",
     "output_type": "stream",
     "text": [
      "Processing TFRecord files:  72%|███████▏  | 1037/1444 [02:06<00:59,  6.85it/s]"
     ]
    },
    {
     "name": "stdout",
     "output_type": "stream",
     "text": [
      "Decoded audio embeddings shape: (None, 128)\n",
      "Decoded audio embeddings shape: (None, 128)\n"
     ]
    },
    {
     "name": "stderr",
     "output_type": "stream",
     "text": [
      "Processing TFRecord files:  72%|███████▏  | 1039/1444 [02:06<01:01,  6.57it/s]"
     ]
    },
    {
     "name": "stdout",
     "output_type": "stream",
     "text": [
      "Decoded audio embeddings shape: (None, 128)\n",
      "Decoded audio embeddings shape: (None, 128)\n"
     ]
    },
    {
     "name": "stderr",
     "output_type": "stream",
     "text": [
      "Processing TFRecord files:  72%|███████▏  | 1041/1444 [02:06<00:56,  7.15it/s]"
     ]
    },
    {
     "name": "stdout",
     "output_type": "stream",
     "text": [
      "Decoded audio embeddings shape: (None, 128)\n",
      "Decoded audio embeddings shape: (None, 128)\n"
     ]
    },
    {
     "name": "stderr",
     "output_type": "stream",
     "text": [
      "Processing TFRecord files:  72%|███████▏  | 1043/1444 [02:06<00:58,  6.88it/s]"
     ]
    },
    {
     "name": "stdout",
     "output_type": "stream",
     "text": [
      "Decoded audio embeddings shape: (None, 128)\n",
      "Decoded audio embeddings shape: (None, 128)\n"
     ]
    },
    {
     "name": "stderr",
     "output_type": "stream",
     "text": [
      "Processing TFRecord files:  72%|███████▏  | 1045/1444 [02:07<01:00,  6.62it/s]"
     ]
    },
    {
     "name": "stdout",
     "output_type": "stream",
     "text": [
      "Decoded audio embeddings shape: (None, 128)\n",
      "Decoded audio embeddings shape: (None, 128)\n"
     ]
    },
    {
     "name": "stderr",
     "output_type": "stream",
     "text": [
      "Processing TFRecord files:  73%|███████▎  | 1047/1444 [02:07<00:55,  7.16it/s]"
     ]
    },
    {
     "name": "stdout",
     "output_type": "stream",
     "text": [
      "Decoded audio embeddings shape: (None, 128)\n",
      "Decoded audio embeddings shape: (None, 128)\n"
     ]
    },
    {
     "name": "stderr",
     "output_type": "stream",
     "text": [
      "Processing TFRecord files:  73%|███████▎  | 1050/1444 [02:07<00:52,  7.45it/s]"
     ]
    },
    {
     "name": "stdout",
     "output_type": "stream",
     "text": [
      "Decoded audio embeddings shape: (None, 128)\n",
      "Decoded audio embeddings shape: (None, 128)\n"
     ]
    },
    {
     "name": "stderr",
     "output_type": "stream",
     "text": [
      "Processing TFRecord files:  73%|███████▎  | 1051/1444 [02:08<00:53,  7.29it/s]"
     ]
    },
    {
     "name": "stdout",
     "output_type": "stream",
     "text": [
      "Decoded audio embeddings shape: (None, 128)\n",
      "Decoded audio embeddings shape: (None, 128)\n"
     ]
    },
    {
     "name": "stderr",
     "output_type": "stream",
     "text": [
      "Processing TFRecord files:  73%|███████▎  | 1053/1444 [02:08<00:55,  7.07it/s]"
     ]
    },
    {
     "name": "stdout",
     "output_type": "stream",
     "text": [
      "Decoded audio embeddings shape: (None, 128)\n",
      "Decoded audio embeddings shape: (None, 128)\n"
     ]
    },
    {
     "name": "stderr",
     "output_type": "stream",
     "text": [
      "Processing TFRecord files:  73%|███████▎  | 1056/1444 [02:08<00:47,  8.15it/s]"
     ]
    },
    {
     "name": "stdout",
     "output_type": "stream",
     "text": [
      "Decoded audio embeddings shape: (None, 128)\n",
      "Decoded audio embeddings shape: (None, 128)\n",
      "Decoded audio embeddings shape: (None, 128)\n"
     ]
    },
    {
     "name": "stderr",
     "output_type": "stream",
     "text": [
      "Processing TFRecord files:  73%|███████▎  | 1059/1444 [02:09<00:45,  8.41it/s]"
     ]
    },
    {
     "name": "stdout",
     "output_type": "stream",
     "text": [
      "Decoded audio embeddings shape: (None, 128)\n",
      "Decoded audio embeddings shape: (None, 128)\n"
     ]
    },
    {
     "name": "stderr",
     "output_type": "stream",
     "text": [
      "Processing TFRecord files:  73%|███████▎  | 1061/1444 [02:09<00:43,  8.85it/s]"
     ]
    },
    {
     "name": "stdout",
     "output_type": "stream",
     "text": [
      "Decoded audio embeddings shape: (None, 128)\n",
      "Decoded audio embeddings shape: (None, 128)\n"
     ]
    },
    {
     "name": "stderr",
     "output_type": "stream",
     "text": [
      "Processing TFRecord files:  74%|███████▎  | 1062/1444 [02:09<00:52,  7.30it/s]"
     ]
    },
    {
     "name": "stdout",
     "output_type": "stream",
     "text": [
      "Decoded audio embeddings shape: (None, 128)\n",
      "Decoded audio embeddings shape: (None, 128)\n"
     ]
    },
    {
     "name": "stderr",
     "output_type": "stream",
     "text": [
      "Processing TFRecord files:  74%|███████▍  | 1065/1444 [02:09<00:51,  7.41it/s]"
     ]
    },
    {
     "name": "stdout",
     "output_type": "stream",
     "text": [
      "Decoded audio embeddings shape: (None, 128)\n",
      "Decoded audio embeddings shape: (None, 128)\n"
     ]
    },
    {
     "name": "stderr",
     "output_type": "stream",
     "text": [
      "Processing TFRecord files:  74%|███████▍  | 1067/1444 [02:10<00:45,  8.33it/s]"
     ]
    },
    {
     "name": "stdout",
     "output_type": "stream",
     "text": [
      "Decoded audio embeddings shape: (None, 128)\n",
      "Decoded audio embeddings shape: (None, 128)\n"
     ]
    },
    {
     "name": "stderr",
     "output_type": "stream",
     "text": [
      "Processing TFRecord files:  74%|███████▍  | 1068/1444 [02:10<00:44,  8.52it/s]"
     ]
    },
    {
     "name": "stdout",
     "output_type": "stream",
     "text": [
      "Decoded audio embeddings shape: (None, 128)\n",
      "Decoded audio embeddings shape: (None, 128)\n"
     ]
    },
    {
     "name": "stderr",
     "output_type": "stream",
     "text": [
      "Processing TFRecord files:  74%|███████▍  | 1071/1444 [02:10<00:48,  7.73it/s]"
     ]
    },
    {
     "name": "stdout",
     "output_type": "stream",
     "text": [
      "Decoded audio embeddings shape: (None, 128)\n",
      "Decoded audio embeddings shape: (None, 128)\n"
     ]
    },
    {
     "name": "stderr",
     "output_type": "stream",
     "text": [
      "Processing TFRecord files:  74%|███████▍  | 1073/1444 [02:10<00:44,  8.34it/s]"
     ]
    },
    {
     "name": "stdout",
     "output_type": "stream",
     "text": [
      "Decoded audio embeddings shape: (None, 128)\n",
      "Decoded audio embeddings shape: (None, 128)\n"
     ]
    },
    {
     "name": "stderr",
     "output_type": "stream",
     "text": [
      "Processing TFRecord files:  74%|███████▍  | 1075/1444 [02:11<00:41,  8.93it/s]"
     ]
    },
    {
     "name": "stdout",
     "output_type": "stream",
     "text": [
      "Decoded audio embeddings shape: (None, 128)\n",
      "Decoded audio embeddings shape: (None, 128)\n",
      "Decoded audio embeddings shape: (None, 128)\n"
     ]
    },
    {
     "name": "stderr",
     "output_type": "stream",
     "text": [
      "Processing TFRecord files:  75%|███████▍  | 1077/1444 [02:11<00:39,  9.25it/s]"
     ]
    },
    {
     "name": "stdout",
     "output_type": "stream",
     "text": [
      "Decoded audio embeddings shape: (None, 128)\n",
      "Decoded audio embeddings shape: (None, 128)\n",
      "Decoded audio embeddings shape: (None, 128)\n"
     ]
    },
    {
     "name": "stderr",
     "output_type": "stream",
     "text": [
      "Processing TFRecord files:  75%|███████▍  | 1081/1444 [02:11<00:40,  8.94it/s]"
     ]
    },
    {
     "name": "stdout",
     "output_type": "stream",
     "text": [
      "Decoded audio embeddings shape: (None, 128)\n",
      "Decoded audio embeddings shape: (None, 128)\n",
      "Decoded audio embeddings shape: (None, 128)\n"
     ]
    },
    {
     "name": "stderr",
     "output_type": "stream",
     "text": [
      "Processing TFRecord files:  75%|███████▌  | 1084/1444 [02:12<00:39,  9.05it/s]"
     ]
    },
    {
     "name": "stdout",
     "output_type": "stream",
     "text": [
      "Decoded audio embeddings shape: (None, 128)\n",
      "Decoded audio embeddings shape: (None, 128)\n"
     ]
    },
    {
     "name": "stderr",
     "output_type": "stream",
     "text": [
      "Processing TFRecord files:  75%|███████▌  | 1086/1444 [02:12<00:38,  9.18it/s]"
     ]
    },
    {
     "name": "stdout",
     "output_type": "stream",
     "text": [
      "Decoded audio embeddings shape: (None, 128)\n",
      "Decoded audio embeddings shape: (None, 128)\n"
     ]
    },
    {
     "name": "stderr",
     "output_type": "stream",
     "text": [
      "Processing TFRecord files:  75%|███████▌  | 1088/1444 [02:12<00:39,  8.97it/s]"
     ]
    },
    {
     "name": "stdout",
     "output_type": "stream",
     "text": [
      "Decoded audio embeddings shape: (None, 128)\n",
      "Decoded audio embeddings shape: (None, 128)\n"
     ]
    },
    {
     "name": "stderr",
     "output_type": "stream",
     "text": [
      "Processing TFRecord files:  75%|███████▌  | 1089/1444 [02:12<00:40,  8.69it/s]"
     ]
    },
    {
     "name": "stdout",
     "output_type": "stream",
     "text": [
      "Decoded audio embeddings shape: (None, 128)\n",
      "Decoded audio embeddings shape: (None, 128)\n"
     ]
    },
    {
     "name": "stderr",
     "output_type": "stream",
     "text": [
      "Processing TFRecord files:  76%|███████▌  | 1092/1444 [02:13<00:42,  8.27it/s]"
     ]
    },
    {
     "name": "stdout",
     "output_type": "stream",
     "text": [
      "Decoded audio embeddings shape: (None, 128)\n",
      "Decoded audio embeddings shape: (None, 128)\n"
     ]
    },
    {
     "name": "stderr",
     "output_type": "stream",
     "text": [
      "Processing TFRecord files:  76%|███████▌  | 1094/1444 [02:13<00:39,  8.85it/s]"
     ]
    },
    {
     "name": "stdout",
     "output_type": "stream",
     "text": [
      "Decoded audio embeddings shape: (None, 128)\n",
      "Decoded audio embeddings shape: (None, 128)\n",
      "Decoded audio embeddings shape: (None, 128)\n"
     ]
    },
    {
     "name": "stderr",
     "output_type": "stream",
     "text": [
      "Processing TFRecord files:  76%|███████▌  | 1096/1444 [02:13<00:41,  8.39it/s]"
     ]
    },
    {
     "name": "stdout",
     "output_type": "stream",
     "text": [
      "Decoded audio embeddings shape: (None, 128)\n",
      "Decoded audio embeddings shape: (None, 128)\n"
     ]
    },
    {
     "name": "stderr",
     "output_type": "stream",
     "text": [
      "Processing TFRecord files:  76%|███████▌  | 1098/1444 [02:13<00:43,  8.04it/s]"
     ]
    },
    {
     "name": "stdout",
     "output_type": "stream",
     "text": [
      "Decoded audio embeddings shape: (None, 128)\n",
      "Decoded audio embeddings shape: (None, 128)\n"
     ]
    },
    {
     "name": "stderr",
     "output_type": "stream",
     "text": [
      "Processing TFRecord files:  76%|███████▌  | 1101/1444 [02:14<00:42,  8.06it/s]"
     ]
    },
    {
     "name": "stdout",
     "output_type": "stream",
     "text": [
      "Decoded audio embeddings shape: (None, 128)\n",
      "Decoded audio embeddings shape: (None, 128)\n",
      "Decoded audio embeddings shape: (None, 128)\n"
     ]
    },
    {
     "name": "stderr",
     "output_type": "stream",
     "text": [
      "Processing TFRecord files:  76%|███████▋  | 1104/1444 [02:14<00:39,  8.61it/s]"
     ]
    },
    {
     "name": "stdout",
     "output_type": "stream",
     "text": [
      "Decoded audio embeddings shape: (None, 128)\n",
      "Decoded audio embeddings shape: (None, 128)\n"
     ]
    },
    {
     "name": "stderr",
     "output_type": "stream",
     "text": [
      "Processing TFRecord files:  77%|███████▋  | 1105/1444 [02:14<00:40,  8.28it/s]"
     ]
    },
    {
     "name": "stdout",
     "output_type": "stream",
     "text": [
      "Decoded audio embeddings shape: (None, 128)\n",
      "Decoded audio embeddings shape: (None, 128)\n"
     ]
    },
    {
     "name": "stderr",
     "output_type": "stream",
     "text": [
      "Processing TFRecord files:  77%|███████▋  | 1108/1444 [02:14<00:39,  8.52it/s]"
     ]
    },
    {
     "name": "stdout",
     "output_type": "stream",
     "text": [
      "Decoded audio embeddings shape: (None, 128)\n",
      "Decoded audio embeddings shape: (None, 128)\n",
      "Decoded audio embeddings shape: (None, 128)\n"
     ]
    },
    {
     "name": "stderr",
     "output_type": "stream",
     "text": [
      "Processing TFRecord files:  77%|███████▋  | 1111/1444 [02:15<00:35,  9.31it/s]"
     ]
    },
    {
     "name": "stdout",
     "output_type": "stream",
     "text": [
      "Decoded audio embeddings shape: (None, 128)\n",
      "Decoded audio embeddings shape: (None, 128)\n",
      "Decoded audio embeddings shape: (None, 128)\n"
     ]
    },
    {
     "name": "stderr",
     "output_type": "stream",
     "text": [
      "Processing TFRecord files:  77%|███████▋  | 1114/1444 [02:15<00:37,  8.73it/s]"
     ]
    },
    {
     "name": "stdout",
     "output_type": "stream",
     "text": [
      "Decoded audio embeddings shape: (None, 128)\n",
      "Decoded audio embeddings shape: (None, 128)\n"
     ]
    },
    {
     "name": "stderr",
     "output_type": "stream",
     "text": [
      "Processing TFRecord files:  77%|███████▋  | 1115/1444 [02:15<00:42,  7.74it/s]"
     ]
    },
    {
     "name": "stdout",
     "output_type": "stream",
     "text": [
      "Decoded audio embeddings shape: (None, 128)\n",
      "Decoded audio embeddings shape: (None, 128)\n"
     ]
    },
    {
     "name": "stderr",
     "output_type": "stream",
     "text": [
      "Processing TFRecord files:  77%|███████▋  | 1117/1444 [02:16<00:38,  8.52it/s]"
     ]
    },
    {
     "name": "stdout",
     "output_type": "stream",
     "text": [
      "Decoded audio embeddings shape: (None, 128)\n",
      "Decoded audio embeddings shape: (None, 128)\n",
      "Decoded audio embeddings shape: (None, 128)\n"
     ]
    },
    {
     "name": "stderr",
     "output_type": "stream",
     "text": [
      "Processing TFRecord files:  78%|███████▊  | 1120/1444 [02:16<00:34,  9.32it/s]"
     ]
    },
    {
     "name": "stdout",
     "output_type": "stream",
     "text": [
      "Decoded audio embeddings shape: (None, 128)\n",
      "Decoded audio embeddings shape: (None, 128)\n",
      "Decoded audio embeddings shape: (None, 128)\n"
     ]
    },
    {
     "name": "stderr",
     "output_type": "stream",
     "text": [
      "Processing TFRecord files:  78%|███████▊  | 1124/1444 [02:16<00:33,  9.57it/s]"
     ]
    },
    {
     "name": "stdout",
     "output_type": "stream",
     "text": [
      "Decoded audio embeddings shape: (None, 128)\n",
      "Decoded audio embeddings shape: (None, 128)\n",
      "Decoded audio embeddings shape: (None, 128)\n"
     ]
    },
    {
     "name": "stderr",
     "output_type": "stream",
     "text": [
      "Processing TFRecord files:  78%|███████▊  | 1127/1444 [02:17<00:33,  9.35it/s]"
     ]
    },
    {
     "name": "stdout",
     "output_type": "stream",
     "text": [
      "Decoded audio embeddings shape: (None, 128)\n",
      "Decoded audio embeddings shape: (None, 128)\n"
     ]
    },
    {
     "name": "stderr",
     "output_type": "stream",
     "text": [
      "Processing TFRecord files:  78%|███████▊  | 1128/1444 [02:17<00:35,  8.92it/s]"
     ]
    },
    {
     "name": "stdout",
     "output_type": "stream",
     "text": [
      "Decoded audio embeddings shape: (None, 128)\n",
      "Decoded audio embeddings shape: (None, 128)\n"
     ]
    },
    {
     "name": "stderr",
     "output_type": "stream",
     "text": [
      "Processing TFRecord files:  78%|███████▊  | 1130/1444 [02:17<00:43,  7.15it/s]"
     ]
    },
    {
     "name": "stdout",
     "output_type": "stream",
     "text": [
      "Decoded audio embeddings shape: (None, 128)\n",
      "Decoded audio embeddings shape: (None, 128)\n"
     ]
    },
    {
     "name": "stderr",
     "output_type": "stream",
     "text": [
      "Processing TFRecord files:  78%|███████▊  | 1132/1444 [02:17<00:45,  6.88it/s]"
     ]
    },
    {
     "name": "stdout",
     "output_type": "stream",
     "text": [
      "Decoded audio embeddings shape: (None, 128)\n",
      "Decoded audio embeddings shape: (None, 128)\n"
     ]
    },
    {
     "name": "stderr",
     "output_type": "stream",
     "text": [
      "Processing TFRecord files:  79%|███████▊  | 1135/1444 [02:18<00:39,  7.80it/s]"
     ]
    },
    {
     "name": "stdout",
     "output_type": "stream",
     "text": [
      "Decoded audio embeddings shape: (None, 128)\n",
      "Decoded audio embeddings shape: (None, 128)\n"
     ]
    },
    {
     "name": "stderr",
     "output_type": "stream",
     "text": [
      "Processing TFRecord files:  79%|███████▊  | 1137/1444 [02:18<00:37,  8.08it/s]"
     ]
    },
    {
     "name": "stdout",
     "output_type": "stream",
     "text": [
      "Decoded audio embeddings shape: (None, 128)\n",
      "Decoded audio embeddings shape: (None, 128)\n",
      "Decoded audio embeddings shape: (None, 128)\n"
     ]
    },
    {
     "name": "stderr",
     "output_type": "stream",
     "text": [
      "Processing TFRecord files:  79%|███████▉  | 1140/1444 [02:18<00:34,  8.73it/s]"
     ]
    },
    {
     "name": "stdout",
     "output_type": "stream",
     "text": [
      "Decoded audio embeddings shape: (None, 128)\n",
      "Decoded audio embeddings shape: (None, 128)\n"
     ]
    },
    {
     "name": "stderr",
     "output_type": "stream",
     "text": [
      "Processing TFRecord files:  79%|███████▉  | 1141/1444 [02:18<00:40,  7.52it/s]"
     ]
    },
    {
     "name": "stdout",
     "output_type": "stream",
     "text": [
      "Decoded audio embeddings shape: (None, 128)\n",
      "Decoded audio embeddings shape: (None, 128)\n"
     ]
    },
    {
     "name": "stderr",
     "output_type": "stream",
     "text": [
      "Processing TFRecord files:  79%|███████▉  | 1144/1444 [02:19<00:39,  7.65it/s]"
     ]
    },
    {
     "name": "stdout",
     "output_type": "stream",
     "text": [
      "Decoded audio embeddings shape: (None, 128)\n",
      "Decoded audio embeddings shape: (None, 128)\n"
     ]
    },
    {
     "name": "stderr",
     "output_type": "stream",
     "text": [
      "Processing TFRecord files:  79%|███████▉  | 1145/1444 [02:19<00:36,  8.11it/s]"
     ]
    },
    {
     "name": "stdout",
     "output_type": "stream",
     "text": [
      "Decoded audio embeddings shape: (None, 128)\n",
      "Decoded audio embeddings shape: (None, 128)\n"
     ]
    },
    {
     "name": "stderr",
     "output_type": "stream",
     "text": [
      "Processing TFRecord files:  79%|███████▉  | 1147/1444 [02:19<00:43,  6.86it/s]"
     ]
    },
    {
     "name": "stdout",
     "output_type": "stream",
     "text": [
      "Decoded audio embeddings shape: (None, 128)\n",
      "Decoded audio embeddings shape: (None, 128)\n"
     ]
    },
    {
     "name": "stderr",
     "output_type": "stream",
     "text": [
      "Processing TFRecord files:  80%|███████▉  | 1150/1444 [02:20<00:40,  7.23it/s]"
     ]
    },
    {
     "name": "stdout",
     "output_type": "stream",
     "text": [
      "Decoded audio embeddings shape: (None, 128)\n",
      "Decoded audio embeddings shape: (None, 128)\n"
     ]
    },
    {
     "name": "stderr",
     "output_type": "stream",
     "text": [
      "Processing TFRecord files:  80%|███████▉  | 1151/1444 [02:20<00:39,  7.48it/s]"
     ]
    },
    {
     "name": "stdout",
     "output_type": "stream",
     "text": [
      "Decoded audio embeddings shape: (None, 128)\n",
      "Decoded audio embeddings shape: (None, 128)\n"
     ]
    },
    {
     "name": "stderr",
     "output_type": "stream",
     "text": [
      "Processing TFRecord files:  80%|███████▉  | 1154/1444 [02:20<00:44,  6.58it/s]"
     ]
    },
    {
     "name": "stdout",
     "output_type": "stream",
     "text": [
      "Decoded audio embeddings shape: (None, 128)\n",
      "Decoded audio embeddings shape: (None, 128)\n"
     ]
    },
    {
     "name": "stderr",
     "output_type": "stream",
     "text": [
      "Processing TFRecord files:  80%|███████▉  | 1155/1444 [02:20<00:40,  7.14it/s]"
     ]
    },
    {
     "name": "stdout",
     "output_type": "stream",
     "text": [
      "Decoded audio embeddings shape: (None, 128)\n",
      "Decoded audio embeddings shape: (None, 128)\n",
      "Decoded audio embeddings shape: (None, 128)\n"
     ]
    },
    {
     "name": "stderr",
     "output_type": "stream",
     "text": [
      "Processing TFRecord files:  80%|████████  | 1158/1444 [02:21<00:33,  8.51it/s]"
     ]
    },
    {
     "name": "stdout",
     "output_type": "stream",
     "text": [
      "Decoded audio embeddings shape: (None, 128)\n",
      "Decoded audio embeddings shape: (None, 128)\n"
     ]
    },
    {
     "name": "stderr",
     "output_type": "stream",
     "text": [
      "Processing TFRecord files:  80%|████████  | 1160/1444 [02:21<00:36,  7.86it/s]"
     ]
    },
    {
     "name": "stdout",
     "output_type": "stream",
     "text": [
      "Decoded audio embeddings shape: (None, 128)\n",
      "Decoded audio embeddings shape: (None, 128)\n",
      "Decoded audio embeddings shape: (None, 128)\n"
     ]
    },
    {
     "name": "stderr",
     "output_type": "stream",
     "text": [
      "Processing TFRecord files:  81%|████████  | 1163/1444 [02:21<00:31,  8.87it/s]"
     ]
    },
    {
     "name": "stdout",
     "output_type": "stream",
     "text": [
      "Decoded audio embeddings shape: (None, 128)\n",
      "Decoded audio embeddings shape: (None, 128)\n"
     ]
    },
    {
     "name": "stderr",
     "output_type": "stream",
     "text": [
      "Processing TFRecord files:  81%|████████  | 1165/1444 [02:22<00:32,  8.47it/s]"
     ]
    },
    {
     "name": "stdout",
     "output_type": "stream",
     "text": [
      "Decoded audio embeddings shape: (None, 128)\n",
      "Decoded audio embeddings shape: (None, 128)\n",
      "Decoded audio embeddings shape: (None, 128)\n"
     ]
    },
    {
     "name": "stderr",
     "output_type": "stream",
     "text": [
      "Processing TFRecord files:  81%|████████  | 1168/1444 [02:22<00:37,  7.39it/s]"
     ]
    },
    {
     "name": "stdout",
     "output_type": "stream",
     "text": [
      "Decoded audio embeddings shape: (None, 128)\n",
      "Decoded audio embeddings shape: (None, 128)\n"
     ]
    },
    {
     "name": "stderr",
     "output_type": "stream",
     "text": [
      "Processing TFRecord files:  81%|████████  | 1170/1444 [02:22<00:42,  6.49it/s]"
     ]
    },
    {
     "name": "stdout",
     "output_type": "stream",
     "text": [
      "Decoded audio embeddings shape: (None, 128)\n",
      "Decoded audio embeddings shape: (None, 128)\n"
     ]
    },
    {
     "name": "stderr",
     "output_type": "stream",
     "text": [
      "Processing TFRecord files:  81%|████████  | 1172/1444 [02:23<00:41,  6.55it/s]"
     ]
    },
    {
     "name": "stdout",
     "output_type": "stream",
     "text": [
      "Decoded audio embeddings shape: (None, 128)\n",
      "Decoded audio embeddings shape: (None, 128)\n"
     ]
    },
    {
     "name": "stderr",
     "output_type": "stream",
     "text": [
      "Processing TFRecord files:  81%|████████▏ | 1174/1444 [02:23<00:45,  5.91it/s]"
     ]
    },
    {
     "name": "stdout",
     "output_type": "stream",
     "text": [
      "Decoded audio embeddings shape: (None, 128)\n",
      "Decoded audio embeddings shape: (None, 128)\n"
     ]
    },
    {
     "name": "stderr",
     "output_type": "stream",
     "text": [
      "Processing TFRecord files:  82%|████████▏ | 1177/1444 [02:23<00:35,  7.43it/s]"
     ]
    },
    {
     "name": "stdout",
     "output_type": "stream",
     "text": [
      "Decoded audio embeddings shape: (None, 128)\n",
      "Decoded audio embeddings shape: (None, 128)\n"
     ]
    },
    {
     "name": "stderr",
     "output_type": "stream",
     "text": [
      "Processing TFRecord files:  82%|████████▏ | 1178/1444 [02:24<00:39,  6.69it/s]"
     ]
    },
    {
     "name": "stdout",
     "output_type": "stream",
     "text": [
      "Decoded audio embeddings shape: (None, 128)\n",
      "Decoded audio embeddings shape: (None, 128)\n"
     ]
    },
    {
     "name": "stderr",
     "output_type": "stream",
     "text": [
      "Processing TFRecord files:  82%|████████▏ | 1180/1444 [02:24<00:43,  6.01it/s]"
     ]
    },
    {
     "name": "stdout",
     "output_type": "stream",
     "text": [
      "Decoded audio embeddings shape: (None, 128)\n"
     ]
    },
    {
     "name": "stderr",
     "output_type": "stream",
     "text": [
      "Processing TFRecord files:  82%|████████▏ | 1181/1444 [02:24<00:46,  5.67it/s]"
     ]
    },
    {
     "name": "stdout",
     "output_type": "stream",
     "text": [
      "Decoded audio embeddings shape: (None, 128)\n",
      "Decoded audio embeddings shape: (None, 128)\n"
     ]
    },
    {
     "name": "stderr",
     "output_type": "stream",
     "text": [
      "Processing TFRecord files:  82%|████████▏ | 1183/1444 [02:24<00:40,  6.46it/s]"
     ]
    },
    {
     "name": "stdout",
     "output_type": "stream",
     "text": [
      "Decoded audio embeddings shape: (None, 128)\n",
      "Decoded audio embeddings shape: (None, 128)\n"
     ]
    },
    {
     "name": "stderr",
     "output_type": "stream",
     "text": [
      "Processing TFRecord files:  82%|████████▏ | 1185/1444 [02:25<00:44,  5.86it/s]"
     ]
    },
    {
     "name": "stdout",
     "output_type": "stream",
     "text": [
      "Decoded audio embeddings shape: (None, 128)\n",
      "Decoded audio embeddings shape: (None, 128)\n"
     ]
    },
    {
     "name": "stderr",
     "output_type": "stream",
     "text": [
      "Processing TFRecord files:  82%|████████▏ | 1188/1444 [02:25<00:35,  7.26it/s]"
     ]
    },
    {
     "name": "stdout",
     "output_type": "stream",
     "text": [
      "Decoded audio embeddings shape: (None, 128)\n",
      "Decoded audio embeddings shape: (None, 128)\n"
     ]
    },
    {
     "name": "stderr",
     "output_type": "stream",
     "text": [
      "Processing TFRecord files:  82%|████████▏ | 1190/1444 [02:25<00:31,  7.99it/s]"
     ]
    },
    {
     "name": "stdout",
     "output_type": "stream",
     "text": [
      "Decoded audio embeddings shape: (None, 128)\n",
      "Decoded audio embeddings shape: (None, 128)\n"
     ]
    },
    {
     "name": "stderr",
     "output_type": "stream",
     "text": [
      "Processing TFRecord files:  83%|████████▎ | 1192/1444 [02:26<00:30,  8.38it/s]"
     ]
    },
    {
     "name": "stdout",
     "output_type": "stream",
     "text": [
      "Decoded audio embeddings shape: (None, 128)\n",
      "Decoded audio embeddings shape: (None, 128)\n"
     ]
    },
    {
     "name": "stderr",
     "output_type": "stream",
     "text": [
      "Processing TFRecord files:  83%|████████▎ | 1193/1444 [02:26<00:31,  7.88it/s]"
     ]
    },
    {
     "name": "stdout",
     "output_type": "stream",
     "text": [
      "Decoded audio embeddings shape: (None, 128)\n",
      "Decoded audio embeddings shape: (None, 128)\n"
     ]
    },
    {
     "name": "stderr",
     "output_type": "stream",
     "text": [
      "Processing TFRecord files:  83%|████████▎ | 1195/1444 [02:26<00:35,  7.10it/s]"
     ]
    },
    {
     "name": "stdout",
     "output_type": "stream",
     "text": [
      "Decoded audio embeddings shape: (None, 128)\n",
      "Decoded audio embeddings shape: (None, 128)\n"
     ]
    },
    {
     "name": "stderr",
     "output_type": "stream",
     "text": [
      "Processing TFRecord files:  83%|████████▎ | 1197/1444 [02:26<00:34,  7.21it/s]"
     ]
    },
    {
     "name": "stdout",
     "output_type": "stream",
     "text": [
      "Decoded audio embeddings shape: (None, 128)\n",
      "Decoded audio embeddings shape: (None, 128)\n"
     ]
    },
    {
     "name": "stderr",
     "output_type": "stream",
     "text": [
      "Processing TFRecord files:  83%|████████▎ | 1199/1444 [02:27<00:37,  6.47it/s]"
     ]
    },
    {
     "name": "stdout",
     "output_type": "stream",
     "text": [
      "Decoded audio embeddings shape: (None, 128)\n",
      "Decoded audio embeddings shape: (None, 128)\n"
     ]
    },
    {
     "name": "stderr",
     "output_type": "stream",
     "text": [
      "Processing TFRecord files:  83%|████████▎ | 1201/1444 [02:27<00:40,  6.07it/s]"
     ]
    },
    {
     "name": "stdout",
     "output_type": "stream",
     "text": [
      "Decoded audio embeddings shape: (None, 128)\n",
      "Decoded audio embeddings shape: (None, 128)\n"
     ]
    },
    {
     "name": "stderr",
     "output_type": "stream",
     "text": [
      "Processing TFRecord files:  83%|████████▎ | 1203/1444 [02:27<00:46,  5.17it/s]"
     ]
    },
    {
     "name": "stdout",
     "output_type": "stream",
     "text": [
      "Decoded audio embeddings shape: (None, 128)\n",
      "Decoded audio embeddings shape: (None, 128)\n"
     ]
    },
    {
     "name": "stderr",
     "output_type": "stream",
     "text": [
      "Processing TFRecord files:  83%|████████▎ | 1205/1444 [02:28<00:43,  5.55it/s]"
     ]
    },
    {
     "name": "stdout",
     "output_type": "stream",
     "text": [
      "Decoded audio embeddings shape: (None, 128)\n",
      "Decoded audio embeddings shape: (None, 128)\n"
     ]
    },
    {
     "name": "stderr",
     "output_type": "stream",
     "text": [
      "Processing TFRecord files:  84%|████████▎ | 1207/1444 [02:28<00:40,  5.79it/s]"
     ]
    },
    {
     "name": "stdout",
     "output_type": "stream",
     "text": [
      "Decoded audio embeddings shape: (None, 128)\n",
      "Decoded audio embeddings shape: (None, 128)\n"
     ]
    },
    {
     "name": "stderr",
     "output_type": "stream",
     "text": [
      "Processing TFRecord files:  84%|████████▍ | 1210/1444 [02:29<00:32,  7.15it/s]"
     ]
    },
    {
     "name": "stdout",
     "output_type": "stream",
     "text": [
      "Decoded audio embeddings shape: (None, 128)\n",
      "Decoded audio embeddings shape: (None, 128)\n"
     ]
    },
    {
     "name": "stderr",
     "output_type": "stream",
     "text": [
      "Processing TFRecord files:  84%|████████▍ | 1212/1444 [02:29<00:30,  7.63it/s]"
     ]
    },
    {
     "name": "stdout",
     "output_type": "stream",
     "text": [
      "Decoded audio embeddings shape: (None, 128)\n",
      "Decoded audio embeddings shape: (None, 128)\n"
     ]
    },
    {
     "name": "stderr",
     "output_type": "stream",
     "text": [
      "Processing TFRecord files:  84%|████████▍ | 1213/1444 [02:29<00:30,  7.52it/s]"
     ]
    },
    {
     "name": "stdout",
     "output_type": "stream",
     "text": [
      "Decoded audio embeddings shape: (None, 128)\n",
      "Decoded audio embeddings shape: (None, 128)\n"
     ]
    },
    {
     "name": "stderr",
     "output_type": "stream",
     "text": [
      "Processing TFRecord files:  84%|████████▍ | 1216/1444 [02:29<00:31,  7.25it/s]"
     ]
    },
    {
     "name": "stdout",
     "output_type": "stream",
     "text": [
      "Decoded audio embeddings shape: (None, 128)\n",
      "Decoded audio embeddings shape: (None, 128)\n"
     ]
    },
    {
     "name": "stderr",
     "output_type": "stream",
     "text": [
      "Processing TFRecord files:  84%|████████▍ | 1217/1444 [02:29<00:29,  7.57it/s]"
     ]
    },
    {
     "name": "stdout",
     "output_type": "stream",
     "text": [
      "Decoded audio embeddings shape: (None, 128)\n",
      "Decoded audio embeddings shape: (None, 128)\n"
     ]
    },
    {
     "name": "stderr",
     "output_type": "stream",
     "text": [
      "Processing TFRecord files:  84%|████████▍ | 1220/1444 [02:30<00:28,  7.85it/s]"
     ]
    },
    {
     "name": "stdout",
     "output_type": "stream",
     "text": [
      "Decoded audio embeddings shape: (None, 128)\n",
      "Decoded audio embeddings shape: (None, 128)\n"
     ]
    },
    {
     "name": "stderr",
     "output_type": "stream",
     "text": [
      "Processing TFRecord files:  85%|████████▍ | 1222/1444 [02:30<00:27,  8.02it/s]"
     ]
    },
    {
     "name": "stdout",
     "output_type": "stream",
     "text": [
      "Decoded audio embeddings shape: (None, 128)\n",
      "Decoded audio embeddings shape: (None, 128)\n"
     ]
    },
    {
     "name": "stderr",
     "output_type": "stream",
     "text": [
      "Processing TFRecord files:  85%|████████▍ | 1224/1444 [02:30<00:25,  8.51it/s]"
     ]
    },
    {
     "name": "stdout",
     "output_type": "stream",
     "text": [
      "Decoded audio embeddings shape: (None, 128)\n",
      "Decoded audio embeddings shape: (None, 128)\n"
     ]
    },
    {
     "name": "stderr",
     "output_type": "stream",
     "text": [
      "Processing TFRecord files:  85%|████████▍ | 1225/1444 [02:30<00:25,  8.45it/s]"
     ]
    },
    {
     "name": "stdout",
     "output_type": "stream",
     "text": [
      "Decoded audio embeddings shape: (None, 128)\n",
      "Decoded audio embeddings shape: (None, 128)\n"
     ]
    },
    {
     "name": "stderr",
     "output_type": "stream",
     "text": [
      "Processing TFRecord files:  85%|████████▍ | 1227/1444 [02:31<00:33,  6.44it/s]"
     ]
    },
    {
     "name": "stdout",
     "output_type": "stream",
     "text": [
      "Decoded audio embeddings shape: (None, 128)\n",
      "Decoded audio embeddings shape: (None, 128)\n"
     ]
    },
    {
     "name": "stderr",
     "output_type": "stream",
     "text": [
      "Processing TFRecord files:  85%|████████▌ | 1229/1444 [02:31<00:31,  6.73it/s]"
     ]
    },
    {
     "name": "stdout",
     "output_type": "stream",
     "text": [
      "Decoded audio embeddings shape: (None, 128)\n",
      "Decoded audio embeddings shape: (None, 128)\n"
     ]
    },
    {
     "name": "stderr",
     "output_type": "stream",
     "text": [
      "Processing TFRecord files:  85%|████████▌ | 1231/1444 [02:31<00:29,  7.18it/s]"
     ]
    },
    {
     "name": "stdout",
     "output_type": "stream",
     "text": [
      "Decoded audio embeddings shape: (None, 128)\n",
      "Decoded audio embeddings shape: (None, 128)\n"
     ]
    },
    {
     "name": "stderr",
     "output_type": "stream",
     "text": [
      "Processing TFRecord files:  85%|████████▌ | 1233/1444 [02:32<00:33,  6.35it/s]"
     ]
    },
    {
     "name": "stdout",
     "output_type": "stream",
     "text": [
      "Decoded audio embeddings shape: (None, 128)\n",
      "Decoded audio embeddings shape: (None, 128)\n"
     ]
    },
    {
     "name": "stderr",
     "output_type": "stream",
     "text": [
      "Processing TFRecord files:  86%|████████▌ | 1235/1444 [02:32<00:39,  5.33it/s]"
     ]
    },
    {
     "name": "stdout",
     "output_type": "stream",
     "text": [
      "Decoded audio embeddings shape: (None, 128)\n",
      "Decoded audio embeddings shape: (None, 128)\n"
     ]
    },
    {
     "name": "stderr",
     "output_type": "stream",
     "text": [
      "Processing TFRecord files:  86%|████████▌ | 1237/1444 [02:32<00:32,  6.44it/s]"
     ]
    },
    {
     "name": "stdout",
     "output_type": "stream",
     "text": [
      "Decoded audio embeddings shape: (None, 128)\n",
      "Decoded audio embeddings shape: (None, 128)\n"
     ]
    },
    {
     "name": "stderr",
     "output_type": "stream",
     "text": [
      "Processing TFRecord files:  86%|████████▌ | 1240/1444 [02:33<00:25,  8.12it/s]"
     ]
    },
    {
     "name": "stdout",
     "output_type": "stream",
     "text": [
      "Decoded audio embeddings shape: (None, 128)\n",
      "Decoded audio embeddings shape: (None, 128)\n",
      "Decoded audio embeddings shape: (None, 128)\n"
     ]
    },
    {
     "name": "stderr",
     "output_type": "stream",
     "text": [
      "Processing TFRecord files:  86%|████████▌ | 1243/1444 [02:33<00:22,  8.99it/s]"
     ]
    },
    {
     "name": "stdout",
     "output_type": "stream",
     "text": [
      "Decoded audio embeddings shape: (None, 128)\n",
      "Decoded audio embeddings shape: (None, 128)\n",
      "Decoded audio embeddings shape: (None, 128)\n"
     ]
    },
    {
     "name": "stderr",
     "output_type": "stream",
     "text": [
      "Processing TFRecord files:  86%|████████▋ | 1246/1444 [02:33<00:20,  9.82it/s]"
     ]
    },
    {
     "name": "stdout",
     "output_type": "stream",
     "text": [
      "Decoded audio embeddings shape: (None, 128)\n",
      "Decoded audio embeddings shape: (None, 128)\n",
      "Decoded audio embeddings shape: (None, 128)\n"
     ]
    },
    {
     "name": "stderr",
     "output_type": "stream",
     "text": [
      "Processing TFRecord files:  86%|████████▋ | 1249/1444 [02:34<00:19,  9.94it/s]"
     ]
    },
    {
     "name": "stdout",
     "output_type": "stream",
     "text": [
      "Decoded audio embeddings shape: (None, 128)\n",
      "Decoded audio embeddings shape: (None, 128)\n",
      "Decoded audio embeddings shape: (None, 128)\n"
     ]
    },
    {
     "name": "stderr",
     "output_type": "stream",
     "text": [
      "Processing TFRecord files:  87%|████████▋ | 1251/1444 [02:34<00:25,  7.57it/s]"
     ]
    },
    {
     "name": "stdout",
     "output_type": "stream",
     "text": [
      "Decoded audio embeddings shape: (None, 128)\n",
      "Decoded audio embeddings shape: (None, 128)\n"
     ]
    },
    {
     "name": "stderr",
     "output_type": "stream",
     "text": [
      "Processing TFRecord files:  87%|████████▋ | 1253/1444 [02:34<00:27,  6.99it/s]"
     ]
    },
    {
     "name": "stdout",
     "output_type": "stream",
     "text": [
      "Decoded audio embeddings shape: (None, 128)\n",
      "Decoded audio embeddings shape: (None, 128)\n"
     ]
    },
    {
     "name": "stderr",
     "output_type": "stream",
     "text": [
      "Processing TFRecord files:  87%|████████▋ | 1256/1444 [02:35<00:24,  7.63it/s]"
     ]
    },
    {
     "name": "stdout",
     "output_type": "stream",
     "text": [
      "Decoded audio embeddings shape: (None, 128)\n",
      "Decoded audio embeddings shape: (None, 128)\n"
     ]
    },
    {
     "name": "stderr",
     "output_type": "stream",
     "text": [
      "Processing TFRecord files:  87%|████████▋ | 1258/1444 [02:35<00:23,  7.83it/s]"
     ]
    },
    {
     "name": "stdout",
     "output_type": "stream",
     "text": [
      "Decoded audio embeddings shape: (None, 128)\n",
      "Decoded audio embeddings shape: (None, 128)\n"
     ]
    },
    {
     "name": "stderr",
     "output_type": "stream",
     "text": [
      "Processing TFRecord files:  87%|████████▋ | 1260/1444 [02:35<00:23,  8.00it/s]"
     ]
    },
    {
     "name": "stdout",
     "output_type": "stream",
     "text": [
      "Decoded audio embeddings shape: (None, 128)\n",
      "Decoded audio embeddings shape: (None, 128)\n"
     ]
    },
    {
     "name": "stderr",
     "output_type": "stream",
     "text": [
      "Processing TFRecord files:  87%|████████▋ | 1261/1444 [02:35<00:22,  8.13it/s]"
     ]
    },
    {
     "name": "stdout",
     "output_type": "stream",
     "text": [
      "Decoded audio embeddings shape: (None, 128)\n",
      "Decoded audio embeddings shape: (None, 128)\n"
     ]
    },
    {
     "name": "stderr",
     "output_type": "stream",
     "text": [
      "Processing TFRecord files:  88%|████████▊ | 1264/1444 [02:36<00:20,  8.62it/s]"
     ]
    },
    {
     "name": "stdout",
     "output_type": "stream",
     "text": [
      "Decoded audio embeddings shape: (None, 128)\n",
      "Decoded audio embeddings shape: (None, 128)\n",
      "Decoded audio embeddings shape: (None, 128)\n"
     ]
    },
    {
     "name": "stderr",
     "output_type": "stream",
     "text": [
      "Processing TFRecord files:  88%|████████▊ | 1267/1444 [02:36<00:23,  7.66it/s]"
     ]
    },
    {
     "name": "stdout",
     "output_type": "stream",
     "text": [
      "Decoded audio embeddings shape: (None, 128)\n",
      "Decoded audio embeddings shape: (None, 128)\n"
     ]
    },
    {
     "name": "stderr",
     "output_type": "stream",
     "text": [
      "Processing TFRecord files:  88%|████████▊ | 1269/1444 [02:36<00:21,  8.32it/s]"
     ]
    },
    {
     "name": "stdout",
     "output_type": "stream",
     "text": [
      "Decoded audio embeddings shape: (None, 128)\n",
      "Decoded audio embeddings shape: (None, 128)\n"
     ]
    },
    {
     "name": "stderr",
     "output_type": "stream",
     "text": [
      "Processing TFRecord files:  88%|████████▊ | 1270/1444 [02:36<00:23,  7.41it/s]"
     ]
    },
    {
     "name": "stdout",
     "output_type": "stream",
     "text": [
      "Decoded audio embeddings shape: (None, 128)\n",
      "Decoded audio embeddings shape: (None, 128)\n"
     ]
    },
    {
     "name": "stderr",
     "output_type": "stream",
     "text": [
      "Processing TFRecord files:  88%|████████▊ | 1273/1444 [02:37<00:21,  7.85it/s]"
     ]
    },
    {
     "name": "stdout",
     "output_type": "stream",
     "text": [
      "Decoded audio embeddings shape: (None, 128)\n",
      "Decoded audio embeddings shape: (None, 128)\n"
     ]
    },
    {
     "name": "stderr",
     "output_type": "stream",
     "text": [
      "Processing TFRecord files:  88%|████████▊ | 1275/1444 [02:37<00:20,  8.06it/s]"
     ]
    },
    {
     "name": "stdout",
     "output_type": "stream",
     "text": [
      "Decoded audio embeddings shape: (None, 128)\n",
      "Decoded audio embeddings shape: (None, 128)\n"
     ]
    },
    {
     "name": "stderr",
     "output_type": "stream",
     "text": [
      "Processing TFRecord files:  88%|████████▊ | 1276/1444 [02:37<00:20,  8.02it/s]"
     ]
    },
    {
     "name": "stdout",
     "output_type": "stream",
     "text": [
      "Decoded audio embeddings shape: (None, 128)\n",
      "Decoded audio embeddings shape: (None, 128)\n"
     ]
    },
    {
     "name": "stderr",
     "output_type": "stream",
     "text": [
      "Processing TFRecord files:  89%|████████▊ | 1278/1444 [02:38<00:29,  5.64it/s]"
     ]
    },
    {
     "name": "stdout",
     "output_type": "stream",
     "text": [
      "Decoded audio embeddings shape: (None, 128)\n"
     ]
    },
    {
     "name": "stderr",
     "output_type": "stream",
     "text": [
      "Processing TFRecord files:  89%|████████▊ | 1279/1444 [02:38<00:28,  5.77it/s]"
     ]
    },
    {
     "name": "stdout",
     "output_type": "stream",
     "text": [
      "Decoded audio embeddings shape: (None, 128)\n",
      "Decoded audio embeddings shape: (None, 128)\n"
     ]
    },
    {
     "name": "stderr",
     "output_type": "stream",
     "text": [
      "Processing TFRecord files:  89%|████████▉ | 1282/1444 [02:38<00:23,  6.83it/s]"
     ]
    },
    {
     "name": "stdout",
     "output_type": "stream",
     "text": [
      "Decoded audio embeddings shape: (None, 128)\n",
      "Decoded audio embeddings shape: (None, 128)\n"
     ]
    },
    {
     "name": "stderr",
     "output_type": "stream",
     "text": [
      "Processing TFRecord files:  89%|████████▉ | 1284/1444 [02:38<00:20,  7.64it/s]"
     ]
    },
    {
     "name": "stdout",
     "output_type": "stream",
     "text": [
      "Decoded audio embeddings shape: (None, 128)\n",
      "Decoded audio embeddings shape: (None, 128)\n"
     ]
    },
    {
     "name": "stderr",
     "output_type": "stream",
     "text": [
      "Processing TFRecord files:  89%|████████▉ | 1285/1444 [02:39<00:23,  6.90it/s]"
     ]
    },
    {
     "name": "stdout",
     "output_type": "stream",
     "text": [
      "Decoded audio embeddings shape: (None, 128)\n",
      "Decoded audio embeddings shape: (None, 128)\n"
     ]
    },
    {
     "name": "stderr",
     "output_type": "stream",
     "text": [
      "Processing TFRecord files:  89%|████████▉ | 1287/1444 [02:39<00:23,  6.60it/s]"
     ]
    },
    {
     "name": "stdout",
     "output_type": "stream",
     "text": [
      "Decoded audio embeddings shape: (None, 128)\n",
      "Decoded audio embeddings shape: (None, 128)\n"
     ]
    },
    {
     "name": "stderr",
     "output_type": "stream",
     "text": [
      "Processing TFRecord files:  89%|████████▉ | 1289/1444 [02:39<00:24,  6.36it/s]"
     ]
    },
    {
     "name": "stdout",
     "output_type": "stream",
     "text": [
      "Decoded audio embeddings shape: (None, 128)\n",
      "Decoded audio embeddings shape: (None, 128)\n"
     ]
    },
    {
     "name": "stderr",
     "output_type": "stream",
     "text": [
      "Processing TFRecord files:  89%|████████▉ | 1291/1444 [02:40<00:24,  6.19it/s]"
     ]
    },
    {
     "name": "stdout",
     "output_type": "stream",
     "text": [
      "Decoded audio embeddings shape: (None, 128)\n",
      "Decoded audio embeddings shape: (None, 128)\n"
     ]
    },
    {
     "name": "stderr",
     "output_type": "stream",
     "text": [
      "Processing TFRecord files:  90%|████████▉ | 1293/1444 [02:40<00:23,  6.36it/s]"
     ]
    },
    {
     "name": "stdout",
     "output_type": "stream",
     "text": [
      "Decoded audio embeddings shape: (None, 128)\n",
      "Decoded audio embeddings shape: (None, 128)\n"
     ]
    },
    {
     "name": "stderr",
     "output_type": "stream",
     "text": [
      "Processing TFRecord files:  90%|████████▉ | 1296/1444 [02:40<00:21,  6.93it/s]"
     ]
    },
    {
     "name": "stdout",
     "output_type": "stream",
     "text": [
      "Decoded audio embeddings shape: (None, 128)\n",
      "Decoded audio embeddings shape: (None, 128)\n"
     ]
    },
    {
     "name": "stderr",
     "output_type": "stream",
     "text": [
      "Processing TFRecord files:  90%|████████▉ | 1298/1444 [02:41<00:19,  7.68it/s]"
     ]
    },
    {
     "name": "stdout",
     "output_type": "stream",
     "text": [
      "Decoded audio embeddings shape: (None, 128)\n",
      "Decoded audio embeddings shape: (None, 128)\n"
     ]
    },
    {
     "name": "stderr",
     "output_type": "stream",
     "text": [
      "Processing TFRecord files:  90%|█████████ | 1300/1444 [02:41<00:18,  7.91it/s]"
     ]
    },
    {
     "name": "stdout",
     "output_type": "stream",
     "text": [
      "Decoded audio embeddings shape: (None, 128)\n",
      "Decoded audio embeddings shape: (None, 128)\n"
     ]
    },
    {
     "name": "stderr",
     "output_type": "stream",
     "text": [
      "Processing TFRecord files:  90%|█████████ | 1302/1444 [02:41<00:17,  8.04it/s]"
     ]
    },
    {
     "name": "stdout",
     "output_type": "stream",
     "text": [
      "Decoded audio embeddings shape: (None, 128)\n",
      "Decoded audio embeddings shape: (None, 128)\n"
     ]
    },
    {
     "name": "stderr",
     "output_type": "stream",
     "text": [
      "Processing TFRecord files:  90%|█████████ | 1304/1444 [02:41<00:16,  8.45it/s]"
     ]
    },
    {
     "name": "stdout",
     "output_type": "stream",
     "text": [
      "Decoded audio embeddings shape: (None, 128)\n",
      "Decoded audio embeddings shape: (None, 128)\n"
     ]
    },
    {
     "name": "stderr",
     "output_type": "stream",
     "text": [
      "Processing TFRecord files:  90%|█████████ | 1305/1444 [02:41<00:19,  7.25it/s]"
     ]
    },
    {
     "name": "stdout",
     "output_type": "stream",
     "text": [
      "Decoded audio embeddings shape: (None, 128)\n",
      "Decoded audio embeddings shape: (None, 128)\n"
     ]
    },
    {
     "name": "stderr",
     "output_type": "stream",
     "text": [
      "Processing TFRecord files:  91%|█████████ | 1308/1444 [02:42<00:17,  7.97it/s]"
     ]
    },
    {
     "name": "stdout",
     "output_type": "stream",
     "text": [
      "Decoded audio embeddings shape: (None, 128)\n",
      "Decoded audio embeddings shape: (None, 128)\n"
     ]
    },
    {
     "name": "stderr",
     "output_type": "stream",
     "text": [
      "Processing TFRecord files:  91%|█████████ | 1309/1444 [02:42<00:17,  7.62it/s]"
     ]
    },
    {
     "name": "stdout",
     "output_type": "stream",
     "text": [
      "Decoded audio embeddings shape: (None, 128)\n",
      "Decoded audio embeddings shape: (None, 128)\n"
     ]
    },
    {
     "name": "stderr",
     "output_type": "stream",
     "text": [
      "Processing TFRecord files:  91%|█████████ | 1311/1444 [02:42<00:17,  7.54it/s]"
     ]
    },
    {
     "name": "stdout",
     "output_type": "stream",
     "text": [
      "Decoded audio embeddings shape: (None, 128)\n",
      "Decoded audio embeddings shape: (None, 128)\n"
     ]
    },
    {
     "name": "stderr",
     "output_type": "stream",
     "text": [
      "Processing TFRecord files:  91%|█████████ | 1314/1444 [02:43<00:16,  8.09it/s]"
     ]
    },
    {
     "name": "stdout",
     "output_type": "stream",
     "text": [
      "Decoded audio embeddings shape: (None, 128)\n",
      "Decoded audio embeddings shape: (None, 128)\n"
     ]
    },
    {
     "name": "stderr",
     "output_type": "stream",
     "text": [
      "Processing TFRecord files:  91%|█████████ | 1315/1444 [02:43<00:15,  8.19it/s]"
     ]
    },
    {
     "name": "stdout",
     "output_type": "stream",
     "text": [
      "Decoded audio embeddings shape: (None, 128)\n",
      "Decoded audio embeddings shape: (None, 128)\n"
     ]
    },
    {
     "name": "stderr",
     "output_type": "stream",
     "text": [
      "Processing TFRecord files:  91%|█████████ | 1317/1444 [02:43<00:20,  6.30it/s]"
     ]
    },
    {
     "name": "stdout",
     "output_type": "stream",
     "text": [
      "Decoded audio embeddings shape: (None, 128)\n",
      "Decoded audio embeddings shape: (None, 128)\n"
     ]
    },
    {
     "name": "stderr",
     "output_type": "stream",
     "text": [
      "Processing TFRecord files:  91%|█████████▏| 1320/1444 [02:43<00:15,  8.07it/s]"
     ]
    },
    {
     "name": "stdout",
     "output_type": "stream",
     "text": [
      "Decoded audio embeddings shape: (None, 128)\n",
      "Decoded audio embeddings shape: (None, 128)\n",
      "Decoded audio embeddings shape: (None, 128)\n"
     ]
    },
    {
     "name": "stderr",
     "output_type": "stream",
     "text": [
      "Processing TFRecord files:  92%|█████████▏| 1322/1444 [02:44<00:13,  8.95it/s]"
     ]
    },
    {
     "name": "stdout",
     "output_type": "stream",
     "text": [
      "Decoded audio embeddings shape: (None, 128)\n",
      "Decoded audio embeddings shape: (None, 128)\n",
      "Decoded audio embeddings shape: (None, 128)\n"
     ]
    },
    {
     "name": "stderr",
     "output_type": "stream",
     "text": [
      "Processing TFRecord files:  92%|█████████▏| 1325/1444 [02:44<00:12,  9.48it/s]"
     ]
    },
    {
     "name": "stdout",
     "output_type": "stream",
     "text": [
      "Decoded audio embeddings shape: (None, 128)\n",
      "Decoded audio embeddings shape: (None, 128)\n"
     ]
    },
    {
     "name": "stderr",
     "output_type": "stream",
     "text": [
      "Processing TFRecord files:  92%|█████████▏| 1328/1444 [02:44<00:12,  9.20it/s]"
     ]
    },
    {
     "name": "stdout",
     "output_type": "stream",
     "text": [
      "Decoded audio embeddings shape: (None, 128)\n",
      "Decoded audio embeddings shape: (None, 128)\n"
     ]
    },
    {
     "name": "stderr",
     "output_type": "stream",
     "text": [
      "Processing TFRecord files:  92%|█████████▏| 1330/1444 [02:44<00:13,  8.40it/s]"
     ]
    },
    {
     "name": "stdout",
     "output_type": "stream",
     "text": [
      "Decoded audio embeddings shape: (None, 128)\n",
      "Decoded audio embeddings shape: (None, 128)\n"
     ]
    },
    {
     "name": "stderr",
     "output_type": "stream",
     "text": [
      "Processing TFRecord files:  92%|█████████▏| 1332/1444 [02:45<00:13,  8.60it/s]"
     ]
    },
    {
     "name": "stdout",
     "output_type": "stream",
     "text": [
      "Decoded audio embeddings shape: (None, 128)\n",
      "Decoded audio embeddings shape: (None, 128)\n"
     ]
    },
    {
     "name": "stderr",
     "output_type": "stream",
     "text": [
      "Processing TFRecord files:  92%|█████████▏| 1333/1444 [02:45<00:16,  6.68it/s]"
     ]
    },
    {
     "name": "stdout",
     "output_type": "stream",
     "text": [
      "Decoded audio embeddings shape: (None, 128)\n"
     ]
    },
    {
     "name": "stderr",
     "output_type": "stream",
     "text": [
      "Processing TFRecord files:  92%|█████████▏| 1334/1444 [02:45<00:22,  4.94it/s]"
     ]
    },
    {
     "name": "stdout",
     "output_type": "stream",
     "text": [
      "Decoded audio embeddings shape: (None, 128)\n"
     ]
    },
    {
     "name": "stderr",
     "output_type": "stream",
     "text": [
      "Processing TFRecord files:  92%|█████████▏| 1335/1444 [02:45<00:22,  4.84it/s]"
     ]
    },
    {
     "name": "stdout",
     "output_type": "stream",
     "text": [
      "Decoded audio embeddings shape: (None, 128)\n"
     ]
    },
    {
     "name": "stderr",
     "output_type": "stream",
     "text": [
      "Processing TFRecord files:  93%|█████████▎| 1336/1444 [02:46<00:21,  4.99it/s]"
     ]
    },
    {
     "name": "stdout",
     "output_type": "stream",
     "text": [
      "Decoded audio embeddings shape: (None, 128)\n",
      "Decoded audio embeddings shape: (None, 128)\n"
     ]
    },
    {
     "name": "stderr",
     "output_type": "stream",
     "text": [
      "Processing TFRecord files:  93%|█████████▎| 1338/1444 [02:46<00:21,  4.97it/s]"
     ]
    },
    {
     "name": "stdout",
     "output_type": "stream",
     "text": [
      "Decoded audio embeddings shape: (None, 128)\n",
      "Decoded audio embeddings shape: (None, 128)\n"
     ]
    },
    {
     "name": "stderr",
     "output_type": "stream",
     "text": [
      "Processing TFRecord files:  93%|█████████▎| 1340/1444 [02:46<00:19,  5.27it/s]"
     ]
    },
    {
     "name": "stdout",
     "output_type": "stream",
     "text": [
      "Decoded audio embeddings shape: (None, 128)\n"
     ]
    },
    {
     "name": "stderr",
     "output_type": "stream",
     "text": [
      "Processing TFRecord files:  93%|█████████▎| 1341/1444 [02:47<00:20,  4.93it/s]"
     ]
    },
    {
     "name": "stdout",
     "output_type": "stream",
     "text": [
      "Decoded audio embeddings shape: (None, 128)\n"
     ]
    },
    {
     "name": "stderr",
     "output_type": "stream",
     "text": [
      "Processing TFRecord files:  93%|█████████▎| 1342/1444 [02:47<00:23,  4.38it/s]"
     ]
    },
    {
     "name": "stdout",
     "output_type": "stream",
     "text": [
      "Decoded audio embeddings shape: (None, 128)\n"
     ]
    },
    {
     "name": "stderr",
     "output_type": "stream",
     "text": [
      "Processing TFRecord files:  93%|█████████▎| 1343/1444 [02:47<00:20,  4.85it/s]"
     ]
    },
    {
     "name": "stdout",
     "output_type": "stream",
     "text": [
      "Decoded audio embeddings shape: (None, 128)\n",
      "Decoded audio embeddings shape: (None, 128)\n"
     ]
    },
    {
     "name": "stderr",
     "output_type": "stream",
     "text": [
      "Processing TFRecord files:  93%|█████████▎| 1346/1444 [02:47<00:14,  6.59it/s]"
     ]
    },
    {
     "name": "stdout",
     "output_type": "stream",
     "text": [
      "Decoded audio embeddings shape: (None, 128)\n",
      "Decoded audio embeddings shape: (None, 128)\n"
     ]
    },
    {
     "name": "stderr",
     "output_type": "stream",
     "text": [
      "Processing TFRecord files:  93%|█████████▎| 1347/1444 [02:48<00:14,  6.89it/s]"
     ]
    },
    {
     "name": "stdout",
     "output_type": "stream",
     "text": [
      "Decoded audio embeddings shape: (None, 128)\n",
      "Decoded audio embeddings shape: (None, 128)\n"
     ]
    },
    {
     "name": "stderr",
     "output_type": "stream",
     "text": [
      "Processing TFRecord files:  93%|█████████▎| 1349/1444 [02:48<00:13,  7.18it/s]"
     ]
    },
    {
     "name": "stdout",
     "output_type": "stream",
     "text": [
      "Decoded audio embeddings shape: (None, 128)\n",
      "Decoded audio embeddings shape: (None, 128)\n"
     ]
    },
    {
     "name": "stderr",
     "output_type": "stream",
     "text": [
      "Processing TFRecord files:  93%|█████████▎| 1350/1444 [02:48<00:13,  7.17it/s]"
     ]
    },
    {
     "name": "stdout",
     "output_type": "stream",
     "text": [
      "Decoded audio embeddings shape: (None, 128)\n"
     ]
    },
    {
     "name": "stderr",
     "output_type": "stream",
     "text": [
      "Processing TFRecord files:  94%|█████████▎| 1353/1444 [02:49<00:16,  5.58it/s]"
     ]
    },
    {
     "name": "stdout",
     "output_type": "stream",
     "text": [
      "Decoded audio embeddings shape: (None, 128)\n",
      "Decoded audio embeddings shape: (None, 128)\n"
     ]
    },
    {
     "name": "stderr",
     "output_type": "stream",
     "text": [
      "Processing TFRecord files:  94%|█████████▍| 1355/1444 [02:49<00:12,  6.87it/s]"
     ]
    },
    {
     "name": "stdout",
     "output_type": "stream",
     "text": [
      "Decoded audio embeddings shape: (None, 128)\n",
      "Decoded audio embeddings shape: (None, 128)\n"
     ]
    },
    {
     "name": "stderr",
     "output_type": "stream",
     "text": [
      "Processing TFRecord files:  94%|█████████▍| 1357/1444 [02:49<00:11,  7.59it/s]"
     ]
    },
    {
     "name": "stdout",
     "output_type": "stream",
     "text": [
      "Decoded audio embeddings shape: (None, 128)\n",
      "Decoded audio embeddings shape: (None, 128)\n"
     ]
    },
    {
     "name": "stderr",
     "output_type": "stream",
     "text": [
      "Processing TFRecord files:  94%|█████████▍| 1358/1444 [02:49<00:11,  7.20it/s]"
     ]
    },
    {
     "name": "stdout",
     "output_type": "stream",
     "text": [
      "Decoded audio embeddings shape: (None, 128)\n",
      "Decoded audio embeddings shape: (None, 128)\n"
     ]
    },
    {
     "name": "stderr",
     "output_type": "stream",
     "text": [
      "Processing TFRecord files:  94%|█████████▍| 1361/1444 [02:50<00:10,  7.71it/s]"
     ]
    },
    {
     "name": "stdout",
     "output_type": "stream",
     "text": [
      "Decoded audio embeddings shape: (None, 128)\n",
      "Decoded audio embeddings shape: (None, 128)\n"
     ]
    },
    {
     "name": "stderr",
     "output_type": "stream",
     "text": [
      "Processing TFRecord files:  94%|█████████▍| 1362/1444 [02:50<00:12,  6.54it/s]"
     ]
    },
    {
     "name": "stdout",
     "output_type": "stream",
     "text": [
      "Decoded audio embeddings shape: (None, 128)\n",
      "Decoded audio embeddings shape: (None, 128)\n"
     ]
    },
    {
     "name": "stderr",
     "output_type": "stream",
     "text": [
      "Processing TFRecord files:  94%|█████████▍| 1364/1444 [02:50<00:11,  7.09it/s]"
     ]
    },
    {
     "name": "stdout",
     "output_type": "stream",
     "text": [
      "Decoded audio embeddings shape: (None, 128)\n",
      "Decoded audio embeddings shape: (None, 128)\n"
     ]
    },
    {
     "name": "stderr",
     "output_type": "stream",
     "text": [
      "Processing TFRecord files:  95%|█████████▍| 1366/1444 [02:51<00:11,  6.78it/s]"
     ]
    },
    {
     "name": "stdout",
     "output_type": "stream",
     "text": [
      "Decoded audio embeddings shape: (None, 128)\n",
      "Decoded audio embeddings shape: (None, 128)\n"
     ]
    },
    {
     "name": "stderr",
     "output_type": "stream",
     "text": [
      "Processing TFRecord files:  95%|█████████▍| 1369/1444 [02:51<00:09,  8.05it/s]"
     ]
    },
    {
     "name": "stdout",
     "output_type": "stream",
     "text": [
      "Decoded audio embeddings shape: (None, 128)\n",
      "Decoded audio embeddings shape: (None, 128)\n",
      "Decoded audio embeddings shape: (None, 128)\n"
     ]
    },
    {
     "name": "stderr",
     "output_type": "stream",
     "text": [
      "Processing TFRecord files:  95%|█████████▍| 1371/1444 [02:51<00:08,  8.31it/s]"
     ]
    },
    {
     "name": "stdout",
     "output_type": "stream",
     "text": [
      "Decoded audio embeddings shape: (None, 128)\n",
      "Decoded audio embeddings shape: (None, 128)\n",
      "Decoded audio embeddings shape: (None, 128)\n"
     ]
    },
    {
     "name": "stderr",
     "output_type": "stream",
     "text": [
      "Processing TFRecord files:  95%|█████████▌| 1375/1444 [02:52<00:07,  9.21it/s]"
     ]
    },
    {
     "name": "stdout",
     "output_type": "stream",
     "text": [
      "Decoded audio embeddings shape: (None, 128)\n",
      "Decoded audio embeddings shape: (None, 128)\n"
     ]
    },
    {
     "name": "stderr",
     "output_type": "stream",
     "text": [
      "Processing TFRecord files:  95%|█████████▌| 1377/1444 [02:52<00:07,  8.93it/s]"
     ]
    },
    {
     "name": "stdout",
     "output_type": "stream",
     "text": [
      "Decoded audio embeddings shape: (None, 128)\n",
      "Decoded audio embeddings shape: (None, 128)\n"
     ]
    },
    {
     "name": "stderr",
     "output_type": "stream",
     "text": [
      "Processing TFRecord files:  95%|█████████▌| 1379/1444 [02:52<00:07,  8.18it/s]"
     ]
    },
    {
     "name": "stdout",
     "output_type": "stream",
     "text": [
      "Decoded audio embeddings shape: (None, 128)\n",
      "Decoded audio embeddings shape: (None, 128)\n"
     ]
    },
    {
     "name": "stderr",
     "output_type": "stream",
     "text": [
      "Processing TFRecord files:  96%|█████████▌| 1381/1444 [02:52<00:07,  8.36it/s]"
     ]
    },
    {
     "name": "stdout",
     "output_type": "stream",
     "text": [
      "Decoded audio embeddings shape: (None, 128)\n",
      "Decoded audio embeddings shape: (None, 128)\n"
     ]
    },
    {
     "name": "stderr",
     "output_type": "stream",
     "text": [
      "Processing TFRecord files:  96%|█████████▌| 1382/1444 [02:52<00:07,  8.44it/s]"
     ]
    },
    {
     "name": "stdout",
     "output_type": "stream",
     "text": [
      "Decoded audio embeddings shape: (None, 128)\n",
      "Decoded audio embeddings shape: (None, 128)\n"
     ]
    },
    {
     "name": "stderr",
     "output_type": "stream",
     "text": [
      "Processing TFRecord files:  96%|█████████▌| 1385/1444 [02:53<00:07,  8.17it/s]"
     ]
    },
    {
     "name": "stdout",
     "output_type": "stream",
     "text": [
      "Decoded audio embeddings shape: (None, 128)\n",
      "Decoded audio embeddings shape: (None, 128)\n"
     ]
    },
    {
     "name": "stderr",
     "output_type": "stream",
     "text": [
      "Processing TFRecord files:  96%|█████████▌| 1387/1444 [02:53<00:06,  8.25it/s]"
     ]
    },
    {
     "name": "stdout",
     "output_type": "stream",
     "text": [
      "Decoded audio embeddings shape: (None, 128)\n",
      "Decoded audio embeddings shape: (None, 128)\n"
     ]
    },
    {
     "name": "stderr",
     "output_type": "stream",
     "text": [
      "Processing TFRecord files:  96%|█████████▌| 1388/1444 [02:53<00:06,  8.46it/s]"
     ]
    },
    {
     "name": "stdout",
     "output_type": "stream",
     "text": [
      "Decoded audio embeddings shape: (None, 128)\n",
      "Decoded audio embeddings shape: (None, 128)\n"
     ]
    },
    {
     "name": "stderr",
     "output_type": "stream",
     "text": [
      "Processing TFRecord files:  96%|█████████▋| 1390/1444 [02:53<00:07,  7.71it/s]"
     ]
    },
    {
     "name": "stdout",
     "output_type": "stream",
     "text": [
      "Decoded audio embeddings shape: (None, 128)\n",
      "Decoded audio embeddings shape: (None, 128)\n"
     ]
    },
    {
     "name": "stderr",
     "output_type": "stream",
     "text": [
      "Processing TFRecord files:  96%|█████████▋| 1392/1444 [02:54<00:07,  7.42it/s]"
     ]
    },
    {
     "name": "stdout",
     "output_type": "stream",
     "text": [
      "Decoded audio embeddings shape: (None, 128)\n",
      "Decoded audio embeddings shape: (None, 128)\n"
     ]
    },
    {
     "name": "stderr",
     "output_type": "stream",
     "text": [
      "Processing TFRecord files:  97%|█████████▋| 1395/1444 [02:54<00:06,  8.01it/s]"
     ]
    },
    {
     "name": "stdout",
     "output_type": "stream",
     "text": [
      "Decoded audio embeddings shape: (None, 128)\n",
      "Decoded audio embeddings shape: (None, 128)\n"
     ]
    },
    {
     "name": "stderr",
     "output_type": "stream",
     "text": [
      "Processing TFRecord files:  97%|█████████▋| 1397/1444 [02:54<00:05,  8.40it/s]"
     ]
    },
    {
     "name": "stdout",
     "output_type": "stream",
     "text": [
      "Decoded audio embeddings shape: (None, 128)\n",
      "Decoded audio embeddings shape: (None, 128)\n",
      "Decoded audio embeddings shape: (None, 128)\n"
     ]
    },
    {
     "name": "stderr",
     "output_type": "stream",
     "text": [
      "Processing TFRecord files:  97%|█████████▋| 1399/1444 [02:54<00:04,  9.10it/s]"
     ]
    },
    {
     "name": "stdout",
     "output_type": "stream",
     "text": [
      "Decoded audio embeddings shape: (None, 128)\n",
      "Decoded audio embeddings shape: (None, 128)\n"
     ]
    },
    {
     "name": "stderr",
     "output_type": "stream",
     "text": [
      "Processing TFRecord files:  97%|█████████▋| 1401/1444 [02:55<00:04,  9.55it/s]"
     ]
    },
    {
     "name": "stdout",
     "output_type": "stream",
     "text": [
      "Decoded audio embeddings shape: (None, 128)\n",
      "Decoded audio embeddings shape: (None, 128)\n"
     ]
    },
    {
     "name": "stderr",
     "output_type": "stream",
     "text": [
      "Processing TFRecord files:  97%|█████████▋| 1404/1444 [02:55<00:04,  8.65it/s]"
     ]
    },
    {
     "name": "stdout",
     "output_type": "stream",
     "text": [
      "Decoded audio embeddings shape: (None, 128)\n",
      "Decoded audio embeddings shape: (None, 128)\n"
     ]
    },
    {
     "name": "stderr",
     "output_type": "stream",
     "text": [
      "Processing TFRecord files:  97%|█████████▋| 1406/1444 [02:55<00:04,  8.86it/s]"
     ]
    },
    {
     "name": "stdout",
     "output_type": "stream",
     "text": [
      "Decoded audio embeddings shape: (None, 128)\n",
      "Decoded audio embeddings shape: (None, 128)\n"
     ]
    },
    {
     "name": "stderr",
     "output_type": "stream",
     "text": [
      "Processing TFRecord files:  98%|█████████▊| 1408/1444 [02:56<00:04,  8.71it/s]"
     ]
    },
    {
     "name": "stdout",
     "output_type": "stream",
     "text": [
      "Decoded audio embeddings shape: (None, 128)\n",
      "Decoded audio embeddings shape: (None, 128)\n"
     ]
    },
    {
     "name": "stderr",
     "output_type": "stream",
     "text": [
      "Processing TFRecord files:  98%|█████████▊| 1410/1444 [02:56<00:03,  8.92it/s]"
     ]
    },
    {
     "name": "stdout",
     "output_type": "stream",
     "text": [
      "Decoded audio embeddings shape: (None, 128)\n",
      "Decoded audio embeddings shape: (None, 128)\n",
      "Decoded audio embeddings shape: (None, 128)\n"
     ]
    },
    {
     "name": "stderr",
     "output_type": "stream",
     "text": [
      "Processing TFRecord files:  98%|█████████▊| 1413/1444 [02:56<00:03,  9.47it/s]"
     ]
    },
    {
     "name": "stdout",
     "output_type": "stream",
     "text": [
      "Decoded audio embeddings shape: (None, 128)\n",
      "Decoded audio embeddings shape: (None, 128)\n"
     ]
    },
    {
     "name": "stderr",
     "output_type": "stream",
     "text": [
      "Processing TFRecord files:  98%|█████████▊| 1415/1444 [02:56<00:03,  8.26it/s]"
     ]
    },
    {
     "name": "stdout",
     "output_type": "stream",
     "text": [
      "Decoded audio embeddings shape: (None, 128)\n",
      "Decoded audio embeddings shape: (None, 128)\n"
     ]
    },
    {
     "name": "stderr",
     "output_type": "stream",
     "text": [
      "Processing TFRecord files:  98%|█████████▊| 1416/1444 [02:56<00:03,  8.07it/s]"
     ]
    },
    {
     "name": "stdout",
     "output_type": "stream",
     "text": [
      "Decoded audio embeddings shape: (None, 128)\n",
      "Decoded audio embeddings shape: (None, 128)\n"
     ]
    },
    {
     "name": "stderr",
     "output_type": "stream",
     "text": [
      "Processing TFRecord files:  98%|█████████▊| 1418/1444 [02:57<00:03,  7.39it/s]"
     ]
    },
    {
     "name": "stdout",
     "output_type": "stream",
     "text": [
      "Decoded audio embeddings shape: (None, 128)\n",
      "Decoded audio embeddings shape: (None, 128)\n"
     ]
    },
    {
     "name": "stderr",
     "output_type": "stream",
     "text": [
      "Processing TFRecord files:  98%|█████████▊| 1420/1444 [02:57<00:03,  7.65it/s]"
     ]
    },
    {
     "name": "stdout",
     "output_type": "stream",
     "text": [
      "Decoded audio embeddings shape: (None, 128)\n",
      "Decoded audio embeddings shape: (None, 128)\n"
     ]
    },
    {
     "name": "stderr",
     "output_type": "stream",
     "text": [
      "Processing TFRecord files:  98%|█████████▊| 1422/1444 [02:57<00:03,  6.15it/s]"
     ]
    },
    {
     "name": "stdout",
     "output_type": "stream",
     "text": [
      "Decoded audio embeddings shape: (None, 128)\n",
      "Decoded audio embeddings shape: (None, 128)\n"
     ]
    },
    {
     "name": "stderr",
     "output_type": "stream",
     "text": [
      "Processing TFRecord files:  99%|█████████▊| 1423/1444 [02:58<00:03,  5.91it/s]"
     ]
    },
    {
     "name": "stdout",
     "output_type": "stream",
     "text": [
      "Decoded audio embeddings shape: (None, 128)\n"
     ]
    },
    {
     "name": "stderr",
     "output_type": "stream",
     "text": [
      "Processing TFRecord files:  99%|█████████▊| 1425/1444 [02:58<00:03,  4.82it/s]"
     ]
    },
    {
     "name": "stdout",
     "output_type": "stream",
     "text": [
      "Decoded audio embeddings shape: (None, 128)\n",
      "Decoded audio embeddings shape: (None, 128)\n"
     ]
    },
    {
     "name": "stderr",
     "output_type": "stream",
     "text": [
      "Processing TFRecord files:  99%|█████████▉| 1427/1444 [02:58<00:03,  5.48it/s]"
     ]
    },
    {
     "name": "stdout",
     "output_type": "stream",
     "text": [
      "Decoded audio embeddings shape: (None, 128)\n",
      "Decoded audio embeddings shape: (None, 128)\n"
     ]
    },
    {
     "name": "stderr",
     "output_type": "stream",
     "text": [
      "Processing TFRecord files:  99%|█████████▉| 1430/1444 [02:59<00:02,  6.96it/s]"
     ]
    },
    {
     "name": "stdout",
     "output_type": "stream",
     "text": [
      "Decoded audio embeddings shape: (None, 128)\n",
      "Decoded audio embeddings shape: (None, 128)\n"
     ]
    },
    {
     "name": "stderr",
     "output_type": "stream",
     "text": [
      "Processing TFRecord files:  99%|█████████▉| 1432/1444 [02:59<00:01,  7.72it/s]"
     ]
    },
    {
     "name": "stdout",
     "output_type": "stream",
     "text": [
      "Decoded audio embeddings shape: (None, 128)\n",
      "Decoded audio embeddings shape: (None, 128)\n"
     ]
    },
    {
     "name": "stderr",
     "output_type": "stream",
     "text": [
      "Processing TFRecord files:  99%|█████████▉| 1434/1444 [02:59<00:01,  7.84it/s]"
     ]
    },
    {
     "name": "stdout",
     "output_type": "stream",
     "text": [
      "Decoded audio embeddings shape: (None, 128)\n",
      "Decoded audio embeddings shape: (None, 128)\n"
     ]
    },
    {
     "name": "stderr",
     "output_type": "stream",
     "text": [
      "Processing TFRecord files:  99%|█████████▉| 1435/1444 [02:59<00:01,  7.84it/s]"
     ]
    },
    {
     "name": "stdout",
     "output_type": "stream",
     "text": [
      "Decoded audio embeddings shape: (None, 128)\n",
      "Decoded audio embeddings shape: (None, 128)\n"
     ]
    },
    {
     "name": "stderr",
     "output_type": "stream",
     "text": [
      "Processing TFRecord files: 100%|█████████▉| 1437/1444 [03:00<00:01,  6.92it/s]"
     ]
    },
    {
     "name": "stdout",
     "output_type": "stream",
     "text": [
      "Decoded audio embeddings shape: (None, 128)\n",
      "Decoded audio embeddings shape: (None, 128)\n"
     ]
    },
    {
     "name": "stderr",
     "output_type": "stream",
     "text": [
      "Processing TFRecord files: 100%|█████████▉| 1439/1444 [03:00<00:00,  7.25it/s]"
     ]
    },
    {
     "name": "stdout",
     "output_type": "stream",
     "text": [
      "Decoded audio embeddings shape: (None, 128)\n",
      "Decoded audio embeddings shape: (None, 128)\n"
     ]
    },
    {
     "name": "stderr",
     "output_type": "stream",
     "text": [
      "Processing TFRecord files: 100%|█████████▉| 1441/1444 [03:00<00:00,  6.05it/s]"
     ]
    },
    {
     "name": "stdout",
     "output_type": "stream",
     "text": [
      "Decoded audio embeddings shape: (None, 128)\n",
      "Decoded audio embeddings shape: (None, 128)\n"
     ]
    },
    {
     "name": "stderr",
     "output_type": "stream",
     "text": [
      "Processing TFRecord files: 100%|█████████▉| 1443/1444 [03:01<00:00,  6.51it/s]"
     ]
    },
    {
     "name": "stdout",
     "output_type": "stream",
     "text": [
      "Decoded audio embeddings shape: (None, 128)\n",
      "Decoded audio embeddings shape: (None, 128)\n"
     ]
    },
    {
     "name": "stderr",
     "output_type": "stream",
     "text": [
      "Processing TFRecord files: 100%|██████████| 1444/1444 [03:01<00:00,  7.96it/s]\n",
      "Processing TFRecord files:   0%|          | 1/1444 [00:00<03:55,  6.14it/s]"
     ]
    },
    {
     "name": "stdout",
     "output_type": "stream",
     "text": [
      "Decoded audio embeddings shape: (None, 128)\n",
      "Decoded audio embeddings shape: (None, 128)\n"
     ]
    },
    {
     "name": "stderr",
     "output_type": "stream",
     "text": [
      "Processing TFRecord files:   0%|          | 4/1444 [00:00<02:59,  8.02it/s]"
     ]
    },
    {
     "name": "stdout",
     "output_type": "stream",
     "text": [
      "Decoded audio embeddings shape: (None, 128)\n",
      "Decoded audio embeddings shape: (None, 128)\n"
     ]
    },
    {
     "name": "stderr",
     "output_type": "stream",
     "text": [
      "Processing TFRecord files:   0%|          | 5/1444 [00:00<03:43,  6.43it/s]"
     ]
    },
    {
     "name": "stdout",
     "output_type": "stream",
     "text": [
      "Decoded audio embeddings shape: (None, 128)\n",
      "Decoded audio embeddings shape: (None, 128)\n"
     ]
    },
    {
     "name": "stderr",
     "output_type": "stream",
     "text": [
      "Processing TFRecord files:   1%|          | 8/1444 [00:01<04:00,  5.98it/s]"
     ]
    },
    {
     "name": "stdout",
     "output_type": "stream",
     "text": [
      "Decoded audio embeddings shape: (None, 128)\n",
      "Decoded audio embeddings shape: (None, 128)\n"
     ]
    },
    {
     "name": "stderr",
     "output_type": "stream",
     "text": [
      "Processing TFRecord files:   1%|          | 9/1444 [00:01<03:43,  6.42it/s]"
     ]
    },
    {
     "name": "stdout",
     "output_type": "stream",
     "text": [
      "Decoded audio embeddings shape: (None, 128)\n",
      "Decoded audio embeddings shape: (None, 128)\n"
     ]
    },
    {
     "name": "stderr",
     "output_type": "stream",
     "text": [
      "Processing TFRecord files:   1%|          | 12/1444 [00:01<03:06,  7.67it/s]"
     ]
    },
    {
     "name": "stdout",
     "output_type": "stream",
     "text": [
      "Decoded audio embeddings shape: (None, 128)\n",
      "Decoded audio embeddings shape: (None, 128)\n"
     ]
    },
    {
     "name": "stderr",
     "output_type": "stream",
     "text": [
      "Processing TFRecord files:   1%|          | 14/1444 [00:02<02:49,  8.42it/s]"
     ]
    },
    {
     "name": "stdout",
     "output_type": "stream",
     "text": [
      "Decoded audio embeddings shape: (None, 128)\n",
      "Decoded audio embeddings shape: (None, 128)\n",
      "Decoded audio embeddings shape: (None, 128)\n"
     ]
    },
    {
     "name": "stderr",
     "output_type": "stream",
     "text": [
      "Processing TFRecord files:   1%|          | 17/1444 [00:02<02:56,  8.06it/s]"
     ]
    },
    {
     "name": "stdout",
     "output_type": "stream",
     "text": [
      "Decoded audio embeddings shape: (None, 128)\n",
      "Decoded audio embeddings shape: (None, 128)\n"
     ]
    },
    {
     "name": "stderr",
     "output_type": "stream",
     "text": [
      "Processing TFRecord files:   1%|          | 18/1444 [00:02<02:48,  8.47it/s]"
     ]
    },
    {
     "name": "stdout",
     "output_type": "stream",
     "text": [
      "Decoded audio embeddings shape: (None, 128)\n",
      "Decoded audio embeddings shape: (None, 128)\n"
     ]
    },
    {
     "name": "stderr",
     "output_type": "stream",
     "text": [
      "Processing TFRecord files:   1%|▏         | 21/1444 [00:02<02:57,  8.00it/s]"
     ]
    },
    {
     "name": "stdout",
     "output_type": "stream",
     "text": [
      "Decoded audio embeddings shape: (None, 128)\n",
      "Decoded audio embeddings shape: (None, 128)\n"
     ]
    },
    {
     "name": "stderr",
     "output_type": "stream",
     "text": [
      "Processing TFRecord files:   2%|▏         | 23/1444 [00:03<02:49,  8.36it/s]"
     ]
    },
    {
     "name": "stdout",
     "output_type": "stream",
     "text": [
      "Decoded audio embeddings shape: (None, 128)\n",
      "Decoded audio embeddings shape: (None, 128)\n",
      "Decoded audio embeddings shape: (None, 128)\n"
     ]
    },
    {
     "name": "stderr",
     "output_type": "stream",
     "text": [
      "Processing TFRecord files:   2%|▏         | 26/1444 [00:03<02:43,  8.68it/s]"
     ]
    },
    {
     "name": "stdout",
     "output_type": "stream",
     "text": [
      "Decoded audio embeddings shape: (None, 128)\n",
      "Decoded audio embeddings shape: (None, 128)\n",
      "Decoded audio embeddings shape: (None, 128)\n"
     ]
    },
    {
     "name": "stderr",
     "output_type": "stream",
     "text": [
      "Processing TFRecord files:   2%|▏         | 29/1444 [00:03<02:59,  7.90it/s]"
     ]
    },
    {
     "name": "stdout",
     "output_type": "stream",
     "text": [
      "Decoded audio embeddings shape: (None, 128)\n",
      "Decoded audio embeddings shape: (None, 128)\n"
     ]
    },
    {
     "name": "stderr",
     "output_type": "stream",
     "text": [
      "Processing TFRecord files:   2%|▏         | 31/1444 [00:04<02:53,  8.14it/s]"
     ]
    },
    {
     "name": "stdout",
     "output_type": "stream",
     "text": [
      "Decoded audio embeddings shape: (None, 128)\n",
      "Decoded audio embeddings shape: (None, 128)\n"
     ]
    },
    {
     "name": "stderr",
     "output_type": "stream",
     "text": [
      "Processing TFRecord files:   2%|▏         | 32/1444 [00:04<02:44,  8.58it/s]"
     ]
    },
    {
     "name": "stdout",
     "output_type": "stream",
     "text": [
      "Decoded audio embeddings shape: (None, 128)\n",
      "Decoded audio embeddings shape: (None, 128)\n"
     ]
    },
    {
     "name": "stderr",
     "output_type": "stream",
     "text": [
      "Processing TFRecord files:   2%|▏         | 35/1444 [00:04<02:59,  7.85it/s]"
     ]
    },
    {
     "name": "stdout",
     "output_type": "stream",
     "text": [
      "Decoded audio embeddings shape: (None, 128)\n",
      "Decoded audio embeddings shape: (None, 128)\n",
      "Decoded audio embeddings shape: (None, 128)\n"
     ]
    },
    {
     "name": "stderr",
     "output_type": "stream",
     "text": [
      "Processing TFRecord files:   3%|▎         | 37/1444 [00:04<02:45,  8.52it/s]"
     ]
    },
    {
     "name": "stdout",
     "output_type": "stream",
     "text": [
      "Decoded audio embeddings shape: (None, 128)\n",
      "Decoded audio embeddings shape: (None, 128)\n"
     ]
    },
    {
     "name": "stderr",
     "output_type": "stream",
     "text": [
      "Processing TFRecord files:   3%|▎         | 39/1444 [00:05<03:04,  7.62it/s]"
     ]
    },
    {
     "name": "stdout",
     "output_type": "stream",
     "text": [
      "Decoded audio embeddings shape: (None, 128)\n",
      "Decoded audio embeddings shape: (None, 128)\n"
     ]
    },
    {
     "name": "stderr",
     "output_type": "stream",
     "text": [
      "Processing TFRecord files:   3%|▎         | 41/1444 [00:05<03:26,  6.78it/s]"
     ]
    },
    {
     "name": "stdout",
     "output_type": "stream",
     "text": [
      "Decoded audio embeddings shape: (None, 128)\n",
      "Decoded audio embeddings shape: (None, 128)\n"
     ]
    },
    {
     "name": "stderr",
     "output_type": "stream",
     "text": [
      "Processing TFRecord files:   3%|▎         | 43/1444 [00:05<03:55,  5.95it/s]"
     ]
    },
    {
     "name": "stdout",
     "output_type": "stream",
     "text": [
      "Decoded audio embeddings shape: (None, 128)\n",
      "Decoded audio embeddings shape: (None, 128)\n"
     ]
    },
    {
     "name": "stderr",
     "output_type": "stream",
     "text": [
      "Processing TFRecord files:   3%|▎         | 45/1444 [00:06<03:30,  6.65it/s]"
     ]
    },
    {
     "name": "stdout",
     "output_type": "stream",
     "text": [
      "Decoded audio embeddings shape: (None, 128)\n",
      "Decoded audio embeddings shape: (None, 128)\n"
     ]
    },
    {
     "name": "stderr",
     "output_type": "stream",
     "text": [
      "Processing TFRecord files:   3%|▎         | 48/1444 [00:06<03:06,  7.47it/s]"
     ]
    },
    {
     "name": "stdout",
     "output_type": "stream",
     "text": [
      "Decoded audio embeddings shape: (None, 128)\n",
      "Decoded audio embeddings shape: (None, 128)\n"
     ]
    },
    {
     "name": "stderr",
     "output_type": "stream",
     "text": [
      "Processing TFRecord files:   3%|▎         | 50/1444 [00:06<02:56,  7.89it/s]"
     ]
    },
    {
     "name": "stdout",
     "output_type": "stream",
     "text": [
      "Decoded audio embeddings shape: (None, 128)\n",
      "Decoded audio embeddings shape: (None, 128)\n"
     ]
    },
    {
     "name": "stderr",
     "output_type": "stream",
     "text": [
      "Processing TFRecord files:   4%|▎         | 52/1444 [00:06<02:52,  8.06it/s]"
     ]
    },
    {
     "name": "stdout",
     "output_type": "stream",
     "text": [
      "Decoded audio embeddings shape: (None, 128)\n",
      "Decoded audio embeddings shape: (None, 128)\n"
     ]
    },
    {
     "name": "stderr",
     "output_type": "stream",
     "text": [
      "Processing TFRecord files:   4%|▎         | 54/1444 [00:07<02:47,  8.29it/s]"
     ]
    },
    {
     "name": "stdout",
     "output_type": "stream",
     "text": [
      "Decoded audio embeddings shape: (None, 128)\n",
      "Decoded audio embeddings shape: (None, 128)\n"
     ]
    },
    {
     "name": "stderr",
     "output_type": "stream",
     "text": [
      "Processing TFRecord files:   4%|▍         | 55/1444 [00:07<02:42,  8.54it/s]"
     ]
    },
    {
     "name": "stdout",
     "output_type": "stream",
     "text": [
      "Decoded audio embeddings shape: (None, 128)\n",
      "Decoded audio embeddings shape: (None, 128)\n"
     ]
    },
    {
     "name": "stderr",
     "output_type": "stream",
     "text": [
      "Processing TFRecord files:   4%|▍         | 58/1444 [00:07<02:51,  8.09it/s]"
     ]
    },
    {
     "name": "stdout",
     "output_type": "stream",
     "text": [
      "Decoded audio embeddings shape: (None, 128)\n",
      "Decoded audio embeddings shape: (None, 128)\n"
     ]
    },
    {
     "name": "stderr",
     "output_type": "stream",
     "text": [
      "Processing TFRecord files:   4%|▍         | 60/1444 [00:07<02:39,  8.68it/s]"
     ]
    },
    {
     "name": "stdout",
     "output_type": "stream",
     "text": [
      "Decoded audio embeddings shape: (None, 128)\n",
      "Decoded audio embeddings shape: (None, 128)\n",
      "Decoded audio embeddings shape: (None, 128)\n"
     ]
    },
    {
     "name": "stderr",
     "output_type": "stream",
     "text": [
      "Processing TFRecord files:   4%|▍         | 62/1444 [00:08<02:27,  9.40it/s]"
     ]
    },
    {
     "name": "stdout",
     "output_type": "stream",
     "text": [
      "Decoded audio embeddings shape: (None, 128)\n",
      "Decoded audio embeddings shape: (None, 128)\n",
      "Decoded audio embeddings shape: (None, 128)\n"
     ]
    },
    {
     "name": "stderr",
     "output_type": "stream",
     "text": [
      "Processing TFRecord files:   5%|▍         | 65/1444 [00:08<02:22,  9.71it/s]"
     ]
    },
    {
     "name": "stdout",
     "output_type": "stream",
     "text": [
      "Decoded audio embeddings shape: (None, 128)\n",
      "Decoded audio embeddings shape: (None, 128)\n",
      "Decoded audio embeddings shape: (None, 128)\n"
     ]
    },
    {
     "name": "stderr",
     "output_type": "stream",
     "text": [
      "Processing TFRecord files:   5%|▍         | 69/1444 [00:08<02:15, 10.13it/s]"
     ]
    },
    {
     "name": "stdout",
     "output_type": "stream",
     "text": [
      "Decoded audio embeddings shape: (None, 128)\n",
      "Decoded audio embeddings shape: (None, 128)\n",
      "Decoded audio embeddings shape: (None, 128)\n"
     ]
    },
    {
     "name": "stderr",
     "output_type": "stream",
     "text": [
      "Processing TFRecord files:   5%|▍         | 71/1444 [00:08<02:11, 10.41it/s]"
     ]
    },
    {
     "name": "stdout",
     "output_type": "stream",
     "text": [
      "Decoded audio embeddings shape: (None, 128)\n",
      "Decoded audio embeddings shape: (None, 128)\n",
      "Decoded audio embeddings shape: (None, 128)\n"
     ]
    },
    {
     "name": "stderr",
     "output_type": "stream",
     "text": [
      "Processing TFRecord files:   5%|▌         | 75/1444 [00:09<02:11, 10.38it/s]"
     ]
    },
    {
     "name": "stdout",
     "output_type": "stream",
     "text": [
      "Decoded audio embeddings shape: (None, 128)\n",
      "Decoded audio embeddings shape: (None, 128)\n",
      "Decoded audio embeddings shape: (None, 128)\n"
     ]
    },
    {
     "name": "stderr",
     "output_type": "stream",
     "text": [
      "Processing TFRecord files:   5%|▌         | 78/1444 [00:09<02:21,  9.62it/s]"
     ]
    },
    {
     "name": "stdout",
     "output_type": "stream",
     "text": [
      "Decoded audio embeddings shape: (None, 128)\n",
      "Decoded audio embeddings shape: (None, 128)\n",
      "Decoded audio embeddings shape: (None, 128)\n"
     ]
    },
    {
     "name": "stderr",
     "output_type": "stream",
     "text": [
      "Processing TFRecord files:   6%|▌         | 80/1444 [00:09<02:17,  9.89it/s]"
     ]
    },
    {
     "name": "stdout",
     "output_type": "stream",
     "text": [
      "Decoded audio embeddings shape: (None, 128)\n",
      "Decoded audio embeddings shape: (None, 128)\n",
      "Decoded audio embeddings shape: (None, 128)\n"
     ]
    },
    {
     "name": "stderr",
     "output_type": "stream",
     "text": [
      "Processing TFRecord files:   6%|▌         | 84/1444 [00:10<02:11, 10.36it/s]"
     ]
    },
    {
     "name": "stdout",
     "output_type": "stream",
     "text": [
      "Decoded audio embeddings shape: (None, 128)\n",
      "Decoded audio embeddings shape: (None, 128)\n",
      "Decoded audio embeddings shape: (None, 128)\n"
     ]
    },
    {
     "name": "stderr",
     "output_type": "stream",
     "text": [
      "Processing TFRecord files:   6%|▌         | 86/1444 [00:10<02:12, 10.22it/s]"
     ]
    },
    {
     "name": "stdout",
     "output_type": "stream",
     "text": [
      "Decoded audio embeddings shape: (None, 128)\n",
      "Decoded audio embeddings shape: (None, 128)\n",
      "Decoded audio embeddings shape: (None, 128)\n"
     ]
    },
    {
     "name": "stderr",
     "output_type": "stream",
     "text": [
      "Processing TFRecord files:   6%|▌         | 90/1444 [00:10<02:13, 10.15it/s]"
     ]
    },
    {
     "name": "stdout",
     "output_type": "stream",
     "text": [
      "Decoded audio embeddings shape: (None, 128)\n",
      "Decoded audio embeddings shape: (None, 128)\n",
      "Decoded audio embeddings shape: (None, 128)\n"
     ]
    },
    {
     "name": "stderr",
     "output_type": "stream",
     "text": [
      "Processing TFRecord files:   6%|▋         | 93/1444 [00:11<02:16,  9.88it/s]"
     ]
    },
    {
     "name": "stdout",
     "output_type": "stream",
     "text": [
      "Decoded audio embeddings shape: (None, 128)\n",
      "Decoded audio embeddings shape: (None, 128)\n",
      "Decoded audio embeddings shape: (None, 128)\n"
     ]
    },
    {
     "name": "stderr",
     "output_type": "stream",
     "text": [
      "Processing TFRecord files:   7%|▋         | 95/1444 [00:11<02:42,  8.29it/s]"
     ]
    },
    {
     "name": "stdout",
     "output_type": "stream",
     "text": [
      "Decoded audio embeddings shape: (None, 128)\n",
      "Decoded audio embeddings shape: (None, 128)\n"
     ]
    },
    {
     "name": "stderr",
     "output_type": "stream",
     "text": [
      "Processing TFRecord files:   7%|▋         | 98/1444 [00:11<02:32,  8.84it/s]"
     ]
    },
    {
     "name": "stdout",
     "output_type": "stream",
     "text": [
      "Decoded audio embeddings shape: (None, 128)\n",
      "Decoded audio embeddings shape: (None, 128)\n",
      "Decoded audio embeddings shape: (None, 128)\n"
     ]
    },
    {
     "name": "stderr",
     "output_type": "stream",
     "text": [
      "Processing TFRecord files:   7%|▋         | 101/1444 [00:12<02:23,  9.33it/s]"
     ]
    },
    {
     "name": "stdout",
     "output_type": "stream",
     "text": [
      "Decoded audio embeddings shape: (None, 128)\n",
      "Decoded audio embeddings shape: (None, 128)\n",
      "Decoded audio embeddings shape: (None, 128)\n"
     ]
    },
    {
     "name": "stderr",
     "output_type": "stream",
     "text": [
      "Processing TFRecord files:   7%|▋         | 104/1444 [00:12<02:22,  9.44it/s]"
     ]
    },
    {
     "name": "stdout",
     "output_type": "stream",
     "text": [
      "Decoded audio embeddings shape: (None, 128)\n",
      "Decoded audio embeddings shape: (None, 128)\n"
     ]
    },
    {
     "name": "stderr",
     "output_type": "stream",
     "text": [
      "Processing TFRecord files:   7%|▋         | 106/1444 [00:12<02:14,  9.94it/s]"
     ]
    },
    {
     "name": "stdout",
     "output_type": "stream",
     "text": [
      "Decoded audio embeddings shape: (None, 128)\n",
      "Decoded audio embeddings shape: (None, 128)\n",
      "Decoded audio embeddings shape: (None, 128)\n"
     ]
    },
    {
     "name": "stderr",
     "output_type": "stream",
     "text": [
      "Processing TFRecord files:   7%|▋         | 108/1444 [00:12<02:18,  9.64it/s]"
     ]
    },
    {
     "name": "stdout",
     "output_type": "stream",
     "text": [
      "Decoded audio embeddings shape: (None, 128)\n",
      "Decoded audio embeddings shape: (None, 128)\n"
     ]
    },
    {
     "name": "stderr",
     "output_type": "stream",
     "text": [
      "Processing TFRecord files:   8%|▊         | 110/1444 [00:13<02:48,  7.92it/s]"
     ]
    },
    {
     "name": "stdout",
     "output_type": "stream",
     "text": [
      "Decoded audio embeddings shape: (None, 128)\n",
      "Decoded audio embeddings shape: (None, 128)\n"
     ]
    },
    {
     "name": "stderr",
     "output_type": "stream",
     "text": [
      "Processing TFRecord files:   8%|▊         | 113/1444 [00:13<02:31,  8.79it/s]"
     ]
    },
    {
     "name": "stdout",
     "output_type": "stream",
     "text": [
      "Decoded audio embeddings shape: (None, 128)\n",
      "Decoded audio embeddings shape: (None, 128)\n",
      "Decoded audio embeddings shape: (None, 128)\n"
     ]
    },
    {
     "name": "stderr",
     "output_type": "stream",
     "text": [
      "Processing TFRecord files:   8%|▊         | 115/1444 [00:13<02:29,  8.90it/s]"
     ]
    },
    {
     "name": "stdout",
     "output_type": "stream",
     "text": [
      "Decoded audio embeddings shape: (None, 128)\n",
      "Decoded audio embeddings shape: (None, 128)\n"
     ]
    },
    {
     "name": "stderr",
     "output_type": "stream",
     "text": [
      "Processing TFRecord files:   8%|▊         | 118/1444 [00:14<02:35,  8.53it/s]"
     ]
    },
    {
     "name": "stdout",
     "output_type": "stream",
     "text": [
      "Decoded audio embeddings shape: (None, 128)\n",
      "Decoded audio embeddings shape: (None, 128)\n"
     ]
    },
    {
     "name": "stderr",
     "output_type": "stream",
     "text": [
      "Processing TFRecord files:   8%|▊         | 119/1444 [00:14<02:42,  8.16it/s]"
     ]
    },
    {
     "name": "stdout",
     "output_type": "stream",
     "text": [
      "Decoded audio embeddings shape: (None, 128)\n",
      "Decoded audio embeddings shape: (None, 128)\n"
     ]
    },
    {
     "name": "stderr",
     "output_type": "stream",
     "text": [
      "Processing TFRecord files:   8%|▊         | 120/1444 [00:14<02:48,  7.88it/s]"
     ]
    },
    {
     "name": "stdout",
     "output_type": "stream",
     "text": [
      "Decoded audio embeddings shape: (None, 128)\n"
     ]
    },
    {
     "name": "stderr",
     "output_type": "stream",
     "text": [
      "Processing TFRecord files:   8%|▊         | 122/1444 [00:14<04:08,  5.31it/s]"
     ]
    },
    {
     "name": "stdout",
     "output_type": "stream",
     "text": [
      "Decoded audio embeddings shape: (None, 128)\n",
      "Decoded audio embeddings shape: (None, 128)\n"
     ]
    },
    {
     "name": "stderr",
     "output_type": "stream",
     "text": [
      "Processing TFRecord files:   9%|▊         | 124/1444 [00:15<04:17,  5.12it/s]"
     ]
    },
    {
     "name": "stdout",
     "output_type": "stream",
     "text": [
      "Decoded audio embeddings shape: (None, 128)\n",
      "Decoded audio embeddings shape: (None, 128)\n"
     ]
    },
    {
     "name": "stderr",
     "output_type": "stream",
     "text": [
      "Processing TFRecord files:   9%|▊         | 126/1444 [00:15<05:01,  4.37it/s]"
     ]
    },
    {
     "name": "stdout",
     "output_type": "stream",
     "text": [
      "Decoded audio embeddings shape: (None, 128)\n"
     ]
    },
    {
     "name": "stderr",
     "output_type": "stream",
     "text": [
      "Processing TFRecord files:   9%|▉         | 127/1444 [00:16<05:09,  4.26it/s]"
     ]
    },
    {
     "name": "stdout",
     "output_type": "stream",
     "text": [
      "Decoded audio embeddings shape: (None, 128)\n"
     ]
    },
    {
     "name": "stderr",
     "output_type": "stream",
     "text": [
      "Processing TFRecord files:   9%|▉         | 128/1444 [00:16<05:28,  4.01it/s]"
     ]
    },
    {
     "name": "stdout",
     "output_type": "stream",
     "text": [
      "Decoded audio embeddings shape: (None, 128)\n"
     ]
    },
    {
     "name": "stderr",
     "output_type": "stream",
     "text": [
      "Processing TFRecord files:   9%|▉         | 129/1444 [00:16<05:41,  3.85it/s]"
     ]
    },
    {
     "name": "stdout",
     "output_type": "stream",
     "text": [
      "Decoded audio embeddings shape: (None, 128)\n"
     ]
    },
    {
     "name": "stderr",
     "output_type": "stream",
     "text": [
      "Processing TFRecord files:   9%|▉         | 130/1444 [00:16<05:48,  3.77it/s]"
     ]
    },
    {
     "name": "stdout",
     "output_type": "stream",
     "text": [
      "Decoded audio embeddings shape: (None, 128)\n"
     ]
    },
    {
     "name": "stderr",
     "output_type": "stream",
     "text": [
      "Processing TFRecord files:   9%|▉         | 131/1444 [00:17<05:56,  3.68it/s]"
     ]
    },
    {
     "name": "stdout",
     "output_type": "stream",
     "text": [
      "Decoded audio embeddings shape: (None, 128)\n"
     ]
    },
    {
     "name": "stderr",
     "output_type": "stream",
     "text": [
      "Processing TFRecord files:   9%|▉         | 132/1444 [00:17<05:51,  3.74it/s]"
     ]
    },
    {
     "name": "stdout",
     "output_type": "stream",
     "text": [
      "Decoded audio embeddings shape: (None, 128)\n"
     ]
    },
    {
     "name": "stderr",
     "output_type": "stream",
     "text": [
      "Processing TFRecord files:   9%|▉         | 133/1444 [00:17<05:42,  3.83it/s]"
     ]
    },
    {
     "name": "stdout",
     "output_type": "stream",
     "text": [
      "Decoded audio embeddings shape: (None, 128)\n",
      "Decoded audio embeddings shape: (None, 128)\n"
     ]
    },
    {
     "name": "stderr",
     "output_type": "stream",
     "text": [
      "Processing TFRecord files:   9%|▉         | 135/1444 [00:18<06:51,  3.18it/s]"
     ]
    },
    {
     "name": "stdout",
     "output_type": "stream",
     "text": [
      "Decoded audio embeddings shape: (None, 128)\n",
      "Decoded audio embeddings shape: (None, 128)\n"
     ]
    },
    {
     "name": "stderr",
     "output_type": "stream",
     "text": [
      "Processing TFRecord files:   9%|▉         | 137/1444 [00:19<06:54,  3.15it/s]"
     ]
    },
    {
     "name": "stdout",
     "output_type": "stream",
     "text": [
      "Decoded audio embeddings shape: (None, 128)\n"
     ]
    },
    {
     "name": "stderr",
     "output_type": "stream",
     "text": [
      "Processing TFRecord files:  10%|▉         | 138/1444 [00:19<06:38,  3.27it/s]"
     ]
    },
    {
     "name": "stdout",
     "output_type": "stream",
     "text": [
      "Decoded audio embeddings shape: (None, 128)\n"
     ]
    },
    {
     "name": "stderr",
     "output_type": "stream",
     "text": [
      "Processing TFRecord files:  10%|▉         | 139/1444 [00:19<06:34,  3.31it/s]"
     ]
    },
    {
     "name": "stdout",
     "output_type": "stream",
     "text": [
      "Decoded audio embeddings shape: (None, 128)\n"
     ]
    },
    {
     "name": "stderr",
     "output_type": "stream",
     "text": [
      "Processing TFRecord files:  10%|▉         | 140/1444 [00:19<06:24,  3.39it/s]"
     ]
    },
    {
     "name": "stdout",
     "output_type": "stream",
     "text": [
      "Decoded audio embeddings shape: (None, 128)\n"
     ]
    },
    {
     "name": "stderr",
     "output_type": "stream",
     "text": [
      "Processing TFRecord files:  10%|▉         | 141/1444 [00:20<06:18,  3.44it/s]"
     ]
    },
    {
     "name": "stdout",
     "output_type": "stream",
     "text": [
      "Decoded audio embeddings shape: (None, 128)\n"
     ]
    },
    {
     "name": "stderr",
     "output_type": "stream",
     "text": [
      "Processing TFRecord files:  10%|▉         | 142/1444 [00:20<06:27,  3.36it/s]"
     ]
    },
    {
     "name": "stdout",
     "output_type": "stream",
     "text": [
      "Decoded audio embeddings shape: (None, 128)\n",
      "Decoded audio embeddings shape: (None, 128)\n"
     ]
    },
    {
     "name": "stderr",
     "output_type": "stream",
     "text": [
      "Processing TFRecord files:  10%|▉         | 144/1444 [00:21<07:05,  3.06it/s]"
     ]
    },
    {
     "name": "stdout",
     "output_type": "stream",
     "text": [
      "Decoded audio embeddings shape: (None, 128)\n"
     ]
    },
    {
     "name": "stderr",
     "output_type": "stream",
     "text": [
      "Processing TFRecord files:  10%|█         | 145/1444 [00:21<06:48,  3.18it/s]"
     ]
    },
    {
     "name": "stdout",
     "output_type": "stream",
     "text": [
      "Decoded audio embeddings shape: (None, 128)\n"
     ]
    },
    {
     "name": "stderr",
     "output_type": "stream",
     "text": [
      "Processing TFRecord files:  10%|█         | 146/1444 [00:21<06:46,  3.19it/s]"
     ]
    },
    {
     "name": "stdout",
     "output_type": "stream",
     "text": [
      "Decoded audio embeddings shape: (None, 128)\n"
     ]
    },
    {
     "name": "stderr",
     "output_type": "stream",
     "text": [
      "Processing TFRecord files:  10%|█         | 147/1444 [00:22<06:24,  3.37it/s]"
     ]
    },
    {
     "name": "stdout",
     "output_type": "stream",
     "text": [
      "Decoded audio embeddings shape: (None, 128)\n"
     ]
    },
    {
     "name": "stderr",
     "output_type": "stream",
     "text": [
      "Processing TFRecord files:  10%|█         | 148/1444 [00:22<06:27,  3.35it/s]"
     ]
    },
    {
     "name": "stdout",
     "output_type": "stream",
     "text": [
      "Decoded audio embeddings shape: (None, 128)\n"
     ]
    },
    {
     "name": "stderr",
     "output_type": "stream",
     "text": [
      "Processing TFRecord files:  10%|█         | 149/1444 [00:22<06:22,  3.38it/s]"
     ]
    },
    {
     "name": "stdout",
     "output_type": "stream",
     "text": [
      "Decoded audio embeddings shape: (None, 128)\n"
     ]
    },
    {
     "name": "stderr",
     "output_type": "stream",
     "text": [
      "Processing TFRecord files:  10%|█         | 150/1444 [00:22<06:30,  3.31it/s]"
     ]
    },
    {
     "name": "stdout",
     "output_type": "stream",
     "text": [
      "Decoded audio embeddings shape: (None, 128)\n"
     ]
    },
    {
     "name": "stderr",
     "output_type": "stream",
     "text": [
      "Processing TFRecord files:  10%|█         | 151/1444 [00:23<06:19,  3.41it/s]"
     ]
    },
    {
     "name": "stdout",
     "output_type": "stream",
     "text": [
      "Decoded audio embeddings shape: (None, 128)\n",
      "Decoded audio embeddings shape: (None, 128)\n"
     ]
    },
    {
     "name": "stderr",
     "output_type": "stream",
     "text": [
      "Processing TFRecord files:  11%|█         | 153/1444 [00:23<06:19,  3.40it/s]"
     ]
    },
    {
     "name": "stdout",
     "output_type": "stream",
     "text": [
      "Decoded audio embeddings shape: (None, 128)\n"
     ]
    },
    {
     "name": "stderr",
     "output_type": "stream",
     "text": [
      "Processing TFRecord files:  11%|█         | 154/1444 [00:24<05:58,  3.60it/s]"
     ]
    },
    {
     "name": "stdout",
     "output_type": "stream",
     "text": [
      "Decoded audio embeddings shape: (None, 128)\n"
     ]
    },
    {
     "name": "stderr",
     "output_type": "stream",
     "text": [
      "Processing TFRecord files:  11%|█         | 155/1444 [00:24<05:43,  3.75it/s]"
     ]
    },
    {
     "name": "stdout",
     "output_type": "stream",
     "text": [
      "Decoded audio embeddings shape: (None, 128)\n"
     ]
    },
    {
     "name": "stderr",
     "output_type": "stream",
     "text": [
      "Processing TFRecord files:  11%|█         | 156/1444 [00:24<05:37,  3.82it/s]"
     ]
    },
    {
     "name": "stdout",
     "output_type": "stream",
     "text": [
      "Decoded audio embeddings shape: (None, 128)\n"
     ]
    },
    {
     "name": "stderr",
     "output_type": "stream",
     "text": [
      "Processing TFRecord files:  11%|█         | 157/1444 [00:24<05:27,  3.93it/s]"
     ]
    },
    {
     "name": "stdout",
     "output_type": "stream",
     "text": [
      "Decoded audio embeddings shape: (None, 128)\n"
     ]
    },
    {
     "name": "stderr",
     "output_type": "stream",
     "text": [
      "Processing TFRecord files:  11%|█         | 158/1444 [00:25<05:42,  3.76it/s]"
     ]
    },
    {
     "name": "stdout",
     "output_type": "stream",
     "text": [
      "Decoded audio embeddings shape: (None, 128)\n",
      "Decoded audio embeddings shape: (None, 128)\n"
     ]
    },
    {
     "name": "stderr",
     "output_type": "stream",
     "text": [
      "Processing TFRecord files:  11%|█         | 160/1444 [00:25<05:46,  3.71it/s]"
     ]
    },
    {
     "name": "stdout",
     "output_type": "stream",
     "text": [
      "Decoded audio embeddings shape: (None, 128)\n"
     ]
    },
    {
     "name": "stderr",
     "output_type": "stream",
     "text": [
      "Processing TFRecord files:  11%|█         | 161/1444 [00:25<05:18,  4.03it/s]"
     ]
    },
    {
     "name": "stdout",
     "output_type": "stream",
     "text": [
      "Decoded audio embeddings shape: (None, 128)\n",
      "Decoded audio embeddings shape: (None, 128)\n"
     ]
    },
    {
     "name": "stderr",
     "output_type": "stream",
     "text": [
      "Processing TFRecord files:  11%|█▏        | 163/1444 [00:26<04:47,  4.45it/s]"
     ]
    },
    {
     "name": "stdout",
     "output_type": "stream",
     "text": [
      "Decoded audio embeddings shape: (None, 128)\n",
      "Decoded audio embeddings shape: (None, 128)\n"
     ]
    },
    {
     "name": "stderr",
     "output_type": "stream",
     "text": [
      "Processing TFRecord files:  11%|█▏        | 165/1444 [00:26<04:21,  4.89it/s]"
     ]
    },
    {
     "name": "stdout",
     "output_type": "stream",
     "text": [
      "Decoded audio embeddings shape: (None, 128)\n",
      "Decoded audio embeddings shape: (None, 128)\n"
     ]
    },
    {
     "name": "stderr",
     "output_type": "stream",
     "text": [
      "Processing TFRecord files:  12%|█▏        | 167/1444 [00:27<04:04,  5.23it/s]"
     ]
    },
    {
     "name": "stdout",
     "output_type": "stream",
     "text": [
      "Decoded audio embeddings shape: (None, 128)\n",
      "Decoded audio embeddings shape: (None, 128)\n"
     ]
    },
    {
     "name": "stderr",
     "output_type": "stream",
     "text": [
      "Processing TFRecord files:  12%|█▏        | 169/1444 [00:27<04:12,  5.04it/s]"
     ]
    },
    {
     "name": "stdout",
     "output_type": "stream",
     "text": [
      "Decoded audio embeddings shape: (None, 128)\n",
      "Decoded audio embeddings shape: (None, 128)\n"
     ]
    },
    {
     "name": "stderr",
     "output_type": "stream",
     "text": [
      "Processing TFRecord files:  12%|█▏        | 171/1444 [00:27<04:38,  4.57it/s]"
     ]
    },
    {
     "name": "stdout",
     "output_type": "stream",
     "text": [
      "Decoded audio embeddings shape: (None, 128)\n"
     ]
    },
    {
     "name": "stderr",
     "output_type": "stream",
     "text": [
      "Processing TFRecord files:  12%|█▏        | 172/1444 [00:28<04:37,  4.58it/s]"
     ]
    },
    {
     "name": "stdout",
     "output_type": "stream",
     "text": [
      "Decoded audio embeddings shape: (None, 128)\n",
      "Decoded audio embeddings shape: (None, 128)\n"
     ]
    },
    {
     "name": "stderr",
     "output_type": "stream",
     "text": [
      "Processing TFRecord files:  12%|█▏        | 174/1444 [00:28<04:30,  4.70it/s]"
     ]
    },
    {
     "name": "stdout",
     "output_type": "stream",
     "text": [
      "Decoded audio embeddings shape: (None, 128)\n"
     ]
    },
    {
     "name": "stderr",
     "output_type": "stream",
     "text": [
      "Processing TFRecord files:  12%|█▏        | 175/1444 [00:28<04:43,  4.47it/s]"
     ]
    },
    {
     "name": "stdout",
     "output_type": "stream",
     "text": [
      "Decoded audio embeddings shape: (None, 128)\n"
     ]
    },
    {
     "name": "stderr",
     "output_type": "stream",
     "text": [
      "Processing TFRecord files:  12%|█▏        | 176/1444 [00:28<04:49,  4.38it/s]"
     ]
    },
    {
     "name": "stdout",
     "output_type": "stream",
     "text": [
      "Decoded audio embeddings shape: (None, 128)\n"
     ]
    },
    {
     "name": "stderr",
     "output_type": "stream",
     "text": [
      "Processing TFRecord files:  12%|█▏        | 177/1444 [00:29<04:55,  4.29it/s]"
     ]
    },
    {
     "name": "stdout",
     "output_type": "stream",
     "text": [
      "Decoded audio embeddings shape: (None, 128)\n"
     ]
    },
    {
     "name": "stderr",
     "output_type": "stream",
     "text": [
      "Processing TFRecord files:  12%|█▏        | 178/1444 [00:29<04:49,  4.37it/s]"
     ]
    },
    {
     "name": "stdout",
     "output_type": "stream",
     "text": [
      "Decoded audio embeddings shape: (None, 128)\n"
     ]
    },
    {
     "name": "stderr",
     "output_type": "stream",
     "text": [
      "Processing TFRecord files:  12%|█▏        | 179/1444 [00:29<04:36,  4.57it/s]"
     ]
    },
    {
     "name": "stdout",
     "output_type": "stream",
     "text": [
      "Decoded audio embeddings shape: (None, 128)\n",
      "Decoded audio embeddings shape: (None, 128)\n"
     ]
    },
    {
     "name": "stderr",
     "output_type": "stream",
     "text": [
      "Processing TFRecord files:  13%|█▎        | 181/1444 [00:30<05:09,  4.09it/s]"
     ]
    },
    {
     "name": "stdout",
     "output_type": "stream",
     "text": [
      "Decoded audio embeddings shape: (None, 128)\n",
      "Decoded audio embeddings shape: (None, 128)\n"
     ]
    },
    {
     "name": "stderr",
     "output_type": "stream",
     "text": [
      "Processing TFRecord files:  13%|█▎        | 183/1444 [00:30<05:15,  3.99it/s]"
     ]
    },
    {
     "name": "stdout",
     "output_type": "stream",
     "text": [
      "Decoded audio embeddings shape: (None, 128)\n"
     ]
    },
    {
     "name": "stderr",
     "output_type": "stream",
     "text": [
      "Processing TFRecord files:  13%|█▎        | 184/1444 [00:30<05:30,  3.82it/s]"
     ]
    },
    {
     "name": "stdout",
     "output_type": "stream",
     "text": [
      "Decoded audio embeddings shape: (None, 128)\n"
     ]
    },
    {
     "name": "stderr",
     "output_type": "stream",
     "text": [
      "Processing TFRecord files:  13%|█▎        | 185/1444 [00:31<05:25,  3.87it/s]"
     ]
    },
    {
     "name": "stdout",
     "output_type": "stream",
     "text": [
      "Decoded audio embeddings shape: (None, 128)\n"
     ]
    },
    {
     "name": "stderr",
     "output_type": "stream",
     "text": [
      "Processing TFRecord files:  13%|█▎        | 186/1444 [00:31<05:32,  3.78it/s]"
     ]
    },
    {
     "name": "stdout",
     "output_type": "stream",
     "text": [
      "Decoded audio embeddings shape: (None, 128)\n",
      "Decoded audio embeddings shape: (None, 128)\n"
     ]
    },
    {
     "name": "stderr",
     "output_type": "stream",
     "text": [
      "Processing TFRecord files:  13%|█▎        | 188/1444 [00:32<06:20,  3.30it/s]"
     ]
    },
    {
     "name": "stdout",
     "output_type": "stream",
     "text": [
      "Decoded audio embeddings shape: (None, 128)\n",
      "Decoded audio embeddings shape: (None, 128)\n"
     ]
    },
    {
     "name": "stderr",
     "output_type": "stream",
     "text": [
      "Processing TFRecord files:  13%|█▎        | 190/1444 [00:32<04:59,  4.19it/s]"
     ]
    },
    {
     "name": "stdout",
     "output_type": "stream",
     "text": [
      "Decoded audio embeddings shape: (None, 128)\n"
     ]
    },
    {
     "name": "stderr",
     "output_type": "stream",
     "text": [
      "Processing TFRecord files:  13%|█▎        | 191/1444 [00:32<05:12,  4.01it/s]"
     ]
    },
    {
     "name": "stdout",
     "output_type": "stream",
     "text": [
      "Decoded audio embeddings shape: (None, 128)\n"
     ]
    },
    {
     "name": "stderr",
     "output_type": "stream",
     "text": [
      "Processing TFRecord files:  13%|█▎        | 192/1444 [00:33<04:58,  4.20it/s]"
     ]
    },
    {
     "name": "stdout",
     "output_type": "stream",
     "text": [
      "Decoded audio embeddings shape: (None, 128)\n"
     ]
    },
    {
     "name": "stderr",
     "output_type": "stream",
     "text": [
      "Processing TFRecord files:  13%|█▎        | 193/1444 [00:33<04:43,  4.42it/s]"
     ]
    },
    {
     "name": "stdout",
     "output_type": "stream",
     "text": [
      "Decoded audio embeddings shape: (None, 128)\n",
      "Decoded audio embeddings shape: (None, 128)\n"
     ]
    },
    {
     "name": "stderr",
     "output_type": "stream",
     "text": [
      "Processing TFRecord files:  14%|█▎        | 195/1444 [00:33<04:00,  5.20it/s]"
     ]
    },
    {
     "name": "stdout",
     "output_type": "stream",
     "text": [
      "Decoded audio embeddings shape: (None, 128)\n",
      "Decoded audio embeddings shape: (None, 128)\n"
     ]
    },
    {
     "name": "stderr",
     "output_type": "stream",
     "text": [
      "Processing TFRecord files:  14%|█▎        | 198/1444 [00:33<03:05,  6.72it/s]"
     ]
    },
    {
     "name": "stdout",
     "output_type": "stream",
     "text": [
      "Decoded audio embeddings shape: (None, 128)\n",
      "Decoded audio embeddings shape: (None, 128)\n"
     ]
    },
    {
     "name": "stderr",
     "output_type": "stream",
     "text": [
      "Processing TFRecord files:  14%|█▍        | 199/1444 [00:34<03:01,  6.85it/s]"
     ]
    },
    {
     "name": "stdout",
     "output_type": "stream",
     "text": [
      "Decoded audio embeddings shape: (None, 128)\n",
      "Decoded audio embeddings shape: (None, 128)\n"
     ]
    },
    {
     "name": "stderr",
     "output_type": "stream",
     "text": [
      "Processing TFRecord files:  14%|█▍        | 201/1444 [00:34<02:55,  7.08it/s]"
     ]
    },
    {
     "name": "stdout",
     "output_type": "stream",
     "text": [
      "Decoded audio embeddings shape: (None, 128)\n",
      "Decoded audio embeddings shape: (None, 128)\n"
     ]
    },
    {
     "name": "stderr",
     "output_type": "stream",
     "text": [
      "Processing TFRecord files:  14%|█▍        | 204/1444 [00:34<02:43,  7.56it/s]"
     ]
    },
    {
     "name": "stdout",
     "output_type": "stream",
     "text": [
      "Decoded audio embeddings shape: (None, 128)\n",
      "Decoded audio embeddings shape: (None, 128)\n"
     ]
    },
    {
     "name": "stderr",
     "output_type": "stream",
     "text": [
      "Processing TFRecord files:  14%|█▍        | 205/1444 [00:34<02:40,  7.73it/s]"
     ]
    },
    {
     "name": "stdout",
     "output_type": "stream",
     "text": [
      "Decoded audio embeddings shape: (None, 128)\n",
      "Decoded audio embeddings shape: (None, 128)\n"
     ]
    },
    {
     "name": "stderr",
     "output_type": "stream",
     "text": [
      "Processing TFRecord files:  14%|█▍        | 208/1444 [00:35<02:37,  7.85it/s]"
     ]
    },
    {
     "name": "stdout",
     "output_type": "stream",
     "text": [
      "Decoded audio embeddings shape: (None, 128)\n",
      "Decoded audio embeddings shape: (None, 128)\n"
     ]
    },
    {
     "name": "stderr",
     "output_type": "stream",
     "text": [
      "Processing TFRecord files:  15%|█▍        | 210/1444 [00:35<02:33,  8.03it/s]"
     ]
    },
    {
     "name": "stdout",
     "output_type": "stream",
     "text": [
      "Decoded audio embeddings shape: (None, 128)\n",
      "Decoded audio embeddings shape: (None, 128)\n"
     ]
    },
    {
     "name": "stderr",
     "output_type": "stream",
     "text": [
      "Processing TFRecord files:  15%|█▍        | 211/1444 [00:35<03:07,  6.56it/s]"
     ]
    },
    {
     "name": "stdout",
     "output_type": "stream",
     "text": [
      "Decoded audio embeddings shape: (None, 128)\n",
      "Decoded audio embeddings shape: (None, 128)\n"
     ]
    },
    {
     "name": "stderr",
     "output_type": "stream",
     "text": [
      "Processing TFRecord files:  15%|█▍        | 214/1444 [00:36<02:48,  7.30it/s]"
     ]
    },
    {
     "name": "stdout",
     "output_type": "stream",
     "text": [
      "Decoded audio embeddings shape: (None, 128)\n",
      "Decoded audio embeddings shape: (None, 128)\n"
     ]
    },
    {
     "name": "stderr",
     "output_type": "stream",
     "text": [
      "Processing TFRecord files:  15%|█▍        | 215/1444 [00:36<02:45,  7.42it/s]"
     ]
    },
    {
     "name": "stdout",
     "output_type": "stream",
     "text": [
      "Decoded audio embeddings shape: (None, 128)\n",
      "Decoded audio embeddings shape: (None, 128)\n"
     ]
    },
    {
     "name": "stderr",
     "output_type": "stream",
     "text": [
      "Processing TFRecord files:  15%|█▌        | 217/1444 [00:36<02:46,  7.37it/s]"
     ]
    },
    {
     "name": "stdout",
     "output_type": "stream",
     "text": [
      "Decoded audio embeddings shape: (None, 128)\n",
      "Decoded audio embeddings shape: (None, 128)\n"
     ]
    },
    {
     "name": "stderr",
     "output_type": "stream",
     "text": [
      "Processing TFRecord files:  15%|█▌        | 220/1444 [00:36<02:36,  7.81it/s]"
     ]
    },
    {
     "name": "stdout",
     "output_type": "stream",
     "text": [
      "Decoded audio embeddings shape: (None, 128)\n",
      "Decoded audio embeddings shape: (None, 128)\n"
     ]
    },
    {
     "name": "stderr",
     "output_type": "stream",
     "text": [
      "Processing TFRecord files:  15%|█▌        | 221/1444 [00:37<02:40,  7.60it/s]"
     ]
    },
    {
     "name": "stdout",
     "output_type": "stream",
     "text": [
      "Decoded audio embeddings shape: (None, 128)\n",
      "Decoded audio embeddings shape: (None, 128)\n"
     ]
    },
    {
     "name": "stderr",
     "output_type": "stream",
     "text": [
      "Processing TFRecord files:  15%|█▌        | 223/1444 [00:37<03:26,  5.92it/s]"
     ]
    },
    {
     "name": "stdout",
     "output_type": "stream",
     "text": [
      "Decoded audio embeddings shape: (None, 128)\n"
     ]
    },
    {
     "name": "stderr",
     "output_type": "stream",
     "text": [
      "Processing TFRecord files:  16%|█▌        | 224/1444 [00:37<03:47,  5.35it/s]"
     ]
    },
    {
     "name": "stdout",
     "output_type": "stream",
     "text": [
      "Decoded audio embeddings shape: (None, 128)\n",
      "Decoded audio embeddings shape: (None, 128)\n"
     ]
    },
    {
     "name": "stderr",
     "output_type": "stream",
     "text": [
      "Processing TFRecord files:  16%|█▌        | 226/1444 [00:38<03:47,  5.35it/s]"
     ]
    },
    {
     "name": "stdout",
     "output_type": "stream",
     "text": [
      "Decoded audio embeddings shape: (None, 128)\n",
      "Decoded audio embeddings shape: (None, 128)\n"
     ]
    },
    {
     "name": "stderr",
     "output_type": "stream",
     "text": [
      "Processing TFRecord files:  16%|█▌        | 227/1444 [00:38<03:42,  5.46it/s]"
     ]
    },
    {
     "name": "stdout",
     "output_type": "stream",
     "text": [
      "Decoded audio embeddings shape: (None, 128)\n"
     ]
    },
    {
     "name": "stderr",
     "output_type": "stream",
     "text": [
      "Processing TFRecord files:  16%|█▌        | 229/1444 [00:38<04:36,  4.40it/s]"
     ]
    },
    {
     "name": "stdout",
     "output_type": "stream",
     "text": [
      "Decoded audio embeddings shape: (None, 128)\n"
     ]
    },
    {
     "name": "stderr",
     "output_type": "stream",
     "text": [
      "Processing TFRecord files:  16%|█▌        | 230/1444 [00:38<04:21,  4.64it/s]"
     ]
    },
    {
     "name": "stdout",
     "output_type": "stream",
     "text": [
      "Decoded audio embeddings shape: (None, 128)\n",
      "Decoded audio embeddings shape: (None, 128)\n"
     ]
    },
    {
     "name": "stderr",
     "output_type": "stream",
     "text": [
      "Processing TFRecord files:  16%|█▌        | 232/1444 [00:39<04:05,  4.93it/s]"
     ]
    },
    {
     "name": "stdout",
     "output_type": "stream",
     "text": [
      "Decoded audio embeddings shape: (None, 128)\n",
      "Decoded audio embeddings shape: (None, 128)\n"
     ]
    },
    {
     "name": "stderr",
     "output_type": "stream",
     "text": [
      "Processing TFRecord files:  16%|█▌        | 234/1444 [00:39<04:09,  4.86it/s]"
     ]
    },
    {
     "name": "stdout",
     "output_type": "stream",
     "text": [
      "Decoded audio embeddings shape: (None, 128)\n",
      "Decoded audio embeddings shape: (None, 128)\n"
     ]
    },
    {
     "name": "stderr",
     "output_type": "stream",
     "text": [
      "Processing TFRecord files:  16%|█▋        | 236/1444 [00:40<04:22,  4.61it/s]"
     ]
    },
    {
     "name": "stdout",
     "output_type": "stream",
     "text": [
      "Decoded audio embeddings shape: (None, 128)\n",
      "Decoded audio embeddings shape: (None, 128)\n"
     ]
    },
    {
     "name": "stderr",
     "output_type": "stream",
     "text": [
      "Processing TFRecord files:  16%|█▋        | 238/1444 [00:40<04:08,  4.85it/s]"
     ]
    },
    {
     "name": "stdout",
     "output_type": "stream",
     "text": [
      "Decoded audio embeddings shape: (None, 128)\n",
      "Decoded audio embeddings shape: (None, 128)\n"
     ]
    },
    {
     "name": "stderr",
     "output_type": "stream",
     "text": [
      "Processing TFRecord files:  17%|█▋        | 240/1444 [00:41<03:58,  5.05it/s]"
     ]
    },
    {
     "name": "stdout",
     "output_type": "stream",
     "text": [
      "Decoded audio embeddings shape: (None, 128)\n",
      "Decoded audio embeddings shape: (None, 128)\n"
     ]
    },
    {
     "name": "stderr",
     "output_type": "stream",
     "text": [
      "Processing TFRecord files:  17%|█▋        | 242/1444 [00:41<04:05,  4.90it/s]"
     ]
    },
    {
     "name": "stdout",
     "output_type": "stream",
     "text": [
      "Decoded audio embeddings shape: (None, 128)\n",
      "Decoded audio embeddings shape: (None, 128)\n"
     ]
    },
    {
     "name": "stderr",
     "output_type": "stream",
     "text": [
      "Processing TFRecord files:  17%|█▋        | 244/1444 [00:41<03:46,  5.30it/s]"
     ]
    },
    {
     "name": "stdout",
     "output_type": "stream",
     "text": [
      "Decoded audio embeddings shape: (None, 128)\n",
      "Decoded audio embeddings shape: (None, 128)\n"
     ]
    },
    {
     "name": "stderr",
     "output_type": "stream",
     "text": [
      "Processing TFRecord files:  17%|█▋        | 246/1444 [00:42<03:40,  5.44it/s]"
     ]
    },
    {
     "name": "stdout",
     "output_type": "stream",
     "text": [
      "Decoded audio embeddings shape: (None, 128)\n",
      "Decoded audio embeddings shape: (None, 128)\n"
     ]
    },
    {
     "name": "stderr",
     "output_type": "stream",
     "text": [
      "Processing TFRecord files:  17%|█▋        | 248/1444 [00:42<03:46,  5.27it/s]"
     ]
    },
    {
     "name": "stdout",
     "output_type": "stream",
     "text": [
      "Decoded audio embeddings shape: (None, 128)\n",
      "Decoded audio embeddings shape: (None, 128)\n"
     ]
    },
    {
     "name": "stderr",
     "output_type": "stream",
     "text": [
      "Processing TFRecord files:  17%|█▋        | 250/1444 [00:42<04:06,  4.85it/s]"
     ]
    },
    {
     "name": "stdout",
     "output_type": "stream",
     "text": [
      "Decoded audio embeddings shape: (None, 128)\n"
     ]
    },
    {
     "name": "stderr",
     "output_type": "stream",
     "text": [
      "Processing TFRecord files:  17%|█▋        | 251/1444 [00:43<04:35,  4.34it/s]"
     ]
    },
    {
     "name": "stdout",
     "output_type": "stream",
     "text": [
      "Decoded audio embeddings shape: (None, 128)\n"
     ]
    },
    {
     "name": "stderr",
     "output_type": "stream",
     "text": [
      "Processing TFRecord files:  17%|█▋        | 252/1444 [00:43<04:22,  4.55it/s]"
     ]
    },
    {
     "name": "stdout",
     "output_type": "stream",
     "text": [
      "Decoded audio embeddings shape: (None, 128)\n",
      "Decoded audio embeddings shape: (None, 128)\n"
     ]
    },
    {
     "name": "stderr",
     "output_type": "stream",
     "text": [
      "Processing TFRecord files:  18%|█▊        | 254/1444 [00:43<04:11,  4.73it/s]"
     ]
    },
    {
     "name": "stdout",
     "output_type": "stream",
     "text": [
      "Decoded audio embeddings shape: (None, 128)\n"
     ]
    },
    {
     "name": "stderr",
     "output_type": "stream",
     "text": [
      "Processing TFRecord files:  18%|█▊        | 255/1444 [00:44<04:08,  4.78it/s]"
     ]
    },
    {
     "name": "stdout",
     "output_type": "stream",
     "text": [
      "Decoded audio embeddings shape: (None, 128)\n",
      "Decoded audio embeddings shape: (None, 128)\n"
     ]
    },
    {
     "name": "stderr",
     "output_type": "stream",
     "text": [
      "Processing TFRecord files:  18%|█▊        | 257/1444 [00:44<04:43,  4.18it/s]"
     ]
    },
    {
     "name": "stdout",
     "output_type": "stream",
     "text": [
      "Decoded audio embeddings shape: (None, 128)\n"
     ]
    },
    {
     "name": "stderr",
     "output_type": "stream",
     "text": [
      "Processing TFRecord files:  18%|█▊        | 258/1444 [00:44<04:31,  4.37it/s]"
     ]
    },
    {
     "name": "stdout",
     "output_type": "stream",
     "text": [
      "Decoded audio embeddings shape: (None, 128)\n",
      "Decoded audio embeddings shape: (None, 128)\n"
     ]
    },
    {
     "name": "stderr",
     "output_type": "stream",
     "text": [
      "Processing TFRecord files:  18%|█▊        | 260/1444 [00:45<04:15,  4.64it/s]"
     ]
    },
    {
     "name": "stdout",
     "output_type": "stream",
     "text": [
      "Decoded audio embeddings shape: (None, 128)\n",
      "Decoded audio embeddings shape: (None, 128)\n"
     ]
    },
    {
     "name": "stderr",
     "output_type": "stream",
     "text": [
      "Processing TFRecord files:  18%|█▊        | 261/1444 [00:45<04:05,  4.81it/s]"
     ]
    },
    {
     "name": "stdout",
     "output_type": "stream",
     "text": [
      "Decoded audio embeddings shape: (None, 128)\n"
     ]
    },
    {
     "name": "stderr",
     "output_type": "stream",
     "text": [
      "Processing TFRecord files:  18%|█▊        | 263/1444 [00:45<04:24,  4.46it/s]"
     ]
    },
    {
     "name": "stdout",
     "output_type": "stream",
     "text": [
      "Decoded audio embeddings shape: (None, 128)\n"
     ]
    },
    {
     "name": "stderr",
     "output_type": "stream",
     "text": [
      "Processing TFRecord files:  18%|█▊        | 264/1444 [00:46<04:15,  4.62it/s]"
     ]
    },
    {
     "name": "stdout",
     "output_type": "stream",
     "text": [
      "Decoded audio embeddings shape: (None, 128)\n",
      "Decoded audio embeddings shape: (None, 128)\n"
     ]
    },
    {
     "name": "stderr",
     "output_type": "stream",
     "text": [
      "Processing TFRecord files:  18%|█▊        | 266/1444 [00:46<03:58,  4.94it/s]"
     ]
    },
    {
     "name": "stdout",
     "output_type": "stream",
     "text": [
      "Decoded audio embeddings shape: (None, 128)\n",
      "Decoded audio embeddings shape: (None, 128)\n"
     ]
    },
    {
     "name": "stderr",
     "output_type": "stream",
     "text": [
      "Processing TFRecord files:  19%|█▊        | 268/1444 [00:46<04:12,  4.66it/s]"
     ]
    },
    {
     "name": "stdout",
     "output_type": "stream",
     "text": [
      "Decoded audio embeddings shape: (None, 128)\n",
      "Decoded audio embeddings shape: (None, 128)\n"
     ]
    },
    {
     "name": "stderr",
     "output_type": "stream",
     "text": [
      "Processing TFRecord files:  19%|█▊        | 270/1444 [00:47<03:55,  4.98it/s]"
     ]
    },
    {
     "name": "stdout",
     "output_type": "stream",
     "text": [
      "Decoded audio embeddings shape: (None, 128)\n",
      "Decoded audio embeddings shape: (None, 128)\n"
     ]
    },
    {
     "name": "stderr",
     "output_type": "stream",
     "text": [
      "Processing TFRecord files:  19%|█▉        | 272/1444 [00:47<03:45,  5.19it/s]"
     ]
    },
    {
     "name": "stdout",
     "output_type": "stream",
     "text": [
      "Decoded audio embeddings shape: (None, 128)\n"
     ]
    },
    {
     "name": "stderr",
     "output_type": "stream",
     "text": [
      "Processing TFRecord files:  19%|█▉        | 273/1444 [00:47<04:14,  4.59it/s]"
     ]
    },
    {
     "name": "stdout",
     "output_type": "stream",
     "text": [
      "Decoded audio embeddings shape: (None, 128)\n"
     ]
    },
    {
     "name": "stderr",
     "output_type": "stream",
     "text": [
      "Processing TFRecord files:  19%|█▉        | 274/1444 [00:48<04:15,  4.58it/s]"
     ]
    },
    {
     "name": "stdout",
     "output_type": "stream",
     "text": [
      "Decoded audio embeddings shape: (None, 128)\n",
      "Decoded audio embeddings shape: (None, 128)\n"
     ]
    },
    {
     "name": "stderr",
     "output_type": "stream",
     "text": [
      "Processing TFRecord files:  19%|█▉        | 276/1444 [00:48<03:55,  4.96it/s]"
     ]
    },
    {
     "name": "stdout",
     "output_type": "stream",
     "text": [
      "Decoded audio embeddings shape: (None, 128)\n",
      "Decoded audio embeddings shape: (None, 128)\n"
     ]
    },
    {
     "name": "stderr",
     "output_type": "stream",
     "text": [
      "Processing TFRecord files:  19%|█▉        | 278/1444 [00:48<03:26,  5.64it/s]"
     ]
    },
    {
     "name": "stdout",
     "output_type": "stream",
     "text": [
      "Decoded audio embeddings shape: (None, 128)\n",
      "Decoded audio embeddings shape: (None, 128)\n"
     ]
    },
    {
     "name": "stderr",
     "output_type": "stream",
     "text": [
      "Processing TFRecord files:  19%|█▉        | 280/1444 [00:49<03:45,  5.16it/s]"
     ]
    },
    {
     "name": "stdout",
     "output_type": "stream",
     "text": [
      "Decoded audio embeddings shape: (None, 128)\n",
      "Decoded audio embeddings shape: (None, 128)\n"
     ]
    },
    {
     "name": "stderr",
     "output_type": "stream",
     "text": [
      "Processing TFRecord files:  20%|█▉        | 282/1444 [00:49<03:34,  5.41it/s]"
     ]
    },
    {
     "name": "stdout",
     "output_type": "stream",
     "text": [
      "Decoded audio embeddings shape: (None, 128)\n",
      "Decoded audio embeddings shape: (None, 128)\n"
     ]
    },
    {
     "name": "stderr",
     "output_type": "stream",
     "text": [
      "Processing TFRecord files:  20%|█▉        | 284/1444 [00:50<03:35,  5.38it/s]"
     ]
    },
    {
     "name": "stdout",
     "output_type": "stream",
     "text": [
      "Decoded audio embeddings shape: (None, 128)\n",
      "Decoded audio embeddings shape: (None, 128)\n"
     ]
    },
    {
     "name": "stderr",
     "output_type": "stream",
     "text": [
      "Processing TFRecord files:  20%|█▉        | 286/1444 [00:50<04:07,  4.67it/s]"
     ]
    },
    {
     "name": "stdout",
     "output_type": "stream",
     "text": [
      "Decoded audio embeddings shape: (None, 128)\n",
      "Decoded audio embeddings shape: (None, 128)\n"
     ]
    },
    {
     "name": "stderr",
     "output_type": "stream",
     "text": [
      "Processing TFRecord files:  20%|█▉        | 288/1444 [00:50<03:35,  5.38it/s]"
     ]
    },
    {
     "name": "stdout",
     "output_type": "stream",
     "text": [
      "Decoded audio embeddings shape: (None, 128)\n",
      "Decoded audio embeddings shape: (None, 128)\n"
     ]
    },
    {
     "name": "stderr",
     "output_type": "stream",
     "text": [
      "Processing TFRecord files:  20%|██        | 290/1444 [00:51<03:36,  5.33it/s]"
     ]
    },
    {
     "name": "stdout",
     "output_type": "stream",
     "text": [
      "Decoded audio embeddings shape: (None, 128)\n",
      "Decoded audio embeddings shape: (None, 128)\n"
     ]
    },
    {
     "name": "stderr",
     "output_type": "stream",
     "text": [
      "Processing TFRecord files:  20%|██        | 292/1444 [00:51<03:30,  5.48it/s]"
     ]
    },
    {
     "name": "stdout",
     "output_type": "stream",
     "text": [
      "Decoded audio embeddings shape: (None, 128)\n"
     ]
    },
    {
     "name": "stderr",
     "output_type": "stream",
     "text": [
      "Processing TFRecord files:  20%|██        | 293/1444 [00:51<04:18,  4.45it/s]"
     ]
    },
    {
     "name": "stdout",
     "output_type": "stream",
     "text": [
      "Decoded audio embeddings shape: (None, 128)\n"
     ]
    },
    {
     "name": "stderr",
     "output_type": "stream",
     "text": [
      "Processing TFRecord files:  20%|██        | 294/1444 [00:52<03:59,  4.81it/s]"
     ]
    },
    {
     "name": "stdout",
     "output_type": "stream",
     "text": [
      "Decoded audio embeddings shape: (None, 128)\n",
      "Decoded audio embeddings shape: (None, 128)\n"
     ]
    },
    {
     "name": "stderr",
     "output_type": "stream",
     "text": [
      "Processing TFRecord files:  20%|██        | 296/1444 [00:52<03:29,  5.49it/s]"
     ]
    },
    {
     "name": "stdout",
     "output_type": "stream",
     "text": [
      "Decoded audio embeddings shape: (None, 128)\n",
      "Decoded audio embeddings shape: (None, 128)\n"
     ]
    },
    {
     "name": "stderr",
     "output_type": "stream",
     "text": [
      "Processing TFRecord files:  21%|██        | 298/1444 [00:52<03:18,  5.78it/s]"
     ]
    },
    {
     "name": "stdout",
     "output_type": "stream",
     "text": [
      "Decoded audio embeddings shape: (None, 128)\n",
      "Decoded audio embeddings shape: (None, 128)\n"
     ]
    },
    {
     "name": "stderr",
     "output_type": "stream",
     "text": [
      "Processing TFRecord files:  21%|██        | 300/1444 [00:53<03:57,  4.81it/s]"
     ]
    },
    {
     "name": "stdout",
     "output_type": "stream",
     "text": [
      "Decoded audio embeddings shape: (None, 128)\n",
      "Decoded audio embeddings shape: (None, 128)\n"
     ]
    },
    {
     "name": "stderr",
     "output_type": "stream",
     "text": [
      "Processing TFRecord files:  21%|██        | 302/1444 [00:53<03:38,  5.22it/s]"
     ]
    },
    {
     "name": "stdout",
     "output_type": "stream",
     "text": [
      "Decoded audio embeddings shape: (None, 128)\n",
      "Decoded audio embeddings shape: (None, 128)\n"
     ]
    },
    {
     "name": "stderr",
     "output_type": "stream",
     "text": [
      "Processing TFRecord files:  21%|██        | 304/1444 [00:54<04:17,  4.42it/s]"
     ]
    },
    {
     "name": "stdout",
     "output_type": "stream",
     "text": [
      "Decoded audio embeddings shape: (None, 128)\n",
      "Decoded audio embeddings shape: (None, 128)\n"
     ]
    },
    {
     "name": "stderr",
     "output_type": "stream",
     "text": [
      "Processing TFRecord files:  21%|██        | 306/1444 [00:54<03:58,  4.76it/s]"
     ]
    },
    {
     "name": "stdout",
     "output_type": "stream",
     "text": [
      "Decoded audio embeddings shape: (None, 128)\n",
      "Decoded audio embeddings shape: (None, 128)\n"
     ]
    },
    {
     "name": "stderr",
     "output_type": "stream",
     "text": [
      "Processing TFRecord files:  21%|██▏       | 308/1444 [00:54<03:57,  4.79it/s]"
     ]
    },
    {
     "name": "stdout",
     "output_type": "stream",
     "text": [
      "Decoded audio embeddings shape: (None, 128)\n",
      "Decoded audio embeddings shape: (None, 128)\n"
     ]
    },
    {
     "name": "stderr",
     "output_type": "stream",
     "text": [
      "Processing TFRecord files:  21%|██▏       | 310/1444 [00:55<04:20,  4.36it/s]"
     ]
    },
    {
     "name": "stdout",
     "output_type": "stream",
     "text": [
      "Decoded audio embeddings shape: (None, 128)\n",
      "Decoded audio embeddings shape: (None, 128)\n"
     ]
    },
    {
     "name": "stderr",
     "output_type": "stream",
     "text": [
      "Processing TFRecord files:  22%|██▏       | 312/1444 [00:55<04:13,  4.46it/s]"
     ]
    },
    {
     "name": "stdout",
     "output_type": "stream",
     "text": [
      "Decoded audio embeddings shape: (None, 128)\n",
      "Decoded audio embeddings shape: (None, 128)\n"
     ]
    },
    {
     "name": "stderr",
     "output_type": "stream",
     "text": [
      "Processing TFRecord files:  22%|██▏       | 314/1444 [00:56<03:57,  4.75it/s]"
     ]
    },
    {
     "name": "stdout",
     "output_type": "stream",
     "text": [
      "Decoded audio embeddings shape: (None, 128)\n"
     ]
    },
    {
     "name": "stderr",
     "output_type": "stream",
     "text": [
      "Processing TFRecord files:  22%|██▏       | 315/1444 [00:56<04:11,  4.49it/s]"
     ]
    },
    {
     "name": "stdout",
     "output_type": "stream",
     "text": [
      "Decoded audio embeddings shape: (None, 128)\n",
      "Decoded audio embeddings shape: (None, 128)\n"
     ]
    },
    {
     "name": "stderr",
     "output_type": "stream",
     "text": [
      "Processing TFRecord files:  22%|██▏       | 317/1444 [00:56<03:57,  4.74it/s]"
     ]
    },
    {
     "name": "stdout",
     "output_type": "stream",
     "text": [
      "Decoded audio embeddings shape: (None, 128)\n",
      "Decoded audio embeddings shape: (None, 128)\n"
     ]
    },
    {
     "name": "stderr",
     "output_type": "stream",
     "text": [
      "Processing TFRecord files:  22%|██▏       | 319/1444 [00:57<03:41,  5.08it/s]"
     ]
    },
    {
     "name": "stdout",
     "output_type": "stream",
     "text": [
      "Decoded audio embeddings shape: (None, 128)\n",
      "Decoded audio embeddings shape: (None, 128)\n"
     ]
    },
    {
     "name": "stderr",
     "output_type": "stream",
     "text": [
      "Processing TFRecord files:  22%|██▏       | 321/1444 [00:57<04:03,  4.62it/s]"
     ]
    },
    {
     "name": "stdout",
     "output_type": "stream",
     "text": [
      "Decoded audio embeddings shape: (None, 128)\n",
      "Decoded audio embeddings shape: (None, 128)\n"
     ]
    },
    {
     "name": "stderr",
     "output_type": "stream",
     "text": [
      "Processing TFRecord files:  22%|██▏       | 323/1444 [00:58<03:45,  4.98it/s]"
     ]
    },
    {
     "name": "stdout",
     "output_type": "stream",
     "text": [
      "Decoded audio embeddings shape: (None, 128)\n",
      "Decoded audio embeddings shape: (None, 128)\n"
     ]
    },
    {
     "name": "stderr",
     "output_type": "stream",
     "text": [
      "Processing TFRecord files:  23%|██▎       | 325/1444 [00:58<03:31,  5.29it/s]"
     ]
    },
    {
     "name": "stdout",
     "output_type": "stream",
     "text": [
      "Decoded audio embeddings shape: (None, 128)\n",
      "Decoded audio embeddings shape: (None, 128)\n"
     ]
    },
    {
     "name": "stderr",
     "output_type": "stream",
     "text": [
      "Processing TFRecord files:  23%|██▎       | 327/1444 [00:58<04:08,  4.49it/s]"
     ]
    },
    {
     "name": "stdout",
     "output_type": "stream",
     "text": [
      "Decoded audio embeddings shape: (None, 128)\n"
     ]
    },
    {
     "name": "stderr",
     "output_type": "stream",
     "text": [
      "Processing TFRecord files:  23%|██▎       | 328/1444 [00:59<04:05,  4.54it/s]"
     ]
    },
    {
     "name": "stdout",
     "output_type": "stream",
     "text": [
      "Decoded audio embeddings shape: (None, 128)\n"
     ]
    },
    {
     "name": "stderr",
     "output_type": "stream",
     "text": [
      "Processing TFRecord files:  23%|██▎       | 329/1444 [00:59<03:59,  4.66it/s]"
     ]
    },
    {
     "name": "stdout",
     "output_type": "stream",
     "text": [
      "Decoded audio embeddings shape: (None, 128)\n",
      "Decoded audio embeddings shape: (None, 128)\n"
     ]
    },
    {
     "name": "stderr",
     "output_type": "stream",
     "text": [
      "Processing TFRecord files:  23%|██▎       | 331/1444 [00:59<03:57,  4.68it/s]"
     ]
    },
    {
     "name": "stdout",
     "output_type": "stream",
     "text": [
      "Decoded audio embeddings shape: (None, 128)\n"
     ]
    },
    {
     "name": "stderr",
     "output_type": "stream",
     "text": [
      "Processing TFRecord files:  23%|██▎       | 332/1444 [00:59<03:53,  4.77it/s]"
     ]
    },
    {
     "name": "stdout",
     "output_type": "stream",
     "text": [
      "Decoded audio embeddings shape: (None, 128)\n",
      "Decoded audio embeddings shape: (None, 128)\n"
     ]
    },
    {
     "name": "stderr",
     "output_type": "stream",
     "text": [
      "Processing TFRecord files:  23%|██▎       | 334/1444 [01:00<03:35,  5.14it/s]"
     ]
    },
    {
     "name": "stdout",
     "output_type": "stream",
     "text": [
      "Decoded audio embeddings shape: (None, 128)\n",
      "Decoded audio embeddings shape: (None, 128)\n"
     ]
    },
    {
     "name": "stderr",
     "output_type": "stream",
     "text": [
      "Processing TFRecord files:  23%|██▎       | 336/1444 [01:00<03:25,  5.38it/s]"
     ]
    },
    {
     "name": "stdout",
     "output_type": "stream",
     "text": [
      "Decoded audio embeddings shape: (None, 128)\n",
      "Decoded audio embeddings shape: (None, 128)\n"
     ]
    },
    {
     "name": "stderr",
     "output_type": "stream",
     "text": [
      "Processing TFRecord files:  23%|██▎       | 338/1444 [01:01<03:34,  5.15it/s]"
     ]
    },
    {
     "name": "stdout",
     "output_type": "stream",
     "text": [
      "Decoded audio embeddings shape: (None, 128)\n",
      "Decoded audio embeddings shape: (None, 128)\n"
     ]
    },
    {
     "name": "stderr",
     "output_type": "stream",
     "text": [
      "Processing TFRecord files:  24%|██▎       | 340/1444 [01:01<03:23,  5.43it/s]"
     ]
    },
    {
     "name": "stdout",
     "output_type": "stream",
     "text": [
      "Decoded audio embeddings shape: (None, 128)\n",
      "Decoded audio embeddings shape: (None, 128)\n"
     ]
    },
    {
     "name": "stderr",
     "output_type": "stream",
     "text": [
      "Processing TFRecord files:  24%|██▎       | 342/1444 [01:01<03:07,  5.87it/s]"
     ]
    },
    {
     "name": "stdout",
     "output_type": "stream",
     "text": [
      "Decoded audio embeddings shape: (None, 128)\n",
      "Decoded audio embeddings shape: (None, 128)\n"
     ]
    },
    {
     "name": "stderr",
     "output_type": "stream",
     "text": [
      "Processing TFRecord files:  24%|██▍       | 343/1444 [01:01<03:15,  5.65it/s]"
     ]
    },
    {
     "name": "stdout",
     "output_type": "stream",
     "text": [
      "Decoded audio embeddings shape: (None, 128)\n"
     ]
    },
    {
     "name": "stderr",
     "output_type": "stream",
     "text": [
      "Processing TFRecord files:  24%|██▍       | 345/1444 [01:02<04:06,  4.46it/s]"
     ]
    },
    {
     "name": "stdout",
     "output_type": "stream",
     "text": [
      "Decoded audio embeddings shape: (None, 128)\n",
      "Decoded audio embeddings shape: (None, 128)\n"
     ]
    },
    {
     "name": "stderr",
     "output_type": "stream",
     "text": [
      "Processing TFRecord files:  24%|██▍       | 347/1444 [01:02<03:47,  4.82it/s]"
     ]
    },
    {
     "name": "stdout",
     "output_type": "stream",
     "text": [
      "Decoded audio embeddings shape: (None, 128)\n",
      "Decoded audio embeddings shape: (None, 128)\n"
     ]
    },
    {
     "name": "stderr",
     "output_type": "stream",
     "text": [
      "Processing TFRecord files:  24%|██▍       | 349/1444 [01:03<03:54,  4.66it/s]"
     ]
    },
    {
     "name": "stdout",
     "output_type": "stream",
     "text": [
      "Decoded audio embeddings shape: (None, 128)\n"
     ]
    },
    {
     "name": "stderr",
     "output_type": "stream",
     "text": [
      "Processing TFRecord files:  24%|██▍       | 350/1444 [01:03<03:36,  5.06it/s]"
     ]
    },
    {
     "name": "stdout",
     "output_type": "stream",
     "text": [
      "Decoded audio embeddings shape: (None, 128)\n",
      "Decoded audio embeddings shape: (None, 128)\n"
     ]
    },
    {
     "name": "stderr",
     "output_type": "stream",
     "text": [
      "Processing TFRecord files:  24%|██▍       | 352/1444 [01:03<03:15,  5.59it/s]"
     ]
    },
    {
     "name": "stdout",
     "output_type": "stream",
     "text": [
      "Decoded audio embeddings shape: (None, 128)\n",
      "Decoded audio embeddings shape: (None, 128)\n"
     ]
    },
    {
     "name": "stderr",
     "output_type": "stream",
     "text": [
      "Processing TFRecord files:  25%|██▍       | 354/1444 [01:04<03:00,  6.05it/s]"
     ]
    },
    {
     "name": "stdout",
     "output_type": "stream",
     "text": [
      "Decoded audio embeddings shape: (None, 128)\n",
      "Decoded audio embeddings shape: (None, 128)\n"
     ]
    },
    {
     "name": "stderr",
     "output_type": "stream",
     "text": [
      "Processing TFRecord files:  25%|██▍       | 356/1444 [01:04<03:21,  5.39it/s]"
     ]
    },
    {
     "name": "stdout",
     "output_type": "stream",
     "text": [
      "Decoded audio embeddings shape: (None, 128)\n",
      "Decoded audio embeddings shape: (None, 128)\n"
     ]
    },
    {
     "name": "stderr",
     "output_type": "stream",
     "text": [
      "Processing TFRecord files:  25%|██▍       | 358/1444 [01:04<03:15,  5.56it/s]"
     ]
    },
    {
     "name": "stdout",
     "output_type": "stream",
     "text": [
      "Decoded audio embeddings shape: (None, 128)\n",
      "Decoded audio embeddings shape: (None, 128)\n"
     ]
    },
    {
     "name": "stderr",
     "output_type": "stream",
     "text": [
      "Processing TFRecord files:  25%|██▍       | 360/1444 [01:05<03:00,  6.00it/s]"
     ]
    },
    {
     "name": "stdout",
     "output_type": "stream",
     "text": [
      "Decoded audio embeddings shape: (None, 128)\n",
      "Decoded audio embeddings shape: (None, 128)\n"
     ]
    },
    {
     "name": "stderr",
     "output_type": "stream",
     "text": [
      "Processing TFRecord files:  25%|██▌       | 362/1444 [01:05<03:26,  5.23it/s]"
     ]
    },
    {
     "name": "stdout",
     "output_type": "stream",
     "text": [
      "Decoded audio embeddings shape: (None, 128)\n"
     ]
    },
    {
     "name": "stderr",
     "output_type": "stream",
     "text": [
      "Processing TFRecord files:  25%|██▌       | 363/1444 [01:05<03:11,  5.65it/s]"
     ]
    },
    {
     "name": "stdout",
     "output_type": "stream",
     "text": [
      "Decoded audio embeddings shape: (None, 128)\n",
      "Decoded audio embeddings shape: (None, 128)\n"
     ]
    },
    {
     "name": "stderr",
     "output_type": "stream",
     "text": [
      "Processing TFRecord files:  25%|██▌       | 365/1444 [01:06<03:16,  5.48it/s]"
     ]
    },
    {
     "name": "stdout",
     "output_type": "stream",
     "text": [
      "Decoded audio embeddings shape: (None, 128)\n",
      "Decoded audio embeddings shape: (None, 128)\n"
     ]
    },
    {
     "name": "stderr",
     "output_type": "stream",
     "text": [
      "Processing TFRecord files:  25%|██▌       | 366/1444 [01:06<03:02,  5.92it/s]"
     ]
    },
    {
     "name": "stdout",
     "output_type": "stream",
     "text": [
      "Decoded audio embeddings shape: (None, 128)\n"
     ]
    },
    {
     "name": "stderr",
     "output_type": "stream",
     "text": [
      "Processing TFRecord files:  25%|██▌       | 368/1444 [01:06<03:33,  5.05it/s]"
     ]
    },
    {
     "name": "stdout",
     "output_type": "stream",
     "text": [
      "Decoded audio embeddings shape: (None, 128)\n",
      "Decoded audio embeddings shape: (None, 128)\n"
     ]
    },
    {
     "name": "stderr",
     "output_type": "stream",
     "text": [
      "Processing TFRecord files:  26%|██▌       | 370/1444 [01:07<03:35,  4.98it/s]"
     ]
    },
    {
     "name": "stdout",
     "output_type": "stream",
     "text": [
      "Decoded audio embeddings shape: (None, 128)\n",
      "Decoded audio embeddings shape: (None, 128)\n"
     ]
    },
    {
     "name": "stderr",
     "output_type": "stream",
     "text": [
      "Processing TFRecord files:  26%|██▌       | 372/1444 [01:07<04:08,  4.31it/s]"
     ]
    },
    {
     "name": "stdout",
     "output_type": "stream",
     "text": [
      "Decoded audio embeddings shape: (None, 128)\n"
     ]
    },
    {
     "name": "stderr",
     "output_type": "stream",
     "text": [
      "Processing TFRecord files:  26%|██▌       | 373/1444 [01:07<04:03,  4.41it/s]"
     ]
    },
    {
     "name": "stdout",
     "output_type": "stream",
     "text": [
      "Decoded audio embeddings shape: (None, 128)\n",
      "Decoded audio embeddings shape: (None, 128)\n"
     ]
    },
    {
     "name": "stderr",
     "output_type": "stream",
     "text": [
      "Processing TFRecord files:  26%|██▌       | 375/1444 [01:08<03:55,  4.54it/s]"
     ]
    },
    {
     "name": "stdout",
     "output_type": "stream",
     "text": [
      "Decoded audio embeddings shape: (None, 128)\n"
     ]
    },
    {
     "name": "stderr",
     "output_type": "stream",
     "text": [
      "Processing TFRecord files:  26%|██▌       | 376/1444 [01:08<03:53,  4.56it/s]"
     ]
    },
    {
     "name": "stdout",
     "output_type": "stream",
     "text": [
      "Decoded audio embeddings shape: (None, 128)\n",
      "Decoded audio embeddings shape: (None, 128)\n"
     ]
    },
    {
     "name": "stderr",
     "output_type": "stream",
     "text": [
      "Processing TFRecord files:  26%|██▌       | 378/1444 [01:08<03:53,  4.56it/s]"
     ]
    },
    {
     "name": "stdout",
     "output_type": "stream",
     "text": [
      "Decoded audio embeddings shape: (None, 128)\n",
      "Decoded audio embeddings shape: (None, 128)\n"
     ]
    },
    {
     "name": "stderr",
     "output_type": "stream",
     "text": [
      "Processing TFRecord files:  26%|██▋       | 380/1444 [01:09<03:43,  4.77it/s]"
     ]
    },
    {
     "name": "stdout",
     "output_type": "stream",
     "text": [
      "Decoded audio embeddings shape: (None, 128)\n",
      "Decoded audio embeddings shape: (None, 128)\n"
     ]
    },
    {
     "name": "stderr",
     "output_type": "stream",
     "text": [
      "Processing TFRecord files:  26%|██▋       | 382/1444 [01:09<03:53,  4.54it/s]"
     ]
    },
    {
     "name": "stdout",
     "output_type": "stream",
     "text": [
      "Decoded audio embeddings shape: (None, 128)\n",
      "Decoded audio embeddings shape: (None, 128)\n"
     ]
    },
    {
     "name": "stderr",
     "output_type": "stream",
     "text": [
      "Processing TFRecord files:  27%|██▋       | 384/1444 [01:10<04:07,  4.28it/s]"
     ]
    },
    {
     "name": "stdout",
     "output_type": "stream",
     "text": [
      "Decoded audio embeddings shape: (None, 128)\n",
      "Decoded audio embeddings shape: (None, 128)\n"
     ]
    },
    {
     "name": "stderr",
     "output_type": "stream",
     "text": [
      "Processing TFRecord files:  27%|██▋       | 386/1444 [01:10<04:20,  4.07it/s]"
     ]
    },
    {
     "name": "stdout",
     "output_type": "stream",
     "text": [
      "Decoded audio embeddings shape: (None, 128)\n"
     ]
    },
    {
     "name": "stderr",
     "output_type": "stream",
     "text": [
      "Processing TFRecord files:  27%|██▋       | 387/1444 [01:11<04:26,  3.97it/s]"
     ]
    },
    {
     "name": "stdout",
     "output_type": "stream",
     "text": [
      "Decoded audio embeddings shape: (None, 128)\n"
     ]
    },
    {
     "name": "stderr",
     "output_type": "stream",
     "text": [
      "Processing TFRecord files:  27%|██▋       | 388/1444 [01:11<04:15,  4.13it/s]"
     ]
    },
    {
     "name": "stdout",
     "output_type": "stream",
     "text": [
      "Decoded audio embeddings shape: (None, 128)\n"
     ]
    },
    {
     "name": "stderr",
     "output_type": "stream",
     "text": [
      "Processing TFRecord files:  27%|██▋       | 389/1444 [01:11<04:36,  3.82it/s]"
     ]
    },
    {
     "name": "stdout",
     "output_type": "stream",
     "text": [
      "Decoded audio embeddings shape: (None, 128)\n",
      "Decoded audio embeddings shape: (None, 128)\n"
     ]
    },
    {
     "name": "stderr",
     "output_type": "stream",
     "text": [
      "Processing TFRecord files:  27%|██▋       | 391/1444 [01:11<03:51,  4.55it/s]"
     ]
    },
    {
     "name": "stdout",
     "output_type": "stream",
     "text": [
      "Decoded audio embeddings shape: (None, 128)\n",
      "Decoded audio embeddings shape: (None, 128)\n"
     ]
    },
    {
     "name": "stderr",
     "output_type": "stream",
     "text": [
      "Processing TFRecord files:  27%|██▋       | 393/1444 [01:12<03:14,  5.41it/s]"
     ]
    },
    {
     "name": "stdout",
     "output_type": "stream",
     "text": [
      "Decoded audio embeddings shape: (None, 128)\n",
      "Decoded audio embeddings shape: (None, 128)\n"
     ]
    },
    {
     "name": "stderr",
     "output_type": "stream",
     "text": [
      "Processing TFRecord files:  27%|██▋       | 395/1444 [01:12<03:21,  5.22it/s]"
     ]
    },
    {
     "name": "stdout",
     "output_type": "stream",
     "text": [
      "Decoded audio embeddings shape: (None, 128)\n",
      "Decoded audio embeddings shape: (None, 128)\n"
     ]
    },
    {
     "name": "stderr",
     "output_type": "stream",
     "text": [
      "Processing TFRecord files:  27%|██▋       | 397/1444 [01:12<03:05,  5.66it/s]"
     ]
    },
    {
     "name": "stdout",
     "output_type": "stream",
     "text": [
      "Decoded audio embeddings shape: (None, 128)\n",
      "Decoded audio embeddings shape: (None, 128)\n"
     ]
    },
    {
     "name": "stderr",
     "output_type": "stream",
     "text": [
      "Processing TFRecord files:  28%|██▊       | 399/1444 [01:13<02:48,  6.20it/s]"
     ]
    },
    {
     "name": "stdout",
     "output_type": "stream",
     "text": [
      "Decoded audio embeddings shape: (None, 128)\n",
      "Decoded audio embeddings shape: (None, 128)\n"
     ]
    },
    {
     "name": "stderr",
     "output_type": "stream",
     "text": [
      "Processing TFRecord files:  28%|██▊       | 401/1444 [01:13<02:57,  5.89it/s]"
     ]
    },
    {
     "name": "stdout",
     "output_type": "stream",
     "text": [
      "Decoded audio embeddings shape: (None, 128)\n",
      "Decoded audio embeddings shape: (None, 128)\n"
     ]
    },
    {
     "name": "stderr",
     "output_type": "stream",
     "text": [
      "Processing TFRecord files:  28%|██▊       | 403/1444 [01:13<02:50,  6.12it/s]"
     ]
    },
    {
     "name": "stdout",
     "output_type": "stream",
     "text": [
      "Decoded audio embeddings shape: (None, 128)\n",
      "Decoded audio embeddings shape: (None, 128)\n"
     ]
    },
    {
     "name": "stderr",
     "output_type": "stream",
     "text": [
      "Processing TFRecord files:  28%|██▊       | 404/1444 [01:14<02:56,  5.88it/s]"
     ]
    },
    {
     "name": "stdout",
     "output_type": "stream",
     "text": [
      "Decoded audio embeddings shape: (None, 128)\n"
     ]
    },
    {
     "name": "stderr",
     "output_type": "stream",
     "text": [
      "Processing TFRecord files:  28%|██▊       | 405/1444 [01:14<03:47,  4.57it/s]"
     ]
    },
    {
     "name": "stdout",
     "output_type": "stream",
     "text": [
      "Decoded audio embeddings shape: (None, 128)\n"
     ]
    },
    {
     "name": "stderr",
     "output_type": "stream",
     "text": [
      "Processing TFRecord files:  28%|██▊       | 407/1444 [01:15<04:30,  3.83it/s]"
     ]
    },
    {
     "name": "stdout",
     "output_type": "stream",
     "text": [
      "Decoded audio embeddings shape: (None, 128)\n"
     ]
    },
    {
     "name": "stderr",
     "output_type": "stream",
     "text": [
      "Processing TFRecord files:  28%|██▊       | 408/1444 [01:15<04:16,  4.05it/s]"
     ]
    },
    {
     "name": "stdout",
     "output_type": "stream",
     "text": [
      "Decoded audio embeddings shape: (None, 128)\n"
     ]
    },
    {
     "name": "stderr",
     "output_type": "stream",
     "text": [
      "Processing TFRecord files:  28%|██▊       | 409/1444 [01:15<04:08,  4.17it/s]"
     ]
    },
    {
     "name": "stdout",
     "output_type": "stream",
     "text": [
      "Decoded audio embeddings shape: (None, 128)\n"
     ]
    },
    {
     "name": "stderr",
     "output_type": "stream",
     "text": [
      "Processing TFRecord files:  28%|██▊       | 410/1444 [01:15<04:11,  4.12it/s]"
     ]
    },
    {
     "name": "stdout",
     "output_type": "stream",
     "text": [
      "Decoded audio embeddings shape: (None, 128)\n",
      "Decoded audio embeddings shape: (None, 128)\n"
     ]
    },
    {
     "name": "stderr",
     "output_type": "stream",
     "text": [
      "Processing TFRecord files:  29%|██▊       | 412/1444 [01:16<04:44,  3.63it/s]"
     ]
    },
    {
     "name": "stdout",
     "output_type": "stream",
     "text": [
      "Decoded audio embeddings shape: (None, 128)\n"
     ]
    },
    {
     "name": "stderr",
     "output_type": "stream",
     "text": [
      "Processing TFRecord files:  29%|██▊       | 413/1444 [01:16<04:24,  3.89it/s]"
     ]
    },
    {
     "name": "stdout",
     "output_type": "stream",
     "text": [
      "Decoded audio embeddings shape: (None, 128)\n"
     ]
    },
    {
     "name": "stderr",
     "output_type": "stream",
     "text": [
      "Processing TFRecord files:  29%|██▊       | 414/1444 [01:16<04:21,  3.94it/s]"
     ]
    },
    {
     "name": "stdout",
     "output_type": "stream",
     "text": [
      "Decoded audio embeddings shape: (None, 128)\n"
     ]
    },
    {
     "name": "stderr",
     "output_type": "stream",
     "text": [
      "Processing TFRecord files:  29%|██▊       | 415/1444 [01:17<04:21,  3.93it/s]"
     ]
    },
    {
     "name": "stdout",
     "output_type": "stream",
     "text": [
      "Decoded audio embeddings shape: (None, 128)\n"
     ]
    },
    {
     "name": "stderr",
     "output_type": "stream",
     "text": [
      "Processing TFRecord files:  29%|██▉       | 416/1444 [01:17<04:36,  3.72it/s]"
     ]
    },
    {
     "name": "stdout",
     "output_type": "stream",
     "text": [
      "Decoded audio embeddings shape: (None, 128)\n"
     ]
    },
    {
     "name": "stderr",
     "output_type": "stream",
     "text": [
      "Processing TFRecord files:  29%|██▉       | 417/1444 [01:17<04:19,  3.96it/s]"
     ]
    },
    {
     "name": "stdout",
     "output_type": "stream",
     "text": [
      "Decoded audio embeddings shape: (None, 128)\n"
     ]
    },
    {
     "name": "stderr",
     "output_type": "stream",
     "text": [
      "Processing TFRecord files:  29%|██▉       | 418/1444 [01:17<04:05,  4.19it/s]"
     ]
    },
    {
     "name": "stdout",
     "output_type": "stream",
     "text": [
      "Decoded audio embeddings shape: (None, 128)\n",
      "Decoded audio embeddings shape: (None, 128)\n"
     ]
    },
    {
     "name": "stderr",
     "output_type": "stream",
     "text": [
      "Processing TFRecord files:  29%|██▉       | 420/1444 [01:18<03:45,  4.54it/s]"
     ]
    },
    {
     "name": "stdout",
     "output_type": "stream",
     "text": [
      "Decoded audio embeddings shape: (None, 128)\n"
     ]
    },
    {
     "name": "stderr",
     "output_type": "stream",
     "text": [
      "Processing TFRecord files:  29%|██▉       | 421/1444 [01:18<03:49,  4.46it/s]"
     ]
    },
    {
     "name": "stdout",
     "output_type": "stream",
     "text": [
      "Decoded audio embeddings shape: (None, 128)\n"
     ]
    },
    {
     "name": "stderr",
     "output_type": "stream",
     "text": [
      "Processing TFRecord files:  29%|██▉       | 422/1444 [01:18<04:09,  4.10it/s]"
     ]
    },
    {
     "name": "stdout",
     "output_type": "stream",
     "text": [
      "Decoded audio embeddings shape: (None, 128)\n"
     ]
    },
    {
     "name": "stderr",
     "output_type": "stream",
     "text": [
      "Processing TFRecord files:  29%|██▉       | 423/1444 [01:18<04:01,  4.24it/s]"
     ]
    },
    {
     "name": "stdout",
     "output_type": "stream",
     "text": [
      "Decoded audio embeddings shape: (None, 128)\n"
     ]
    },
    {
     "name": "stderr",
     "output_type": "stream",
     "text": [
      "Processing TFRecord files:  29%|██▉       | 424/1444 [01:19<04:01,  4.22it/s]"
     ]
    },
    {
     "name": "stdout",
     "output_type": "stream",
     "text": [
      "Decoded audio embeddings shape: (None, 128)\n",
      "Decoded audio embeddings shape: (None, 128)\n"
     ]
    },
    {
     "name": "stderr",
     "output_type": "stream",
     "text": [
      "Processing TFRecord files:  30%|██▉       | 426/1444 [01:19<03:38,  4.66it/s]"
     ]
    },
    {
     "name": "stdout",
     "output_type": "stream",
     "text": [
      "Decoded audio embeddings shape: (None, 128)\n",
      "Decoded audio embeddings shape: (None, 128)\n"
     ]
    },
    {
     "name": "stderr",
     "output_type": "stream",
     "text": [
      "Processing TFRecord files:  30%|██▉       | 428/1444 [01:20<04:05,  4.14it/s]"
     ]
    },
    {
     "name": "stdout",
     "output_type": "stream",
     "text": [
      "Decoded audio embeddings shape: (None, 128)\n"
     ]
    },
    {
     "name": "stderr",
     "output_type": "stream",
     "text": [
      "Processing TFRecord files:  30%|██▉       | 429/1444 [01:20<03:54,  4.33it/s]"
     ]
    },
    {
     "name": "stdout",
     "output_type": "stream",
     "text": [
      "Decoded audio embeddings shape: (None, 128)\n",
      "Decoded audio embeddings shape: (None, 128)\n"
     ]
    },
    {
     "name": "stderr",
     "output_type": "stream",
     "text": [
      "Processing TFRecord files:  30%|██▉       | 431/1444 [01:20<03:34,  4.73it/s]"
     ]
    },
    {
     "name": "stdout",
     "output_type": "stream",
     "text": [
      "Decoded audio embeddings shape: (None, 128)\n",
      "Decoded audio embeddings shape: (None, 128)\n"
     ]
    },
    {
     "name": "stderr",
     "output_type": "stream",
     "text": [
      "Processing TFRecord files:  30%|██▉       | 433/1444 [01:21<03:41,  4.56it/s]"
     ]
    },
    {
     "name": "stdout",
     "output_type": "stream",
     "text": [
      "Decoded audio embeddings shape: (None, 128)\n",
      "Decoded audio embeddings shape: (None, 128)\n"
     ]
    },
    {
     "name": "stderr",
     "output_type": "stream",
     "text": [
      "Processing TFRecord files:  30%|███       | 435/1444 [01:21<03:14,  5.20it/s]"
     ]
    },
    {
     "name": "stdout",
     "output_type": "stream",
     "text": [
      "Decoded audio embeddings shape: (None, 128)\n",
      "Decoded audio embeddings shape: (None, 128)\n"
     ]
    },
    {
     "name": "stderr",
     "output_type": "stream",
     "text": [
      "Processing TFRecord files:  30%|███       | 437/1444 [01:21<03:35,  4.68it/s]"
     ]
    },
    {
     "name": "stdout",
     "output_type": "stream",
     "text": [
      "Decoded audio embeddings shape: (None, 128)\n"
     ]
    },
    {
     "name": "stderr",
     "output_type": "stream",
     "text": [
      "Processing TFRecord files:  30%|███       | 438/1444 [01:22<03:35,  4.67it/s]"
     ]
    },
    {
     "name": "stdout",
     "output_type": "stream",
     "text": [
      "Decoded audio embeddings shape: (None, 128)\n"
     ]
    },
    {
     "name": "stderr",
     "output_type": "stream",
     "text": [
      "Processing TFRecord files:  30%|███       | 439/1444 [01:22<03:34,  4.68it/s]"
     ]
    },
    {
     "name": "stdout",
     "output_type": "stream",
     "text": [
      "Decoded audio embeddings shape: (None, 128)\n"
     ]
    },
    {
     "name": "stderr",
     "output_type": "stream",
     "text": [
      "Processing TFRecord files:  30%|███       | 440/1444 [01:22<03:26,  4.85it/s]"
     ]
    },
    {
     "name": "stdout",
     "output_type": "stream",
     "text": [
      "Decoded audio embeddings shape: (None, 128)\n",
      "Decoded audio embeddings shape: (None, 128)\n"
     ]
    },
    {
     "name": "stderr",
     "output_type": "stream",
     "text": [
      "Processing TFRecord files:  31%|███       | 442/1444 [01:23<03:46,  4.42it/s]"
     ]
    },
    {
     "name": "stdout",
     "output_type": "stream",
     "text": [
      "Decoded audio embeddings shape: (None, 128)\n",
      "Decoded audio embeddings shape: (None, 128)\n"
     ]
    },
    {
     "name": "stderr",
     "output_type": "stream",
     "text": [
      "Processing TFRecord files:  31%|███       | 444/1444 [01:23<03:35,  4.64it/s]"
     ]
    },
    {
     "name": "stdout",
     "output_type": "stream",
     "text": [
      "Decoded audio embeddings shape: (None, 128)\n",
      "Decoded audio embeddings shape: (None, 128)\n"
     ]
    },
    {
     "name": "stderr",
     "output_type": "stream",
     "text": [
      "Processing TFRecord files:  31%|███       | 446/1444 [01:23<03:27,  4.80it/s]"
     ]
    },
    {
     "name": "stdout",
     "output_type": "stream",
     "text": [
      "Decoded audio embeddings shape: (None, 128)\n",
      "Decoded audio embeddings shape: (None, 128)\n"
     ]
    },
    {
     "name": "stderr",
     "output_type": "stream",
     "text": [
      "Processing TFRecord files:  31%|███       | 448/1444 [01:24<05:00,  3.32it/s]"
     ]
    },
    {
     "name": "stdout",
     "output_type": "stream",
     "text": [
      "Decoded audio embeddings shape: (None, 128)\n",
      "Decoded audio embeddings shape: (None, 128)\n"
     ]
    },
    {
     "name": "stderr",
     "output_type": "stream",
     "text": [
      "Processing TFRecord files:  31%|███       | 450/1444 [01:24<03:57,  4.19it/s]"
     ]
    },
    {
     "name": "stdout",
     "output_type": "stream",
     "text": [
      "Decoded audio embeddings shape: (None, 128)\n",
      "Decoded audio embeddings shape: (None, 128)\n"
     ]
    },
    {
     "name": "stderr",
     "output_type": "stream",
     "text": [
      "Processing TFRecord files:  31%|███▏      | 452/1444 [01:25<04:02,  4.10it/s]"
     ]
    },
    {
     "name": "stdout",
     "output_type": "stream",
     "text": [
      "Decoded audio embeddings shape: (None, 128)\n",
      "Decoded audio embeddings shape: (None, 128)\n"
     ]
    },
    {
     "name": "stderr",
     "output_type": "stream",
     "text": [
      "Processing TFRecord files:  31%|███▏      | 454/1444 [01:25<03:26,  4.79it/s]"
     ]
    },
    {
     "name": "stdout",
     "output_type": "stream",
     "text": [
      "Decoded audio embeddings shape: (None, 128)\n",
      "Decoded audio embeddings shape: (None, 128)\n"
     ]
    },
    {
     "name": "stderr",
     "output_type": "stream",
     "text": [
      "Processing TFRecord files:  32%|███▏      | 456/1444 [01:26<03:03,  5.38it/s]"
     ]
    },
    {
     "name": "stdout",
     "output_type": "stream",
     "text": [
      "Decoded audio embeddings shape: (None, 128)\n",
      "Decoded audio embeddings shape: (None, 128)\n"
     ]
    },
    {
     "name": "stderr",
     "output_type": "stream",
     "text": [
      "Processing TFRecord files:  32%|███▏      | 457/1444 [01:26<02:51,  5.75it/s]"
     ]
    },
    {
     "name": "stdout",
     "output_type": "stream",
     "text": [
      "Decoded audio embeddings shape: (None, 128)\n"
     ]
    },
    {
     "name": "stderr",
     "output_type": "stream",
     "text": [
      "Processing TFRecord files:  32%|███▏      | 459/1444 [01:26<03:00,  5.46it/s]"
     ]
    },
    {
     "name": "stdout",
     "output_type": "stream",
     "text": [
      "Decoded audio embeddings shape: (None, 128)\n",
      "Decoded audio embeddings shape: (None, 128)\n"
     ]
    },
    {
     "name": "stderr",
     "output_type": "stream",
     "text": [
      "Processing TFRecord files:  32%|███▏      | 461/1444 [01:27<03:04,  5.32it/s]"
     ]
    },
    {
     "name": "stdout",
     "output_type": "stream",
     "text": [
      "Decoded audio embeddings shape: (None, 128)\n",
      "Decoded audio embeddings shape: (None, 128)\n"
     ]
    },
    {
     "name": "stderr",
     "output_type": "stream",
     "text": [
      "Processing TFRecord files:  32%|███▏      | 463/1444 [01:27<02:53,  5.67it/s]"
     ]
    },
    {
     "name": "stdout",
     "output_type": "stream",
     "text": [
      "Decoded audio embeddings shape: (None, 128)\n"
     ]
    },
    {
     "name": "stderr",
     "output_type": "stream",
     "text": [
      "Processing TFRecord files:  32%|███▏      | 464/1444 [01:27<03:16,  4.98it/s]"
     ]
    },
    {
     "name": "stdout",
     "output_type": "stream",
     "text": [
      "Decoded audio embeddings shape: (None, 128)\n"
     ]
    },
    {
     "name": "stderr",
     "output_type": "stream",
     "text": [
      "Processing TFRecord files:  32%|███▏      | 465/1444 [01:27<03:07,  5.21it/s]"
     ]
    },
    {
     "name": "stdout",
     "output_type": "stream",
     "text": [
      "Decoded audio embeddings shape: (None, 128)\n",
      "Decoded audio embeddings shape: (None, 128)\n"
     ]
    },
    {
     "name": "stderr",
     "output_type": "stream",
     "text": [
      "Processing TFRecord files:  32%|███▏      | 467/1444 [01:28<03:04,  5.28it/s]"
     ]
    },
    {
     "name": "stdout",
     "output_type": "stream",
     "text": [
      "Decoded audio embeddings shape: (None, 128)\n",
      "Decoded audio embeddings shape: (None, 128)\n"
     ]
    },
    {
     "name": "stderr",
     "output_type": "stream",
     "text": [
      "Processing TFRecord files:  32%|███▏      | 469/1444 [01:28<03:31,  4.61it/s]"
     ]
    },
    {
     "name": "stdout",
     "output_type": "stream",
     "text": [
      "Decoded audio embeddings shape: (None, 128)\n"
     ]
    },
    {
     "name": "stderr",
     "output_type": "stream",
     "text": [
      "Processing TFRecord files:  33%|███▎      | 470/1444 [01:28<03:25,  4.74it/s]"
     ]
    },
    {
     "name": "stdout",
     "output_type": "stream",
     "text": [
      "Decoded audio embeddings shape: (None, 128)\n",
      "Decoded audio embeddings shape: (None, 128)\n"
     ]
    },
    {
     "name": "stderr",
     "output_type": "stream",
     "text": [
      "Processing TFRecord files:  33%|███▎      | 472/1444 [01:29<03:19,  4.87it/s]"
     ]
    },
    {
     "name": "stdout",
     "output_type": "stream",
     "text": [
      "Decoded audio embeddings shape: (None, 128)\n"
     ]
    },
    {
     "name": "stderr",
     "output_type": "stream",
     "text": [
      "Processing TFRecord files:  33%|███▎      | 473/1444 [01:29<03:44,  4.32it/s]"
     ]
    },
    {
     "name": "stdout",
     "output_type": "stream",
     "text": [
      "Decoded audio embeddings shape: (None, 128)\n"
     ]
    },
    {
     "name": "stderr",
     "output_type": "stream",
     "text": [
      "Processing TFRecord files:  33%|███▎      | 474/1444 [01:29<03:39,  4.41it/s]"
     ]
    },
    {
     "name": "stdout",
     "output_type": "stream",
     "text": [
      "Decoded audio embeddings shape: (None, 128)\n"
     ]
    },
    {
     "name": "stderr",
     "output_type": "stream",
     "text": [
      "Processing TFRecord files:  33%|███▎      | 475/1444 [01:30<03:33,  4.54it/s]"
     ]
    },
    {
     "name": "stdout",
     "output_type": "stream",
     "text": [
      "Decoded audio embeddings shape: (None, 128)\n",
      "Decoded audio embeddings shape: (None, 128)\n"
     ]
    },
    {
     "name": "stderr",
     "output_type": "stream",
     "text": [
      "Processing TFRecord files:  33%|███▎      | 477/1444 [01:30<03:36,  4.47it/s]"
     ]
    },
    {
     "name": "stdout",
     "output_type": "stream",
     "text": [
      "Decoded audio embeddings shape: (None, 128)\n",
      "Decoded audio embeddings shape: (None, 128)\n"
     ]
    },
    {
     "name": "stderr",
     "output_type": "stream",
     "text": [
      "Processing TFRecord files:  33%|███▎      | 479/1444 [01:30<03:08,  5.13it/s]"
     ]
    },
    {
     "name": "stdout",
     "output_type": "stream",
     "text": [
      "Decoded audio embeddings shape: (None, 128)\n",
      "Decoded audio embeddings shape: (None, 128)\n"
     ]
    },
    {
     "name": "stderr",
     "output_type": "stream",
     "text": [
      "Processing TFRecord files:  33%|███▎      | 481/1444 [01:31<02:52,  5.58it/s]"
     ]
    },
    {
     "name": "stdout",
     "output_type": "stream",
     "text": [
      "Decoded audio embeddings shape: (None, 128)\n",
      "Decoded audio embeddings shape: (None, 128)\n"
     ]
    },
    {
     "name": "stderr",
     "output_type": "stream",
     "text": [
      "Processing TFRecord files:  33%|███▎      | 483/1444 [01:31<03:11,  5.02it/s]"
     ]
    },
    {
     "name": "stdout",
     "output_type": "stream",
     "text": [
      "Decoded audio embeddings shape: (None, 128)\n",
      "Decoded audio embeddings shape: (None, 128)\n"
     ]
    },
    {
     "name": "stderr",
     "output_type": "stream",
     "text": [
      "Processing TFRecord files:  34%|███▎      | 485/1444 [01:31<03:04,  5.20it/s]"
     ]
    },
    {
     "name": "stdout",
     "output_type": "stream",
     "text": [
      "Decoded audio embeddings shape: (None, 128)\n",
      "Decoded audio embeddings shape: (None, 128)\n"
     ]
    },
    {
     "name": "stderr",
     "output_type": "stream",
     "text": [
      "Processing TFRecord files:  34%|███▎      | 487/1444 [01:32<03:10,  5.03it/s]"
     ]
    },
    {
     "name": "stdout",
     "output_type": "stream",
     "text": [
      "Decoded audio embeddings shape: (None, 128)\n"
     ]
    },
    {
     "name": "stderr",
     "output_type": "stream",
     "text": [
      "Processing TFRecord files:  34%|███▍      | 488/1444 [01:32<03:26,  4.64it/s]"
     ]
    },
    {
     "name": "stdout",
     "output_type": "stream",
     "text": [
      "Decoded audio embeddings shape: (None, 128)\n"
     ]
    },
    {
     "name": "stderr",
     "output_type": "stream",
     "text": [
      "Processing TFRecord files:  34%|███▍      | 489/1444 [01:32<03:20,  4.76it/s]"
     ]
    },
    {
     "name": "stdout",
     "output_type": "stream",
     "text": [
      "Decoded audio embeddings shape: (None, 128)\n",
      "Decoded audio embeddings shape: (None, 128)\n"
     ]
    },
    {
     "name": "stderr",
     "output_type": "stream",
     "text": [
      "Processing TFRecord files:  34%|███▍      | 491/1444 [01:33<03:25,  4.63it/s]"
     ]
    },
    {
     "name": "stdout",
     "output_type": "stream",
     "text": [
      "Decoded audio embeddings shape: (None, 128)\n",
      "Decoded audio embeddings shape: (None, 128)\n"
     ]
    },
    {
     "name": "stderr",
     "output_type": "stream",
     "text": [
      "Processing TFRecord files:  34%|███▍      | 493/1444 [01:33<03:45,  4.22it/s]"
     ]
    },
    {
     "name": "stdout",
     "output_type": "stream",
     "text": [
      "Decoded audio embeddings shape: (None, 128)\n"
     ]
    },
    {
     "name": "stderr",
     "output_type": "stream",
     "text": [
      "Processing TFRecord files:  34%|███▍      | 494/1444 [01:33<03:31,  4.49it/s]"
     ]
    },
    {
     "name": "stdout",
     "output_type": "stream",
     "text": [
      "Decoded audio embeddings shape: (None, 128)\n",
      "Decoded audio embeddings shape: (None, 128)\n"
     ]
    },
    {
     "name": "stderr",
     "output_type": "stream",
     "text": [
      "Processing TFRecord files:  34%|███▍      | 496/1444 [01:34<03:16,  4.82it/s]"
     ]
    },
    {
     "name": "stdout",
     "output_type": "stream",
     "text": [
      "Decoded audio embeddings shape: (None, 128)\n",
      "Decoded audio embeddings shape: (None, 128)\n"
     ]
    },
    {
     "name": "stderr",
     "output_type": "stream",
     "text": [
      "Processing TFRecord files:  34%|███▍      | 498/1444 [01:34<03:00,  5.25it/s]"
     ]
    },
    {
     "name": "stdout",
     "output_type": "stream",
     "text": [
      "Decoded audio embeddings shape: (None, 128)\n",
      "Decoded audio embeddings shape: (None, 128)\n"
     ]
    },
    {
     "name": "stderr",
     "output_type": "stream",
     "text": [
      "Processing TFRecord files:  35%|███▍      | 500/1444 [01:35<03:47,  4.15it/s]"
     ]
    },
    {
     "name": "stdout",
     "output_type": "stream",
     "text": [
      "Decoded audio embeddings shape: (None, 128)\n",
      "Decoded audio embeddings shape: (None, 128)\n"
     ]
    },
    {
     "name": "stderr",
     "output_type": "stream",
     "text": [
      "Processing TFRecord files:  35%|███▍      | 502/1444 [01:35<03:19,  4.72it/s]"
     ]
    },
    {
     "name": "stdout",
     "output_type": "stream",
     "text": [
      "Decoded audio embeddings shape: (None, 128)\n",
      "Decoded audio embeddings shape: (None, 128)\n"
     ]
    },
    {
     "name": "stderr",
     "output_type": "stream",
     "text": [
      "Processing TFRecord files:  35%|███▍      | 504/1444 [01:36<03:26,  4.56it/s]"
     ]
    },
    {
     "name": "stdout",
     "output_type": "stream",
     "text": [
      "Decoded audio embeddings shape: (None, 128)\n"
     ]
    },
    {
     "name": "stderr",
     "output_type": "stream",
     "text": [
      "Processing TFRecord files:  35%|███▍      | 505/1444 [01:36<03:27,  4.52it/s]"
     ]
    },
    {
     "name": "stdout",
     "output_type": "stream",
     "text": [
      "Decoded audio embeddings shape: (None, 128)\n"
     ]
    },
    {
     "name": "stderr",
     "output_type": "stream",
     "text": [
      "Processing TFRecord files:  35%|███▌      | 506/1444 [01:36<03:23,  4.62it/s]"
     ]
    },
    {
     "name": "stdout",
     "output_type": "stream",
     "text": [
      "Decoded audio embeddings shape: (None, 128)\n",
      "Decoded audio embeddings shape: (None, 128)\n"
     ]
    },
    {
     "name": "stderr",
     "output_type": "stream",
     "text": [
      "Processing TFRecord files:  35%|███▌      | 508/1444 [01:37<04:16,  3.64it/s]"
     ]
    },
    {
     "name": "stdout",
     "output_type": "stream",
     "text": [
      "Decoded audio embeddings shape: (None, 128)\n"
     ]
    },
    {
     "name": "stderr",
     "output_type": "stream",
     "text": [
      "Processing TFRecord files:  35%|███▌      | 509/1444 [01:37<04:25,  3.53it/s]"
     ]
    },
    {
     "name": "stdout",
     "output_type": "stream",
     "text": [
      "Decoded audio embeddings shape: (None, 128)\n"
     ]
    },
    {
     "name": "stderr",
     "output_type": "stream",
     "text": [
      "Processing TFRecord files:  35%|███▌      | 510/1444 [01:37<04:34,  3.40it/s]"
     ]
    },
    {
     "name": "stdout",
     "output_type": "stream",
     "text": [
      "Decoded audio embeddings shape: (None, 128)\n"
     ]
    },
    {
     "name": "stderr",
     "output_type": "stream",
     "text": [
      "Processing TFRecord files:  35%|███▌      | 511/1444 [01:38<04:26,  3.50it/s]"
     ]
    },
    {
     "name": "stdout",
     "output_type": "stream",
     "text": [
      "Decoded audio embeddings shape: (None, 128)\n",
      "Decoded audio embeddings shape: (None, 128)\n"
     ]
    },
    {
     "name": "stderr",
     "output_type": "stream",
     "text": [
      "Processing TFRecord files:  36%|███▌      | 513/1444 [01:38<04:41,  3.31it/s]"
     ]
    },
    {
     "name": "stdout",
     "output_type": "stream",
     "text": [
      "Decoded audio embeddings shape: (None, 128)\n"
     ]
    },
    {
     "name": "stderr",
     "output_type": "stream",
     "text": [
      "Processing TFRecord files:  36%|███▌      | 514/1444 [01:39<04:20,  3.57it/s]"
     ]
    },
    {
     "name": "stdout",
     "output_type": "stream",
     "text": [
      "Decoded audio embeddings shape: (None, 128)\n",
      "Decoded audio embeddings shape: (None, 128)\n"
     ]
    },
    {
     "name": "stderr",
     "output_type": "stream",
     "text": [
      "Processing TFRecord files:  36%|███▌      | 515/1444 [01:39<04:07,  3.75it/s]"
     ]
    },
    {
     "name": "stdout",
     "output_type": "stream",
     "text": [
      "Decoded audio embeddings shape: (None, 128)\n"
     ]
    },
    {
     "name": "stderr",
     "output_type": "stream",
     "text": [
      "Processing TFRecord files:  36%|███▌      | 517/1444 [01:39<04:06,  3.76it/s]"
     ]
    },
    {
     "name": "stdout",
     "output_type": "stream",
     "text": [
      "Decoded audio embeddings shape: (None, 128)\n",
      "Decoded audio embeddings shape: (None, 128)\n"
     ]
    },
    {
     "name": "stderr",
     "output_type": "stream",
     "text": [
      "Processing TFRecord files:  36%|███▌      | 519/1444 [01:40<03:33,  4.33it/s]"
     ]
    },
    {
     "name": "stdout",
     "output_type": "stream",
     "text": [
      "Decoded audio embeddings shape: (None, 128)\n",
      "Decoded audio embeddings shape: (None, 128)\n"
     ]
    },
    {
     "name": "stderr",
     "output_type": "stream",
     "text": [
      "Processing TFRecord files:  36%|███▌      | 520/1444 [01:40<03:24,  4.51it/s]"
     ]
    },
    {
     "name": "stdout",
     "output_type": "stream",
     "text": [
      "Decoded audio embeddings shape: (None, 128)\n"
     ]
    },
    {
     "name": "stderr",
     "output_type": "stream",
     "text": [
      "Processing TFRecord files:  36%|███▌      | 522/1444 [01:40<03:46,  4.07it/s]"
     ]
    },
    {
     "name": "stdout",
     "output_type": "stream",
     "text": [
      "Decoded audio embeddings shape: (None, 128)\n",
      "Decoded audio embeddings shape: (None, 128)\n"
     ]
    },
    {
     "name": "stderr",
     "output_type": "stream",
     "text": [
      "Processing TFRecord files:  36%|███▋      | 524/1444 [01:41<03:38,  4.21it/s]"
     ]
    },
    {
     "name": "stdout",
     "output_type": "stream",
     "text": [
      "Decoded audio embeddings shape: (None, 128)\n"
     ]
    },
    {
     "name": "stderr",
     "output_type": "stream",
     "text": [
      "Processing TFRecord files:  36%|███▋      | 525/1444 [01:41<03:40,  4.17it/s]"
     ]
    },
    {
     "name": "stdout",
     "output_type": "stream",
     "text": [
      "Decoded audio embeddings shape: (None, 128)\n"
     ]
    },
    {
     "name": "stderr",
     "output_type": "stream",
     "text": [
      "Processing TFRecord files:  36%|███▋      | 526/1444 [01:41<03:36,  4.24it/s]"
     ]
    },
    {
     "name": "stdout",
     "output_type": "stream",
     "text": [
      "Decoded audio embeddings shape: (None, 128)\n",
      "Decoded audio embeddings shape: (None, 128)\n"
     ]
    },
    {
     "name": "stderr",
     "output_type": "stream",
     "text": [
      "Processing TFRecord files:  37%|███▋      | 528/1444 [01:42<04:15,  3.59it/s]"
     ]
    },
    {
     "name": "stdout",
     "output_type": "stream",
     "text": [
      "Decoded audio embeddings shape: (None, 128)\n"
     ]
    },
    {
     "name": "stderr",
     "output_type": "stream",
     "text": [
      "Processing TFRecord files:  37%|███▋      | 529/1444 [01:42<04:08,  3.68it/s]"
     ]
    },
    {
     "name": "stdout",
     "output_type": "stream",
     "text": [
      "Decoded audio embeddings shape: (None, 128)\n"
     ]
    },
    {
     "name": "stderr",
     "output_type": "stream",
     "text": [
      "Processing TFRecord files:  37%|███▋      | 530/1444 [01:43<04:07,  3.70it/s]"
     ]
    },
    {
     "name": "stdout",
     "output_type": "stream",
     "text": [
      "Decoded audio embeddings shape: (None, 128)\n",
      "Decoded audio embeddings shape: (None, 128)\n"
     ]
    },
    {
     "name": "stderr",
     "output_type": "stream",
     "text": [
      "Processing TFRecord files:  37%|███▋      | 532/1444 [01:43<04:27,  3.41it/s]"
     ]
    },
    {
     "name": "stdout",
     "output_type": "stream",
     "text": [
      "Decoded audio embeddings shape: (None, 128)\n"
     ]
    },
    {
     "name": "stderr",
     "output_type": "stream",
     "text": [
      "Processing TFRecord files:  37%|███▋      | 533/1444 [01:43<04:14,  3.58it/s]"
     ]
    },
    {
     "name": "stdout",
     "output_type": "stream",
     "text": [
      "Decoded audio embeddings shape: (None, 128)\n"
     ]
    },
    {
     "name": "stderr",
     "output_type": "stream",
     "text": [
      "Processing TFRecord files:  37%|███▋      | 534/1444 [01:44<04:08,  3.67it/s]"
     ]
    },
    {
     "name": "stdout",
     "output_type": "stream",
     "text": [
      "Decoded audio embeddings shape: (None, 128)\n",
      "Decoded audio embeddings shape: (None, 128)\n"
     ]
    },
    {
     "name": "stderr",
     "output_type": "stream",
     "text": [
      "Processing TFRecord files:  37%|███▋      | 536/1444 [01:44<04:18,  3.51it/s]"
     ]
    },
    {
     "name": "stdout",
     "output_type": "stream",
     "text": [
      "Decoded audio embeddings shape: (None, 128)\n"
     ]
    },
    {
     "name": "stderr",
     "output_type": "stream",
     "text": [
      "Processing TFRecord files:  37%|███▋      | 537/1444 [01:45<04:10,  3.62it/s]"
     ]
    },
    {
     "name": "stdout",
     "output_type": "stream",
     "text": [
      "Decoded audio embeddings shape: (None, 128)\n"
     ]
    },
    {
     "name": "stderr",
     "output_type": "stream",
     "text": [
      "Processing TFRecord files:  37%|███▋      | 538/1444 [01:45<04:09,  3.63it/s]"
     ]
    },
    {
     "name": "stdout",
     "output_type": "stream",
     "text": [
      "Decoded audio embeddings shape: (None, 128)\n"
     ]
    },
    {
     "name": "stderr",
     "output_type": "stream",
     "text": [
      "Processing TFRecord files:  37%|███▋      | 539/1444 [01:45<04:03,  3.72it/s]"
     ]
    },
    {
     "name": "stdout",
     "output_type": "stream",
     "text": [
      "Decoded audio embeddings shape: (None, 128)\n"
     ]
    },
    {
     "name": "stderr",
     "output_type": "stream",
     "text": [
      "Processing TFRecord files:  37%|███▋      | 540/1444 [01:46<04:46,  3.15it/s]"
     ]
    },
    {
     "name": "stdout",
     "output_type": "stream",
     "text": [
      "Decoded audio embeddings shape: (None, 128)\n"
     ]
    },
    {
     "name": "stderr",
     "output_type": "stream",
     "text": [
      "Processing TFRecord files:  37%|███▋      | 541/1444 [01:46<04:27,  3.37it/s]"
     ]
    },
    {
     "name": "stdout",
     "output_type": "stream",
     "text": [
      "Decoded audio embeddings shape: (None, 128)\n"
     ]
    },
    {
     "name": "stderr",
     "output_type": "stream",
     "text": [
      "Processing TFRecord files:  38%|███▊      | 542/1444 [01:46<04:07,  3.64it/s]"
     ]
    },
    {
     "name": "stdout",
     "output_type": "stream",
     "text": [
      "Decoded audio embeddings shape: (None, 128)\n",
      "Decoded audio embeddings shape: (None, 128)\n"
     ]
    },
    {
     "name": "stderr",
     "output_type": "stream",
     "text": [
      "Processing TFRecord files:  38%|███▊      | 544/1444 [01:47<04:16,  3.50it/s]"
     ]
    },
    {
     "name": "stdout",
     "output_type": "stream",
     "text": [
      "Decoded audio embeddings shape: (None, 128)\n"
     ]
    },
    {
     "name": "stderr",
     "output_type": "stream",
     "text": [
      "Processing TFRecord files:  38%|███▊      | 545/1444 [01:47<04:01,  3.73it/s]"
     ]
    },
    {
     "name": "stdout",
     "output_type": "stream",
     "text": [
      "Decoded audio embeddings shape: (None, 128)\n"
     ]
    },
    {
     "name": "stderr",
     "output_type": "stream",
     "text": [
      "Processing TFRecord files:  38%|███▊      | 546/1444 [01:47<03:43,  4.03it/s]"
     ]
    },
    {
     "name": "stdout",
     "output_type": "stream",
     "text": [
      "Decoded audio embeddings shape: (None, 128)\n"
     ]
    },
    {
     "name": "stderr",
     "output_type": "stream",
     "text": [
      "Processing TFRecord files:  38%|███▊      | 547/1444 [01:47<03:40,  4.07it/s]"
     ]
    },
    {
     "name": "stdout",
     "output_type": "stream",
     "text": [
      "Decoded audio embeddings shape: (None, 128)\n"
     ]
    },
    {
     "name": "stderr",
     "output_type": "stream",
     "text": [
      "Processing TFRecord files:  38%|███▊      | 548/1444 [01:48<04:13,  3.53it/s]"
     ]
    },
    {
     "name": "stdout",
     "output_type": "stream",
     "text": [
      "Decoded audio embeddings shape: (None, 128)\n"
     ]
    },
    {
     "name": "stderr",
     "output_type": "stream",
     "text": [
      "Processing TFRecord files:  38%|███▊      | 549/1444 [01:48<04:11,  3.56it/s]"
     ]
    },
    {
     "name": "stdout",
     "output_type": "stream",
     "text": [
      "Decoded audio embeddings shape: (None, 128)\n"
     ]
    },
    {
     "name": "stderr",
     "output_type": "stream",
     "text": [
      "Processing TFRecord files:  38%|███▊      | 550/1444 [01:48<04:00,  3.71it/s]"
     ]
    },
    {
     "name": "stdout",
     "output_type": "stream",
     "text": [
      "Decoded audio embeddings shape: (None, 128)\n"
     ]
    },
    {
     "name": "stderr",
     "output_type": "stream",
     "text": [
      "Processing TFRecord files:  38%|███▊      | 551/1444 [01:48<03:52,  3.83it/s]"
     ]
    },
    {
     "name": "stdout",
     "output_type": "stream",
     "text": [
      "Decoded audio embeddings shape: (None, 128)\n",
      "Decoded audio embeddings shape: (None, 128)\n"
     ]
    },
    {
     "name": "stderr",
     "output_type": "stream",
     "text": [
      "Processing TFRecord files:  38%|███▊      | 553/1444 [01:49<04:10,  3.56it/s]"
     ]
    },
    {
     "name": "stdout",
     "output_type": "stream",
     "text": [
      "Decoded audio embeddings shape: (None, 128)\n",
      "Decoded audio embeddings shape: (None, 128)\n"
     ]
    },
    {
     "name": "stderr",
     "output_type": "stream",
     "text": [
      "Processing TFRecord files:  38%|███▊      | 555/1444 [01:49<03:31,  4.21it/s]"
     ]
    },
    {
     "name": "stdout",
     "output_type": "stream",
     "text": [
      "Decoded audio embeddings shape: (None, 128)\n",
      "Decoded audio embeddings shape: (None, 128)\n"
     ]
    },
    {
     "name": "stderr",
     "output_type": "stream",
     "text": [
      "Processing TFRecord files:  39%|███▊      | 557/1444 [01:50<03:45,  3.93it/s]"
     ]
    },
    {
     "name": "stdout",
     "output_type": "stream",
     "text": [
      "Decoded audio embeddings shape: (None, 128)\n"
     ]
    },
    {
     "name": "stderr",
     "output_type": "stream",
     "text": [
      "Processing TFRecord files:  39%|███▊      | 558/1444 [01:50<03:42,  3.98it/s]"
     ]
    },
    {
     "name": "stdout",
     "output_type": "stream",
     "text": [
      "Decoded audio embeddings shape: (None, 128)\n"
     ]
    },
    {
     "name": "stderr",
     "output_type": "stream",
     "text": [
      "Processing TFRecord files:  39%|███▊      | 559/1444 [01:50<03:27,  4.27it/s]"
     ]
    },
    {
     "name": "stdout",
     "output_type": "stream",
     "text": [
      "Decoded audio embeddings shape: (None, 128)\n",
      "Decoded audio embeddings shape: (None, 128)\n"
     ]
    },
    {
     "name": "stderr",
     "output_type": "stream",
     "text": [
      "Processing TFRecord files:  39%|███▉      | 561/1444 [01:51<03:53,  3.79it/s]"
     ]
    },
    {
     "name": "stdout",
     "output_type": "stream",
     "text": [
      "Decoded audio embeddings shape: (None, 128)\n"
     ]
    },
    {
     "name": "stderr",
     "output_type": "stream",
     "text": [
      "Processing TFRecord files:  39%|███▉      | 562/1444 [01:51<03:31,  4.18it/s]"
     ]
    },
    {
     "name": "stdout",
     "output_type": "stream",
     "text": [
      "Decoded audio embeddings shape: (None, 128)\n",
      "Decoded audio embeddings shape: (None, 128)\n"
     ]
    },
    {
     "name": "stderr",
     "output_type": "stream",
     "text": [
      "Processing TFRecord files:  39%|███▉      | 564/1444 [01:52<03:12,  4.57it/s]"
     ]
    },
    {
     "name": "stdout",
     "output_type": "stream",
     "text": [
      "Decoded audio embeddings shape: (None, 128)\n",
      "Decoded audio embeddings shape: (None, 128)\n"
     ]
    },
    {
     "name": "stderr",
     "output_type": "stream",
     "text": [
      "Processing TFRecord files:  39%|███▉      | 566/1444 [01:52<03:34,  4.10it/s]"
     ]
    },
    {
     "name": "stdout",
     "output_type": "stream",
     "text": [
      "Decoded audio embeddings shape: (None, 128)\n"
     ]
    },
    {
     "name": "stderr",
     "output_type": "stream",
     "text": [
      "Processing TFRecord files:  39%|███▉      | 567/1444 [01:52<03:18,  4.41it/s]"
     ]
    },
    {
     "name": "stdout",
     "output_type": "stream",
     "text": [
      "Decoded audio embeddings shape: (None, 128)\n",
      "Decoded audio embeddings shape: (None, 128)\n"
     ]
    },
    {
     "name": "stderr",
     "output_type": "stream",
     "text": [
      "Processing TFRecord files:  39%|███▉      | 569/1444 [01:53<03:16,  4.46it/s]"
     ]
    },
    {
     "name": "stdout",
     "output_type": "stream",
     "text": [
      "Decoded audio embeddings shape: (None, 128)\n",
      "Decoded audio embeddings shape: (None, 128)\n"
     ]
    },
    {
     "name": "stderr",
     "output_type": "stream",
     "text": [
      "Processing TFRecord files:  40%|███▉      | 571/1444 [01:53<03:38,  3.99it/s]"
     ]
    },
    {
     "name": "stdout",
     "output_type": "stream",
     "text": [
      "Decoded audio embeddings shape: (None, 128)\n"
     ]
    },
    {
     "name": "stderr",
     "output_type": "stream",
     "text": [
      "Processing TFRecord files:  40%|███▉      | 572/1444 [01:54<03:32,  4.11it/s]"
     ]
    },
    {
     "name": "stdout",
     "output_type": "stream",
     "text": [
      "Decoded audio embeddings shape: (None, 128)\n"
     ]
    },
    {
     "name": "stderr",
     "output_type": "stream",
     "text": [
      "Processing TFRecord files:  40%|███▉      | 573/1444 [01:54<03:25,  4.24it/s]"
     ]
    },
    {
     "name": "stdout",
     "output_type": "stream",
     "text": [
      "Decoded audio embeddings shape: (None, 128)\n",
      "Decoded audio embeddings shape: (None, 128)\n"
     ]
    },
    {
     "name": "stderr",
     "output_type": "stream",
     "text": [
      "Processing TFRecord files:  40%|███▉      | 575/1444 [01:54<04:15,  3.39it/s]"
     ]
    },
    {
     "name": "stdout",
     "output_type": "stream",
     "text": [
      "Decoded audio embeddings shape: (None, 128)\n"
     ]
    },
    {
     "name": "stderr",
     "output_type": "stream",
     "text": [
      "Processing TFRecord files:  40%|███▉      | 576/1444 [01:55<03:54,  3.70it/s]"
     ]
    },
    {
     "name": "stdout",
     "output_type": "stream",
     "text": [
      "Decoded audio embeddings shape: (None, 128)\n"
     ]
    },
    {
     "name": "stderr",
     "output_type": "stream",
     "text": [
      "Processing TFRecord files:  40%|███▉      | 577/1444 [01:55<03:33,  4.06it/s]"
     ]
    },
    {
     "name": "stdout",
     "output_type": "stream",
     "text": [
      "Decoded audio embeddings shape: (None, 128)\n",
      "Decoded audio embeddings shape: (None, 128)\n"
     ]
    },
    {
     "name": "stderr",
     "output_type": "stream",
     "text": [
      "Processing TFRecord files:  40%|████      | 578/1444 [01:55<03:20,  4.31it/s]"
     ]
    },
    {
     "name": "stdout",
     "output_type": "stream",
     "text": [
      "Decoded audio embeddings shape: (None, 128)\n"
     ]
    },
    {
     "name": "stderr",
     "output_type": "stream",
     "text": [
      "Processing TFRecord files:  40%|████      | 580/1444 [01:56<03:43,  3.87it/s]"
     ]
    },
    {
     "name": "stdout",
     "output_type": "stream",
     "text": [
      "Decoded audio embeddings shape: (None, 128)\n"
     ]
    },
    {
     "name": "stderr",
     "output_type": "stream",
     "text": [
      "Processing TFRecord files:  40%|████      | 581/1444 [01:56<03:26,  4.17it/s]"
     ]
    },
    {
     "name": "stdout",
     "output_type": "stream",
     "text": [
      "Decoded audio embeddings shape: (None, 128)\n",
      "Decoded audio embeddings shape: (None, 128)\n"
     ]
    },
    {
     "name": "stderr",
     "output_type": "stream",
     "text": [
      "Processing TFRecord files:  40%|████      | 583/1444 [01:56<03:11,  4.49it/s]"
     ]
    },
    {
     "name": "stdout",
     "output_type": "stream",
     "text": [
      "Decoded audio embeddings shape: (None, 128)\n"
     ]
    },
    {
     "name": "stderr",
     "output_type": "stream",
     "text": [
      "Processing TFRecord files:  40%|████      | 584/1444 [01:57<03:44,  3.83it/s]"
     ]
    },
    {
     "name": "stdout",
     "output_type": "stream",
     "text": [
      "Decoded audio embeddings shape: (None, 128)\n"
     ]
    },
    {
     "name": "stderr",
     "output_type": "stream",
     "text": [
      "Processing TFRecord files:  41%|████      | 585/1444 [01:57<03:36,  3.96it/s]"
     ]
    },
    {
     "name": "stdout",
     "output_type": "stream",
     "text": [
      "Decoded audio embeddings shape: (None, 128)\n"
     ]
    },
    {
     "name": "stderr",
     "output_type": "stream",
     "text": [
      "Processing TFRecord files:  41%|████      | 586/1444 [01:57<03:31,  4.05it/s]"
     ]
    },
    {
     "name": "stdout",
     "output_type": "stream",
     "text": [
      "Decoded audio embeddings shape: (None, 128)\n"
     ]
    },
    {
     "name": "stderr",
     "output_type": "stream",
     "text": [
      "Processing TFRecord files:  41%|████      | 587/1444 [01:57<03:23,  4.20it/s]"
     ]
    },
    {
     "name": "stdout",
     "output_type": "stream",
     "text": [
      "Decoded audio embeddings shape: (None, 128)\n"
     ]
    },
    {
     "name": "stderr",
     "output_type": "stream",
     "text": [
      "Processing TFRecord files:  41%|████      | 588/1444 [01:58<03:21,  4.24it/s]"
     ]
    },
    {
     "name": "stdout",
     "output_type": "stream",
     "text": [
      "Decoded audio embeddings shape: (None, 128)\n",
      "Decoded audio embeddings shape: (None, 128)\n"
     ]
    },
    {
     "name": "stderr",
     "output_type": "stream",
     "text": [
      "Processing TFRecord files:  41%|████      | 590/1444 [01:58<03:31,  4.03it/s]"
     ]
    },
    {
     "name": "stdout",
     "output_type": "stream",
     "text": [
      "Decoded audio embeddings shape: (None, 128)\n",
      "Decoded audio embeddings shape: (None, 128)\n"
     ]
    },
    {
     "name": "stderr",
     "output_type": "stream",
     "text": [
      "Processing TFRecord files:  41%|████      | 592/1444 [01:59<03:12,  4.43it/s]"
     ]
    },
    {
     "name": "stdout",
     "output_type": "stream",
     "text": [
      "Decoded audio embeddings shape: (None, 128)\n"
     ]
    },
    {
     "name": "stderr",
     "output_type": "stream",
     "text": [
      "Processing TFRecord files:  41%|████      | 593/1444 [01:59<03:22,  4.20it/s]"
     ]
    },
    {
     "name": "stdout",
     "output_type": "stream",
     "text": [
      "Decoded audio embeddings shape: (None, 128)\n",
      "Decoded audio embeddings shape: (None, 128)\n"
     ]
    },
    {
     "name": "stderr",
     "output_type": "stream",
     "text": [
      "Processing TFRecord files:  41%|████      | 595/1444 [01:59<03:32,  3.99it/s]"
     ]
    },
    {
     "name": "stdout",
     "output_type": "stream",
     "text": [
      "Decoded audio embeddings shape: (None, 128)\n",
      "Decoded audio embeddings shape: (None, 128)\n"
     ]
    },
    {
     "name": "stderr",
     "output_type": "stream",
     "text": [
      "Processing TFRecord files:  41%|████▏     | 597/1444 [02:00<03:08,  4.50it/s]"
     ]
    },
    {
     "name": "stdout",
     "output_type": "stream",
     "text": [
      "Decoded audio embeddings shape: (None, 128)\n",
      "Decoded audio embeddings shape: (None, 128)\n"
     ]
    },
    {
     "name": "stderr",
     "output_type": "stream",
     "text": [
      "Processing TFRecord files:  41%|████▏     | 598/1444 [02:00<03:01,  4.66it/s]"
     ]
    },
    {
     "name": "stdout",
     "output_type": "stream",
     "text": [
      "Decoded audio embeddings shape: (None, 128)\n"
     ]
    },
    {
     "name": "stderr",
     "output_type": "stream",
     "text": [
      "Processing TFRecord files:  42%|████▏     | 600/1444 [02:00<03:18,  4.26it/s]"
     ]
    },
    {
     "name": "stdout",
     "output_type": "stream",
     "text": [
      "Decoded audio embeddings shape: (None, 128)\n",
      "Decoded audio embeddings shape: (None, 128)\n"
     ]
    },
    {
     "name": "stderr",
     "output_type": "stream",
     "text": [
      "Processing TFRecord files:  42%|████▏     | 602/1444 [02:01<03:02,  4.62it/s]"
     ]
    },
    {
     "name": "stdout",
     "output_type": "stream",
     "text": [
      "Decoded audio embeddings shape: (None, 128)\n",
      "Decoded audio embeddings shape: (None, 128)\n"
     ]
    },
    {
     "name": "stderr",
     "output_type": "stream",
     "text": [
      "Processing TFRecord files:  42%|████▏     | 604/1444 [02:01<03:11,  4.39it/s]"
     ]
    },
    {
     "name": "stdout",
     "output_type": "stream",
     "text": [
      "Decoded audio embeddings shape: (None, 128)\n"
     ]
    },
    {
     "name": "stderr",
     "output_type": "stream",
     "text": [
      "Processing TFRecord files:  42%|████▏     | 605/1444 [02:02<03:10,  4.40it/s]"
     ]
    },
    {
     "name": "stdout",
     "output_type": "stream",
     "text": [
      "Decoded audio embeddings shape: (None, 128)\n"
     ]
    },
    {
     "name": "stderr",
     "output_type": "stream",
     "text": [
      "Processing TFRecord files:  42%|████▏     | 606/1444 [02:02<03:04,  4.55it/s]"
     ]
    },
    {
     "name": "stdout",
     "output_type": "stream",
     "text": [
      "Decoded audio embeddings shape: (None, 128)\n",
      "Decoded audio embeddings shape: (None, 128)\n"
     ]
    },
    {
     "name": "stderr",
     "output_type": "stream",
     "text": [
      "Processing TFRecord files:  42%|████▏     | 608/1444 [02:02<02:57,  4.71it/s]"
     ]
    },
    {
     "name": "stdout",
     "output_type": "stream",
     "text": [
      "Decoded audio embeddings shape: (None, 128)\n",
      "Decoded audio embeddings shape: (None, 128)\n"
     ]
    },
    {
     "name": "stderr",
     "output_type": "stream",
     "text": [
      "Processing TFRecord files:  42%|████▏     | 610/1444 [02:03<03:08,  4.43it/s]"
     ]
    },
    {
     "name": "stdout",
     "output_type": "stream",
     "text": [
      "Decoded audio embeddings shape: (None, 128)\n",
      "Decoded audio embeddings shape: (None, 128)\n"
     ]
    },
    {
     "name": "stderr",
     "output_type": "stream",
     "text": [
      "Processing TFRecord files:  42%|████▏     | 612/1444 [02:03<02:59,  4.64it/s]"
     ]
    },
    {
     "name": "stdout",
     "output_type": "stream",
     "text": [
      "Decoded audio embeddings shape: (None, 128)\n",
      "Decoded audio embeddings shape: (None, 128)\n"
     ]
    },
    {
     "name": "stderr",
     "output_type": "stream",
     "text": [
      "Processing TFRecord files:  42%|████▏     | 613/1444 [02:03<02:59,  4.62it/s]"
     ]
    },
    {
     "name": "stdout",
     "output_type": "stream",
     "text": [
      "Decoded audio embeddings shape: (None, 128)\n"
     ]
    },
    {
     "name": "stderr",
     "output_type": "stream",
     "text": [
      "Processing TFRecord files:  43%|████▎     | 614/1444 [02:04<03:38,  3.80it/s]"
     ]
    },
    {
     "name": "stdout",
     "output_type": "stream",
     "text": [
      "Decoded audio embeddings shape: (None, 128)\n"
     ]
    },
    {
     "name": "stderr",
     "output_type": "stream",
     "text": [
      "Processing TFRecord files:  43%|████▎     | 616/1444 [02:04<03:26,  4.01it/s]"
     ]
    },
    {
     "name": "stdout",
     "output_type": "stream",
     "text": [
      "Decoded audio embeddings shape: (None, 128)\n",
      "Decoded audio embeddings shape: (None, 128)\n"
     ]
    },
    {
     "name": "stderr",
     "output_type": "stream",
     "text": [
      "Processing TFRecord files:  43%|████▎     | 618/1444 [02:04<03:00,  4.59it/s]"
     ]
    },
    {
     "name": "stdout",
     "output_type": "stream",
     "text": [
      "Decoded audio embeddings shape: (None, 128)\n",
      "Decoded audio embeddings shape: (None, 128)\n"
     ]
    },
    {
     "name": "stderr",
     "output_type": "stream",
     "text": [
      "Processing TFRecord files:  43%|████▎     | 620/1444 [02:05<03:02,  4.53it/s]"
     ]
    },
    {
     "name": "stdout",
     "output_type": "stream",
     "text": [
      "Decoded audio embeddings shape: (None, 128)\n",
      "Decoded audio embeddings shape: (None, 128)\n"
     ]
    },
    {
     "name": "stderr",
     "output_type": "stream",
     "text": [
      "Processing TFRecord files:  43%|████▎     | 622/1444 [02:05<02:47,  4.90it/s]"
     ]
    },
    {
     "name": "stdout",
     "output_type": "stream",
     "text": [
      "Decoded audio embeddings shape: (None, 128)\n",
      "Decoded audio embeddings shape: (None, 128)\n"
     ]
    },
    {
     "name": "stderr",
     "output_type": "stream",
     "text": [
      "Processing TFRecord files:  43%|████▎     | 624/1444 [02:06<03:13,  4.24it/s]"
     ]
    },
    {
     "name": "stdout",
     "output_type": "stream",
     "text": [
      "Decoded audio embeddings shape: (None, 128)\n"
     ]
    },
    {
     "name": "stderr",
     "output_type": "stream",
     "text": [
      "Processing TFRecord files:  43%|████▎     | 625/1444 [02:06<03:00,  4.55it/s]"
     ]
    },
    {
     "name": "stdout",
     "output_type": "stream",
     "text": [
      "Decoded audio embeddings shape: (None, 128)\n",
      "Decoded audio embeddings shape: (None, 128)\n"
     ]
    },
    {
     "name": "stderr",
     "output_type": "stream",
     "text": [
      "Processing TFRecord files:  43%|████▎     | 627/1444 [02:06<03:04,  4.42it/s]"
     ]
    },
    {
     "name": "stdout",
     "output_type": "stream",
     "text": [
      "Decoded audio embeddings shape: (None, 128)\n"
     ]
    },
    {
     "name": "stderr",
     "output_type": "stream",
     "text": [
      "Processing TFRecord files:  43%|████▎     | 628/1444 [02:07<02:49,  4.81it/s]"
     ]
    },
    {
     "name": "stdout",
     "output_type": "stream",
     "text": [
      "Decoded audio embeddings shape: (None, 128)\n",
      "Decoded audio embeddings shape: (None, 128)\n"
     ]
    },
    {
     "name": "stderr",
     "output_type": "stream",
     "text": [
      "Processing TFRecord files:  44%|████▎     | 630/1444 [02:07<02:55,  4.64it/s]"
     ]
    },
    {
     "name": "stdout",
     "output_type": "stream",
     "text": [
      "Decoded audio embeddings shape: (None, 128)\n",
      "Decoded audio embeddings shape: (None, 128)\n"
     ]
    },
    {
     "name": "stderr",
     "output_type": "stream",
     "text": [
      "Processing TFRecord files:  44%|████▍     | 632/1444 [02:07<02:44,  4.94it/s]"
     ]
    },
    {
     "name": "stdout",
     "output_type": "stream",
     "text": [
      "Decoded audio embeddings shape: (None, 128)\n",
      "Decoded audio embeddings shape: (None, 128)\n"
     ]
    },
    {
     "name": "stderr",
     "output_type": "stream",
     "text": [
      "Processing TFRecord files:  44%|████▍     | 634/1444 [02:08<02:55,  4.62it/s]"
     ]
    },
    {
     "name": "stdout",
     "output_type": "stream",
     "text": [
      "Decoded audio embeddings shape: (None, 128)\n"
     ]
    },
    {
     "name": "stderr",
     "output_type": "stream",
     "text": [
      "Processing TFRecord files:  44%|████▍     | 635/1444 [02:08<02:48,  4.79it/s]"
     ]
    },
    {
     "name": "stdout",
     "output_type": "stream",
     "text": [
      "Decoded audio embeddings shape: (None, 128)\n",
      "Decoded audio embeddings shape: (None, 128)\n"
     ]
    },
    {
     "name": "stderr",
     "output_type": "stream",
     "text": [
      "Processing TFRecord files:  44%|████▍     | 637/1444 [02:08<02:41,  4.98it/s]"
     ]
    },
    {
     "name": "stdout",
     "output_type": "stream",
     "text": [
      "Decoded audio embeddings shape: (None, 128)\n",
      "Decoded audio embeddings shape: (None, 128)\n"
     ]
    },
    {
     "name": "stderr",
     "output_type": "stream",
     "text": [
      "Processing TFRecord files:  44%|████▍     | 639/1444 [02:09<02:56,  4.55it/s]"
     ]
    },
    {
     "name": "stdout",
     "output_type": "stream",
     "text": [
      "Decoded audio embeddings shape: (None, 128)\n"
     ]
    },
    {
     "name": "stderr",
     "output_type": "stream",
     "text": [
      "Processing TFRecord files:  44%|████▍     | 640/1444 [02:09<02:55,  4.58it/s]"
     ]
    },
    {
     "name": "stdout",
     "output_type": "stream",
     "text": [
      "Decoded audio embeddings shape: (None, 128)\n",
      "Decoded audio embeddings shape: (None, 128)\n"
     ]
    },
    {
     "name": "stderr",
     "output_type": "stream",
     "text": [
      "Processing TFRecord files:  44%|████▍     | 642/1444 [02:09<02:36,  5.14it/s]"
     ]
    },
    {
     "name": "stdout",
     "output_type": "stream",
     "text": [
      "Decoded audio embeddings shape: (None, 128)\n",
      "Decoded audio embeddings shape: (None, 128)\n"
     ]
    },
    {
     "name": "stderr",
     "output_type": "stream",
     "text": [
      "Processing TFRecord files:  45%|████▍     | 644/1444 [02:10<02:40,  4.98it/s]"
     ]
    },
    {
     "name": "stdout",
     "output_type": "stream",
     "text": [
      "Decoded audio embeddings shape: (None, 128)\n",
      "Decoded audio embeddings shape: (None, 128)\n"
     ]
    },
    {
     "name": "stderr",
     "output_type": "stream",
     "text": [
      "Processing TFRecord files:  45%|████▍     | 646/1444 [02:10<02:38,  5.03it/s]"
     ]
    },
    {
     "name": "stdout",
     "output_type": "stream",
     "text": [
      "Decoded audio embeddings shape: (None, 128)\n"
     ]
    },
    {
     "name": "stderr",
     "output_type": "stream",
     "text": [
      "Processing TFRecord files:  45%|████▍     | 647/1444 [02:11<02:43,  4.87it/s]"
     ]
    },
    {
     "name": "stdout",
     "output_type": "stream",
     "text": [
      "Decoded audio embeddings shape: (None, 128)\n"
     ]
    },
    {
     "name": "stderr",
     "output_type": "stream",
     "text": [
      "Processing TFRecord files:  45%|████▍     | 648/1444 [02:11<03:05,  4.29it/s]"
     ]
    },
    {
     "name": "stdout",
     "output_type": "stream",
     "text": [
      "Decoded audio embeddings shape: (None, 128)\n",
      "Decoded audio embeddings shape: (None, 128)\n"
     ]
    },
    {
     "name": "stderr",
     "output_type": "stream",
     "text": [
      "Processing TFRecord files:  45%|████▌     | 650/1444 [02:11<02:48,  4.70it/s]"
     ]
    },
    {
     "name": "stdout",
     "output_type": "stream",
     "text": [
      "Decoded audio embeddings shape: (None, 128)\n",
      "Decoded audio embeddings shape: (None, 128)\n"
     ]
    },
    {
     "name": "stderr",
     "output_type": "stream",
     "text": [
      "Processing TFRecord files:  45%|████▌     | 651/1444 [02:11<02:46,  4.76it/s]"
     ]
    },
    {
     "name": "stdout",
     "output_type": "stream",
     "text": [
      "Decoded audio embeddings shape: (None, 128)\n"
     ]
    },
    {
     "name": "stderr",
     "output_type": "stream",
     "text": [
      "Processing TFRecord files:  45%|████▌     | 653/1444 [02:12<02:59,  4.41it/s]"
     ]
    },
    {
     "name": "stdout",
     "output_type": "stream",
     "text": [
      "Decoded audio embeddings shape: (None, 128)\n",
      "Decoded audio embeddings shape: (None, 128)\n"
     ]
    },
    {
     "name": "stderr",
     "output_type": "stream",
     "text": [
      "Processing TFRecord files:  45%|████▌     | 655/1444 [02:12<02:39,  4.96it/s]"
     ]
    },
    {
     "name": "stdout",
     "output_type": "stream",
     "text": [
      "Decoded audio embeddings shape: (None, 128)\n",
      "Decoded audio embeddings shape: (None, 128)\n"
     ]
    },
    {
     "name": "stderr",
     "output_type": "stream",
     "text": [
      "Processing TFRecord files:  45%|████▌     | 657/1444 [02:13<02:49,  4.63it/s]"
     ]
    },
    {
     "name": "stdout",
     "output_type": "stream",
     "text": [
      "Decoded audio embeddings shape: (None, 128)\n"
     ]
    },
    {
     "name": "stderr",
     "output_type": "stream",
     "text": [
      "Processing TFRecord files:  46%|████▌     | 658/1444 [02:13<02:36,  5.04it/s]"
     ]
    },
    {
     "name": "stdout",
     "output_type": "stream",
     "text": [
      "Decoded audio embeddings shape: (None, 128)\n",
      "Decoded audio embeddings shape: (None, 128)\n"
     ]
    },
    {
     "name": "stderr",
     "output_type": "stream",
     "text": [
      "Processing TFRecord files:  46%|████▌     | 660/1444 [02:13<02:21,  5.54it/s]"
     ]
    },
    {
     "name": "stdout",
     "output_type": "stream",
     "text": [
      "Decoded audio embeddings shape: (None, 128)\n",
      "Decoded audio embeddings shape: (None, 128)\n"
     ]
    },
    {
     "name": "stderr",
     "output_type": "stream",
     "text": [
      "Processing TFRecord files:  46%|████▌     | 662/1444 [02:14<02:26,  5.36it/s]"
     ]
    },
    {
     "name": "stdout",
     "output_type": "stream",
     "text": [
      "Decoded audio embeddings shape: (None, 128)\n"
     ]
    },
    {
     "name": "stderr",
     "output_type": "stream",
     "text": [
      "Processing TFRecord files:  46%|████▌     | 663/1444 [02:14<02:45,  4.72it/s]"
     ]
    },
    {
     "name": "stdout",
     "output_type": "stream",
     "text": [
      "Decoded audio embeddings shape: (None, 128)\n"
     ]
    },
    {
     "name": "stderr",
     "output_type": "stream",
     "text": [
      "Processing TFRecord files:  46%|████▌     | 664/1444 [02:14<02:48,  4.63it/s]"
     ]
    },
    {
     "name": "stdout",
     "output_type": "stream",
     "text": [
      "Decoded audio embeddings shape: (None, 128)\n"
     ]
    },
    {
     "name": "stderr",
     "output_type": "stream",
     "text": [
      "Processing TFRecord files:  46%|████▌     | 665/1444 [02:14<02:44,  4.72it/s]"
     ]
    },
    {
     "name": "stdout",
     "output_type": "stream",
     "text": [
      "Decoded audio embeddings shape: (None, 128)\n",
      "Decoded audio embeddings shape: (None, 128)\n"
     ]
    },
    {
     "name": "stderr",
     "output_type": "stream",
     "text": [
      "Processing TFRecord files:  46%|████▌     | 667/1444 [02:15<03:15,  3.97it/s]"
     ]
    },
    {
     "name": "stdout",
     "output_type": "stream",
     "text": [
      "Decoded audio embeddings shape: (None, 128)\n"
     ]
    },
    {
     "name": "stderr",
     "output_type": "stream",
     "text": [
      "Processing TFRecord files:  46%|████▋     | 668/1444 [02:15<03:07,  4.13it/s]"
     ]
    },
    {
     "name": "stdout",
     "output_type": "stream",
     "text": [
      "Decoded audio embeddings shape: (None, 128)\n"
     ]
    },
    {
     "name": "stderr",
     "output_type": "stream",
     "text": [
      "Processing TFRecord files:  46%|████▋     | 669/1444 [02:15<03:09,  4.09it/s]"
     ]
    },
    {
     "name": "stdout",
     "output_type": "stream",
     "text": [
      "Decoded audio embeddings shape: (None, 128)\n",
      "Decoded audio embeddings shape: (None, 128)\n"
     ]
    },
    {
     "name": "stderr",
     "output_type": "stream",
     "text": [
      "Processing TFRecord files:  46%|████▋     | 671/1444 [02:16<03:07,  4.11it/s]"
     ]
    },
    {
     "name": "stdout",
     "output_type": "stream",
     "text": [
      "Decoded audio embeddings shape: (None, 128)\n",
      "Decoded audio embeddings shape: (None, 128)\n"
     ]
    },
    {
     "name": "stderr",
     "output_type": "stream",
     "text": [
      "Processing TFRecord files:  47%|████▋     | 673/1444 [02:16<02:41,  4.79it/s]"
     ]
    },
    {
     "name": "stdout",
     "output_type": "stream",
     "text": [
      "Decoded audio embeddings shape: (None, 128)\n",
      "Decoded audio embeddings shape: (None, 128)\n"
     ]
    },
    {
     "name": "stderr",
     "output_type": "stream",
     "text": [
      "Processing TFRecord files:  47%|████▋     | 674/1444 [02:16<02:30,  5.11it/s]"
     ]
    },
    {
     "name": "stdout",
     "output_type": "stream",
     "text": [
      "Decoded audio embeddings shape: (None, 128)\n"
     ]
    },
    {
     "name": "stderr",
     "output_type": "stream",
     "text": [
      "Processing TFRecord files:  47%|████▋     | 676/1444 [02:17<02:49,  4.54it/s]"
     ]
    },
    {
     "name": "stdout",
     "output_type": "stream",
     "text": [
      "Decoded audio embeddings shape: (None, 128)\n",
      "Decoded audio embeddings shape: (None, 128)\n"
     ]
    },
    {
     "name": "stderr",
     "output_type": "stream",
     "text": [
      "Processing TFRecord files:  47%|████▋     | 678/1444 [02:17<02:29,  5.13it/s]"
     ]
    },
    {
     "name": "stdout",
     "output_type": "stream",
     "text": [
      "Decoded audio embeddings shape: (None, 128)\n",
      "Decoded audio embeddings shape: (None, 128)\n"
     ]
    },
    {
     "name": "stderr",
     "output_type": "stream",
     "text": [
      "Processing TFRecord files:  47%|████▋     | 680/1444 [02:18<02:27,  5.17it/s]"
     ]
    },
    {
     "name": "stdout",
     "output_type": "stream",
     "text": [
      "Decoded audio embeddings shape: (None, 128)\n"
     ]
    },
    {
     "name": "stderr",
     "output_type": "stream",
     "text": [
      "Processing TFRecord files:  47%|████▋     | 681/1444 [02:18<02:47,  4.56it/s]"
     ]
    },
    {
     "name": "stdout",
     "output_type": "stream",
     "text": [
      "Decoded audio embeddings shape: (None, 128)\n"
     ]
    },
    {
     "name": "stderr",
     "output_type": "stream",
     "text": [
      "Processing TFRecord files:  47%|████▋     | 682/1444 [02:18<02:43,  4.65it/s]"
     ]
    },
    {
     "name": "stdout",
     "output_type": "stream",
     "text": [
      "Decoded audio embeddings shape: (None, 128)\n",
      "Decoded audio embeddings shape: (None, 128)\n"
     ]
    },
    {
     "name": "stderr",
     "output_type": "stream",
     "text": [
      "Processing TFRecord files:  47%|████▋     | 684/1444 [02:18<02:25,  5.22it/s]"
     ]
    },
    {
     "name": "stdout",
     "output_type": "stream",
     "text": [
      "Decoded audio embeddings shape: (None, 128)\n",
      "Decoded audio embeddings shape: (None, 128)\n"
     ]
    },
    {
     "name": "stderr",
     "output_type": "stream",
     "text": [
      "Processing TFRecord files:  48%|████▊     | 686/1444 [02:19<02:31,  5.00it/s]"
     ]
    },
    {
     "name": "stdout",
     "output_type": "stream",
     "text": [
      "Decoded audio embeddings shape: (None, 128)\n",
      "Decoded audio embeddings shape: (None, 128)\n"
     ]
    },
    {
     "name": "stderr",
     "output_type": "stream",
     "text": [
      "Processing TFRecord files:  48%|████▊     | 688/1444 [02:19<02:24,  5.25it/s]"
     ]
    },
    {
     "name": "stdout",
     "output_type": "stream",
     "text": [
      "Decoded audio embeddings shape: (None, 128)\n",
      "Decoded audio embeddings shape: (None, 128)\n"
     ]
    },
    {
     "name": "stderr",
     "output_type": "stream",
     "text": [
      "Processing TFRecord files:  48%|████▊     | 690/1444 [02:20<02:55,  4.29it/s]"
     ]
    },
    {
     "name": "stdout",
     "output_type": "stream",
     "text": [
      "Decoded audio embeddings shape: (None, 128)\n"
     ]
    },
    {
     "name": "stderr",
     "output_type": "stream",
     "text": [
      "Processing TFRecord files:  48%|████▊     | 691/1444 [02:20<02:45,  4.55it/s]"
     ]
    },
    {
     "name": "stdout",
     "output_type": "stream",
     "text": [
      "Decoded audio embeddings shape: (None, 128)\n"
     ]
    },
    {
     "name": "stderr",
     "output_type": "stream",
     "text": [
      "Processing TFRecord files:  48%|████▊     | 692/1444 [02:20<02:46,  4.53it/s]"
     ]
    },
    {
     "name": "stdout",
     "output_type": "stream",
     "text": [
      "Decoded audio embeddings shape: (None, 128)\n"
     ]
    },
    {
     "name": "stderr",
     "output_type": "stream",
     "text": [
      "Processing TFRecord files:  48%|████▊     | 693/1444 [02:20<03:07,  4.01it/s]"
     ]
    },
    {
     "name": "stdout",
     "output_type": "stream",
     "text": [
      "Decoded audio embeddings shape: (None, 128)\n",
      "Decoded audio embeddings shape: (None, 128)\n"
     ]
    },
    {
     "name": "stderr",
     "output_type": "stream",
     "text": [
      "Processing TFRecord files:  48%|████▊     | 695/1444 [02:21<03:20,  3.74it/s]"
     ]
    },
    {
     "name": "stdout",
     "output_type": "stream",
     "text": [
      "Decoded audio embeddings shape: (None, 128)\n",
      "Decoded audio embeddings shape: (None, 128)\n"
     ]
    },
    {
     "name": "stderr",
     "output_type": "stream",
     "text": [
      "Processing TFRecord files:  48%|████▊     | 697/1444 [02:21<02:40,  4.65it/s]"
     ]
    },
    {
     "name": "stdout",
     "output_type": "stream",
     "text": [
      "Decoded audio embeddings shape: (None, 128)\n",
      "Decoded audio embeddings shape: (None, 128)\n"
     ]
    },
    {
     "name": "stderr",
     "output_type": "stream",
     "text": [
      "Processing TFRecord files:  48%|████▊     | 699/1444 [02:22<02:12,  5.61it/s]"
     ]
    },
    {
     "name": "stdout",
     "output_type": "stream",
     "text": [
      "Decoded audio embeddings shape: (None, 128)\n",
      "Decoded audio embeddings shape: (None, 128)\n"
     ]
    },
    {
     "name": "stderr",
     "output_type": "stream",
     "text": [
      "Processing TFRecord files:  49%|████▊     | 701/1444 [02:22<02:18,  5.38it/s]"
     ]
    },
    {
     "name": "stdout",
     "output_type": "stream",
     "text": [
      "Decoded audio embeddings shape: (None, 128)\n",
      "Decoded audio embeddings shape: (None, 128)\n"
     ]
    },
    {
     "name": "stderr",
     "output_type": "stream",
     "text": [
      "Processing TFRecord files:  49%|████▊     | 703/1444 [02:22<02:15,  5.47it/s]"
     ]
    },
    {
     "name": "stdout",
     "output_type": "stream",
     "text": [
      "Decoded audio embeddings shape: (None, 128)\n",
      "Decoded audio embeddings shape: (None, 128)\n"
     ]
    },
    {
     "name": "stderr",
     "output_type": "stream",
     "text": [
      "Processing TFRecord files:  49%|████▉     | 705/1444 [02:23<02:17,  5.36it/s]"
     ]
    },
    {
     "name": "stdout",
     "output_type": "stream",
     "text": [
      "Decoded audio embeddings shape: (None, 128)\n"
     ]
    },
    {
     "name": "stderr",
     "output_type": "stream",
     "text": [
      "Processing TFRecord files:  49%|████▉     | 706/1444 [02:23<02:11,  5.63it/s]"
     ]
    },
    {
     "name": "stdout",
     "output_type": "stream",
     "text": [
      "Decoded audio embeddings shape: (None, 128)\n",
      "Decoded audio embeddings shape: (None, 128)\n"
     ]
    },
    {
     "name": "stderr",
     "output_type": "stream",
     "text": [
      "Processing TFRecord files:  49%|████▉     | 708/1444 [02:23<02:05,  5.87it/s]"
     ]
    },
    {
     "name": "stdout",
     "output_type": "stream",
     "text": [
      "Decoded audio embeddings shape: (None, 128)\n",
      "Decoded audio embeddings shape: (None, 128)\n"
     ]
    },
    {
     "name": "stderr",
     "output_type": "stream",
     "text": [
      "Processing TFRecord files:  49%|████▉     | 710/1444 [02:24<02:15,  5.43it/s]"
     ]
    },
    {
     "name": "stdout",
     "output_type": "stream",
     "text": [
      "Decoded audio embeddings shape: (None, 128)\n"
     ]
    },
    {
     "name": "stderr",
     "output_type": "stream",
     "text": [
      "Processing TFRecord files:  49%|████▉     | 711/1444 [02:24<02:09,  5.66it/s]"
     ]
    },
    {
     "name": "stdout",
     "output_type": "stream",
     "text": [
      "Decoded audio embeddings shape: (None, 128)\n",
      "Decoded audio embeddings shape: (None, 128)\n"
     ]
    },
    {
     "name": "stderr",
     "output_type": "stream",
     "text": [
      "Processing TFRecord files:  49%|████▉     | 713/1444 [02:24<02:04,  5.89it/s]"
     ]
    },
    {
     "name": "stdout",
     "output_type": "stream",
     "text": [
      "Decoded audio embeddings shape: (None, 128)\n",
      "Decoded audio embeddings shape: (None, 128)\n"
     ]
    },
    {
     "name": "stderr",
     "output_type": "stream",
     "text": [
      "Processing TFRecord files:  50%|████▉     | 715/1444 [02:24<02:01,  6.01it/s]"
     ]
    },
    {
     "name": "stdout",
     "output_type": "stream",
     "text": [
      "Decoded audio embeddings shape: (None, 128)\n"
     ]
    },
    {
     "name": "stderr",
     "output_type": "stream",
     "text": [
      "Processing TFRecord files:  50%|████▉     | 716/1444 [02:25<02:10,  5.59it/s]"
     ]
    },
    {
     "name": "stdout",
     "output_type": "stream",
     "text": [
      "Decoded audio embeddings shape: (None, 128)\n",
      "Decoded audio embeddings shape: (None, 128)\n"
     ]
    },
    {
     "name": "stderr",
     "output_type": "stream",
     "text": [
      "Processing TFRecord files:  50%|████▉     | 718/1444 [02:25<02:06,  5.74it/s]"
     ]
    },
    {
     "name": "stdout",
     "output_type": "stream",
     "text": [
      "Decoded audio embeddings shape: (None, 128)\n",
      "Decoded audio embeddings shape: (None, 128)\n"
     ]
    },
    {
     "name": "stderr",
     "output_type": "stream",
     "text": [
      "Processing TFRecord files:  50%|████▉     | 720/1444 [02:25<01:54,  6.34it/s]"
     ]
    },
    {
     "name": "stdout",
     "output_type": "stream",
     "text": [
      "Decoded audio embeddings shape: (None, 128)\n",
      "Decoded audio embeddings shape: (None, 128)\n"
     ]
    },
    {
     "name": "stderr",
     "output_type": "stream",
     "text": [
      "Processing TFRecord files:  50%|█████     | 722/1444 [02:26<02:14,  5.38it/s]"
     ]
    },
    {
     "name": "stdout",
     "output_type": "stream",
     "text": [
      "Decoded audio embeddings shape: (None, 128)\n",
      "Decoded audio embeddings shape: (None, 128)\n"
     ]
    },
    {
     "name": "stderr",
     "output_type": "stream",
     "text": [
      "Processing TFRecord files:  50%|█████     | 724/1444 [02:26<01:57,  6.13it/s]"
     ]
    },
    {
     "name": "stdout",
     "output_type": "stream",
     "text": [
      "Decoded audio embeddings shape: (None, 128)\n",
      "Decoded audio embeddings shape: (None, 128)\n"
     ]
    },
    {
     "name": "stderr",
     "output_type": "stream",
     "text": [
      "Processing TFRecord files:  50%|█████     | 726/1444 [02:26<01:58,  6.04it/s]"
     ]
    },
    {
     "name": "stdout",
     "output_type": "stream",
     "text": [
      "Decoded audio embeddings shape: (None, 128)\n"
     ]
    },
    {
     "name": "stderr",
     "output_type": "stream",
     "text": [
      "Processing TFRecord files:  50%|█████     | 727/1444 [02:26<02:08,  5.59it/s]"
     ]
    },
    {
     "name": "stdout",
     "output_type": "stream",
     "text": [
      "Decoded audio embeddings shape: (None, 128)\n",
      "Decoded audio embeddings shape: (None, 128)\n"
     ]
    },
    {
     "name": "stderr",
     "output_type": "stream",
     "text": [
      "Processing TFRecord files:  50%|█████     | 729/1444 [02:27<02:02,  5.86it/s]"
     ]
    },
    {
     "name": "stdout",
     "output_type": "stream",
     "text": [
      "Decoded audio embeddings shape: (None, 128)\n",
      "Decoded audio embeddings shape: (None, 128)\n"
     ]
    },
    {
     "name": "stderr",
     "output_type": "stream",
     "text": [
      "Processing TFRecord files:  51%|█████     | 731/1444 [02:27<02:14,  5.32it/s]"
     ]
    },
    {
     "name": "stdout",
     "output_type": "stream",
     "text": [
      "Decoded audio embeddings shape: (None, 128)\n"
     ]
    },
    {
     "name": "stderr",
     "output_type": "stream",
     "text": [
      "Processing TFRecord files:  51%|█████     | 732/1444 [02:27<02:14,  5.28it/s]"
     ]
    },
    {
     "name": "stdout",
     "output_type": "stream",
     "text": [
      "Decoded audio embeddings shape: (None, 128)\n",
      "Decoded audio embeddings shape: (None, 128)\n"
     ]
    },
    {
     "name": "stderr",
     "output_type": "stream",
     "text": [
      "Processing TFRecord files:  51%|█████     | 734/1444 [02:28<02:08,  5.52it/s]"
     ]
    },
    {
     "name": "stdout",
     "output_type": "stream",
     "text": [
      "Decoded audio embeddings shape: (None, 128)\n",
      "Decoded audio embeddings shape: (None, 128)\n"
     ]
    },
    {
     "name": "stderr",
     "output_type": "stream",
     "text": [
      "Processing TFRecord files:  51%|█████     | 736/1444 [02:28<02:19,  5.08it/s]"
     ]
    },
    {
     "name": "stdout",
     "output_type": "stream",
     "text": [
      "Decoded audio embeddings shape: (None, 128)\n",
      "Decoded audio embeddings shape: (None, 128)\n"
     ]
    },
    {
     "name": "stderr",
     "output_type": "stream",
     "text": [
      "Processing TFRecord files:  51%|█████     | 738/1444 [02:28<02:02,  5.77it/s]"
     ]
    },
    {
     "name": "stdout",
     "output_type": "stream",
     "text": [
      "Decoded audio embeddings shape: (None, 128)\n",
      "Decoded audio embeddings shape: (None, 128)\n"
     ]
    },
    {
     "name": "stderr",
     "output_type": "stream",
     "text": [
      "Processing TFRecord files:  51%|█████     | 740/1444 [02:29<01:58,  5.96it/s]"
     ]
    },
    {
     "name": "stdout",
     "output_type": "stream",
     "text": [
      "Decoded audio embeddings shape: (None, 128)\n",
      "Decoded audio embeddings shape: (None, 128)\n"
     ]
    },
    {
     "name": "stderr",
     "output_type": "stream",
     "text": [
      "Processing TFRecord files:  51%|█████▏    | 742/1444 [02:29<02:11,  5.35it/s]"
     ]
    },
    {
     "name": "stdout",
     "output_type": "stream",
     "text": [
      "Decoded audio embeddings shape: (None, 128)\n",
      "Decoded audio embeddings shape: (None, 128)\n"
     ]
    },
    {
     "name": "stderr",
     "output_type": "stream",
     "text": [
      "Processing TFRecord files:  52%|█████▏    | 744/1444 [02:29<01:57,  5.94it/s]"
     ]
    },
    {
     "name": "stdout",
     "output_type": "stream",
     "text": [
      "Decoded audio embeddings shape: (None, 128)\n",
      "Decoded audio embeddings shape: (None, 128)\n"
     ]
    },
    {
     "name": "stderr",
     "output_type": "stream",
     "text": [
      "Processing TFRecord files:  52%|█████▏    | 747/1444 [02:30<01:41,  6.87it/s]"
     ]
    },
    {
     "name": "stdout",
     "output_type": "stream",
     "text": [
      "Decoded audio embeddings shape: (None, 128)\n",
      "Decoded audio embeddings shape: (None, 128)\n"
     ]
    },
    {
     "name": "stderr",
     "output_type": "stream",
     "text": [
      "Processing TFRecord files:  52%|█████▏    | 748/1444 [02:30<01:53,  6.14it/s]"
     ]
    },
    {
     "name": "stdout",
     "output_type": "stream",
     "text": [
      "Decoded audio embeddings shape: (None, 128)\n"
     ]
    },
    {
     "name": "stderr",
     "output_type": "stream",
     "text": [
      "Processing TFRecord files:  52%|█████▏    | 749/1444 [02:30<01:51,  6.25it/s]"
     ]
    },
    {
     "name": "stdout",
     "output_type": "stream",
     "text": [
      "Decoded audio embeddings shape: (None, 128)\n",
      "Decoded audio embeddings shape: (None, 128)\n"
     ]
    },
    {
     "name": "stderr",
     "output_type": "stream",
     "text": [
      "Processing TFRecord files:  52%|█████▏    | 751/1444 [02:31<01:57,  5.92it/s]"
     ]
    },
    {
     "name": "stdout",
     "output_type": "stream",
     "text": [
      "Decoded audio embeddings shape: (None, 128)\n",
      "Decoded audio embeddings shape: (None, 128)\n"
     ]
    },
    {
     "name": "stderr",
     "output_type": "stream",
     "text": [
      "Processing TFRecord files:  52%|█████▏    | 753/1444 [02:31<02:01,  5.67it/s]"
     ]
    },
    {
     "name": "stdout",
     "output_type": "stream",
     "text": [
      "Decoded audio embeddings shape: (None, 128)\n",
      "Decoded audio embeddings shape: (None, 128)\n"
     ]
    },
    {
     "name": "stderr",
     "output_type": "stream",
     "text": [
      "Processing TFRecord files:  52%|█████▏    | 755/1444 [02:31<01:52,  6.15it/s]"
     ]
    },
    {
     "name": "stdout",
     "output_type": "stream",
     "text": [
      "Decoded audio embeddings shape: (None, 128)\n",
      "Decoded audio embeddings shape: (None, 128)\n"
     ]
    },
    {
     "name": "stderr",
     "output_type": "stream",
     "text": [
      "Processing TFRecord files:  52%|█████▏    | 757/1444 [02:32<01:59,  5.77it/s]"
     ]
    },
    {
     "name": "stdout",
     "output_type": "stream",
     "text": [
      "Decoded audio embeddings shape: (None, 128)\n",
      "Decoded audio embeddings shape: (None, 128)\n"
     ]
    },
    {
     "name": "stderr",
     "output_type": "stream",
     "text": [
      "Processing TFRecord files:  53%|█████▎    | 759/1444 [02:32<01:49,  6.24it/s]"
     ]
    },
    {
     "name": "stdout",
     "output_type": "stream",
     "text": [
      "Decoded audio embeddings shape: (None, 128)\n",
      "Decoded audio embeddings shape: (None, 128)\n"
     ]
    },
    {
     "name": "stderr",
     "output_type": "stream",
     "text": [
      "Processing TFRecord files:  53%|█████▎    | 761/1444 [02:32<01:40,  6.79it/s]"
     ]
    },
    {
     "name": "stdout",
     "output_type": "stream",
     "text": [
      "Decoded audio embeddings shape: (None, 128)\n",
      "Decoded audio embeddings shape: (None, 128)\n"
     ]
    },
    {
     "name": "stderr",
     "output_type": "stream",
     "text": [
      "Processing TFRecord files:  53%|█████▎    | 763/1444 [02:33<01:56,  5.82it/s]"
     ]
    },
    {
     "name": "stdout",
     "output_type": "stream",
     "text": [
      "Decoded audio embeddings shape: (None, 128)\n"
     ]
    },
    {
     "name": "stderr",
     "output_type": "stream",
     "text": [
      "Processing TFRecord files:  53%|█████▎    | 764/1444 [02:33<01:57,  5.77it/s]"
     ]
    },
    {
     "name": "stdout",
     "output_type": "stream",
     "text": [
      "Decoded audio embeddings shape: (None, 128)\n",
      "Decoded audio embeddings shape: (None, 128)\n"
     ]
    },
    {
     "name": "stderr",
     "output_type": "stream",
     "text": [
      "Processing TFRecord files:  53%|█████▎    | 766/1444 [02:33<01:53,  5.99it/s]"
     ]
    },
    {
     "name": "stdout",
     "output_type": "stream",
     "text": [
      "Decoded audio embeddings shape: (None, 128)\n",
      "Decoded audio embeddings shape: (None, 128)\n"
     ]
    },
    {
     "name": "stderr",
     "output_type": "stream",
     "text": [
      "Processing TFRecord files:  53%|█████▎    | 768/1444 [02:33<02:07,  5.29it/s]"
     ]
    },
    {
     "name": "stdout",
     "output_type": "stream",
     "text": [
      "Decoded audio embeddings shape: (None, 128)\n"
     ]
    },
    {
     "name": "stderr",
     "output_type": "stream",
     "text": [
      "Processing TFRecord files:  53%|█████▎    | 769/1444 [02:34<02:02,  5.49it/s]"
     ]
    },
    {
     "name": "stdout",
     "output_type": "stream",
     "text": [
      "Decoded audio embeddings shape: (None, 128)\n",
      "Decoded audio embeddings shape: (None, 128)\n"
     ]
    },
    {
     "name": "stderr",
     "output_type": "stream",
     "text": [
      "Processing TFRecord files:  53%|█████▎    | 771/1444 [02:34<01:59,  5.65it/s]"
     ]
    },
    {
     "name": "stdout",
     "output_type": "stream",
     "text": [
      "Decoded audio embeddings shape: (None, 128)\n",
      "Decoded audio embeddings shape: (None, 128)\n"
     ]
    },
    {
     "name": "stderr",
     "output_type": "stream",
     "text": [
      "Processing TFRecord files:  54%|█████▎    | 773/1444 [02:34<02:13,  5.04it/s]"
     ]
    },
    {
     "name": "stdout",
     "output_type": "stream",
     "text": [
      "Decoded audio embeddings shape: (None, 128)\n",
      "Decoded audio embeddings shape: (None, 128)\n"
     ]
    },
    {
     "name": "stderr",
     "output_type": "stream",
     "text": [
      "Processing TFRecord files:  54%|█████▎    | 775/1444 [02:35<02:04,  5.39it/s]"
     ]
    },
    {
     "name": "stdout",
     "output_type": "stream",
     "text": [
      "Decoded audio embeddings shape: (None, 128)\n",
      "Decoded audio embeddings shape: (None, 128)\n"
     ]
    },
    {
     "name": "stderr",
     "output_type": "stream",
     "text": [
      "Processing TFRecord files:  54%|█████▎    | 776/1444 [02:35<01:59,  5.60it/s]"
     ]
    },
    {
     "name": "stdout",
     "output_type": "stream",
     "text": [
      "Decoded audio embeddings shape: (None, 128)\n"
     ]
    },
    {
     "name": "stderr",
     "output_type": "stream",
     "text": [
      "Processing TFRecord files:  54%|█████▍    | 778/1444 [02:35<02:28,  4.48it/s]"
     ]
    },
    {
     "name": "stdout",
     "output_type": "stream",
     "text": [
      "Decoded audio embeddings shape: (None, 128)\n"
     ]
    },
    {
     "name": "stderr",
     "output_type": "stream",
     "text": [
      "Processing TFRecord files:  54%|█████▍    | 779/1444 [02:36<02:27,  4.51it/s]"
     ]
    },
    {
     "name": "stdout",
     "output_type": "stream",
     "text": [
      "Decoded audio embeddings shape: (None, 128)\n"
     ]
    },
    {
     "name": "stderr",
     "output_type": "stream",
     "text": [
      "Processing TFRecord files:  54%|█████▍    | 780/1444 [02:36<02:23,  4.62it/s]"
     ]
    },
    {
     "name": "stdout",
     "output_type": "stream",
     "text": [
      "Decoded audio embeddings shape: (None, 128)\n"
     ]
    },
    {
     "name": "stderr",
     "output_type": "stream",
     "text": [
      "Processing TFRecord files:  54%|█████▍    | 781/1444 [02:36<02:44,  4.02it/s]"
     ]
    },
    {
     "name": "stdout",
     "output_type": "stream",
     "text": [
      "Decoded audio embeddings shape: (None, 128)\n"
     ]
    },
    {
     "name": "stderr",
     "output_type": "stream",
     "text": [
      "Processing TFRecord files:  54%|█████▍    | 782/1444 [02:36<02:32,  4.34it/s]"
     ]
    },
    {
     "name": "stdout",
     "output_type": "stream",
     "text": [
      "Decoded audio embeddings shape: (None, 128)\n",
      "Decoded audio embeddings shape: (None, 128)\n"
     ]
    },
    {
     "name": "stderr",
     "output_type": "stream",
     "text": [
      "Processing TFRecord files:  54%|█████▍    | 784/1444 [02:37<02:36,  4.22it/s]"
     ]
    },
    {
     "name": "stdout",
     "output_type": "stream",
     "text": [
      "Decoded audio embeddings shape: (None, 128)\n",
      "Decoded audio embeddings shape: (None, 128)\n"
     ]
    },
    {
     "name": "stderr",
     "output_type": "stream",
     "text": [
      "Processing TFRecord files:  54%|█████▍    | 786/1444 [02:38<03:23,  3.23it/s]"
     ]
    },
    {
     "name": "stdout",
     "output_type": "stream",
     "text": [
      "Decoded audio embeddings shape: (None, 128)\n"
     ]
    },
    {
     "name": "stderr",
     "output_type": "stream",
     "text": [
      "Processing TFRecord files:  55%|█████▍    | 787/1444 [02:38<03:11,  3.43it/s]"
     ]
    },
    {
     "name": "stdout",
     "output_type": "stream",
     "text": [
      "Decoded audio embeddings shape: (None, 128)\n",
      "Decoded audio embeddings shape: (None, 128)\n"
     ]
    },
    {
     "name": "stderr",
     "output_type": "stream",
     "text": [
      "Processing TFRecord files:  55%|█████▍    | 788/1444 [02:38<03:35,  3.04it/s]"
     ]
    },
    {
     "name": "stdout",
     "output_type": "stream",
     "text": [
      "Decoded audio embeddings shape: (None, 128)\n"
     ]
    },
    {
     "name": "stderr",
     "output_type": "stream",
     "text": [
      "Processing TFRecord files:  55%|█████▍    | 789/1444 [02:39<04:27,  2.45it/s]"
     ]
    },
    {
     "name": "stdout",
     "output_type": "stream",
     "text": [
      "Decoded audio embeddings shape: (None, 128)\n"
     ]
    },
    {
     "name": "stderr",
     "output_type": "stream",
     "text": [
      "Processing TFRecord files:  55%|█████▍    | 790/1444 [02:39<04:29,  2.43it/s]"
     ]
    },
    {
     "name": "stdout",
     "output_type": "stream",
     "text": [
      "Decoded audio embeddings shape: (None, 128)\n"
     ]
    },
    {
     "name": "stderr",
     "output_type": "stream",
     "text": [
      "Processing TFRecord files:  55%|█████▍    | 791/1444 [02:40<04:09,  2.61it/s]"
     ]
    },
    {
     "name": "stdout",
     "output_type": "stream",
     "text": [
      "Decoded audio embeddings shape: (None, 128)\n"
     ]
    },
    {
     "name": "stderr",
     "output_type": "stream",
     "text": [
      "Processing TFRecord files:  55%|█████▍    | 793/1444 [02:41<04:22,  2.48it/s]"
     ]
    },
    {
     "name": "stdout",
     "output_type": "stream",
     "text": [
      "Decoded audio embeddings shape: (None, 128)\n"
     ]
    },
    {
     "name": "stderr",
     "output_type": "stream",
     "text": [
      "Processing TFRecord files:  55%|█████▍    | 794/1444 [02:41<03:36,  3.00it/s]"
     ]
    },
    {
     "name": "stdout",
     "output_type": "stream",
     "text": [
      "Decoded audio embeddings shape: (None, 128)\n",
      "Decoded audio embeddings shape: (None, 128)\n"
     ]
    },
    {
     "name": "stderr",
     "output_type": "stream",
     "text": [
      "Processing TFRecord files:  55%|█████▌    | 796/1444 [02:41<02:58,  3.64it/s]"
     ]
    },
    {
     "name": "stdout",
     "output_type": "stream",
     "text": [
      "Decoded audio embeddings shape: (None, 128)\n"
     ]
    },
    {
     "name": "stderr",
     "output_type": "stream",
     "text": [
      "Processing TFRecord files:  55%|█████▌    | 797/1444 [02:41<03:07,  3.46it/s]"
     ]
    },
    {
     "name": "stdout",
     "output_type": "stream",
     "text": [
      "Decoded audio embeddings shape: (None, 128)\n"
     ]
    },
    {
     "name": "stderr",
     "output_type": "stream",
     "text": [
      "Processing TFRecord files:  55%|█████▌    | 798/1444 [02:42<02:55,  3.68it/s]"
     ]
    },
    {
     "name": "stdout",
     "output_type": "stream",
     "text": [
      "Decoded audio embeddings shape: (None, 128)\n"
     ]
    },
    {
     "name": "stderr",
     "output_type": "stream",
     "text": [
      "Processing TFRecord files:  55%|█████▌    | 799/1444 [02:42<02:36,  4.13it/s]"
     ]
    },
    {
     "name": "stdout",
     "output_type": "stream",
     "text": [
      "Decoded audio embeddings shape: (None, 128)\n",
      "Decoded audio embeddings shape: (None, 128)\n"
     ]
    },
    {
     "name": "stderr",
     "output_type": "stream",
     "text": [
      "Processing TFRecord files:  55%|█████▌    | 801/1444 [02:42<02:28,  4.32it/s]"
     ]
    },
    {
     "name": "stdout",
     "output_type": "stream",
     "text": [
      "Decoded audio embeddings shape: (None, 128)\n",
      "Decoded audio embeddings shape: (None, 128)\n"
     ]
    },
    {
     "name": "stderr",
     "output_type": "stream",
     "text": [
      "Processing TFRecord files:  56%|█████▌    | 803/1444 [02:43<02:06,  5.06it/s]"
     ]
    },
    {
     "name": "stdout",
     "output_type": "stream",
     "text": [
      "Decoded audio embeddings shape: (None, 128)\n",
      "Decoded audio embeddings shape: (None, 128)\n"
     ]
    },
    {
     "name": "stderr",
     "output_type": "stream",
     "text": [
      "Processing TFRecord files:  56%|█████▌    | 805/1444 [02:43<01:51,  5.72it/s]"
     ]
    },
    {
     "name": "stdout",
     "output_type": "stream",
     "text": [
      "Decoded audio embeddings shape: (None, 128)\n",
      "Decoded audio embeddings shape: (None, 128)\n"
     ]
    },
    {
     "name": "stderr",
     "output_type": "stream",
     "text": [
      "Processing TFRecord files:  56%|█████▌    | 807/1444 [02:43<01:50,  5.78it/s]"
     ]
    },
    {
     "name": "stdout",
     "output_type": "stream",
     "text": [
      "Decoded audio embeddings shape: (None, 128)\n"
     ]
    },
    {
     "name": "stderr",
     "output_type": "stream",
     "text": [
      "Processing TFRecord files:  56%|█████▌    | 808/1444 [02:43<02:00,  5.27it/s]"
     ]
    },
    {
     "name": "stdout",
     "output_type": "stream",
     "text": [
      "Decoded audio embeddings shape: (None, 128)\n",
      "Decoded audio embeddings shape: (None, 128)\n"
     ]
    },
    {
     "name": "stderr",
     "output_type": "stream",
     "text": [
      "Processing TFRecord files:  56%|█████▌    | 810/1444 [02:44<02:04,  5.09it/s]"
     ]
    },
    {
     "name": "stdout",
     "output_type": "stream",
     "text": [
      "Decoded audio embeddings shape: (None, 128)\n",
      "Decoded audio embeddings shape: (None, 128)\n"
     ]
    },
    {
     "name": "stderr",
     "output_type": "stream",
     "text": [
      "Processing TFRecord files:  56%|█████▌    | 812/1444 [02:44<01:49,  5.78it/s]"
     ]
    },
    {
     "name": "stdout",
     "output_type": "stream",
     "text": [
      "Decoded audio embeddings shape: (None, 128)\n",
      "Decoded audio embeddings shape: (None, 128)\n"
     ]
    },
    {
     "name": "stderr",
     "output_type": "stream",
     "text": [
      "Processing TFRecord files:  56%|█████▋    | 814/1444 [02:45<01:45,  5.95it/s]"
     ]
    },
    {
     "name": "stdout",
     "output_type": "stream",
     "text": [
      "Decoded audio embeddings shape: (None, 128)\n",
      "Decoded audio embeddings shape: (None, 128)\n"
     ]
    },
    {
     "name": "stderr",
     "output_type": "stream",
     "text": [
      "Processing TFRecord files:  57%|█████▋    | 816/1444 [02:45<01:46,  5.91it/s]"
     ]
    },
    {
     "name": "stdout",
     "output_type": "stream",
     "text": [
      "Decoded audio embeddings shape: (None, 128)\n",
      "Decoded audio embeddings shape: (None, 128)\n"
     ]
    },
    {
     "name": "stderr",
     "output_type": "stream",
     "text": [
      "Processing TFRecord files:  57%|█████▋    | 818/1444 [02:45<01:54,  5.46it/s]"
     ]
    },
    {
     "name": "stdout",
     "output_type": "stream",
     "text": [
      "Decoded audio embeddings shape: (None, 128)\n",
      "Decoded audio embeddings shape: (None, 128)\n"
     ]
    },
    {
     "name": "stderr",
     "output_type": "stream",
     "text": [
      "Processing TFRecord files:  57%|█████▋    | 820/1444 [02:46<01:49,  5.71it/s]"
     ]
    },
    {
     "name": "stdout",
     "output_type": "stream",
     "text": [
      "Decoded audio embeddings shape: (None, 128)\n",
      "Decoded audio embeddings shape: (None, 128)\n"
     ]
    },
    {
     "name": "stderr",
     "output_type": "stream",
     "text": [
      "Processing TFRecord files:  57%|█████▋    | 822/1444 [02:46<01:53,  5.48it/s]"
     ]
    },
    {
     "name": "stdout",
     "output_type": "stream",
     "text": [
      "Decoded audio embeddings shape: (None, 128)\n",
      "Decoded audio embeddings shape: (None, 128)\n"
     ]
    },
    {
     "name": "stderr",
     "output_type": "stream",
     "text": [
      "Processing TFRecord files:  57%|█████▋    | 824/1444 [02:46<02:09,  4.81it/s]"
     ]
    },
    {
     "name": "stdout",
     "output_type": "stream",
     "text": [
      "Decoded audio embeddings shape: (None, 128)\n",
      "Decoded audio embeddings shape: (None, 128)\n"
     ]
    },
    {
     "name": "stderr",
     "output_type": "stream",
     "text": [
      "Processing TFRecord files:  57%|█████▋    | 826/1444 [02:47<01:59,  5.15it/s]"
     ]
    },
    {
     "name": "stdout",
     "output_type": "stream",
     "text": [
      "Decoded audio embeddings shape: (None, 128)\n",
      "Decoded audio embeddings shape: (None, 128)\n"
     ]
    },
    {
     "name": "stderr",
     "output_type": "stream",
     "text": [
      "Processing TFRecord files:  57%|█████▋    | 828/1444 [02:47<02:08,  4.80it/s]"
     ]
    },
    {
     "name": "stdout",
     "output_type": "stream",
     "text": [
      "Decoded audio embeddings shape: (None, 128)\n"
     ]
    },
    {
     "name": "stderr",
     "output_type": "stream",
     "text": [
      "Processing TFRecord files:  57%|█████▋    | 829/1444 [02:48<02:15,  4.54it/s]"
     ]
    },
    {
     "name": "stdout",
     "output_type": "stream",
     "text": [
      "Decoded audio embeddings shape: (None, 128)\n",
      "Decoded audio embeddings shape: (None, 128)\n"
     ]
    },
    {
     "name": "stderr",
     "output_type": "stream",
     "text": [
      "Processing TFRecord files:  58%|█████▊    | 831/1444 [02:48<02:05,  4.90it/s]"
     ]
    },
    {
     "name": "stdout",
     "output_type": "stream",
     "text": [
      "Decoded audio embeddings shape: (None, 128)\n",
      "Decoded audio embeddings shape: (None, 128)\n"
     ]
    },
    {
     "name": "stderr",
     "output_type": "stream",
     "text": [
      "Processing TFRecord files:  58%|█████▊    | 833/1444 [02:48<01:55,  5.28it/s]"
     ]
    },
    {
     "name": "stdout",
     "output_type": "stream",
     "text": [
      "Decoded audio embeddings shape: (None, 128)\n",
      "Decoded audio embeddings shape: (None, 128)\n"
     ]
    },
    {
     "name": "stderr",
     "output_type": "stream",
     "text": [
      "Processing TFRecord files:  58%|█████▊    | 835/1444 [02:49<02:01,  5.01it/s]"
     ]
    },
    {
     "name": "stdout",
     "output_type": "stream",
     "text": [
      "Decoded audio embeddings shape: (None, 128)\n"
     ]
    },
    {
     "name": "stderr",
     "output_type": "stream",
     "text": [
      "Processing TFRecord files:  58%|█████▊    | 836/1444 [02:49<01:57,  5.17it/s]"
     ]
    },
    {
     "name": "stdout",
     "output_type": "stream",
     "text": [
      "Decoded audio embeddings shape: (None, 128)\n",
      "Decoded audio embeddings shape: (None, 128)\n"
     ]
    },
    {
     "name": "stderr",
     "output_type": "stream",
     "text": [
      "Processing TFRecord files:  58%|█████▊    | 839/1444 [02:49<01:31,  6.60it/s]"
     ]
    },
    {
     "name": "stdout",
     "output_type": "stream",
     "text": [
      "Decoded audio embeddings shape: (None, 128)\n",
      "Decoded audio embeddings shape: (None, 128)\n"
     ]
    },
    {
     "name": "stderr",
     "output_type": "stream",
     "text": [
      "Processing TFRecord files:  58%|█████▊    | 840/1444 [02:49<01:28,  6.81it/s]"
     ]
    },
    {
     "name": "stdout",
     "output_type": "stream",
     "text": [
      "Decoded audio embeddings shape: (None, 128)\n",
      "Decoded audio embeddings shape: (None, 128)\n"
     ]
    },
    {
     "name": "stderr",
     "output_type": "stream",
     "text": [
      "Processing TFRecord files:  58%|█████▊    | 843/1444 [02:50<01:16,  7.90it/s]"
     ]
    },
    {
     "name": "stdout",
     "output_type": "stream",
     "text": [
      "Decoded audio embeddings shape: (None, 128)\n",
      "Decoded audio embeddings shape: (None, 128)\n",
      "Decoded audio embeddings shape: (None, 128)\n"
     ]
    },
    {
     "name": "stderr",
     "output_type": "stream",
     "text": [
      "Processing TFRecord files:  59%|█████▊    | 845/1444 [02:50<01:24,  7.10it/s]"
     ]
    },
    {
     "name": "stdout",
     "output_type": "stream",
     "text": [
      "Decoded audio embeddings shape: (None, 128)\n",
      "Decoded audio embeddings shape: (None, 128)\n"
     ]
    },
    {
     "name": "stderr",
     "output_type": "stream",
     "text": [
      "Processing TFRecord files:  59%|█████▊    | 847/1444 [02:50<01:28,  6.73it/s]"
     ]
    },
    {
     "name": "stdout",
     "output_type": "stream",
     "text": [
      "Decoded audio embeddings shape: (None, 128)\n",
      "Decoded audio embeddings shape: (None, 128)\n"
     ]
    },
    {
     "name": "stderr",
     "output_type": "stream",
     "text": [
      "Processing TFRecord files:  59%|█████▉    | 849/1444 [02:51<01:26,  6.87it/s]"
     ]
    },
    {
     "name": "stdout",
     "output_type": "stream",
     "text": [
      "Decoded audio embeddings shape: (None, 128)\n",
      "Decoded audio embeddings shape: (None, 128)\n"
     ]
    },
    {
     "name": "stderr",
     "output_type": "stream",
     "text": [
      "Processing TFRecord files:  59%|█████▉    | 851/1444 [02:51<01:48,  5.48it/s]"
     ]
    },
    {
     "name": "stdout",
     "output_type": "stream",
     "text": [
      "Decoded audio embeddings shape: (None, 128)\n",
      "Decoded audio embeddings shape: (None, 128)\n"
     ]
    },
    {
     "name": "stderr",
     "output_type": "stream",
     "text": [
      "Processing TFRecord files:  59%|█████▉    | 853/1444 [02:51<01:35,  6.20it/s]"
     ]
    },
    {
     "name": "stdout",
     "output_type": "stream",
     "text": [
      "Decoded audio embeddings shape: (None, 128)\n",
      "Decoded audio embeddings shape: (None, 128)\n"
     ]
    },
    {
     "name": "stderr",
     "output_type": "stream",
     "text": [
      "Processing TFRecord files:  59%|█████▉    | 855/1444 [02:52<01:26,  6.80it/s]"
     ]
    },
    {
     "name": "stdout",
     "output_type": "stream",
     "text": [
      "Decoded audio embeddings shape: (None, 128)\n",
      "Decoded audio embeddings shape: (None, 128)\n"
     ]
    },
    {
     "name": "stderr",
     "output_type": "stream",
     "text": [
      "Processing TFRecord files:  59%|█████▉    | 857/1444 [02:52<01:32,  6.34it/s]"
     ]
    },
    {
     "name": "stdout",
     "output_type": "stream",
     "text": [
      "Decoded audio embeddings shape: (None, 128)\n"
     ]
    },
    {
     "name": "stderr",
     "output_type": "stream",
     "text": [
      "Processing TFRecord files:  59%|█████▉    | 858/1444 [02:52<01:34,  6.21it/s]"
     ]
    },
    {
     "name": "stdout",
     "output_type": "stream",
     "text": [
      "Decoded audio embeddings shape: (None, 128)\n",
      "Decoded audio embeddings shape: (None, 128)\n"
     ]
    },
    {
     "name": "stderr",
     "output_type": "stream",
     "text": [
      "Processing TFRecord files:  60%|█████▉    | 860/1444 [02:52<01:39,  5.88it/s]"
     ]
    },
    {
     "name": "stdout",
     "output_type": "stream",
     "text": [
      "Decoded audio embeddings shape: (None, 128)\n",
      "Decoded audio embeddings shape: (None, 128)\n"
     ]
    },
    {
     "name": "stderr",
     "output_type": "stream",
     "text": [
      "Processing TFRecord files:  60%|█████▉    | 863/1444 [02:53<01:26,  6.74it/s]"
     ]
    },
    {
     "name": "stdout",
     "output_type": "stream",
     "text": [
      "Decoded audio embeddings shape: (None, 128)\n",
      "Decoded audio embeddings shape: (None, 128)\n"
     ]
    },
    {
     "name": "stderr",
     "output_type": "stream",
     "text": [
      "Processing TFRecord files:  60%|█████▉    | 864/1444 [02:53<01:32,  6.25it/s]"
     ]
    },
    {
     "name": "stdout",
     "output_type": "stream",
     "text": [
      "Decoded audio embeddings shape: (None, 128)\n",
      "Decoded audio embeddings shape: (None, 128)\n"
     ]
    },
    {
     "name": "stderr",
     "output_type": "stream",
     "text": [
      "Processing TFRecord files:  60%|█████▉    | 866/1444 [02:53<01:30,  6.42it/s]"
     ]
    },
    {
     "name": "stdout",
     "output_type": "stream",
     "text": [
      "Decoded audio embeddings shape: (None, 128)\n",
      "Decoded audio embeddings shape: (None, 128)\n"
     ]
    },
    {
     "name": "stderr",
     "output_type": "stream",
     "text": [
      "Processing TFRecord files:  60%|██████    | 868/1444 [02:54<01:25,  6.72it/s]"
     ]
    },
    {
     "name": "stdout",
     "output_type": "stream",
     "text": [
      "Decoded audio embeddings shape: (None, 128)\n",
      "Decoded audio embeddings shape: (None, 128)\n"
     ]
    },
    {
     "name": "stderr",
     "output_type": "stream",
     "text": [
      "Processing TFRecord files:  60%|██████    | 870/1444 [02:54<01:34,  6.07it/s]"
     ]
    },
    {
     "name": "stdout",
     "output_type": "stream",
     "text": [
      "Decoded audio embeddings shape: (None, 128)\n"
     ]
    },
    {
     "name": "stderr",
     "output_type": "stream",
     "text": [
      "Processing TFRecord files:  60%|██████    | 871/1444 [02:54<01:35,  6.01it/s]"
     ]
    },
    {
     "name": "stdout",
     "output_type": "stream",
     "text": [
      "Decoded audio embeddings shape: (None, 128)\n",
      "Decoded audio embeddings shape: (None, 128)\n"
     ]
    },
    {
     "name": "stderr",
     "output_type": "stream",
     "text": [
      "Processing TFRecord files:  60%|██████    | 873/1444 [02:55<01:37,  5.83it/s]"
     ]
    },
    {
     "name": "stdout",
     "output_type": "stream",
     "text": [
      "Decoded audio embeddings shape: (None, 128)\n",
      "Decoded audio embeddings shape: (None, 128)\n"
     ]
    },
    {
     "name": "stderr",
     "output_type": "stream",
     "text": [
      "Processing TFRecord files:  61%|██████    | 875/1444 [02:55<01:31,  6.21it/s]"
     ]
    },
    {
     "name": "stdout",
     "output_type": "stream",
     "text": [
      "Decoded audio embeddings shape: (None, 128)\n",
      "Decoded audio embeddings shape: (None, 128)\n"
     ]
    },
    {
     "name": "stderr",
     "output_type": "stream",
     "text": [
      "Processing TFRecord files:  61%|██████    | 877/1444 [02:55<01:30,  6.27it/s]"
     ]
    },
    {
     "name": "stdout",
     "output_type": "stream",
     "text": [
      "Decoded audio embeddings shape: (None, 128)\n",
      "Decoded audio embeddings shape: (None, 128)\n"
     ]
    },
    {
     "name": "stderr",
     "output_type": "stream",
     "text": [
      "Processing TFRecord files:  61%|██████    | 879/1444 [02:56<01:48,  5.22it/s]"
     ]
    },
    {
     "name": "stdout",
     "output_type": "stream",
     "text": [
      "Decoded audio embeddings shape: (None, 128)\n",
      "Decoded audio embeddings shape: (None, 128)\n"
     ]
    },
    {
     "name": "stderr",
     "output_type": "stream",
     "text": [
      "Processing TFRecord files:  61%|██████    | 881/1444 [02:56<01:42,  5.48it/s]"
     ]
    },
    {
     "name": "stdout",
     "output_type": "stream",
     "text": [
      "Decoded audio embeddings shape: (None, 128)\n",
      "Decoded audio embeddings shape: (None, 128)\n"
     ]
    },
    {
     "name": "stderr",
     "output_type": "stream",
     "text": [
      "Processing TFRecord files:  61%|██████    | 884/1444 [02:56<01:22,  6.81it/s]"
     ]
    },
    {
     "name": "stdout",
     "output_type": "stream",
     "text": [
      "Decoded audio embeddings shape: (None, 128)\n",
      "Decoded audio embeddings shape: (None, 128)\n"
     ]
    },
    {
     "name": "stderr",
     "output_type": "stream",
     "text": [
      "Processing TFRecord files:  61%|██████▏   | 885/1444 [02:56<01:23,  6.66it/s]"
     ]
    },
    {
     "name": "stdout",
     "output_type": "stream",
     "text": [
      "Decoded audio embeddings shape: (None, 128)\n"
     ]
    },
    {
     "name": "stderr",
     "output_type": "stream",
     "text": [
      "Processing TFRecord files:  61%|██████▏   | 886/1444 [02:57<01:39,  5.61it/s]"
     ]
    },
    {
     "name": "stdout",
     "output_type": "stream",
     "text": [
      "Decoded audio embeddings shape: (None, 128)\n",
      "Decoded audio embeddings shape: (None, 128)\n"
     ]
    },
    {
     "name": "stderr",
     "output_type": "stream",
     "text": [
      "Processing TFRecord files:  61%|██████▏   | 888/1444 [02:57<01:32,  6.02it/s]"
     ]
    },
    {
     "name": "stdout",
     "output_type": "stream",
     "text": [
      "Decoded audio embeddings shape: (None, 128)\n",
      "Decoded audio embeddings shape: (None, 128)\n"
     ]
    },
    {
     "name": "stderr",
     "output_type": "stream",
     "text": [
      "Processing TFRecord files:  62%|██████▏   | 890/1444 [02:57<01:33,  5.94it/s]"
     ]
    },
    {
     "name": "stdout",
     "output_type": "stream",
     "text": [
      "Decoded audio embeddings shape: (None, 128)\n",
      "Decoded audio embeddings shape: (None, 128)\n"
     ]
    },
    {
     "name": "stderr",
     "output_type": "stream",
     "text": [
      "Processing TFRecord files:  62%|██████▏   | 892/1444 [02:58<01:32,  5.96it/s]"
     ]
    },
    {
     "name": "stdout",
     "output_type": "stream",
     "text": [
      "Decoded audio embeddings shape: (None, 128)\n",
      "Decoded audio embeddings shape: (None, 128)\n"
     ]
    },
    {
     "name": "stderr",
     "output_type": "stream",
     "text": [
      "Processing TFRecord files:  62%|██████▏   | 894/1444 [02:58<01:29,  6.16it/s]"
     ]
    },
    {
     "name": "stdout",
     "output_type": "stream",
     "text": [
      "Decoded audio embeddings shape: (None, 128)\n",
      "Decoded audio embeddings shape: (None, 128)\n"
     ]
    },
    {
     "name": "stderr",
     "output_type": "stream",
     "text": [
      "Processing TFRecord files:  62%|██████▏   | 896/1444 [02:58<01:36,  5.69it/s]"
     ]
    },
    {
     "name": "stdout",
     "output_type": "stream",
     "text": [
      "Decoded audio embeddings shape: (None, 128)\n",
      "Decoded audio embeddings shape: (None, 128)\n"
     ]
    },
    {
     "name": "stderr",
     "output_type": "stream",
     "text": [
      "Processing TFRecord files:  62%|██████▏   | 898/1444 [02:59<01:27,  6.24it/s]"
     ]
    },
    {
     "name": "stdout",
     "output_type": "stream",
     "text": [
      "Decoded audio embeddings shape: (None, 128)\n",
      "Decoded audio embeddings shape: (None, 128)\n"
     ]
    },
    {
     "name": "stderr",
     "output_type": "stream",
     "text": [
      "Processing TFRecord files:  62%|██████▏   | 900/1444 [02:59<01:25,  6.39it/s]"
     ]
    },
    {
     "name": "stdout",
     "output_type": "stream",
     "text": [
      "Decoded audio embeddings shape: (None, 128)\n",
      "Decoded audio embeddings shape: (None, 128)\n"
     ]
    },
    {
     "name": "stderr",
     "output_type": "stream",
     "text": [
      "Processing TFRecord files:  62%|██████▏   | 902/1444 [02:59<01:24,  6.44it/s]"
     ]
    },
    {
     "name": "stdout",
     "output_type": "stream",
     "text": [
      "Decoded audio embeddings shape: (None, 128)\n",
      "Decoded audio embeddings shape: (None, 128)\n"
     ]
    },
    {
     "name": "stderr",
     "output_type": "stream",
     "text": [
      "Processing TFRecord files:  63%|██████▎   | 904/1444 [03:00<01:38,  5.50it/s]"
     ]
    },
    {
     "name": "stdout",
     "output_type": "stream",
     "text": [
      "Decoded audio embeddings shape: (None, 128)\n",
      "Decoded audio embeddings shape: (None, 128)\n"
     ]
    },
    {
     "name": "stderr",
     "output_type": "stream",
     "text": [
      "Processing TFRecord files:  63%|██████▎   | 906/1444 [03:00<01:29,  6.02it/s]"
     ]
    },
    {
     "name": "stdout",
     "output_type": "stream",
     "text": [
      "Decoded audio embeddings shape: (None, 128)\n",
      "Decoded audio embeddings shape: (None, 128)\n"
     ]
    },
    {
     "name": "stderr",
     "output_type": "stream",
     "text": [
      "Processing TFRecord files:  63%|██████▎   | 908/1444 [03:00<01:21,  6.60it/s]"
     ]
    },
    {
     "name": "stdout",
     "output_type": "stream",
     "text": [
      "Decoded audio embeddings shape: (None, 128)\n",
      "Decoded audio embeddings shape: (None, 128)\n"
     ]
    },
    {
     "name": "stderr",
     "output_type": "stream",
     "text": [
      "Processing TFRecord files:  63%|██████▎   | 910/1444 [03:01<01:29,  6.00it/s]"
     ]
    },
    {
     "name": "stdout",
     "output_type": "stream",
     "text": [
      "Decoded audio embeddings shape: (None, 128)\n",
      "Decoded audio embeddings shape: (None, 128)\n"
     ]
    },
    {
     "name": "stderr",
     "output_type": "stream",
     "text": [
      "Processing TFRecord files:  63%|██████▎   | 913/1444 [03:01<01:12,  7.29it/s]"
     ]
    },
    {
     "name": "stdout",
     "output_type": "stream",
     "text": [
      "Decoded audio embeddings shape: (None, 128)\n",
      "Decoded audio embeddings shape: (None, 128)\n"
     ]
    },
    {
     "name": "stderr",
     "output_type": "stream",
     "text": [
      "Processing TFRecord files:  63%|██████▎   | 914/1444 [03:01<01:09,  7.68it/s]"
     ]
    },
    {
     "name": "stdout",
     "output_type": "stream",
     "text": [
      "Decoded audio embeddings shape: (None, 128)\n",
      "Decoded audio embeddings shape: (None, 128)\n"
     ]
    },
    {
     "name": "stderr",
     "output_type": "stream",
     "text": [
      "Processing TFRecord files:  63%|██████▎   | 916/1444 [03:01<01:12,  7.27it/s]"
     ]
    },
    {
     "name": "stdout",
     "output_type": "stream",
     "text": [
      "Decoded audio embeddings shape: (None, 128)\n",
      "Decoded audio embeddings shape: (None, 128)\n"
     ]
    },
    {
     "name": "stderr",
     "output_type": "stream",
     "text": [
      "Processing TFRecord files:  64%|██████▎   | 918/1444 [03:02<01:18,  6.71it/s]"
     ]
    },
    {
     "name": "stdout",
     "output_type": "stream",
     "text": [
      "Decoded audio embeddings shape: (None, 128)\n",
      "Decoded audio embeddings shape: (None, 128)\n"
     ]
    },
    {
     "name": "stderr",
     "output_type": "stream",
     "text": [
      "Processing TFRecord files:  64%|██████▎   | 920/1444 [03:02<01:32,  5.69it/s]"
     ]
    },
    {
     "name": "stdout",
     "output_type": "stream",
     "text": [
      "Decoded audio embeddings shape: (None, 128)\n"
     ]
    },
    {
     "name": "stderr",
     "output_type": "stream",
     "text": [
      "Processing TFRecord files:  64%|██████▍   | 921/1444 [03:02<01:32,  5.64it/s]"
     ]
    },
    {
     "name": "stdout",
     "output_type": "stream",
     "text": [
      "Decoded audio embeddings shape: (None, 128)\n",
      "Decoded audio embeddings shape: (None, 128)\n"
     ]
    },
    {
     "name": "stderr",
     "output_type": "stream",
     "text": [
      "Processing TFRecord files:  64%|██████▍   | 923/1444 [03:03<01:33,  5.60it/s]"
     ]
    },
    {
     "name": "stdout",
     "output_type": "stream",
     "text": [
      "Decoded audio embeddings shape: (None, 128)\n",
      "Decoded audio embeddings shape: (None, 128)\n"
     ]
    },
    {
     "name": "stderr",
     "output_type": "stream",
     "text": [
      "Processing TFRecord files:  64%|██████▍   | 925/1444 [03:03<01:34,  5.50it/s]"
     ]
    },
    {
     "name": "stdout",
     "output_type": "stream",
     "text": [
      "Decoded audio embeddings shape: (None, 128)\n"
     ]
    },
    {
     "name": "stderr",
     "output_type": "stream",
     "text": [
      "Processing TFRecord files:  64%|██████▍   | 926/1444 [03:03<01:31,  5.65it/s]"
     ]
    },
    {
     "name": "stdout",
     "output_type": "stream",
     "text": [
      "Decoded audio embeddings shape: (None, 128)\n",
      "Decoded audio embeddings shape: (None, 128)\n"
     ]
    },
    {
     "name": "stderr",
     "output_type": "stream",
     "text": [
      "Processing TFRecord files:  64%|██████▍   | 928/1444 [03:03<01:20,  6.40it/s]"
     ]
    },
    {
     "name": "stdout",
     "output_type": "stream",
     "text": [
      "Decoded audio embeddings shape: (None, 128)\n",
      "Decoded audio embeddings shape: (None, 128)\n"
     ]
    },
    {
     "name": "stderr",
     "output_type": "stream",
     "text": [
      "Processing TFRecord files:  64%|██████▍   | 930/1444 [03:04<01:15,  6.80it/s]"
     ]
    },
    {
     "name": "stdout",
     "output_type": "stream",
     "text": [
      "Decoded audio embeddings shape: (None, 128)\n",
      "Decoded audio embeddings shape: (None, 128)\n"
     ]
    },
    {
     "name": "stderr",
     "output_type": "stream",
     "text": [
      "Processing TFRecord files:  65%|██████▍   | 932/1444 [03:04<01:11,  7.13it/s]"
     ]
    },
    {
     "name": "stdout",
     "output_type": "stream",
     "text": [
      "Decoded audio embeddings shape: (None, 128)\n",
      "Decoded audio embeddings shape: (None, 128)\n"
     ]
    },
    {
     "name": "stderr",
     "output_type": "stream",
     "text": [
      "Processing TFRecord files:  65%|██████▍   | 935/1444 [03:04<01:09,  7.30it/s]"
     ]
    },
    {
     "name": "stdout",
     "output_type": "stream",
     "text": [
      "Decoded audio embeddings shape: (None, 128)\n",
      "Decoded audio embeddings shape: (None, 128)\n"
     ]
    },
    {
     "name": "stderr",
     "output_type": "stream",
     "text": [
      "Processing TFRecord files:  65%|██████▍   | 937/1444 [03:05<01:05,  7.73it/s]"
     ]
    },
    {
     "name": "stdout",
     "output_type": "stream",
     "text": [
      "Decoded audio embeddings shape: (None, 128)\n",
      "Decoded audio embeddings shape: (None, 128)\n"
     ]
    },
    {
     "name": "stderr",
     "output_type": "stream",
     "text": [
      "Processing TFRecord files:  65%|██████▍   | 938/1444 [03:05<01:05,  7.70it/s]"
     ]
    },
    {
     "name": "stdout",
     "output_type": "stream",
     "text": [
      "Decoded audio embeddings shape: (None, 128)\n",
      "Decoded audio embeddings shape: (None, 128)\n"
     ]
    },
    {
     "name": "stderr",
     "output_type": "stream",
     "text": [
      "Processing TFRecord files:  65%|██████▌   | 940/1444 [03:05<01:24,  5.98it/s]"
     ]
    },
    {
     "name": "stdout",
     "output_type": "stream",
     "text": [
      "Decoded audio embeddings shape: (None, 128)\n"
     ]
    },
    {
     "name": "stderr",
     "output_type": "stream",
     "text": [
      "Processing TFRecord files:  65%|██████▌   | 941/1444 [03:05<01:24,  5.95it/s]"
     ]
    },
    {
     "name": "stdout",
     "output_type": "stream",
     "text": [
      "Decoded audio embeddings shape: (None, 128)\n",
      "Decoded audio embeddings shape: (None, 128)\n"
     ]
    },
    {
     "name": "stderr",
     "output_type": "stream",
     "text": [
      "Processing TFRecord files:  65%|██████▌   | 943/1444 [03:06<01:26,  5.79it/s]"
     ]
    },
    {
     "name": "stdout",
     "output_type": "stream",
     "text": [
      "Decoded audio embeddings shape: (None, 128)\n",
      "Decoded audio embeddings shape: (None, 128)\n"
     ]
    },
    {
     "name": "stderr",
     "output_type": "stream",
     "text": [
      "Processing TFRecord files:  65%|██████▌   | 945/1444 [03:06<01:17,  6.47it/s]"
     ]
    },
    {
     "name": "stdout",
     "output_type": "stream",
     "text": [
      "Decoded audio embeddings shape: (None, 128)\n",
      "Decoded audio embeddings shape: (None, 128)\n"
     ]
    },
    {
     "name": "stderr",
     "output_type": "stream",
     "text": [
      "Processing TFRecord files:  66%|██████▌   | 947/1444 [03:06<01:06,  7.42it/s]"
     ]
    },
    {
     "name": "stdout",
     "output_type": "stream",
     "text": [
      "Decoded audio embeddings shape: (None, 128)\n",
      "Decoded audio embeddings shape: (None, 128)\n"
     ]
    },
    {
     "name": "stderr",
     "output_type": "stream",
     "text": [
      "Processing TFRecord files:  66%|██████▌   | 949/1444 [03:07<01:16,  6.49it/s]"
     ]
    },
    {
     "name": "stdout",
     "output_type": "stream",
     "text": [
      "Decoded audio embeddings shape: (None, 128)\n",
      "Decoded audio embeddings shape: (None, 128)\n"
     ]
    },
    {
     "name": "stderr",
     "output_type": "stream",
     "text": [
      "Processing TFRecord files:  66%|██████▌   | 952/1444 [03:07<01:02,  7.87it/s]"
     ]
    },
    {
     "name": "stdout",
     "output_type": "stream",
     "text": [
      "Decoded audio embeddings shape: (None, 128)\n",
      "Decoded audio embeddings shape: (None, 128)\n",
      "Decoded audio embeddings shape: (None, 128)\n"
     ]
    },
    {
     "name": "stderr",
     "output_type": "stream",
     "text": [
      "Processing TFRecord files:  66%|██████▌   | 953/1444 [03:07<00:59,  8.25it/s]"
     ]
    }
   ],
   "source": [
    "\n",
    "\n",
    "# Define the context features\n",
    "context_features = {\n",
    "    'video_id': tf.io.FixedLenFeature([], tf.string),\n",
    "    'start_time_seconds': tf.io.FixedLenFeature([], tf.float32),\n",
    "    'end_time_seconds': tf.io.FixedLenFeature([], tf.float32),\n",
    "    'labels': tf.io.VarLenFeature(tf.int64)\n",
    "}\n",
    "\n",
    "# Define the sequence features\n",
    "sequence_features = {\n",
    "    'audio_embedding': tf.io.VarLenFeature(tf.string)\n",
    "}\n",
    "\n",
    "def _parse_function(example_proto):\n",
    "    # Parse the example into context and sequence features\n",
    "    context_data, sequence_data = tf.io.parse_single_sequence_example(\n",
    "        example_proto,\n",
    "        context_features=context_features,\n",
    "        sequence_features=sequence_features\n",
    "    )\n",
    "    \n",
    "    # Decode the audio embeddings from the byte strings\n",
    "    audio_embeddings = tf.io.decode_raw(sequence_data['audio_embedding'].values, tf.uint8)\n",
    "    \n",
    "    # Check the shape of audio_embeddings and calculate the appropriate reshape\n",
    "    audio_embeddings = tf.reshape(audio_embeddings, [-1, 128])  # Modify as necessary based on your data\n",
    "    \n",
    "    # Print the shape to debug (optional)\n",
    "    print(\"Decoded audio embeddings shape:\", audio_embeddings.shape)\n",
    "    \n",
    "    # Normalize the embeddings to the range [0, 1]\n",
    "    audio_embeddings = tf.cast(audio_embeddings, tf.float32) / 255.0\n",
    "    \n",
    "    # Return the 2D reshaped embeddings\n",
    "    labels = tf.sparse.to_dense(context_data['labels'])\n",
    "    \n",
    "    return audio_embeddings, labels  # Return the embeddings as 2D arrays\n",
    "\n",
    "\n",
    "\n",
    "def parse_tfrecords_to_dataframe(tfrecord_files):\n",
    "    # Initialize an empty list to store embeddings and labels\n",
    "    embeddings_list = []\n",
    "    labels_list = []\n",
    "\n",
    "    # Iterate through each TFRecord file in the folder\n",
    "    for tfrecord_file in tqdm(tfrecord_files, desc=\"Processing TFRecord files\"):\n",
    "        raw_dataset = tf.data.TFRecordDataset(tfrecord_file)\n",
    "        parsed_dataset = raw_dataset.map(_parse_function)\n",
    "\n",
    "        # Iterate over the parsed dataset and collect embeddings and labels\n",
    "        for audio_embedding, labels in parsed_dataset:\n",
    "            # Convert to numpy arrays\n",
    "            audio_embedding_np = audio_embedding.numpy()\n",
    "            labels_np = labels.numpy()\n",
    "\n",
    "            # Flatten the label array if necessary\n",
    "            labels_np = labels_np.flatten() if len(labels_np.shape) > 0 else labels_np\n",
    "\n",
    "            # Store the embedding and label\n",
    "            embeddings_list.append(audio_embedding_np)\n",
    "            labels_list.append(labels_np)\n",
    "\n",
    "    # Create a DataFrame from the collected data\n",
    "    df = pd.DataFrame({\n",
    "        'embedding': embeddings_list,\n",
    "        'labels': labels_list\n",
    "    })\n",
    "\n",
    "    return df\n",
    "\n",
    "# Specify the folder containing TFRecord files\n",
    "bal_tfrecord_folder = '.github\\Data\\\\bal_train'\n",
    "bal_tfrecord_files = [os.path.join(bal_tfrecord_folder, f) for f in os.listdir(bal_tfrecord_folder) if f.endswith('.tfrecord')]\n",
    "\n",
    "eval_tfrecord_folder = '.github\\Data\\\\eval'\n",
    "eval_tfrecord_files = [os.path.join(eval_tfrecord_folder, f) for f in os.listdir(eval_tfrecord_folder) if f.endswith('.tfrecord')]\n",
    "eval_df = parse_tfrecords_to_dataframe(eval_tfrecord_files)\n",
    "# Parse the TFRecords into a DataFrame\n",
    "bal_df = parse_tfrecords_to_dataframe(bal_tfrecord_files)\n",
    "\n",
    "\n"
   ]
  },
  {
   "cell_type": "code",
   "execution_count": null,
   "metadata": {},
   "outputs": [],
   "source": [
    "# Ensure the 'data' directory exists\n",
    "output_folder = r'.github\\Data'\n",
    "os.makedirs(output_folder, exist_ok=True)\n",
    "\n",
    "# Paths for saving the CSV files\n",
    "eval_csv_path = os.path.join(output_folder, 'eval_df.csv')\n",
    "bal_csv_path = os.path.join(output_folder, 'bal_df.csv')\n",
    "\n",
    "# Save the DataFrames to CSV\n",
    "eval_df.to_csv(eval_csv_path, index=False)\n",
    "bal_df.to_csv(bal_csv_path, index=False)\n",
    "\n",
    "\n"
   ]
  },
  {
   "cell_type": "code",
   "execution_count": null,
   "metadata": {},
   "outputs": [
    {
     "name": "stdout",
     "output_type": "stream",
     "text": [
      "Cleaned training set shape: (7838, 2)\n",
      "Cleaned test set shape: (7169, 2)\n"
     ]
    }
   ],
   "source": [
    "# Function to drop invalid embeddings based on shape\n",
    "def drop_invalid_embeddings(df):\n",
    "    valid_entries = []\n",
    "    \n",
    "    for i, emb in enumerate(df['embedding']):\n",
    "        emb_array = np.array(emb)\n",
    "        if emb_array.shape == (10, 128):  # Only keep valid embeddings\n",
    "            valid_entries.append(i)\n",
    "    \n",
    "    return df.iloc[valid_entries]\n",
    "\n",
    "# Drop invalid entries from the training set\n",
    "bal_df_clean = drop_invalid_embeddings(bal_df)\n",
    "\n",
    "# Drop invalid entries from the test set (optional)\n",
    "eval_df_clean = drop_invalid_embeddings(eval_df)\n",
    "\n",
    "# Check the cleaned DataFrame\n",
    "print(f\"Cleaned training set shape: {bal_df_clean.shape}\")\n",
    "print(f\"Cleaned test set shape: {eval_df_clean.shape}\")\n",
    "\n"
   ]
  },
  {
   "cell_type": "code",
   "execution_count": null,
   "metadata": {},
   "outputs": [],
   "source": [
    "from sklearn.preprocessing import MultiLabelBinarizer\n",
    "mlb = MultiLabelBinarizer()\n",
    "\n",
    "# Convert multi-labels to binary format (one-hot encoding)\n",
    "y_train = mlb.fit_transform(bal_df_clean['labels'])\n",
    "y_test = mlb.transform(eval_df_clean['labels'])\n",
    "\n",
    "\n",
    "# Ensure the embeddings are in the correct shape for the CNN (e.g., [num_samples, 10, 128, 1])\n",
    "X_train = np.array(bal_df_clean['embedding'].tolist()).reshape(-1, 10, 128, 1)\n",
    "X_test = np.array(eval_df_clean['embedding'].tolist()).reshape(-1, 10, 128, 1)"
   ]
  },
  {
   "cell_type": "code",
   "execution_count": null,
   "metadata": {},
   "outputs": [
    {
     "data": {
      "text/html": [
       "<pre style=\"white-space:pre;overflow-x:auto;line-height:normal;font-family:Menlo,'DejaVu Sans Mono',consolas,'Courier New',monospace\"><span style=\"font-weight: bold\">Model: \"sequential_3\"</span>\n",
       "</pre>\n"
      ],
      "text/plain": [
       "\u001b[1mModel: \"sequential_3\"\u001b[0m\n"
      ]
     },
     "metadata": {},
     "output_type": "display_data"
    },
    {
     "data": {
      "text/html": [
       "<pre style=\"white-space:pre;overflow-x:auto;line-height:normal;font-family:Menlo,'DejaVu Sans Mono',consolas,'Courier New',monospace\">┏━━━━━━━━━━━━━━━━━━━━━━━━━━━━━━━━━┳━━━━━━━━━━━━━━━━━━━━━━━━┳━━━━━━━━━━━━━━━┓\n",
       "┃<span style=\"font-weight: bold\"> Layer (type)                    </span>┃<span style=\"font-weight: bold\"> Output Shape           </span>┃<span style=\"font-weight: bold\">       Param # </span>┃\n",
       "┡━━━━━━━━━━━━━━━━━━━━━━━━━━━━━━━━━╇━━━━━━━━━━━━━━━━━━━━━━━━╇━━━━━━━━━━━━━━━┩\n",
       "│ conv2d_9 (<span style=\"color: #0087ff; text-decoration-color: #0087ff\">Conv2D</span>)               │ (<span style=\"color: #00d7ff; text-decoration-color: #00d7ff\">None</span>, <span style=\"color: #00af00; text-decoration-color: #00af00\">10</span>, <span style=\"color: #00af00; text-decoration-color: #00af00\">128</span>, <span style=\"color: #00af00; text-decoration-color: #00af00\">64</span>)    │           <span style=\"color: #00af00; text-decoration-color: #00af00\">640</span> │\n",
       "├─────────────────────────────────┼────────────────────────┼───────────────┤\n",
       "│ max_pooling2d_8 (<span style=\"color: #0087ff; text-decoration-color: #0087ff\">MaxPooling2D</span>)  │ (<span style=\"color: #00d7ff; text-decoration-color: #00d7ff\">None</span>, <span style=\"color: #00af00; text-decoration-color: #00af00\">5</span>, <span style=\"color: #00af00; text-decoration-color: #00af00\">64</span>, <span style=\"color: #00af00; text-decoration-color: #00af00\">64</span>)      │             <span style=\"color: #00af00; text-decoration-color: #00af00\">0</span> │\n",
       "├─────────────────────────────────┼────────────────────────┼───────────────┤\n",
       "│ conv2d_10 (<span style=\"color: #0087ff; text-decoration-color: #0087ff\">Conv2D</span>)              │ (<span style=\"color: #00d7ff; text-decoration-color: #00d7ff\">None</span>, <span style=\"color: #00af00; text-decoration-color: #00af00\">5</span>, <span style=\"color: #00af00; text-decoration-color: #00af00\">64</span>, <span style=\"color: #00af00; text-decoration-color: #00af00\">128</span>)     │        <span style=\"color: #00af00; text-decoration-color: #00af00\">73,856</span> │\n",
       "├─────────────────────────────────┼────────────────────────┼───────────────┤\n",
       "│ max_pooling2d_9 (<span style=\"color: #0087ff; text-decoration-color: #0087ff\">MaxPooling2D</span>)  │ (<span style=\"color: #00d7ff; text-decoration-color: #00d7ff\">None</span>, <span style=\"color: #00af00; text-decoration-color: #00af00\">3</span>, <span style=\"color: #00af00; text-decoration-color: #00af00\">32</span>, <span style=\"color: #00af00; text-decoration-color: #00af00\">128</span>)     │             <span style=\"color: #00af00; text-decoration-color: #00af00\">0</span> │\n",
       "├─────────────────────────────────┼────────────────────────┼───────────────┤\n",
       "│ conv2d_11 (<span style=\"color: #0087ff; text-decoration-color: #0087ff\">Conv2D</span>)              │ (<span style=\"color: #00d7ff; text-decoration-color: #00d7ff\">None</span>, <span style=\"color: #00af00; text-decoration-color: #00af00\">3</span>, <span style=\"color: #00af00; text-decoration-color: #00af00\">32</span>, <span style=\"color: #00af00; text-decoration-color: #00af00\">256</span>)     │       <span style=\"color: #00af00; text-decoration-color: #00af00\">295,168</span> │\n",
       "├─────────────────────────────────┼────────────────────────┼───────────────┤\n",
       "│ max_pooling2d_10 (<span style=\"color: #0087ff; text-decoration-color: #0087ff\">MaxPooling2D</span>) │ (<span style=\"color: #00d7ff; text-decoration-color: #00d7ff\">None</span>, <span style=\"color: #00af00; text-decoration-color: #00af00\">2</span>, <span style=\"color: #00af00; text-decoration-color: #00af00\">16</span>, <span style=\"color: #00af00; text-decoration-color: #00af00\">256</span>)     │             <span style=\"color: #00af00; text-decoration-color: #00af00\">0</span> │\n",
       "├─────────────────────────────────┼────────────────────────┼───────────────┤\n",
       "│ global_average_pooling2d_1      │ (<span style=\"color: #00d7ff; text-decoration-color: #00d7ff\">None</span>, <span style=\"color: #00af00; text-decoration-color: #00af00\">256</span>)            │             <span style=\"color: #00af00; text-decoration-color: #00af00\">0</span> │\n",
       "│ (<span style=\"color: #0087ff; text-decoration-color: #0087ff\">GlobalAveragePooling2D</span>)        │                        │               │\n",
       "├─────────────────────────────────┼────────────────────────┼───────────────┤\n",
       "│ dense_4 (<span style=\"color: #0087ff; text-decoration-color: #0087ff\">Dense</span>)                 │ (<span style=\"color: #00d7ff; text-decoration-color: #00d7ff\">None</span>, <span style=\"color: #00af00; text-decoration-color: #00af00\">512</span>)            │       <span style=\"color: #00af00; text-decoration-color: #00af00\">131,584</span> │\n",
       "├─────────────────────────────────┼────────────────────────┼───────────────┤\n",
       "│ dropout_1 (<span style=\"color: #0087ff; text-decoration-color: #0087ff\">Dropout</span>)             │ (<span style=\"color: #00d7ff; text-decoration-color: #00d7ff\">None</span>, <span style=\"color: #00af00; text-decoration-color: #00af00\">512</span>)            │             <span style=\"color: #00af00; text-decoration-color: #00af00\">0</span> │\n",
       "├─────────────────────────────────┼────────────────────────┼───────────────┤\n",
       "│ dense_5 (<span style=\"color: #0087ff; text-decoration-color: #0087ff\">Dense</span>)                 │ (<span style=\"color: #00d7ff; text-decoration-color: #00d7ff\">None</span>, <span style=\"color: #00af00; text-decoration-color: #00af00\">527</span>)            │       <span style=\"color: #00af00; text-decoration-color: #00af00\">270,351</span> │\n",
       "└─────────────────────────────────┴────────────────────────┴───────────────┘\n",
       "</pre>\n"
      ],
      "text/plain": [
       "┏━━━━━━━━━━━━━━━━━━━━━━━━━━━━━━━━━┳━━━━━━━━━━━━━━━━━━━━━━━━┳━━━━━━━━━━━━━━━┓\n",
       "┃\u001b[1m \u001b[0m\u001b[1mLayer (type)                   \u001b[0m\u001b[1m \u001b[0m┃\u001b[1m \u001b[0m\u001b[1mOutput Shape          \u001b[0m\u001b[1m \u001b[0m┃\u001b[1m \u001b[0m\u001b[1m      Param #\u001b[0m\u001b[1m \u001b[0m┃\n",
       "┡━━━━━━━━━━━━━━━━━━━━━━━━━━━━━━━━━╇━━━━━━━━━━━━━━━━━━━━━━━━╇━━━━━━━━━━━━━━━┩\n",
       "│ conv2d_9 (\u001b[38;5;33mConv2D\u001b[0m)               │ (\u001b[38;5;45mNone\u001b[0m, \u001b[38;5;34m10\u001b[0m, \u001b[38;5;34m128\u001b[0m, \u001b[38;5;34m64\u001b[0m)    │           \u001b[38;5;34m640\u001b[0m │\n",
       "├─────────────────────────────────┼────────────────────────┼───────────────┤\n",
       "│ max_pooling2d_8 (\u001b[38;5;33mMaxPooling2D\u001b[0m)  │ (\u001b[38;5;45mNone\u001b[0m, \u001b[38;5;34m5\u001b[0m, \u001b[38;5;34m64\u001b[0m, \u001b[38;5;34m64\u001b[0m)      │             \u001b[38;5;34m0\u001b[0m │\n",
       "├─────────────────────────────────┼────────────────────────┼───────────────┤\n",
       "│ conv2d_10 (\u001b[38;5;33mConv2D\u001b[0m)              │ (\u001b[38;5;45mNone\u001b[0m, \u001b[38;5;34m5\u001b[0m, \u001b[38;5;34m64\u001b[0m, \u001b[38;5;34m128\u001b[0m)     │        \u001b[38;5;34m73,856\u001b[0m │\n",
       "├─────────────────────────────────┼────────────────────────┼───────────────┤\n",
       "│ max_pooling2d_9 (\u001b[38;5;33mMaxPooling2D\u001b[0m)  │ (\u001b[38;5;45mNone\u001b[0m, \u001b[38;5;34m3\u001b[0m, \u001b[38;5;34m32\u001b[0m, \u001b[38;5;34m128\u001b[0m)     │             \u001b[38;5;34m0\u001b[0m │\n",
       "├─────────────────────────────────┼────────────────────────┼───────────────┤\n",
       "│ conv2d_11 (\u001b[38;5;33mConv2D\u001b[0m)              │ (\u001b[38;5;45mNone\u001b[0m, \u001b[38;5;34m3\u001b[0m, \u001b[38;5;34m32\u001b[0m, \u001b[38;5;34m256\u001b[0m)     │       \u001b[38;5;34m295,168\u001b[0m │\n",
       "├─────────────────────────────────┼────────────────────────┼───────────────┤\n",
       "│ max_pooling2d_10 (\u001b[38;5;33mMaxPooling2D\u001b[0m) │ (\u001b[38;5;45mNone\u001b[0m, \u001b[38;5;34m2\u001b[0m, \u001b[38;5;34m16\u001b[0m, \u001b[38;5;34m256\u001b[0m)     │             \u001b[38;5;34m0\u001b[0m │\n",
       "├─────────────────────────────────┼────────────────────────┼───────────────┤\n",
       "│ global_average_pooling2d_1      │ (\u001b[38;5;45mNone\u001b[0m, \u001b[38;5;34m256\u001b[0m)            │             \u001b[38;5;34m0\u001b[0m │\n",
       "│ (\u001b[38;5;33mGlobalAveragePooling2D\u001b[0m)        │                        │               │\n",
       "├─────────────────────────────────┼────────────────────────┼───────────────┤\n",
       "│ dense_4 (\u001b[38;5;33mDense\u001b[0m)                 │ (\u001b[38;5;45mNone\u001b[0m, \u001b[38;5;34m512\u001b[0m)            │       \u001b[38;5;34m131,584\u001b[0m │\n",
       "├─────────────────────────────────┼────────────────────────┼───────────────┤\n",
       "│ dropout_1 (\u001b[38;5;33mDropout\u001b[0m)             │ (\u001b[38;5;45mNone\u001b[0m, \u001b[38;5;34m512\u001b[0m)            │             \u001b[38;5;34m0\u001b[0m │\n",
       "├─────────────────────────────────┼────────────────────────┼───────────────┤\n",
       "│ dense_5 (\u001b[38;5;33mDense\u001b[0m)                 │ (\u001b[38;5;45mNone\u001b[0m, \u001b[38;5;34m527\u001b[0m)            │       \u001b[38;5;34m270,351\u001b[0m │\n",
       "└─────────────────────────────────┴────────────────────────┴───────────────┘\n"
      ]
     },
     "metadata": {},
     "output_type": "display_data"
    },
    {
     "data": {
      "text/html": [
       "<pre style=\"white-space:pre;overflow-x:auto;line-height:normal;font-family:Menlo,'DejaVu Sans Mono',consolas,'Courier New',monospace\"><span style=\"font-weight: bold\"> Total params: </span><span style=\"color: #00af00; text-decoration-color: #00af00\">771,599</span> (2.94 MB)\n",
       "</pre>\n"
      ],
      "text/plain": [
       "\u001b[1m Total params: \u001b[0m\u001b[38;5;34m771,599\u001b[0m (2.94 MB)\n"
      ]
     },
     "metadata": {},
     "output_type": "display_data"
    },
    {
     "data": {
      "text/html": [
       "<pre style=\"white-space:pre;overflow-x:auto;line-height:normal;font-family:Menlo,'DejaVu Sans Mono',consolas,'Courier New',monospace\"><span style=\"font-weight: bold\"> Trainable params: </span><span style=\"color: #00af00; text-decoration-color: #00af00\">771,599</span> (2.94 MB)\n",
       "</pre>\n"
      ],
      "text/plain": [
       "\u001b[1m Trainable params: \u001b[0m\u001b[38;5;34m771,599\u001b[0m (2.94 MB)\n"
      ]
     },
     "metadata": {},
     "output_type": "display_data"
    },
    {
     "data": {
      "text/html": [
       "<pre style=\"white-space:pre;overflow-x:auto;line-height:normal;font-family:Menlo,'DejaVu Sans Mono',consolas,'Courier New',monospace\"><span style=\"font-weight: bold\"> Non-trainable params: </span><span style=\"color: #00af00; text-decoration-color: #00af00\">0</span> (0.00 B)\n",
       "</pre>\n"
      ],
      "text/plain": [
       "\u001b[1m Non-trainable params: \u001b[0m\u001b[38;5;34m0\u001b[0m (0.00 B)\n"
      ]
     },
     "metadata": {},
     "output_type": "display_data"
    },
    {
     "name": "stdout",
     "output_type": "stream",
     "text": [
      "Epoch 1/30\n",
      "\u001b[1m245/245\u001b[0m \u001b[32m━━━━━━━━━━━━━━━━━━━━\u001b[0m\u001b[37m\u001b[0m \u001b[1m33s\u001b[0m 111ms/step - accuracy: 0.1528 - loss: 0.1166 - val_accuracy: 0.2597 - val_loss: 0.0276\n",
      "Epoch 2/30\n",
      "\u001b[1m245/245\u001b[0m \u001b[32m━━━━━━━━━━━━━━━━━━━━\u001b[0m\u001b[37m\u001b[0m \u001b[1m28s\u001b[0m 114ms/step - accuracy: 0.1994 - loss: 0.0265 - val_accuracy: 0.1561 - val_loss: 0.0270\n",
      "Epoch 3/30\n",
      "\u001b[1m245/245\u001b[0m \u001b[32m━━━━━━━━━━━━━━━━━━━━\u001b[0m\u001b[37m\u001b[0m \u001b[1m32s\u001b[0m 131ms/step - accuracy: 0.2153 - loss: 0.0260 - val_accuracy: 0.1561 - val_loss: 0.0272\n",
      "Epoch 4/30\n",
      "\u001b[1m245/245\u001b[0m \u001b[32m━━━━━━━━━━━━━━━━━━━━\u001b[0m\u001b[37m\u001b[0m \u001b[1m34s\u001b[0m 138ms/step - accuracy: 0.2122 - loss: 0.0259 - val_accuracy: 0.1572 - val_loss: 0.0270\n",
      "Epoch 5/30\n",
      "\u001b[1m245/245\u001b[0m \u001b[32m━━━━━━━━━━━━━━━━━━━━\u001b[0m\u001b[37m\u001b[0m \u001b[1m32s\u001b[0m 132ms/step - accuracy: 0.2162 - loss: 0.0259 - val_accuracy: 0.1561 - val_loss: 0.0271\n",
      "Epoch 6/30\n",
      "\u001b[1m245/245\u001b[0m \u001b[32m━━━━━━━━━━━━━━━━━━━━\u001b[0m\u001b[37m\u001b[0m \u001b[1m32s\u001b[0m 132ms/step - accuracy: 0.2055 - loss: 0.0256 - val_accuracy: 0.2660 - val_loss: 0.0267\n",
      "Epoch 7/30\n",
      "\u001b[1m245/245\u001b[0m \u001b[32m━━━━━━━━━━━━━━━━━━━━\u001b[0m\u001b[37m\u001b[0m \u001b[1m35s\u001b[0m 143ms/step - accuracy: 0.2342 - loss: 0.0253 - val_accuracy: 0.2200 - val_loss: 0.0267\n",
      "Epoch 8/30\n",
      "\u001b[1m245/245\u001b[0m \u001b[32m━━━━━━━━━━━━━━━━━━━━\u001b[0m\u001b[37m\u001b[0m \u001b[1m34s\u001b[0m 138ms/step - accuracy: 0.2598 - loss: 0.0251 - val_accuracy: 0.2236 - val_loss: 0.0263\n",
      "Epoch 9/30\n",
      "\u001b[1m245/245\u001b[0m \u001b[32m━━━━━━━━━━━━━━━━━━━━\u001b[0m\u001b[37m\u001b[0m \u001b[1m33s\u001b[0m 136ms/step - accuracy: 0.2815 - loss: 0.0249 - val_accuracy: 0.2839 - val_loss: 0.0260\n",
      "Epoch 10/30\n",
      "\u001b[1m245/245\u001b[0m \u001b[32m━━━━━━━━━━━━━━━━━━━━\u001b[0m\u001b[37m\u001b[0m \u001b[1m32s\u001b[0m 132ms/step - accuracy: 0.2701 - loss: 0.0247 - val_accuracy: 0.3049 - val_loss: 0.0260\n",
      "Epoch 11/30\n",
      "\u001b[1m245/245\u001b[0m \u001b[32m━━━━━━━━━━━━━━━━━━━━\u001b[0m\u001b[37m\u001b[0m \u001b[1m32s\u001b[0m 130ms/step - accuracy: 0.2859 - loss: 0.0243 - val_accuracy: 0.3023 - val_loss: 0.0264\n",
      "Epoch 12/30\n",
      "\u001b[1m245/245\u001b[0m \u001b[32m━━━━━━━━━━━━━━━━━━━━\u001b[0m\u001b[37m\u001b[0m \u001b[1m33s\u001b[0m 135ms/step - accuracy: 0.2932 - loss: 0.0247 - val_accuracy: 0.3356 - val_loss: 0.0251\n",
      "Epoch 13/30\n",
      "\u001b[1m245/245\u001b[0m \u001b[32m━━━━━━━━━━━━━━━━━━━━\u001b[0m\u001b[37m\u001b[0m \u001b[1m32s\u001b[0m 132ms/step - accuracy: 0.3691 - loss: 0.0237 - val_accuracy: 0.3585 - val_loss: 0.0245\n",
      "Epoch 14/30\n",
      "\u001b[1m245/245\u001b[0m \u001b[32m━━━━━━━━━━━━━━━━━━━━\u001b[0m\u001b[37m\u001b[0m \u001b[1m42s\u001b[0m 172ms/step - accuracy: 0.3696 - loss: 0.0229 - val_accuracy: 0.3618 - val_loss: 0.0242\n",
      "Epoch 15/30\n",
      "\u001b[1m245/245\u001b[0m \u001b[32m━━━━━━━━━━━━━━━━━━━━\u001b[0m\u001b[37m\u001b[0m \u001b[1m34s\u001b[0m 137ms/step - accuracy: 0.3847 - loss: 0.0226 - val_accuracy: 0.3680 - val_loss: 0.0238\n",
      "Epoch 16/30\n",
      "\u001b[1m245/245\u001b[0m \u001b[32m━━━━━━━━━━━━━━━━━━━━\u001b[0m\u001b[37m\u001b[0m \u001b[1m33s\u001b[0m 135ms/step - accuracy: 0.3824 - loss: 0.0225 - val_accuracy: 0.3782 - val_loss: 0.0237\n",
      "Epoch 17/30\n",
      "\u001b[1m245/245\u001b[0m \u001b[32m━━━━━━━━━━━━━━━━━━━━\u001b[0m\u001b[37m\u001b[0m \u001b[1m33s\u001b[0m 136ms/step - accuracy: 0.3991 - loss: 0.0223 - val_accuracy: 0.3784 - val_loss: 0.0235\n",
      "Epoch 18/30\n",
      "\u001b[1m245/245\u001b[0m \u001b[32m━━━━━━━━━━━━━━━━━━━━\u001b[0m\u001b[37m\u001b[0m \u001b[1m32s\u001b[0m 129ms/step - accuracy: 0.3889 - loss: 0.0220 - val_accuracy: 0.3716 - val_loss: 0.0235\n",
      "Epoch 19/30\n",
      "\u001b[1m245/245\u001b[0m \u001b[32m━━━━━━━━━━━━━━━━━━━━\u001b[0m\u001b[37m\u001b[0m \u001b[1m32s\u001b[0m 132ms/step - accuracy: 0.4070 - loss: 0.0220 - val_accuracy: 0.3751 - val_loss: 0.0233\n",
      "Epoch 20/30\n",
      "\u001b[1m245/245\u001b[0m \u001b[32m━━━━━━━━━━━━━━━━━━━━\u001b[0m\u001b[37m\u001b[0m \u001b[1m31s\u001b[0m 126ms/step - accuracy: 0.3889 - loss: 0.0218 - val_accuracy: 0.3786 - val_loss: 0.0233\n",
      "Epoch 21/30\n",
      "\u001b[1m245/245\u001b[0m \u001b[32m━━━━━━━━━━━━━━━━━━━━\u001b[0m\u001b[37m\u001b[0m \u001b[1m32s\u001b[0m 131ms/step - accuracy: 0.3913 - loss: 0.0216 - val_accuracy: 0.3723 - val_loss: 0.0232\n",
      "Epoch 22/30\n",
      "\u001b[1m245/245\u001b[0m \u001b[32m━━━━━━━━━━━━━━━━━━━━\u001b[0m\u001b[37m\u001b[0m \u001b[1m31s\u001b[0m 127ms/step - accuracy: 0.3861 - loss: 0.0214 - val_accuracy: 0.3765 - val_loss: 0.0230\n",
      "Epoch 23/30\n",
      "\u001b[1m245/245\u001b[0m \u001b[32m━━━━━━━━━━━━━━━━━━━━\u001b[0m\u001b[37m\u001b[0m \u001b[1m32s\u001b[0m 130ms/step - accuracy: 0.3971 - loss: 0.0213 - val_accuracy: 0.3678 - val_loss: 0.0227\n",
      "Epoch 24/30\n",
      "\u001b[1m245/245\u001b[0m \u001b[32m━━━━━━━━━━━━━━━━━━━━\u001b[0m\u001b[37m\u001b[0m \u001b[1m31s\u001b[0m 126ms/step - accuracy: 0.3914 - loss: 0.0212 - val_accuracy: 0.3770 - val_loss: 0.0227\n",
      "Epoch 25/30\n",
      "\u001b[1m245/245\u001b[0m \u001b[32m━━━━━━━━━━━━━━━━━━━━\u001b[0m\u001b[37m\u001b[0m \u001b[1m31s\u001b[0m 128ms/step - accuracy: 0.3906 - loss: 0.0208 - val_accuracy: 0.3731 - val_loss: 0.0225\n",
      "Epoch 26/30\n",
      "\u001b[1m245/245\u001b[0m \u001b[32m━━━━━━━━━━━━━━━━━━━━\u001b[0m\u001b[37m\u001b[0m \u001b[1m32s\u001b[0m 132ms/step - accuracy: 0.3985 - loss: 0.0205 - val_accuracy: 0.3720 - val_loss: 0.0222\n",
      "Epoch 27/30\n",
      "\u001b[1m245/245\u001b[0m \u001b[32m━━━━━━━━━━━━━━━━━━━━\u001b[0m\u001b[37m\u001b[0m \u001b[1m32s\u001b[0m 129ms/step - accuracy: 0.3894 - loss: 0.0204 - val_accuracy: 0.3789 - val_loss: 0.0220\n",
      "Epoch 28/30\n",
      "\u001b[1m245/245\u001b[0m \u001b[32m━━━━━━━━━━━━━━━━━━━━\u001b[0m\u001b[37m\u001b[0m \u001b[1m35s\u001b[0m 141ms/step - accuracy: 0.3891 - loss: 0.0202 - val_accuracy: 0.3816 - val_loss: 0.0221\n",
      "Epoch 29/30\n",
      "\u001b[1m245/245\u001b[0m \u001b[32m━━━━━━━━━━━━━━━━━━━━\u001b[0m\u001b[37m\u001b[0m \u001b[1m32s\u001b[0m 132ms/step - accuracy: 0.3991 - loss: 0.0198 - val_accuracy: 0.3786 - val_loss: 0.0217\n",
      "Epoch 30/30\n",
      "\u001b[1m245/245\u001b[0m \u001b[32m━━━━━━━━━━━━━━━━━━━━\u001b[0m\u001b[37m\u001b[0m \u001b[1m33s\u001b[0m 136ms/step - accuracy: 0.4008 - loss: 0.0195 - val_accuracy: 0.3763 - val_loss: 0.0213\n"
     ]
    },
    {
     "data": {
      "text/plain": [
       "<keras.src.callbacks.history.History at 0x26dc57fe410>"
      ]
     },
     "execution_count": 47,
     "metadata": {},
     "output_type": "execute_result"
    }
   ],
   "source": [
    "import tensorflow as tf\n",
    "from tensorflow.keras import layers, models\n",
    "from tensorflow.keras.optimizers import Adam\n",
    "\n",
    "# Define the CNN model with enhancements\n",
    "def create_cnn_model(input_shape, num_classes):\n",
    "    model = models.Sequential()\n",
    "\n",
    "    # Convolutional Layer 1 with padding and increased filters\n",
    "    model.add(layers.Conv2D(64, (3, 3), activation='relu', padding='same', input_shape=input_shape))\n",
    "    model.add(layers.MaxPooling2D((2, 2), padding='same'))\n",
    "    \n",
    "    # Convolutional Layer 2 with padding and increased filters\n",
    "    model.add(layers.Conv2D(128, (3, 3), activation='relu', padding='same'))\n",
    "    model.add(layers.MaxPooling2D((2, 2), padding='same'))\n",
    "    \n",
    "    # Convolutional Layer 3 with padding and increased filters\n",
    "    model.add(layers.Conv2D(256, (3, 3), activation='relu', padding='same'))\n",
    "    model.add(layers.MaxPooling2D((2, 2), padding='same'))\n",
    "    \n",
    "    # Global Average Pooling\n",
    "    model.add(layers.GlobalAveragePooling2D())\n",
    "\n",
    "    # Fully connected layer with dropout\n",
    "    model.add(layers.Dense(512, activation='relu'))\n",
    "    model.add(layers.Dropout(0.5))  # Dropout to reduce overfitting\n",
    "\n",
    "    # Output layer for multi-label classification\n",
    "    model.add(layers.Dense(num_classes, activation='sigmoid'))  # Sigmoid for multi-label\n",
    "\n",
    "    return model\n",
    "\n",
    "# Set input shape and number of classes (labels)\n",
    "input_shape = (10, 128, 1)  # Shape of each input sample (10, 128, 1)\n",
    "num_classes = y_train.shape[1]  # Number of unique labels\n",
    "\n",
    "# Create the CNN model\n",
    "cnn_model = create_cnn_model(input_shape, num_classes)\n",
    "\n",
    "# Compile the model\n",
    "cnn_model.compile(optimizer=Adam(learning_rate=0.001),  # Use a lower learning rate\n",
    "                  loss='binary_crossentropy', \n",
    "                  metrics=['accuracy'])\n",
    "\n",
    "# Display the model architecture\n",
    "cnn_model.summary()\n",
    "\n",
    "# Train the model with early stopping to avoid overfitting\n",
    "from tensorflow.keras.callbacks import EarlyStopping\n",
    "\n",
    "early_stopping = EarlyStopping(monitor='val_loss', patience=5, restore_best_weights=True)\n",
    "\n",
    "cnn_model.fit(X_train, y_train, epochs=30, batch_size=32, validation_data=(X_test, y_test), callbacks=[early_stopping])\n",
    "\n",
    "\n"
   ]
  }
 ],
 "metadata": {
  "kernelspec": {
   "display_name": "base",
   "language": "python",
   "name": "python3"
  },
  "language_info": {
   "codemirror_mode": {
    "name": "ipython",
    "version": 3
   },
   "file_extension": ".py",
   "mimetype": "text/x-python",
   "name": "python",
   "nbconvert_exporter": "python",
   "pygments_lexer": "ipython3",
   "version": "3.11.7"
  }
 },
 "nbformat": 4,
 "nbformat_minor": 2
}
